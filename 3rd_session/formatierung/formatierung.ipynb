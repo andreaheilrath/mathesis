{
 "cells": [
  {
   "cell_type": "markdown",
   "metadata": {},
   "source": [
    "# Ausgaben formatieren\n",
    "\n",
    "Bisher haben wir das so gemacht: \n",
    "\n",
    "    s = 'Katze'\n",
    "    a = 11\n",
    "    print(\"Die \"+ s + \" ist \" +str(a) +\" Jahre alt.\")\n",
    "\n",
    "Oft aber wollen wir mehr, wir wollen etwa eine gewisse Zahl von Nachkommastellen für `float`-Zahlen, mit oder ohne vorzeichen etc."
   ]
  },
  {
   "cell_type": "markdown",
   "metadata": {},
   "source": [
    "Es gibt für String-Objekte, das Platzhalter enthält, die Methode 'format', der man eine beliebige Anzahl von Argumenten übergeben kann, die dann nach gewissen Regeln für die Platzhalter eingesetzt werden. Im einfachsten Fall werden Sie nach der Reihenfolge eingesetzt:"
   ]
  },
  {
   "cell_type": "code",
   "execution_count": null,
   "metadata": {},
   "outputs": [],
   "source": [
    "print(\"Die Länge der {} ist {} {}\".format('Strecke', 213.12312, 'Meter'))"
   ]
  },
  {
   "cell_type": "code",
   "execution_count": null,
   "metadata": {},
   "outputs": [],
   "source": [
    "print(\"Die Länge der {:10s} ist {:.2f} {:10s}.\".format(\n",
    "    'Strecke', 213.12312, 'Meter'))\n",
    "# Strings in Felder der Länge 10 einsetzen, Fließkommazahl mit zwei Nachkommastellen."
   ]
  },
  {
   "cell_type": "code",
   "execution_count": null,
   "metadata": {},
   "outputs": [],
   "source": [
    "print(\"Die Länge der {} ist {:.2e} {}\".format('Strecke', 213.12312, 'Meter'))"
   ]
  },
  {
   "cell_type": "markdown",
   "metadata": {},
   "source": [
    "Die einfachste Version von Platzhalter hat die Form:\n",
    "     \n",
    "     {:[sign][width][.precision]type}\n",
    "    \n",
    "Dabei kann man jeden der Teile in eckigen Klammern weglassen. `width` beschreibt die \n",
    "Breite des Felds, `precision` die Anzahl der Nachkommastellen. Ist `sign` das Zeichen +, so werden \n",
    "Vorzeichen (von Zahlen) immer mit ausgegeben, ist es -, so werden nur negative Vorzeichen ausgegeben.\n",
    "Achtung: Benötigt die Zahl für ihre Darstellung eine größere Breite als `width`, wird sie breiter\n",
    "ausgegeben.\n",
    "\n",
    "wobei `type` eines der folgenden Zeichen ist:\n",
    "\n",
    "### Strings:\n",
    "\n",
    "    s \tString format. This is the default type for strings and may be omitted.\n",
    "    \n",
    "Das s kann man weglassen, da Python das Format aus dem Typ erschließt.\n",
    "\n",
    "### Integers:\n",
    "    \n",
    "    b \tBinary format. Outputs the number in base 2.\n",
    "    c \tCharacter. Converts the integer to the corresponding \n",
    "        unicode character before printing.\n",
    "    d \tDecimal Integer. Outputs the number in base 10.\n",
    "    o \tOctal format. Outputs the number in base 8.\n",
    "    x \tHex format. Outputs the number in base 16, using \n",
    "        lower- case letters for the digits above 9.\n",
    "    X \tHex format. Outputs the number in base 16, using \n",
    "        upper- case letters for the digits above 9.\n",
    "    n \tNumber. This is the same as 'd', except that it uses \n",
    "        the current locale setting to insert the appropriate \n",
    "        number separator characters.\n",
    " \n",
    "Steht kein Zeichen, so bedeutet das für Integers 'd'.\n",
    " \n",
    "### Floats:\n",
    "\n",
    "    'e' \tExponent notation. Prints the number in scientific \n",
    "            notation using the letter ‘e’ to indicate \n",
    "            the exponent. The default precision is 6.\n",
    "    'E' \tExponent notation. Same as 'e' except it uses an upper \n",
    "            case ‘E’ as the separator character.\n",
    "    'f' \tFixed point. Displays the number as a fixed-point \n",
    "            number. The default precision is 6.\n",
    "    'F' \tFixed point. Same as 'f', but converts nan to NAN and \n",
    "            inf to INF.\n",
    "    'g' \t\n",
    "            General format. For a given precision p >= 1, this rounds the number to p significant digits and \n",
    "            then formats the result in either fixed-point format or in scientific notation, depending on \n",
    "            its magnitude. The precise rules are as follows: suppose that the result formatted with presentation\n",
    "            type 'e' and precision p-1 would have exponent exp. Then if -4 <= exp < p, the number is formatted\n",
    "            with presentation type 'f' and precision p-1-exp. Otherwise, the number is formatted with \n",
    "            presentation type 'e' and precision p-1. In both cases insignificant trailing zeros are removed \n",
    "            from the significand, and the decimal point is also removed if there are no remaining digits \n",
    "            following it.\n",
    "\n",
    "            Positive and negative infinity, positive and negative zero, and nans, are formatted as inf, -inf, 0, \n",
    "            -0 and nan respectively, regardless of the precision.\n",
    "\n",
    "            A precision of 0 is treated as equivalent to a precision of 1. The default precision is 6.\n",
    "    'G' \tGeneral format. Same as 'g' except switches to 'E' if the number gets too large. The \n",
    "            representations of infinity and NaN are uppercased, too.\n",
    "    'n' \tNumber. This is the same as 'g', except that it uses the current locale setting to \n",
    "            insert the appropriate number separator characters.\n",
    "    '%' \tPercentage. Multiplies the number by 100 and displays in fixed ('f') format, followed \n",
    "            by a percent sign.\n",
    "\n",
    "\n",
    "Steht kein Zeichen, so ist das ähnlich wie g, allerdings wird dafür gesorgt, dass in der Dezimaldarstellung mindestens eine Vorkommastelle steht. "
   ]
  },
  {
   "cell_type": "code",
   "execution_count": null,
   "metadata": {},
   "outputs": [],
   "source": [
    "import math\n",
    "print('Der Wert beträgt {:.10f}'.format(math.pi))"
   ]
  },
  {
   "cell_type": "code",
   "execution_count": null,
   "metadata": {},
   "outputs": [],
   "source": [
    "print('Der Wert beträgt {:n}'.format(math.pi))"
   ]
  },
  {
   "cell_type": "markdown",
   "metadata": {},
   "source": [
    "### Was hat es mit `locale` auf sich?"
   ]
  },
  {
   "cell_type": "code",
   "execution_count": null,
   "metadata": {},
   "outputs": [],
   "source": [
    "import locale\n",
    "locale.getdefaultlocale()"
   ]
  },
  {
   "cell_type": "code",
   "execution_count": null,
   "metadata": {},
   "outputs": [],
   "source": [
    "print('Der Wert beträgt {:n} .'.format(math.pi))"
   ]
  },
  {
   "cell_type": "code",
   "execution_count": null,
   "metadata": {},
   "outputs": [],
   "source": [
    "locale.setlocale(locale.LC_ALL, \"de_DE.utf8\")"
   ]
  },
  {
   "cell_type": "code",
   "execution_count": null,
   "metadata": {},
   "outputs": [],
   "source": [
    "print('Der Wert beträgt {:n} .'.format(math.pi))"
   ]
  },
  {
   "cell_type": "code",
   "execution_count": null,
   "metadata": {},
   "outputs": [],
   "source": [
    "print('Der Wert beträgt {:n} .'.format(12346756765))"
   ]
  },
  {
   "cell_type": "code",
   "execution_count": null,
   "metadata": {},
   "outputs": [],
   "source": [
    "locale.setlocale(locale.LC_ALL, \"C\")"
   ]
  },
  {
   "cell_type": "code",
   "execution_count": null,
   "metadata": {},
   "outputs": [],
   "source": [
    "print('Der Wert beträgt {:n} .'.format(math.pi))"
   ]
  },
  {
   "cell_type": "code",
   "execution_count": null,
   "metadata": {},
   "outputs": [],
   "source": [
    "print('Der Wert beträgt {:n} .'.format(12346756765))"
   ]
  },
  {
   "cell_type": "markdown",
   "metadata": {},
   "source": [
    "### Übergabe von Werten mit Feldnamen\n",
    "\n",
    "In den oben geschilderten Formatspezifikationen lassen sich auch 'keywords' vor den Namen schreiben. Dann können  die zu formatierenden Werte an .format(...) mit keywords übergeben werden, was oft lesbarer ist. Also ein Beispiel von vorhin mit dieser Form:\n",
    "\n"
   ]
  },
  {
   "cell_type": "code",
   "execution_count": null,
   "metadata": {},
   "outputs": [],
   "source": [
    "print(\"Die Länge der {name:10s} ist {length:.2f} {unit:10s}.\".format(\n",
    "    name='Strecke', length=213.12312, unit='Meter'))"
   ]
  },
  {
   "cell_type": "markdown",
   "metadata": {},
   "source": [
    "### Weitere Details zur Formatierung\n",
    "\n",
    "Formatstrings des neuen Typs enthalten Platzhalter, die in geschweifte Klammern {}\n",
    "eingeschlossen sind (statt %).  Ansonsten ist das Format durch folgende **Grammatik**\n",
    "charakterisiert:\n",
    "\n",
    "    Platzhalter       ::=  \"{\" [field_name] [\"!\" conversion] [\":\" format_spec] \"}\"\n",
    "    field_name        ::=  arg_name (\".\" attribute_name | \"[\" element_index \"]\")*\n",
    "    arg_name          ::=  [identifier | integer]\n",
    "    attribute_name    ::=  identifier\n",
    "    element_index     ::=  integer | index_string\n",
    "    index_string      ::=  <any source character except \"]\"> +\n",
    "    conversion        ::=  \"r\" | \"s\" | \"a\"\n",
    "    format_spec       ::=  siehe unten\n",
    "\n",
    "und die Formatspezifizierung `format_spec` so:\n",
    "\n",
    "    format_spec ::=  [[fill]align][sign][#][0][width][,][.precision][type]\n",
    "    fill        ::=  <any character>\n",
    "    align       ::=  \"<\" | \">\" | \"=\" | \"^\"\n",
    "    sign        ::=  \"+\" | \"-\" | \" \"\n",
    "    width       ::=  integer\n",
    "    precision   ::=  integer\n",
    "    type        ::=  \"b\" | \"c\" | \"d\" | \"e\" | \"E\" | \"f\" | \"F\" | \"g\" | \"G\" | \"n\" | \"o\" | \"s\" | \"x\" | \"X\" | \"%\"\n",
    "\n",
    "\n",
    "### Was ist das und wie ist es zu lesen?\n",
    "\n",
    "Es handelt sich um eine *Backus-Naur-Form für die (kontextfreie) Grammatik* solcher Ausdrücke. Was kompliziert klingt und aussieht, ist im Kern ganz einfach.  Man beginnt mit dem Ausdruck, den es zu erklären gilt `Platzhalter` auf der linken Seite oben. Durch ::= wird definiert, was dafür eingesetzt werden kann, dabei stehen wieder [ ] für Teile, die man weglassen kann und  | steht für \"oder\".\n",
    "\n",
    "Auf der rechten Seite stehen entweder bestimmte Zeichen oder Typen, dann wissen wir, was gemeint ist, oder aber es stehen wieder zunächst unverständliche Ausdrücke. In diesem Fall müssen wir nun wieder auf der linken Seite nach diesen Ausdrücken suchen. So finden wir wieder eine Definition ::=, durch die wir den Ausdruck ersetzen können. Auf diese Weise werden alle möglichen Ausdrücke beschrieben.  \n",
    "\n",
    "Keine Angst, unten stehen viele Beispiele, mit denen man es genausogut begreifen kann, ohne sich auf die Backus-Naur-Form einzulassen. So steht diese aber in der offiziellen Dokumentation: Es ist also nützlich, sie lesen zu können oder zumindest nicht abgeschreckt zu sein.\n",
    "\n",
    "Diese Form erklärt aber nur die **Syntax**, nicht die **Semantik**, d.h.  Bedeutung der Ausdrücke.  Dazu braucht es\n",
    "weitere Erklärungen. Die vollständigen Erklärungen finden sich unter https://docs.python.org/3/library/string.html,\n",
    "ich erkläre nur einen Teil davon per Beispiel.\n",
    "\n",
    "\n",
    "Hier soll nur ein Beispiel für die weiteren Möglichkeiten stehen, die das Beispiel von vorhin nochmal um Füllzeichen und rechts- bzw. linksbündige Ausrichtung erweitert:"
   ]
  },
  {
   "cell_type": "code",
   "execution_count": null,
   "metadata": {},
   "outputs": [],
   "source": [
    "for name,length,unit in zip(['Strecke','Katze','Straße'],[213.123,33.335,123213.32],['Meter','Daumenbreit','Centimeter']):\n",
    "    print(\"Die Länge der {name:-<10s} ist {length:10.2f} {unit:-<12s}.\".format(\n",
    "        name=name, length=length, unit=unit))"
   ]
  },
  {
   "cell_type": "markdown",
   "metadata": {
    "collapsed": true
   },
   "source": [
    "## Noch eine ander Art der Formatierung: f-Strings (Python >= 3.6)\n",
    "\n",
    "Diese Art der Formatierung wurde erst in Python 3.6 eingeführt, s.:\n",
    "\n",
    "https://www.python.org/dev/peps/pep-0498/\n",
    "\n",
    "Dabei wird eine neue Art von Strings eingeführt, bei denen ein `f` vor den Anführungszeichen steht. Alle Ausdrücke in geschweiften Klammern werden dann evaluiert und das Ergebnis an dieser Stelle in den f-String eingesetzt; das Ergebnis ist ein gewöhnlicher String. Die Ausdrücke können noch durch eine Formatspezifikation erweitert werden, wie wir sie schon kennen, etwa `:.3f`. Sehen wir uns einige Beispiele an:"
   ]
  },
  {
   "cell_type": "code",
   "execution_count": null,
   "metadata": {},
   "outputs": [],
   "source": [
    "tier = \"Die Katze\"\n",
    "objekt = \"der Matte\"\n",
    "satz = f\"{tier} sitzt auf {objekt}\"\n",
    "\n",
    "print(satz)"
   ]
  },
  {
   "cell_type": "code",
   "execution_count": null,
   "metadata": {},
   "outputs": [],
   "source": [
    "f\"{tier} ist {laenge:.2f} Meter und damit {laenge/0.9144:.2f} yards lang.\""
   ]
  },
  {
   "cell_type": "markdown",
   "metadata": {},
   "source": [
    "Wenn nicht zufällig vorher schon eine Variable 'laenge' definiert wurde, gibt es einen Fehler.\n",
    "\n",
    "Achtung: Nur, wenn die  Ausdrücke in geschweiften Klammern korrekt evaluiert werden können, wird der f-String ohne Fehler ausgewertet."
   ]
  },
  {
   "cell_type": "code",
   "execution_count": null,
   "metadata": {},
   "outputs": [],
   "source": [
    "laenge = 0.7\n",
    "f\"{tier} ist {laenge:.2f} Meter und damit {laenge/0.9144:.2f} yards lang.\""
   ]
  },
  {
   "cell_type": "code",
   "execution_count": null,
   "metadata": {},
   "outputs": [],
   "source": [
    "import numpy as np\n",
    "radius = 1.23\n",
    "f\"Ein Kreis des Radius {radius:.2f} hat einen Flächeninhalt von {np.pi*radius**2:.2f}.\""
   ]
  },
  {
   "cell_type": "code",
   "execution_count": null,
   "metadata": {},
   "outputs": [],
   "source": []
  },
  {
   "cell_type": "code",
   "execution_count": null,
   "metadata": {},
   "outputs": [],
   "source": []
  }
 ],
 "metadata": {
  "kernelspec": {
   "display_name": "Python 3",
   "language": "python",
   "name": "python3"
  },
  "language_info": {
   "codemirror_mode": {
    "name": "ipython",
    "version": 3
   },
   "file_extension": ".py",
   "mimetype": "text/x-python",
   "name": "python",
   "nbconvert_exporter": "python",
   "pygments_lexer": "ipython3",
   "version": "3.8.5"
  },
  "latex_envs": {
   "bibliofile": "biblio.bib",
   "cite_by": "apalike",
   "current_citInitial": 1,
   "eqLabelWithNumbers": true,
   "eqNumInitial": 0
  }
 },
 "nbformat": 4,
 "nbformat_minor": 1
}
