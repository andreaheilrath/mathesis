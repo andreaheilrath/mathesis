{
 "cells": [
  {
   "cell_type": "markdown",
   "metadata": {},
   "source": [
    "### Hello Jupyter!\n",
    "\n",
    "Das ist ein Jupyter Notebook, eine **interaktive Programmier-Umgebung**.\n",
    "\n",
    "In diesem Format ist es möglich, geschriebenen Text mit Code zu kombinieren.\n",
    "\n",
    "Alles basiert auf einzelnen Zellen, die verschiedenen Typ haben können. Diese Zelle ist vom Typ *Markdown*. Um diese Zelle zu bearbeiten, doppelklicke einfach auf den Text!\n",
    "\n",
    "Um die Eingabe zu bestätigen, wähle die Zelle aus und drücke `Shift + Enter`.\n",
    "\n",
    "Die folgende Zeile hat den Typ *Code*. Hier könnt ihr Python Code eingeben und ausführen, nutzt dazu auch die Tastenkombination `Shift + Enter`."
   ]
  },
  {
   "cell_type": "code",
   "execution_count": 1,
   "metadata": {},
   "outputs": [
    {
     "name": "stdout",
     "output_type": "stream",
     "text": [
      "Hello Wold\n"
     ]
    }
   ],
   "source": [
    "print(\"Hello Wold\")"
   ]
  },
  {
   "cell_type": "markdown",
   "metadata": {},
   "source": [
    "Unter der Zelle wird direkt das Ergebnis der Eingabe angezeigt. \n",
    "\n",
    "Sobald eine Zelle ausgeführt wurde, steht links von der Zelle eine Zahl. Damit kann nachvollzogen werden, in welcher Reihenfolge die Zellen ausgeführt wurden.\n",
    "\n",
    "Führe diese Zelle aus:"
   ]
  },
  {
   "cell_type": "code",
   "execution_count": 2,
   "metadata": {},
   "outputs": [
    {
     "data": {
      "text/plain": [
       "42"
      ]
     },
     "execution_count": 2,
     "metadata": {},
     "output_type": "execute_result"
    }
   ],
   "source": [
    "6 * 7"
   ]
  },
  {
   "cell_type": "markdown",
   "metadata": {},
   "source": [
    "Wenn die verschiedenen Zellen aufeinander aufbauen, ist es wichtig, sie in der richtigen Reihenfolge auszuführen.\n",
    "\n",
    "Ein Beispiel dafür ist die Deklaration einer Variable, die später benutzt wird:"
   ]
  },
  {
   "cell_type": "code",
   "execution_count": 2,
   "metadata": {},
   "outputs": [],
   "source": [
    "x = 5"
   ]
  },
  {
   "cell_type": "code",
   "execution_count": 3,
   "metadata": {},
   "outputs": [
    {
     "name": "stdout",
     "output_type": "stream",
     "text": [
      "5\n"
     ]
    }
   ],
   "source": [
    "print(x)"
   ]
  },
  {
   "cell_type": "code",
   "execution_count": 7,
   "metadata": {},
   "outputs": [
    {
     "name": "stdout",
     "output_type": "stream",
     "text": [
      "5\n"
     ]
    }
   ],
   "source": [
    "print(y)"
   ]
  },
  {
   "cell_type": "code",
   "execution_count": 6,
   "metadata": {},
   "outputs": [],
   "source": [
    "y = 5"
   ]
  },
  {
   "cell_type": "markdown",
   "metadata": {},
   "source": [
    "Sobald eine Variable einmal deklariert wurde, kann sie überall im Notebook benutzt werden. \n",
    "\n",
    "Der **Kernel** merkt sich alle Befehle, die bisher ausgeführt wurden. \n",
    "Oben im Menü könnt ihr den Kernel neu starten, dann sind alle Eingaben gelöscht.\n",
    "\n",
    "Mit dem **+** Symbol, lassen sich neue Zellen öffnen. Durch das Menü `Cell -> Cell Type` kann der Typ der Zelle geändert werden.\n",
    "\n",
    "Probiert es einmal selbst aus!"
   ]
  },
  {
   "cell_type": "code",
   "execution_count": 4,
   "metadata": {},
   "outputs": [],
   "source": [
    "import turtle"
   ]
  },
  {
   "cell_type": "code",
   "execution_count": null,
   "metadata": {},
   "outputs": [],
   "source": []
  },
  {
   "cell_type": "markdown",
   "metadata": {},
   "source": [
    "#### Kleine Aufgabe\n",
    "\n",
    "Unten steht die Deklaration der Variable `i`, in der nächsten Zeile wird die Variable manipuliert.\n",
    "\n",
    "Überlege, wie die Ausgabe der zweiten Zelle aussehen wird, insbesondere wenn die Zelle mehrfach ausgeführt wird."
   ]
  },
  {
   "cell_type": "code",
   "execution_count": null,
   "metadata": {},
   "outputs": [],
   "source": [
    "i = 0"
   ]
  },
  {
   "cell_type": "code",
   "execution_count": null,
   "metadata": {},
   "outputs": [],
   "source": [
    "i = i + 1\n",
    "print(i)"
   ]
  },
  {
   "cell_type": "code",
   "execution_count": null,
   "metadata": {},
   "outputs": [],
   "source": []
  }
 ],
 "metadata": {
  "kernelspec": {
   "display_name": "Python 3",
   "language": "python",
   "name": "python3"
  },
  "language_info": {
   "codemirror_mode": {
    "name": "ipython",
    "version": 3
   },
   "file_extension": ".py",
   "mimetype": "text/x-python",
   "name": "python",
   "nbconvert_exporter": "python",
   "pygments_lexer": "ipython3",
   "version": "3.8.3"
  }
 },
 "nbformat": 4,
 "nbformat_minor": 4
}
