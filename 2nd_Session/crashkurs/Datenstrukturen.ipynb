{
 "cells": [
  {
   "cell_type": "markdown",
   "metadata": {},
   "source": [
    "Datenstrukturen\n",
    "======================\n",
    "\n",
    "In Python gibt es Objekte bzw. **Datenstrukturen**, die verschiedene einfachere **Datentypen enthalten** die ihr schon kennt (int, float, string, ...). Im Folgenden werden wir uns diese Datenstrukturen ansehen:\n",
    "\n",
    "\n",
    "    Tupel\n",
    "    Listen\n",
    "    Wörterbücher (Dictionaries)\n",
    "    Mengen\n",
    "\n",
    "\n",
    "**Tupel und Listen** haben bestimmte Eigenschaften, die wir auch schon bei Strings kennen gelernt haben. Man kann auf die einzelnen Einträge mit **Indizes** zugreifen und sie erlauben **Slicing**.\n",
    "\n",
    "Der Abruf von Elementen bei **Dictionaries und Mengen** funktioniert etwas anders ... dazu unten mehr.\n",
    "\n",
    "------------\n",
    "## 1. Tupel\n",
    "\n",
    "Wenn Sie mehrere Zahlen oder Strings in ein Objekt zusammenfassen\n",
    "wollen, so geht das durch die Datenstruktur eines Tupels (`type tuple`)\n",
    "\n",
    "    >>> tupel = (3.14, 'Katze',42)\n",
    "\n",
    "Anders als Listen, mit denen wir uns gleich beschäftigen werden, aber\n",
    "genauso wie bei Zeichenketten, kann man die **Einträge oder die Länge\n",
    "eines Tupels nicht nachträglich verändern ('immutable')** Man muss dazu ein neues Tupel\n",
    "definieren. Auf die Einträge eines Tupels kann man wie bei Strings mit\n",
    "Hilfe der eckigen Klammern zugreifen, die Länge erfährt man mit Hilfe\n",
    "der Funktion `len`.\n",
    "\n",
    "    >>>tupel[0]\n",
    "    3.14\n",
    "    >>>tupel[1]\n",
    "    'Katze'\n",
    "    >>>tupel[2]\n",
    "    42\n",
    "    >>>len(tupel)\n",
    "    3\n",
    "\n",
    "Wie man sieht, sind die Einträge von 0 bis `len(tupel)-1`\n",
    "durchnummeriert.\n",
    "\n",
    "Tupel können auf beiden Seiten einer Zusweisung stehen, etwa:\n",
    "\n",
    "    >>> (a, b) = (2, 3)\n",
    "   \n",
    "Dabei kann man die Klammern auch weglassen:\n",
    "\n",
    "    >>> a, b = (2, 3)\n",
    "    >>> a, b = 2, 3\n",
    "    \n",
    "Dadurch ist auch ein Variablentausch ohne Hilfsvariable möglich:\n",
    "\n",
    "    >>> a, b = b, a\n",
    "   \n"
   ]
  },
  {
   "cell_type": "code",
   "execution_count": null,
   "metadata": {},
   "outputs": [],
   "source": [
    "tupel = 31415, 'Hund', 3.1415  #Initialisierung des Tupels 'tupel'"
   ]
  },
  {
   "cell_type": "code",
   "execution_count": null,
   "metadata": {},
   "outputs": [],
   "source": [
    "tupel  #tupel enhaelt verschiedene Datentypen!"
   ]
  },
  {
   "cell_type": "code",
   "execution_count": null,
   "metadata": {},
   "outputs": [],
   "source": [
    "type(tupel) # ... und ist selbst ein tuple!"
   ]
  },
  {
   "cell_type": "code",
   "execution_count": null,
   "metadata": {},
   "outputs": [],
   "source": [
    "len(tupel) #mit der len() Funktion bekommt ihr die Laenge des Tupels"
   ]
  },
  {
   "cell_type": "code",
   "execution_count": null,
   "metadata": {},
   "outputs": [],
   "source": [
    "#Aufruf einzelner Elemente wie bei Strings - mit Indizes!\n",
    "print(tupel[0])\n",
    "print(tupel[1])\n",
    "print(tupel[2])"
   ]
  },
  {
   "cell_type": "code",
   "execution_count": null,
   "metadata": {},
   "outputs": [],
   "source": [
    "c, b, a = tupel\n",
    "#Achtung! Hier muessen auf der linken Seite genauso viele Variablen stehen wie das Tupel Elemente hat.\n",
    "#Ansonsten tritt ein 'ValueError' auf ...\n",
    "print(a, b, c)"
   ]
  },
  {
   "cell_type": "code",
   "execution_count": null,
   "metadata": {},
   "outputs": [],
   "source": [
    "# Variablentausch ohne Hilfsvariable\n",
    "print(a, b)\n",
    "a, b = b, a\n",
    "print(a, b)"
   ]
  },
  {
   "cell_type": "code",
   "execution_count": null,
   "metadata": {},
   "outputs": [],
   "source": [
    "a = \"Katze\"\n",
    "print(a)"
   ]
  },
  {
   "cell_type": "code",
   "execution_count": null,
   "metadata": {},
   "outputs": [],
   "source": [
    "tupel[1] = \"Katze\""
   ]
  },
  {
   "cell_type": "markdown",
   "metadata": {},
   "source": [
    "Tupel sind - so wie strings - sogenannte **'immutable objects'** also **unveränderliche** Datenstrukturen!!\n",
    "\n",
    "Listen verhalten sich in diesem Punkt ganz anders ..."
   ]
  },
  {
   "cell_type": "markdown",
   "metadata": {},
   "source": [
    "------------\n",
    "## 2. Listen\n",
    "\n",
    "Andere Variablentypen, die wir benötigen werden, sind Listen. Auf Elemente von Listen kann man wie bei Strings und Tupeln zugreifen. \n",
    "\n",
    "Im Gegensatz zu **Tupeln**, die mit **runden Klammern** initialisiert werden\n",
    "\n",
    "    tuple = (wert1, wert2, wert3)\n",
    "\n",
    "wird eine **Liste** mit **eckigen Klammern** initialisiert:\n",
    "\n",
    "    liste = [wert1, wert2, wert3]\n",
    "\n",
    "Das sieht fast gleich aus ... macht aber einen riesigen Unterschied!"
   ]
  },
  {
   "cell_type": "code",
   "execution_count": null,
   "metadata": {},
   "outputs": [],
   "source": [
    "kohl = [\"Weißkohl\", \"Rotkohl\", \"Wirsing\"]"
   ]
  },
  {
   "cell_type": "code",
   "execution_count": null,
   "metadata": {},
   "outputs": [],
   "source": [
    "kohl"
   ]
  },
  {
   "cell_type": "code",
   "execution_count": null,
   "metadata": {},
   "outputs": [],
   "source": [
    "print(kohl[0])\n",
    "print(kohl[2])\n",
    "print(kohl[-1])  # von hinten gezählt!\n",
    "print(len(kohl))"
   ]
  },
  {
   "cell_type": "markdown",
   "metadata": {},
   "source": [
    "Listen lassen sich im Gegensatz zu Tupeln manipulieren ... z.B. mit den Funktionen .append und .extend ."
   ]
  },
  {
   "cell_type": "code",
   "execution_count": null,
   "metadata": {},
   "outputs": [],
   "source": [
    "kohl.append('Romanesco')  #damit wir der Liste kohl das Element 'Romanesco' angehaengt.\n",
    "kohl"
   ]
  },
  {
   "cell_type": "markdown",
   "metadata": {},
   "source": [
    "Listen können alles mögliche enthalten... auch Listen!\n",
    "\n",
    "Wir können Elemente einfügen und entfernen, etc. - hier nur einige Beispiele, zunächst ein Beispiel, in dem wir als neues Element der Liste `kohl` die Liste `[1,2,3]` anhängen."
   ]
  },
  {
   "cell_type": "code",
   "execution_count": null,
   "metadata": {},
   "outputs": [],
   "source": [
    "l = [1, 2, 3]\n",
    "kohl.append(l)\n",
    "kohl"
   ]
  },
  {
   "cell_type": "markdown",
   "metadata": {},
   "source": [
    "Die hinzugefügte Liste l ist jetzt _ein Element_ der Liste kohl. Wollen wir nun auf ein Element der Liste `l` zugreifen, brauchen wir einen zweiten Index - einmal den Index der Stelle an der die Liste `l` steht und dann noch den Index der Liste `l` an dem z.B. der Integer 2 steht."
   ]
  },
  {
   "cell_type": "code",
   "execution_count": null,
   "metadata": {},
   "outputs": [],
   "source": [
    "kohl[4][1]"
   ]
  },
  {
   "cell_type": "markdown",
   "metadata": {},
   "source": [
    "Wenn wir die einzelnen Elemente der Liste `l` an die Liste `kohl` anhängen möchten, benutzen wir die Funktion `.extend`"
   ]
  },
  {
   "cell_type": "code",
   "execution_count": null,
   "metadata": {},
   "outputs": [],
   "source": [
    "kohl.extend(l)\n",
    "kohl"
   ]
  },
  {
   "cell_type": "code",
   "execution_count": null,
   "metadata": {},
   "outputs": [],
   "source": [
    "kohl[6] # der int 2 steht jetzt auch direkt in der Liste kohl"
   ]
  },
  {
   "cell_type": "code",
   "execution_count": null,
   "metadata": {},
   "outputs": [],
   "source": [
    "#man kann auch Tupel in Listen umwandeln ...\n",
    "liste_aus_tupel = list(tupel)\n",
    "print(liste_aus_tupel)"
   ]
  },
  {
   "cell_type": "code",
   "execution_count": null,
   "metadata": {},
   "outputs": [],
   "source": [
    "#Listen sind mutable! Das was oben schief ging, klappt hier einfach\n",
    "liste_aus_tupel[1] = \"Katze\"\n",
    "print(liste_aus_tupel)"
   ]
  },
  {
   "cell_type": "code",
   "execution_count": null,
   "metadata": {},
   "outputs": [],
   "source": [
    "l = [] # man kann auch leere Listen erstellen. Das ist manchmal praktisch!\n",
    "print(l)"
   ]
  },
  {
   "cell_type": "markdown",
   "metadata": {},
   "source": [
    "### Wichtiger Hinweis !\n",
    "Die Listen-Methoden wie `extend` und\n",
    "`append` verändern eine gegebene Liste, sie liefern keinen Wert zurück.\n",
    "Im Gegensatz dazu liefern die entsprechenden String-Methoden einen neuen\n",
    "String.\n",
    "\n",
    "Ein Listenobjekt ist veränderbar, **mutable**, während Tupel, Strings, Zahlen unveränderlich, **immutable** sind.\n",
    "Der Wert einer Variablen, die auf ein  **immutable** Objekt weist, kann nur dadurch verändert werden, dass man sie **neu zuweist**.\n",
    "\n",
    "Schauen Sie sich die unten stehenden Beispiele gut an; dieser Unterschied ist eine häufige Fehlerquelle."
   ]
  },
  {
   "cell_type": "code",
   "execution_count": null,
   "metadata": {},
   "outputs": [],
   "source": [
    "s = 'Maus'\n",
    "s.replace('a', 'i')\n",
    "print(s)"
   ]
  },
  {
   "cell_type": "code",
   "execution_count": null,
   "metadata": {},
   "outputs": [],
   "source": [
    "s = s.replace('a', 'i') #hier erfolgt eine Zuweisung!!\n",
    "print(s)"
   ]
  },
  {
   "cell_type": "code",
   "execution_count": null,
   "metadata": {},
   "outputs": [],
   "source": [
    "l = [1,2,3]"
   ]
  },
  {
   "cell_type": "code",
   "execution_count": null,
   "metadata": {},
   "outputs": [],
   "source": [
    "l.append(4)  #hier erfolgt keine Zuweisung!!\n",
    "print(l)\n",
    "l = l.append(5)  # ACHTUNG! DAS TUT NICHT, WAS ES SOLL\n",
    "#jede Funktion muss etwas zurückgeben - und wenn es keinen Inhalt haben soll - ist es None!\n",
    "print(l)"
   ]
  },
  {
   "cell_type": "markdown",
   "metadata": {},
   "source": [
    "**Noch ein wichtiger Hinweis:** Weisen wir eine Liste einer neuen Variable zu,\n",
    "so wird die Liste nicht kopiert, sondern die neue Variable verweist auf die selbe Liste.\n",
    "Die Liste hat jetzt sozusagen mehrere Namen.   Wir können also nun die Original-Liste auch unter dem neuen Namen ansprechen und verändern, denn Listen sind **mutable**.  Das kann gefährliche Nebenwirkungen haben, wenn man es nicht bedenkt.\n",
    "\n",
    "Ist dagegen ein Typ **immutable**, so kann er durch Zuweisung herumgereicht werden, ohne dass die Gefahr besteht, das ursprüngliche Objekt aus Versehen zu ändern.\n"
   ]
  },
  {
   "cell_type": "code",
   "execution_count": null,
   "metadata": {},
   "outputs": [],
   "source": [
    "liste1 = [2, 3, 4]\n",
    "liste2 = liste1\n",
    "print(liste1)\n",
    "print(liste2)"
   ]
  },
  {
   "cell_type": "code",
   "execution_count": null,
   "metadata": {},
   "outputs": [],
   "source": [
    "liste2[1] = 7  #mit dieser Operation wird das Objekt verändert, das sowohl in Variable liste1 und liste2 steht\n",
    "print(liste2)\n",
    "print(liste1)"
   ]
  },
  {
   "cell_type": "markdown",
   "metadata": {},
   "source": [
    "Wird eine Kopie einer Liste benötigt, die nichts mehr mit der ursprünglichen\n",
    "Liste zu tun hat, hilft das Modul `copy`. Dabei erzeugt die Funktion `copy.deepcopy`  ein volle Kopie, bei der auch in Listen verschachtelte Listen kopiert werden, während `copy.copy` nur die äußere Liste kopiert, aber eventuelle innere Listen dieselben bleiben."
   ]
  },
  {
   "cell_type": "code",
   "execution_count": null,
   "metadata": {},
   "outputs": [],
   "source": [
    "from copy import deepcopy\n",
    "liste1 = [2, 3, 4]\n",
    "liste2 = deepcopy(liste1)\n",
    "liste2[1] = 7\n",
    "print(liste2)\n",
    "print(liste1)"
   ]
  },
  {
   "cell_type": "code",
   "execution_count": null,
   "metadata": {},
   "outputs": [],
   "source": [
    "#  verstehen Sie die Ausgaben?\n",
    "\n",
    "from copy import copy, deepcopy\n",
    "l1 = [1, 2, 3]\n",
    "l2 = [1, l1]\n",
    "print(l2)\n",
    "l2[1][1] = 4\n",
    "print(l2, l1)\n",
    "l3 = copy(l2)\n",
    "print(l3)\n",
    "l3[1][1] = 111\n",
    "print(l1, l2, l3)\n",
    "l4 = deepcopy(l2)\n",
    "l4[1][1] = 666\n",
    "print(l1, l2, l3, l4)"
   ]
  },
  {
   "cell_type": "markdown",
   "metadata": {},
   "source": [
    "**Merkwürdige Aufgabe:** Legen Sie eine nichtleere Liste `l` an. Hängen Sie anschließend mit `append` l an sich selbst an und sehen Sie sich die Liste an. Was geht vor?"
   ]
  },
  {
   "cell_type": "code",
   "execution_count": null,
   "metadata": {},
   "outputs": [],
   "source": [
    "l = ['Katze', 'Maus']\n",
    "l.append(l)\n",
    "print(l)"
   ]
  },
  {
   "cell_type": "code",
   "execution_count": null,
   "metadata": {},
   "outputs": [],
   "source": [
    "l[2][2][2][2]"
   ]
  },
  {
   "cell_type": "markdown",
   "metadata": {},
   "source": [
    "### Zugehörigkeit\n",
    "\n",
    "Die Zugehörigkeit zu einer Liste prüft man mit `in`:"
   ]
  },
  {
   "cell_type": "code",
   "execution_count": null,
   "metadata": {},
   "outputs": [],
   "source": [
    "print(kohl)\n",
    "print(\"Rotkohl\" in kohl)\n",
    "print(\"Kartoffel\" in kohl)\n",
    "print([1, 2] in kohl)\n",
    "print([1, 2, 3] in kohl)"
   ]
  },
  {
   "cell_type": "code",
   "execution_count": null,
   "metadata": {},
   "outputs": [],
   "source": [
    "from copy import deepcopy\n",
    "l1 = [2, 3]\n",
    "l2 = deepcopy(l1)\n",
    "print(l1 == l2)\n",
    "print(l1 is l2)"
   ]
  },
  {
   "cell_type": "markdown",
   "metadata": {},
   "source": [
    "**Spezielle Listen:** Durch `range(a,b)` (Python 2) oder \n",
    "`list(range(a,b))` (Python 3, geht aber auch in Python 2)  \n",
    "wird die Liste aller ganzen Zahlen $i$ mit\n",
    "$a\\leq i <b$ erzeugt, also wird etwa durch `l=list(range(0,10))` die Liste\n",
    "`[0,1,2,3,4,5,6,7,8,9]` erzeugt. Wichtig sind noch Ausdrücke, die einen\n",
    "Teil einer Liste liefern. Ist $l$ eine Liste, so liefert `l[a:e]` die\n",
    "Liste aller Einträge von $l$ mit Index $i$, wobei $a\\leq i<e$. Beachten\n",
    "Sie die Zeichen $\\leq$ und $<$! Lässt man $a$ oder $e$ weg, so fällt die\n",
    "enstprechende Bedingung weg, also liefert `l[:e]` alle Einträge von $l$\n",
    "mit Index kleiner e, sowie `l[a:]` alle Einträge von $l$ mit Index\n",
    "$\\geq a$. Wollen Sie in einem solchen Indexbereich nur jedes $s.$\n",
    "Zeichen, so schreiben Sie `l[a:e:s]`.\n",
    "\n",
    "Ein Beispiel mit der Liste `list(range(0,10))`:"
   ]
  },
  {
   "cell_type": "code",
   "execution_count": null,
   "metadata": {},
   "outputs": [],
   "source": [
    "l = list(range(0, 20, 2))  # Achtung: Keine Doppelpunkte wie bei Slices\n",
    "print(l)"
   ]
  },
  {
   "cell_type": "code",
   "execution_count": null,
   "metadata": {},
   "outputs": [],
   "source": [
    "print(l[2:7:2])\n",
    "print(l[:5:3])\n",
    "print(l[-3:])\n",
    "print(l[-3::-1])\n",
    "print(l[-3:-1])\n",
    "print(l[::])"
   ]
  },
  {
   "cell_type": "code",
   "execution_count": null,
   "metadata": {},
   "outputs": [],
   "source": [
    "l[1::2] = [5, 5, 5, 5, 5]  #hier findet eine Neuzuweisung statt!"
   ]
  },
  {
   "cell_type": "code",
   "execution_count": null,
   "metadata": {},
   "outputs": [],
   "source": []
  },
  {
   "cell_type": "markdown",
   "metadata": {},
   "source": [
    "Da Listen der wohl wichtigste Datentyp in Python sind, hier eine\n",
    "Übersicht der Listen-Methoden (dabei sei `l` eine Liste). Darin\n",
    "bezeichnen die eckigen Klammern <span>*in den Argumenten der\n",
    "Funktionen*</span> ”optionale” Argumente, die man weglassen kann.\n",
    "\n",
    "    l[i] = x                               Element i von l durch x ersetzen      \n",
    "    l[i:j] = t                             \"slice\" von l von i bis j wird durch  t ersetzt     \n",
    "    del l[i:j]                             dasselbe wie l[i:j] = []    \n",
    "    l[i:j:k] = t                           die Elemente von l[i:j:k] werden durch die von t ersetzt     \n",
    "    del l[i:j:k]                           entfernt die Elemente l[i:j:k] aus der Liste      \n",
    "    l.append(x)                            dasselbe wie l[len(l):len(l)] = [x] \n",
    "    l.extend(x)                            dasselbe wie l[len(l):len(l)] = x \n",
    "    l.count(x)                             gibt die Anzahl der i‘s mit l[i] == x zurück    \n",
    "    l.index(x[, i[, j]])                   gibt das kleinste k zurück mit l[k] == x und i <= k < j\n",
    "    l.insert(i, x)                         dasselbe wie l[i:i] = [x]  \n",
    "    l.pop(i)                               dasselbe wie x = l[i]; del l[i]; return x \n",
    "    l.pop()                                dasselbe wie pop(len(l)-1)\n",
    "    l.remove(x )                           dasselbe wie del l[l.index(x)]   \n",
    "    l.reverse()                            kehrt die Reihenfolge der Elemente von l um \n",
    "    l.sort([cmp[, key[, reverse]]])        sortiert die Elemente von l\n",
    "\n",
    "Durch `sum(l)` erhält man die Summe der Elemente der Liste, wenn diese\n",
    "definiert ist. Bei lauter Zahlen wäre das die gewöhnliche Summe, bei\n",
    "Strings die Aneinanderkettung aller Strings.\n",
    "\n",
    "Sehr nützlich ist es, zu wissen, wie man eine Funktion auf jedes Element\n",
    "einer Liste anwenden kann: Wenn `f` eine Funktion ist und\n",
    "`l=[a_0,a_1,..., a_n]` eine Liste von Objekten, für die diese\n",
    "Funktion definiert ist, so liefert `list(map(f,l))` die Liste\n",
    "`[f(a_0),f(a_1),...,f(a_n)]`.'"
   ]
  },
  {
   "cell_type": "markdown",
   "metadata": {},
   "source": [
    "### Listen aus Strings\n",
    "\n",
    "Eine Operation, die einen String in eine Liste von Strings umwandelt,\n",
    "soll noch erwähnt werden. Mit ihrer Hilfe bricht man\n",
    "einen String an gewissen Trennzeichen in eine Liste von Strings auf.\n",
    "Das ist ungemein nützlich zum Einlesen von Tabellen oder zum\n",
    "Zerlegen von Nutzereingaben.\n",
    "\n"
   ]
  },
  {
   "cell_type": "code",
   "execution_count": null,
   "metadata": {},
   "outputs": [],
   "source": [
    "s = 'Hund,Katze,Maus'\n",
    "s.split(',')"
   ]
  },
  {
   "cell_type": "code",
   "execution_count": null,
   "metadata": {},
   "outputs": [],
   "source": [
    "s = 'Hund        Katze  Maus'\n",
    "s.split()"
   ]
  },
  {
   "cell_type": "markdown",
   "metadata": {},
   "source": [
    "Eine Umkehrung dieser Operation liefert `join`:"
   ]
  },
  {
   "cell_type": "code",
   "execution_count": null,
   "metadata": {},
   "outputs": [],
   "source": [
    "l = ['Hund', 'Katze', 'Maus']\n",
    "' und '.join(l)"
   ]
  },
  {
   "cell_type": "code",
   "execution_count": null,
   "metadata": {},
   "outputs": [],
   "source": []
  },
  {
   "cell_type": "markdown",
   "metadata": {},
   "source": [
    "### Aufgabe:\n",
    "\n",
    "Kopieren Sie die Datei `buddenbrooks.txt` (ISIS)\n",
    "oder ein anderes Buch ihrer Wahl in das Verzeichnis, in dem sich dieses Notebook befindet.\n",
    "\n",
    "Das folgende  Programm liest das ganze Buch \n",
    "in einen String. Vervollständigen Sie das Programm, so dass es eine Wortliste erstellt.\n"
   ]
  },
  {
   "cell_type": "code",
   "execution_count": null,
   "metadata": {},
   "outputs": [],
   "source": [
    "textquelle = open(\"buddenbrooks.txt\", \"r\")\n",
    "s = textquelle.read()\n",
    "textquelle.close()"
   ]
  },
  {
   "cell_type": "code",
   "execution_count": null,
   "metadata": {},
   "outputs": [],
   "source": [
    "print(s[2000:2100])"
   ]
  },
  {
   "cell_type": "code",
   "execution_count": null,
   "metadata": {},
   "outputs": [],
   "source": []
  },
  {
   "cell_type": "markdown",
   "metadata": {},
   "source": [
    "### Aufgabe, Fortsetzung\n",
    "Inspizieren Sie diese Liste. Sehen Sie sich beispielsweise die Wörter\n",
    "1000  bis 1030 an oder 2000 bis 2030.  Sind Sie mit der Wortliste zufrieden? Wenn \n",
    "nein, überlegen Sie sich Verbesserungen und testen Sie diese."
   ]
  },
  {
   "cell_type": "code",
   "execution_count": null,
   "metadata": {},
   "outputs": [],
   "source": []
  },
  {
   "cell_type": "markdown",
   "metadata": {},
   "source": [
    "------------\n",
    "## 3. Wörterbücher\n",
    "\n",
    "\n",
    "<span>*Wörterbücher*</span> oder <span>*Dictionaries*</span> sind ein\n",
    "praktischer Datentyp, um irgendwelchen Daten (’keys’) irgendwelche\n",
    "anderen Daten zuzuordnen (’values’). Ein Wörterbuch wird durch `w={}`\n",
    "angelegt, ist aber zunächst leer. Nun kann man durch `w[key1]=value1`\n",
    "ein Paar `key1:value1` dem Wörterbuch hinzufügen, durch `w[key2]=value2`\n",
    "ein weiteres Paar `key2:value2`, etc. Durch `w[key1]` erhält man\n",
    "anschließend den Wert `value1`, etc. Ein Beispiel:"
   ]
  },
  {
   "cell_type": "code",
   "execution_count": null,
   "metadata": {},
   "outputs": [],
   "source": [
    "uebersetzer = {\"house\" : \"Haus\", \"cat\":\"Katze\", \"black\":\"schwarz\"} \n",
    "#hier erfolgt die Inititalisierung mit geschweiften Klammern!"
   ]
  },
  {
   "cell_type": "code",
   "execution_count": null,
   "metadata": {},
   "outputs": [],
   "source": [
    "print(uebersetzer[\"house\"])\n",
    "print(uebersetzer[\"cat\"])"
   ]
  },
  {
   "cell_type": "code",
   "execution_count": null,
   "metadata": {},
   "outputs": [],
   "source": [
    "wb = {}\n",
    "wb['Katze'] = (13, 'Sie heißt Minnie.')\n",
    "wb[13] = 'Sie ist von übel.'\n",
    "wb[13.2321] = ['Hatten wir schon', 2321, 2]\n",
    "print(wb)\n",
    "print(wb['Katze'])\n",
    "print('Hund' in wb)\n",
    "print('Katze' in wb)\n",
    "print(list(wb.keys())) #damit bekommt man alle keys aus dem dictionary"
   ]
  },
  {
   "cell_type": "code",
   "execution_count": null,
   "metadata": {},
   "outputs": [],
   "source": [
    "w = {}\n",
    "w[11] = [2.444]\n",
    "w['Katze'] = 75\n",
    "w['Hund'] = ['Maus']\n",
    "w[1.23] = [44]\n",
    "print(w)\n",
    "print(w['Hund'])\n",
    "w['Hund'].append('Ratte')\n",
    "print(w)"
   ]
  },
  {
   "cell_type": "markdown",
   "metadata": {},
   "source": [
    "Als <span>*Keys*</span> kommen Strings, ganze Zahlen, Bruchzahlen, Tupel\n",
    "von solchen und Objekte anderer grundlegender Datentypen in Frage (aber\n",
    "beispielsweise keine Listen.)\n",
    "\n",
    "Ob ein gewisser <span>*key*</span> im Wörterbuch vorkommt, lässt sich so\n",
    "abfragen:\n",
    "\n",
    "    >>> 11 in w\n",
    "    True\n",
    "    >>> 75 in w\n",
    "    False\n",
    "\n",
    "denn 75 ist kein <span>*key*</span>, sondern ein\n",
    "<span>*value*</span>."
   ]
  },
  {
   "cell_type": "markdown",
   "metadata": {},
   "source": [
    "------------\n",
    "## 4. Mengen\n",
    "\n",
    "Python kennt außer Listen auch Mengen. Eine Menge kann man entweder\n",
    "durch die Auflistung der Elemente in Mengenklammern angeben oder, indem\n",
    "man die den Typ umwandelnde Funktion `set` auf eine Menge anwendet.\n",
    "Mengen sind nicht geordnet, jedes Element kommt nur einmal vor. Die\n",
    "üblichem Mengenoperationen (Vereinigung, Schnitt, Differenz) sind\n",
    "verfügbar.\n",
    "\n",
    "   \n",
    "\n",
    "Wie bei Listen prüft man mit `in`, ob ein Objekt Element einer Menge\n",
    "ist. Mit $<=$, $>=$ prüft man, ob eine Menge Teilmenge, bzw. Obermenge\n",
    "ist, mit $<$, $>$, ob es sich um eine <span>*echte*</span> Teilmenge /\n",
    "Obermenge handelt."
   ]
  },
  {
   "cell_type": "code",
   "execution_count": null,
   "metadata": {},
   "outputs": [],
   "source": [
    "# Verstehen Sie diese Ausgaben?\n",
    "set1 = {'a', 'b', 'c', 'd'}  #Initialisierung mit geschweiften Klammern - ohne ':' für Verknüpfung wie bei dicts\n",
    "set2 = set(['a', 'b', 'e', 'e'])\n",
    "print(set1)\n",
    "print(set2)\n",
    "print(\"Difference \")\n",
    "print(set1.difference(set2))\n",
    "print(set1-set2)  # alternative Kurzschreibweise\n",
    "print(\"Union\")\n",
    "print(set1.union(set2))\n",
    "print(set1 | set2)  # alternative Kurzschreibweise\n",
    "print(\"Intersection\")\n",
    "print(set1.intersection(set2))\n",
    "print(set1 & set2)  # alternative Kurzschreibweise\n",
    "print('a' in set1)\n",
    "print(set1 < set2)\n",
    "print({'a', 'b'} < set1)\n",
    "\n",
    "print((set1 > set1))"
   ]
  },
  {
   "cell_type": "code",
   "execution_count": null,
   "metadata": {},
   "outputs": [],
   "source": []
  }
 ],
 "metadata": {
  "kernelspec": {
   "display_name": "Python 3",
   "language": "python",
   "name": "python3"
  },
  "language_info": {
   "codemirror_mode": {
    "name": "ipython",
    "version": 3
   },
   "file_extension": ".py",
   "mimetype": "text/x-python",
   "name": "python",
   "nbconvert_exporter": "python",
   "pygments_lexer": "ipython3",
   "version": "3.8.2"
  },
  "latex_envs": {
   "bibliofile": "biblio.bib",
   "cite_by": "apalike",
   "current_citInitial": 1,
   "eqLabelWithNumbers": true,
   "eqNumInitial": 0
  }
 },
 "nbformat": 4,
 "nbformat_minor": 1
}
