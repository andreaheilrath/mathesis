{
 "cells": [
  {
   "cell_type": "markdown",
   "metadata": {},
   "source": [
    "# for - Schleifen\n",
    "\n",
    "Häufig ist es nötig, mit allen Einträgen einer Liste oder eines Vektors\n",
    "eine Operation vorzunehmen. Dafür sind so genannte `for`-Schleifen\n",
    "geeignet. Ist `liste` eine Liste, so führt\n",
    "\n",
    "    for x in liste:\n",
    "       ....\n",
    "       ....\n",
    "       ....\n",
    "\n",
    "eine Schleife über alle Elemente `x` der Liste `liste` aus.\n",
    "\n",
    "Ein Beispiel mit der Liste `kohl` vom letzten Notebook, zusammen mit der Ausgabe, die es hervorbringt:"
   ]
  },
  {
   "cell_type": "code",
   "execution_count": null,
   "metadata": {},
   "outputs": [],
   "source": [
    "kohl = ['Weißkohl', 'Rotkohl', 'Wirsing']\n",
    "\n",
    "for sorte in kohl:\n",
    "    print(sorte + \" ist wohlschmeckend und gesund\")"
   ]
  },
  {
   "cell_type": "code",
   "execution_count": null,
   "metadata": {},
   "outputs": [],
   "source": [
    "sorte"
   ]
  },
  {
   "cell_type": "code",
   "execution_count": null,
   "metadata": {},
   "outputs": [],
   "source": [
    "del(sorte) #damit laesst sich die variable sorte loeschen"
   ]
  },
  {
   "cell_type": "code",
   "execution_count": null,
   "metadata": {},
   "outputs": [],
   "source": [
    "sorte"
   ]
  },
  {
   "cell_type": "markdown",
   "metadata": {},
   "source": [
    "Eine typische Form der for-Schleife zählt durch. Das lässt sich besonders einfach mit `range` bewerkstelligen."
   ]
  },
  {
   "cell_type": "code",
   "execution_count": null,
   "metadata": {},
   "outputs": [],
   "source": [
    "for i in range(0, 10):\n",
    "    print(i)"
   ]
  },
  {
   "cell_type": "code",
   "execution_count": null,
   "metadata": {},
   "outputs": [],
   "source": [
    "for a in 1, 2, 3, 5, 7:  #so gehts aber auch\n",
    "    print(a**3)"
   ]
  },
  {
   "cell_type": "markdown",
   "metadata": {},
   "source": [
    "Hier wird die for-Schleife mit einer if-Abfrage kombiniert."
   ]
  },
  {
   "cell_type": "code",
   "execution_count": null,
   "metadata": {},
   "outputs": [],
   "source": [
    "for x in [1, 2.323, 1+1j, 'Katze']:\n",
    "    if isinstance(x, complex):\n",
    "        print(x, \"gehört zum Datentyp 'complex'\")\n",
    "    if isinstance(x, int):\n",
    "        print(x, \"gehört zum Datentyp 'int'\")\n",
    "    else: print(x, \"ist weder 'complex' noch 'int'\")"
   ]
  },
  {
   "cell_type": "markdown",
   "metadata": {},
   "source": [
    "### Worüber kann man eine  for-Schleife durchführen ?\n",
    "\n",
    "Über Listen, Tupel, Strings (als Ketten von Zeichen), range-Objekte und noch allerlei. Der Idee nach taugt alles, was man durchzählen kann. In Python ist das dadurch gegeben, dass das Objekt einen Zufgriff auf Elemente durch ihren Index (`[...]`) erlaubt oder einen **Iterator** zur Verfügung stellt. Dabei handelt es sich um ein Objekt, das jeweils das nächste Element in der Aufzählung liefert und weiß, wann es fertig ist."
   ]
  },
  {
   "cell_type": "code",
   "execution_count": null,
   "metadata": {
    "scrolled": true
   },
   "outputs": [],
   "source": [
    "#mit der for-Schleife laesst sich auch ueber die Zeichen in einem String iterieren.\n",
    "l = []\n",
    "for buchstabe in 'Maus':\n",
    "    print(buchstabe)\n",
    "    l.append(10*buchstabe)\n",
    "    print(10*buchstabe)"
   ]
  },
  {
   "cell_type": "code",
   "execution_count": null,
   "metadata": {},
   "outputs": [],
   "source": [
    "l"
   ]
  },
  {
   "cell_type": "markdown",
   "metadata": {},
   "source": [
    "Im Folgenden wird mithilfe einer for-Schleife unter einer gewissen Bedingung ein Dictionary erstellt. Effektiv wird nun im Dicitonary angegeben, wie oft ein Wort in der Wortliste vorkommt. "
   ]
  },
  {
   "cell_type": "code",
   "execution_count": null,
   "metadata": {},
   "outputs": [],
   "source": [
    "alle_woerter = [\"Katze\", \"Katze\", \"Hand\"]\n",
    "\n",
    "wb = {}\n",
    "for wort in alle_woerter:\n",
    "    if wort in wb:\n",
    "        wb[wort] += 1\n",
    "    else:\n",
    "        wb[wort] = 1\n",
    "        \n",
    "print(wb)"
   ]
  },
  {
   "cell_type": "markdown",
   "metadata": {},
   "source": [
    "Wenn wir eine Schleife mit einer leeren Liste definieren, so wird der\n",
    "Schleifenblock nie durchgeführt.\n",
    "\n",
    "Indem wir die das `range`-Objekt (Python 3) aller ganzen Zahlen $n$ mit $a\\leq n<b$\n",
    "verwenden, können wir eine Schleife über diese Zahlen durchführen:\n"
   ]
  },
  {
   "cell_type": "code",
   "execution_count": null,
   "metadata": {},
   "outputs": [],
   "source": [
    "for i in range(10):\n",
    "    print(i, i*i)\n",
    "for i in range(5):\n",
    "    print('__________________')\n",
    "    print(i)\n",
    "    for j in range(4):\n",
    "        print(j)"
   ]
  },
  {
   "cell_type": "code",
   "execution_count": null,
   "metadata": {},
   "outputs": [],
   "source": [
    "for i in range(2,17):\n",
    "    print (i)"
   ]
  },
  {
   "cell_type": "code",
   "execution_count": null,
   "metadata": {},
   "outputs": [],
   "source": [
    "for i in range(17,2,-1):\n",
    "    print(i)"
   ]
  },
  {
   "cell_type": "markdown",
   "metadata": {},
   "source": [
    "### break, continue\n",
    "\n",
    "Wie bei while-Schleifen  gibt es die Möglichkeit, mit `continue` direkt zum nächsten Schleifendurchlauf zu springen und mit `break` die Schleife zu beenden."
   ]
  },
  {
   "cell_type": "code",
   "execution_count": null,
   "metadata": {},
   "outputs": [],
   "source": [
    "# Was ist die Ausgabe dieses Codes?\n",
    "\n",
    "for i in range(100):\n",
    "    if i % 2 == 0:\n",
    "        continue\n",
    "    print(i)\n",
    "    if i % 17 == 0:\n",
    "        break"
   ]
  },
  {
   "cell_type": "markdown",
   "metadata": {},
   "source": [
    "**Aufgabe:** Suchen Sie unter den Zahlen n$\\in$1,..,10000 alle, für die $n^2+1$ durch 17 und $n^2-1$ durch 19 teilbar sind. Verwenden Sie dazu eine for-Schleife. Modifizieren Sie das Programm, so dass es nur die erste dieser Zahlen ausgibt."
   ]
  },
  {
   "cell_type": "code",
   "execution_count": null,
   "metadata": {},
   "outputs": [],
   "source": []
  },
  {
   "cell_type": "markdown",
   "metadata": {},
   "source": [
    "### Beispiel: Einlesen einer Datentabelle in eine Liste\n",
    "\n",
    "Diese Daten sind ein Auszug aus den vom statistischen Bundesamt zur Verfügung gestellten Daten\n",
    "des Mikrozensus 2002 (nur vier von vielen Spalten)."
   ]
  },
  {
   "cell_type": "code",
   "execution_count": null,
   "metadata": {},
   "outputs": [],
   "source": [
    "# Zeige die ersten 20 Zeilen der Datei\n",
    "l = []\n",
    "datei = open(\"algebuei.csv\", \"r\")\n",
    "i = 0\n",
    "for zeile in datei:\n",
    "    i = i+1\n",
    "    print(zeile)\n",
    "    l.append(zeile)\n",
    "    if i == 20:\n",
    "        break\n",
    "datei.close()"
   ]
  },
  {
   "cell_type": "code",
   "execution_count": null,
   "metadata": {},
   "outputs": [],
   "source": [
    "# Lies die ganze Datei\n",
    "raw_input = []\n",
    "datei = open(\"algebuei.csv\", \"r\")\n",
    "for zeile in datei:\n",
    "    raw_input.append(zeile)\n",
    "datei.close()"
   ]
  },
  {
   "cell_type": "code",
   "execution_count": null,
   "metadata": {},
   "outputs": [],
   "source": [
    "print(type(raw_input[0]))"
   ]
  },
  {
   "cell_type": "code",
   "execution_count": null,
   "metadata": {},
   "outputs": [],
   "source": [
    "processed_data = []\n",
    "for index in range(len(raw_input)):\n",
    "    processed_data.append(raw_input[index][:-1].split(\";\"))"
   ]
  },
  {
   "cell_type": "code",
   "execution_count": null,
   "metadata": {},
   "outputs": [],
   "source": [
    "for index in range(20):  #len(processed_data)):\n",
    "    print(processed_data[index][1])"
   ]
  },
  {
   "cell_type": "markdown",
   "metadata": {
    "scrolled": true
   },
   "source": [
    "### Aufgabe zum gemeinsamen Bearbeiten\n",
    "\n",
    "Wie viele Einträge der Tabelle haben das als \"1\" codierte Geschlecht?"
   ]
  },
  {
   "cell_type": "code",
   "execution_count": null,
   "metadata": {},
   "outputs": [],
   "source": []
  },
  {
   "cell_type": "markdown",
   "metadata": {},
   "source": [
    "### Aufgabe\n",
    "\n",
    "Wandeln Sie diese Datei in eine Liste von Listen von Zahlen um.  Anschließend können Sie die Daten untersuchen.  Mittleres Einkommen in Abhängigkeit von Bundesland oder Geschlecht oder Alter?  \n",
    "\n"
   ]
  },
  {
   "cell_type": "code",
   "execution_count": null,
   "metadata": {},
   "outputs": [],
   "source": []
  },
  {
   "cell_type": "markdown",
   "metadata": {},
   "source": [
    "## List comprehensions (bitte beachten: praktisch!)\n",
    "Um aus Listen neue Listen zu definieren gibt es so genannte <span>*list\n",
    "comprehensions*</span>:\n",
    " \n",
    "Abstrakt sieht die Syntax so aus:\n",
    "\n",
    "    neue_liste=[funktion(element) for element in alte_liste if bedingung(element)]\n",
    "    \n",
    "Der Ausdruck ist strukturiert durch `for ... in  ... if`, dabei kann `if` entfallen. "
   ]
  },
  {
   "cell_type": "code",
   "execution_count": null,
   "metadata": {},
   "outputs": [],
   "source": [
    "l1 = [2, 3, 4, 5, 9, 100]\n",
    "\n",
    "l2 = []\n",
    "for x in l1:\n",
    "    if x < 10:\n",
    "        l2.append(x**2)\n",
    "\n",
    "\n",
    "l2 = [a*a for a in l1 if a < 10]\n",
    "\n",
    "print(l2)"
   ]
  },
  {
   "cell_type": "markdown",
   "metadata": {},
   "source": [
    "Die neue Liste besteht also aus den Quadraten $a*a$ aller Listenelemente\n",
    "$a$ von $l1$, die die Bedingung $a<10$ erfüllen.\n",
    "\n",
    "### Aufgabe\n",
    "\n",
    "Stellen Sie mit Hilfe einer  *list comprehension* eine Liste der ungeraden Zahlen kleiner 100 her, die weder durch 3, noch durch 5 teilbar sind."
   ]
  },
  {
   "cell_type": "code",
   "execution_count": null,
   "metadata": {},
   "outputs": [],
   "source": []
  },
  {
   "cell_type": "markdown",
   "metadata": {},
   "source": [
    "------------------------------------------\n",
    "\n",
    " # Generators, Iterators, Iterables\n",
    " "
   ]
  },
  {
   "cell_type": "markdown",
   "metadata": {},
   "source": [
    "## range und list(range(...))\n",
    "\n",
    "Was ist eigentlich  `range(10)` in Python 3? Erst die Funktion `list` macht daraus eine Liste.\n",
    "`range(10)` hat einen besonderen `range`-Datentyp, der ermöglicht, wie mit einer\n",
    "Liste umzugehen, ohne sie tatsächlich speichern zu müssen. Das ist zuweilen\n",
    "sehr nützlich."
   ]
  },
  {
   "cell_type": "code",
   "execution_count": null,
   "metadata": {},
   "outputs": [],
   "source": [
    "l = range(0, 10)"
   ]
  },
  {
   "cell_type": "code",
   "execution_count": null,
   "metadata": {},
   "outputs": [],
   "source": [
    "l"
   ]
  },
  {
   "cell_type": "code",
   "execution_count": null,
   "metadata": {},
   "outputs": [],
   "source": [
    "type(l)"
   ]
  },
  {
   "cell_type": "code",
   "execution_count": null,
   "metadata": {},
   "outputs": [],
   "source": [
    "list(l)"
   ]
  },
  {
   "cell_type": "markdown",
   "metadata": {},
   "source": [
    "\n",
    "\n",
    "**Aufgabe:** Erzeugen Sie eine Liste, die alle durch 13 teilbaren natürlichen Zahlen,\n",
    "die kleiner als 10000 sind, enthält. Sehen Sie sich die ersten 100\n",
    "und die letzten 100 Elemente dieser Liste an."
   ]
  },
  {
   "cell_type": "code",
   "execution_count": null,
   "metadata": {},
   "outputs": [],
   "source": []
  },
  {
   "cell_type": "markdown",
   "metadata": {},
   "source": [
    "Der folgende Ausdruck erzeugt in Python 3 eine Liste im Speicher:"
   ]
  },
  {
   "cell_type": "code",
   "execution_count": null,
   "metadata": {},
   "outputs": [],
   "source": [
    "l = list(range(1000))"
   ]
  },
  {
   "cell_type": "markdown",
   "metadata": {},
   "source": [
    "Daher ist `range(10000000000)` auf den meisten Rechnern sinnlos, da der Speicher so eine Liste nicht aufnehmen kann.\n",
    "Wenn wir aber nur `for i in range(10000000000):` durchführen wollen, brauchen wir die Liste gar nicht, sondern lediglich eine Struktur, die die Listenelemente generieren kann. In Python 3 liefert `range` tatsächlich nur so eine Struktur, in Python 2 leistet das `xrange`.\n",
    "\n",
    "An dieser Stelle werden die Details etwas verwirrend, da es verschiedene Arten von erzeugenden Objekten gibt, über denen eine Python-For-Schleife iterieren kann: **Generatoren, Iteratoren, Iterable**.  Fürs erste müssen wir uns um die Implementierung nicht kümmern, um eine for-Schleife aufschreiben zu können."
   ]
  },
  {
   "cell_type": "code",
   "execution_count": null,
   "metadata": {},
   "outputs": [],
   "source": [
    "for i in range(10000000000):\n",
    "    pass\n",
    "\n",
    "# Kein Problem, dauert aber eine Weile"
   ]
  },
  {
   "cell_type": "markdown",
   "metadata": {},
   "source": [
    "## generator comprehensions statt list comprehensions\n",
    "\n",
    "Wenn wir nun aus einer Liste oder einem Generator eine neue Liste durch `list comprehension` bauen, gilt dasselbe: Wir schreiben möglicherweise den Speicher voll, ohne das zu wollen. Immer, wenn wir nicht die Liste, sondern lediglich den Generator brauchen, sollten wir auch nur einen solchen erzeugen. So geht das:"
   ]
  },
  {
   "cell_type": "code",
   "execution_count": null,
   "metadata": {},
   "outputs": [],
   "source": [
    "odds_1 = [i for i in range(1000) if i%2==1] \n",
    "# erzeugt erst die Liste range(1000), dann die Liste odds_1"
   ]
  },
  {
   "cell_type": "code",
   "execution_count": null,
   "metadata": {},
   "outputs": [],
   "source": [
    "odds_2 = (i for i in range(1000) if i%2==1)\n",
    "# alles mit Generatoren"
   ]
  },
  {
   "cell_type": "markdown",
   "metadata": {},
   "source": [
    "Für Schleifen ist ein Generator ebenso gut wie eine Liste, bzw. besser, weil er weniger Ressourcen verbraucht. Wenn wir allerdings auf einzelne Elemente zugreifen wollen oder etwas die Zahle der Elemente (`len`) wissen wollen, brauchen wir eben doch eine Liste."
   ]
  },
  {
   "cell_type": "code",
   "execution_count": null,
   "metadata": {},
   "outputs": [],
   "source": [
    "len(odds_1)"
   ]
  },
  {
   "cell_type": "code",
   "execution_count": null,
   "metadata": {},
   "outputs": [],
   "source": [
    "odds_1[2]"
   ]
  },
  {
   "cell_type": "code",
   "execution_count": null,
   "metadata": {},
   "outputs": [],
   "source": [
    "len(odds_2)"
   ]
  },
  {
   "cell_type": "code",
   "execution_count": null,
   "metadata": {},
   "outputs": [],
   "source": [
    "odds_2[2]"
   ]
  },
  {
   "cell_type": "markdown",
   "metadata": {},
   "source": [
    "Außer for-Schleifen gibt es noch andere Funktionen, etwa `sum`, `map`, `reduce`, für die alle Elemente gebraucht werden, funktionieren mit Generatoren geradeso gut wie mit Listen.  Zeit- und Speicherverbrauch sind verschieden, im Einzelfall wäre eine Entscheidung zu treffen, welche Struktur  jeweils besser ist."
   ]
  },
  {
   "cell_type": "code",
   "execution_count": null,
   "metadata": {},
   "outputs": [],
   "source": [
    "sum(odds_1)"
   ]
  },
  {
   "cell_type": "code",
   "execution_count": null,
   "metadata": {},
   "outputs": [],
   "source": [
    "sum(odds_2)"
   ]
  },
  {
   "cell_type": "code",
   "execution_count": null,
   "metadata": {},
   "outputs": [],
   "source": [
    "sum(odds_2)"
   ]
  },
  {
   "cell_type": "markdown",
   "metadata": {},
   "source": [
    "Ei, was ist denn da passiert? Beim ersten Mal ergibt sich 250000, beim zweiten 0.\n",
    "\n",
    "Die Antwort ist nicht ganz offensichtlich. Das Generator-Objekt hat eine Methode `next()`, die jeweils das nächste Element liefert.  Wenn alle Elemente ausgegeben wurde, verursacht `next()` einen besonderen Fehler, der als Schleifenende interpretiert wird. **Der Generator ist verbraucht.**\n",
    "\n",
    "**Also:** Generatoren sollten immer nur zur **Einmalverwendung** benutzt werden, also gerade nicht wie im obigen Beispiel.  Es ist selten gut, einen Generator in einer Variable zu speichern, sondern meistens besser, den Generator direkt in einer for-Schleife oder einem anderen Ausdruck, wo er gebraucht wird, zu definieren.\n"
   ]
  },
  {
   "cell_type": "code",
   "execution_count": null,
   "metadata": {},
   "outputs": [],
   "source": [
    "%timeit sum([i for i in range(10000000) if i%2==1]) #mit %timeit wird die Zeit gemessen die der Prozess braucht"
   ]
  },
  {
   "cell_type": "code",
   "execution_count": null,
   "metadata": {},
   "outputs": [],
   "source": [
    "%timeit sum(( i for i in range(10000000) if i%2==1))"
   ]
  },
  {
   "cell_type": "markdown",
   "metadata": {},
   "source": [
    "---------------------------------\n",
    "# Nützliche Generatoren aus anderen 'Iterablen'\n",
    "\n",
    "Besonders nützlich sind eine Reihe von Generatoren, die aus anderen iterierbaren Objekten (Listen, Tupeln, Strings, Generatoren) neue machen.\n",
    "\n",
    "##  1. enumerate\n",
    "\n",
    "Der pythonische Stil von for-Schleifen hat viel für sich. Die for-Schleife iteriert etwa über den Elementen einer Liste, ohne dass man mit deren Indices herumrechnen müsste. Das ist lesbarer und weniger fehlerträchtig.\n",
    "\n",
    "Was aber tun, wenn man zu dem Eintrag in einer Liste auch den Index braucht? Die einfachste Idee wäre, doch über den Indices `range(0,len(l))` zu iterieren und mit dem Index auf die Listenelemente zuzugreifen. Dann aber wird der Code wieder schwerer lesbar und weniger pythonisch. \n",
    "\n",
    "Dafür gibt es `enumerate`. `enumerate(l)` liefert beispielsweise für eine Liste `l` (oder ein anderes iterables Objekt) in jedem Durchlauf ein Tupel `(index, element)`, also etwas `(0,l[0])`, dann `(1,l[1])` etc."
   ]
  },
  {
   "cell_type": "code",
   "execution_count": null,
   "metadata": {},
   "outputs": [],
   "source": [
    "alle_kuchen = ['Apfelkuchen','Streuselkuchen', 'Pflaumenkuchen']\n",
    "\n",
    "for kuchen in alle_kuchen:\n",
    "    print(kuchen)"
   ]
  },
  {
   "cell_type": "code",
   "execution_count": null,
   "metadata": {},
   "outputs": [],
   "source": [
    "for i, kuchen in enumerate(alle_kuchen):\n",
    "    print('%i. %s'%(i+1,kuchen))"
   ]
  },
  {
   "cell_type": "markdown",
   "metadata": {},
   "source": [
    "## 2. zip\n",
    "\n",
    "Eine andere häufige Situation besteht darin, mehrere Listen gleicher Länge zu haben. Ich möchte nun eine\n",
    "Operation mit den ersten Elementen aller Listen, anschließend mit den zweiten, etc. Auch hier wäre eine einfache, aber eher unschöne Lösung, über die Indices zu iterieren und damit auf alle Listen zuzugreifen.\n",
    "\n",
    "`zip(l1,l2,...)` liefert nun für zwei oder mehr Listen einen Generator, der beim ersten Mal das Tupel aller ersten Elemente, beim zweite Mal das Tupel aller zweiten Elemente etc. liefert. "
   ]
  },
  {
   "cell_type": "code",
   "execution_count": null,
   "metadata": {},
   "outputs": [],
   "source": [
    "alle_getraenke = ['Tee', 'Kaffee', 'Wasser']\n",
    "\n",
    "for kuchen, getraenk in zip(alle_kuchen, alle_getraenke):\n",
    "    print(kuchen, ' mit ', getraenk)"
   ]
  },
  {
   "cell_type": "markdown",
   "metadata": {},
   "source": [
    "## 3. Noch mehr davon: itertools\n",
    "\n",
    "In dem Paket der Standardbibliothek `itertools` gibt es noch mehr nützliche Generatoren. \n",
    "Für Python 2 finden Sie die offizielle Dokumentation hier:\n",
    "\n",
    "https://docs.python.org/2/library/itertools.html\n",
    "\n",
    "Viele davon sind nützlich, nur einen will ich an dieser Stelle vorführen `product`. Er produziert einen Generator für das kartesische  Produkt zweier Mengen, also die Menge der Tupel, wobei das erste Element des Tupels aus der ersten Menge und das zweite aus der zweiten stammt."
   ]
  },
  {
   "cell_type": "code",
   "execution_count": null,
   "metadata": {},
   "outputs": [],
   "source": [
    "from itertools import product"
   ]
  },
  {
   "cell_type": "code",
   "execution_count": null,
   "metadata": {},
   "outputs": [],
   "source": [
    "\n",
    "for kuchen, getraenk in product(alle_kuchen,alle_getraenke):\n",
    "    print(kuchen,'mit', getraenk)\n"
   ]
  },
  {
   "cell_type": "markdown",
   "metadata": {},
   "source": [
    "**Aufgabe:** Angenommen, wir haben noch zwei Listen\n",
    "\n",
    "    kuchenpreise = [2,2.5,4]\n",
    "    getraenkepreise = [1.5,2.5,2]\n",
    "    \n",
    "Verwenden Sie zip un eine Liste der Preise der Getränke und eine Liste der Preise der Kuchen auszugeben.\n",
    "Verwenden Sie zip und product, um eine Liste aller Kombinationen mit den Gesamtpreisen auszugeben.\n"
   ]
  },
  {
   "cell_type": "code",
   "execution_count": null,
   "metadata": {},
   "outputs": [],
   "source": [
    "kuchenpreise = [2,2.5,4]\n",
    "getraenkepreise = [1.5,2.5,2]"
   ]
  },
  {
   "cell_type": "code",
   "execution_count": null,
   "metadata": {},
   "outputs": [],
   "source": [
    "for (kpreis, gpreis), (kuchen, getraenk) in zip(product(kuchenpreise, getraenkepreise),product(alle_kuchen,alle_getraenke)):\n",
    "    print(kuchen,'mit', getraenk, ' kostet ', kpreis+gpreis)"
   ]
  },
  {
   "cell_type": "markdown",
   "metadata": {},
   "source": [
    "# Etwas mehr zu Generatoren\n",
    "\n",
    "Ihr könnte auch selbst völlig neue Objekte definieren, die Generatoren sind.  Wer sich dafür interessiert, soll das in der Python-Dokumentation nachlesen.\n",
    "\n",
    "Nur ein Beispiel:"
   ]
  },
  {
   "cell_type": "code",
   "execution_count": null,
   "metadata": {},
   "outputs": [],
   "source": [
    "def ewige_eingabe():\n",
    "    while True:\n",
    "        s = input(\"Bitte geben Sie was ein... (q zum Beenden)! \")\n",
    "        if s=='q':\n",
    "            break\n",
    "        yield s"
   ]
  },
  {
   "cell_type": "code",
   "execution_count": null,
   "metadata": {},
   "outputs": [],
   "source": [
    "for s in ewige_eingabe():\n",
    "    print(\"Sie haben gesagt: \",s) "
   ]
  },
  {
   "cell_type": "markdown",
   "metadata": {
    "collapsed": true
   },
   "source": [
    "## Iterable und Iteratoren\n",
    "\n",
    "Das lässt sich erst richtig nach der Einführung von Klassen erklären.\n",
    "\n",
    "Iterable Objekte haben eine Methode `__iter__`, die eine Iterator liefert. Der Iterator wiederum ist ein spezieller Generator, der nacheinander bei Aufruf der Methode `next` die Elemente des iterablen Objekts liefert.\n",
    "\n",
    "Eine for-Schleife über eine Liste funktioniert intern so. Erst wird ein iterator zur Liste erzeugt, dann solange\n",
    "der Wert von `next()` in die Schleifenvariable geschrieben, bis es die Exception `StopIteration` gibt.\n",
    "\n",
    "Sehen wir uns das mal an:"
   ]
  },
  {
   "cell_type": "code",
   "execution_count": null,
   "metadata": {},
   "outputs": [],
   "source": [
    "l = [2,4,5,7]  # eine Liste"
   ]
  },
  {
   "cell_type": "code",
   "execution_count": null,
   "metadata": {},
   "outputs": [],
   "source": [
    "iterator = l.__iter__()  # ein Iterator zu der Liste"
   ]
  },
  {
   "cell_type": "code",
   "execution_count": null,
   "metadata": {},
   "outputs": [],
   "source": [
    "next(iterator)"
   ]
  },
  {
   "cell_type": "code",
   "execution_count": null,
   "metadata": {},
   "outputs": [],
   "source": [
    "next(iterator)"
   ]
  },
  {
   "cell_type": "code",
   "execution_count": null,
   "metadata": {},
   "outputs": [],
   "source": [
    "next(iterator)"
   ]
  },
  {
   "cell_type": "code",
   "execution_count": null,
   "metadata": {},
   "outputs": [],
   "source": [
    "next(iterator)"
   ]
  },
  {
   "cell_type": "code",
   "execution_count": null,
   "metadata": {},
   "outputs": [],
   "source": [
    "next(iterator)"
   ]
  },
  {
   "cell_type": "code",
   "execution_count": null,
   "metadata": {},
   "outputs": [],
   "source": [
    "type(iterator)"
   ]
  },
  {
   "cell_type": "code",
   "execution_count": null,
   "metadata": {},
   "outputs": [],
   "source": []
  },
  {
   "cell_type": "code",
   "execution_count": null,
   "metadata": {},
   "outputs": [],
   "source": []
  },
  {
   "cell_type": "code",
   "execution_count": null,
   "metadata": {},
   "outputs": [],
   "source": []
  },
  {
   "cell_type": "code",
   "execution_count": null,
   "metadata": {},
   "outputs": [],
   "source": []
  }
 ],
 "metadata": {
  "kernelspec": {
   "display_name": "Python 3",
   "language": "python",
   "name": "python3"
  },
  "language_info": {
   "codemirror_mode": {
    "name": "ipython",
    "version": 3
   },
   "file_extension": ".py",
   "mimetype": "text/x-python",
   "name": "python",
   "nbconvert_exporter": "python",
   "pygments_lexer": "ipython3",
   "version": "3.8.3"
  }
 },
 "nbformat": 4,
 "nbformat_minor": 2
}
