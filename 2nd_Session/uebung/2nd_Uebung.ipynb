{
 "cells": [
  {
   "cell_type": "markdown",
   "metadata": {},
   "source": [
    "**Name:**\n",
    "\n",
    "**Gruppenpartner:**\n",
    "\n",
    "**Hier** ist Platz für **Hinweise von euch!**\n"
   ]
  },
  {
   "cell_type": "markdown",
   "metadata": {},
   "source": [
    "## 2. Übung\n",
    "\n",
    "Listen, Wörterbücher, Mengen,  for-Schleifen\n",
    "\n",
    "Hausaufgabe: Löse mindestens 6 der folgenden Aufgaben. Ihr dürft die Aufgaben in Gruppen bearbeiten. \n",
    "\n",
    "Abgabe im ISIS-Kurs, spätestes Abgabedatum wird dort angegeben, Gruppenpartner bitte bei der Abgabe vermerken.\n"
   ]
  },
  {
   "cell_type": "markdown",
   "metadata": {},
   "source": [
    "### Hinweis zum Plotten\n",
    "\n",
    "In den Aufgaben sollen die Ergebnisse häufig mit `matplotlib.pyplot` visualisiert werden.\n",
    "\n",
    "An dieser Stelle ein kurzer Hinweis zur Verwendung des Moduls:"
   ]
  },
  {
   "cell_type": "code",
   "execution_count": null,
   "metadata": {},
   "outputs": [],
   "source": [
    "# Zunächst erstelle ich einige Listen, die gleich geplottet werden sollen.\n",
    "x_werte = [0, 1, 2, 3, 4, 5]\n",
    "y_werte1 = [0, 0, 2, 2, 4, 4]\n",
    "y_werte2 = [3, 3, 1, 1, 0, 0]\n",
    "\n",
    "import matplotlib.pyplot as plt\n",
    "\n",
    "plt.scatter(x_werte,y_werte1) #erzeugt punkte\n",
    "plt.plot(x_werte,y_werte1) #erzeugt verbindungslinien\n",
    "\n",
    "plt.scatter(x_werte,y_werte2, marker = \"x\") #erzeugt kreuze\n",
    "plt.plot(x_werte,y_werte2) #erzeugt verbindungslinien\n",
    "\n",
    "plt.show()"
   ]
  },
  {
   "cell_type": "markdown",
   "metadata": {},
   "source": [
    "## Einfachere Aufgaben"
   ]
  },
  {
   "cell_type": "markdown",
   "metadata": {},
   "source": [
    "### 1. Sägezahnmuster\n",
    "Schreiben Sie ein Programm, das unter der Verwendung von Schleifen ein \n",
    "Sägezahnmuster wie folgt ausgibt:\n",
    "```\n",
    "*\n",
    "**\n",
    "***\n",
    "****\n",
    "*\n",
    "**\n",
    "***\n",
    "****\n",
    "```\n",
    "Gestalte das Programm so, dass die Länge des Sägezahns durch eine Eingabe festgelegt wird.\n",
    "\n"
   ]
  },
  {
   "cell_type": "markdown",
   "metadata": {},
   "source": [
    "### 2. Schatzsuche\n",
    "Gegeben ist eine Folge von Anweisungen mit Schrittzahlen und Drehungen um 90 Grad nach links oder rechts, z.B. *2 3 L 1 L L 2*. \n",
    "Am Anfang steht man auf der Koordinate $(0, 0)$ mit Blickrichtung und Schrittweite derart, dass ein Schritt einen auf die Koordinate $(0, 1)$ bringt. \n",
    "\n",
    "Schreibe ein Programm, das für eingegebenen Anweisungen die Endkoordinate ausgibt, also etwa für das Beispiel $(1, 5)$.\n"
   ]
  },
  {
   "cell_type": "markdown",
   "metadata": {},
   "source": [
    "### 3. Pascalsches Dreieck\n",
    "\n",
    "Das [Pascal'sche Dreieck](de.wikipedia.org/wiki/Pascalsches_Dreieck) besteht aus den Binominialkoeffizienten $n$ über $k$.\n",
    "\n",
    "So kann man aus der $(n+1)$. Reihe die Koeffizienten für $(a+b)^n$ ablesen, z.B. ist  \n",
    "\n",
    "$(a+b)^4 = 1\\cdot a^4+4\\cdot a^3b +6\\cdot a^2b^2+4\\cdot ab^3+1\\cdot b^4$.\n",
    "\n",
    "Berechnen kann man einen Eintrag einfach als Summe der beiden Elemente links und rechts aus der Reihe über dem Wert (siehe Wikipedia). An den Rändern nimmt man für die fehlende Werte einfach jeweils den Wert 0. \n",
    "\n",
    "Schreibe ein Programm, dass die ersten $n$ Zeilen des Pascalsche Dreiecks ausgibt, wobei $n$ vom Benutzer eingelesen werden soll. Es reicht, wenn das Dreieck linksbündig ausgegeben wird, also so:\n",
    "\n",
    "```\n",
    "1\n",
    "1 1 \n",
    "1 2 1\n",
    "1 3 3 1\n",
    "1 4 6 4 1\n",
    "```"
   ]
  },
  {
   "cell_type": "markdown",
   "metadata": {},
   "source": [
    "### 4. Balkendiagramm 1\n",
    "Schreibe ein Programm, das eine (durch Leerzeichen getrennte) Liste von Zahlen (zwischen 0 und 50)  einliest und daraus ein einfaches Balkendiagramm macht.\n",
    "Dabei soll eine Zahl, die zu $n$ gerundet ist, durch $n$ Sternchen dargestellt werden. \n",
    "\n",
    "Die Eingabe 2 3 5 2 wird zu:\n",
    "```\n",
    "**\n",
    "***\n",
    "*****\n",
    "**\n",
    "```"
   ]
  },
  {
   "cell_type": "markdown",
   "metadata": {},
   "source": [
    "### 5. Balkendiagramm 2\n",
    "\n",
    "Schreibe ein Programm, dass in derselben Weise wie eben eine Liste von Zahlen einliest, dann aber eine Balkengraphik mit Hilfe des Moduls `matplotlib` anzeigt.\n",
    "\n",
    "Dann steht Ihnen die Funktion `plt.bar` zur Verfügung, die in der Dokumentation von `matplotlib` beschrieben wird: http://matplotlib.org/api/pyplot_api.html#matplotlib.pyplot.bar\n",
    "\n",
    "Nach dem Aufruf von `plt.bar(...)` ist die Grafik erzeugt, aber noch unsichtbar. Sichtbar wird sie erst  durch `plt.show()`."
   ]
  },
  {
   "cell_type": "markdown",
   "metadata": {},
   "source": [
    "### 6. Sinus-Funktion plotten\n",
    "\n",
    "Schreibe ein Programm, das die Sinus-Funktion im Bereich von [0, 2pi] zeichnet. Wähle ausreichend Datenpunkte, damit die Funktion glatt dargestellt wird. Benutze die Module `math` und `matplotlib`."
   ]
  },
  {
   "cell_type": "markdown",
   "metadata": {},
   "source": [
    "## Mittelschwere Aufgaben"
   ]
  },
  {
   "cell_type": "markdown",
   "metadata": {},
   "source": [
    "### 7. Vollkommene Zahlen (zählt doppelt)\n",
    "\n",
    "Als **Vollkommene Zahlen** bezeichnet man die Zahlen, die gleich der Summe Ihrer Teiler (ganzzahlig, positiv, ohne die Zahl selbst, aber inklusive der Eins) sind.  \n",
    "\n",
    "Die ersten beiden vollkommenen Zahlen sind $6 = 1 + 2 + 3$ und $28 = 1 + 2 + 4 + 7 + 14$.  \n",
    "\n",
    "Schreibe ein Programm, das die ersten vier (oder mit viel Zeit: fünf) vollkommenen Zahlen ausgibt.\n",
    "\n",
    "**Hinweis:** Für ganze Zahlen $i$ und $n$ teilt $n$ das $i$, wenn mit ganzzahliger Division gilt $(i/n)*n == i$. Eleganter kann\n",
    "man dies auch mit Modulo prüen, ob kein Divisionsrest bleibt: $i \\, \\% \\, n == 0$.\n",
    "\n",
    "**Historische Anmerkung:** Von der ersten vollkommenen Zahl rührt auch die Bezeichnung: Die christlichen Zahlenmystiker sahen die Sechs als vollkommen an, da dies die Zahl der Tage gewesen ist, die Gott zum Erschaffen der Welt benötigt hat."
   ]
  },
  {
   "cell_type": "markdown",
   "metadata": {},
   "source": [
    "### 8. Anagramme\n",
    "Ein Anagramm ist ein Wort oder Satz, der durch Umstellen aller Buchstaben eines anderen Satzes gebildet werden kann. Leerzeichen sowie Unterschiede zwischen Groß- und Kleinschreibung werden ignoriert. \n",
    "\n",
    "Beispiele sind die Paare **Buecher sind Freunde** und **Befreie den Urschund** oder **Chaos** und **Ach so**. \n",
    "\n",
    "Schreibe ein Programm, das prüft ob zwei eingegebene Zeichenkette ein Anagramm von einander bilden. \n"
   ]
  },
  {
   "cell_type": "markdown",
   "metadata": {},
   "source": [
    "### 9. Diskretes Räuber-Beute-Modell\n",
    "\n",
    "Dieses in der mathematischen Biologie betrachtete Modell beschreibt die Entwicklung der Populationsdichte $x$ einer Beutespezies ('Kaninchen') und der Populationsdichte $y$ einer Räuberspezies ('Füchse'). Die Populationen werden nur in gewissen Zeitabständen ermittelt, und das Modell macht auch nur für diese Zeiten Voraussagen. Man sagt, das Modell sei diskret in der Zeit.\n",
    "\n",
    "$x_{n+1} =  ax_n(1-x_n) - bx_ny_n \\qquad y_{n+1} = cx_ny_n \\;. $\n",
    "\n",
    "Schreibe ein Programm, das die Populationen mit den Parametern $a=3.5$, $b=2$, $c=4.05$ und den Anfangswerten\n",
    "$x_0=0.5$ und $y_0=0.4$  hundert Schritte  lang berechnet.\n",
    "\n",
    "Speichere für jeden Schritt den Wert `n`, `x` und `y`. Visualisiere den Verlauf von $x$ über $n$, sowie $y$ über $n$ in einem Plot.\n",
    "\n",
    "Fertigen Sie diesen Plot auch für andere Parameterwerte a,b,c an. Was fällt auf?\n"
   ]
  },
  {
   "cell_type": "markdown",
   "metadata": {},
   "source": [
    "### 10. Quersumme\n",
    "Schreibe ein Programm, das als Eingabe eine (ganze) Dezimalzahl erwartet und die Quersumme ausgibt, diesmal allerdings ohne Verwendung von Schleifen, sondern unter Verwendung der Funktionen `sum` und `map`.\n"
   ]
  },
  {
   "cell_type": "markdown",
   "metadata": {},
   "source": [
    "### 11. Random Walk Fortsetzung\n",
    "Simuliere (ohne Graphik) eine große Zahl $N$ von Irrfahrten, die im Ursprung starten und $M$ Schritte lang verfolgt werden. Bestimmen Sie den mittleren Abstand vom Ursprung nach $k$ Schritten und das mittlere Quadrat des Abstands vom Ursprung nach $k$ Schritten für $k\\in\\{1,\\ldots,M\\}$. \n",
    "\n",
    "Stelle diese Statistiken mit Hilfe von `matplotli` dar.\n",
    "\n",
    "Bestimme die Häufigkeit der ersten Rückkehr zum Ursprung nach $2k$ Schritten für $1\\leq k\\leq M/2$ und stelle diese ebenfalls dar. \n"
   ]
  },
  {
   "cell_type": "markdown",
   "metadata": {},
   "source": [
    "### 12. Zufällige Karte geben\n",
    "\n",
    "Mit `import random` liefert `random.random()` (Pseudo-)Zufallszahlen aus dem Bereich von 0.0 bis 0.999...\n",
    "als `float`.\n",
    "\n",
    "Verwende dies um eine `int`-Zufallszahl von 0 bis 3 (für eine zufällige Spielkartenfarbe) und eine\n",
    "zweite von 0 bis 12 (Spielkartenwert) zu erzeugen. Gebe dann textuell Farbe (Karo, Herz, Pik oder Kreuz) und Wert (As, 2 bis 10, Bube, Dame, König) aus. \n",
    "\n",
    "Hinweis: Verwende für die Umwandlung in den Ausgabetext die Zahl als Index einer Liste von Zeichenketten."
   ]
  },
  {
   "cell_type": "markdown",
   "metadata": {},
   "source": [
    "### 13. Folge und Reihe\n",
    "Gegeben ist die mathematische Folge $a_i = (-1)^i \\frac{1}{i+1}$ für $i \\ge 0$.\n",
    "\n",
    "1. Schreibe ein Programm, das die Folgeglieder von $a_0$ bis $a_n$ ausgibt, wobei als $n$ vom Nutzer eingelesen werden soll.\n",
    "\n",
    "2. Schreibe ein Programm, dass die Reihenglieder von $s_n = \\sum_{j=0}^{n} a_j$ ausgibt. "
   ]
  },
  {
   "cell_type": "markdown",
   "metadata": {},
   "source": [
    "### 14. Häufigkeit von Aminosäuren\n",
    "Lese wie in der 1. Übung die DNA-Sequenz des 'ersten' Proteins von E. Coli in einen String.\n",
    "\n",
    "Je drei Basen ('ein Triplett') definieren eine Aminosäure. Erstelle eine Häufigkeitstabelle der Tripletts.\n",
    "\n",
    "(Das ist noch keine Häufigkeitstabelle für die Aminosäuren, da mehrere Tripletts dieselbe Aminosäure codieren können.)"
   ]
  },
  {
   "cell_type": "markdown",
   "metadata": {},
   "source": [
    "### 15. Wortliste\n",
    "\n",
    "Erstelle eine eine Liste der Wörter aus einem Buch deiner Wahl (in reinem Text-Format). \n",
    "Hilfreich ist hierbei die String-Methode `split`.\n",
    "\n",
    "Schau dir die erzeugte Liste stichprobenweise an - z.B. das 100. - 120. Wort.\n",
    "\n",
    "Zur Erinnerung der Codeschnipsel, der etwa die Buddenbrooks in einen langen String lädt:"
   ]
  },
  {
   "cell_type": "code",
   "execution_count": null,
   "metadata": {},
   "outputs": [],
   "source": [
    "with open(\"buddenbrooks.txt\",\"r\") as file:\n",
    "    text=file.read()\n",
    "\n",
    "print(text)"
   ]
  },
  {
   "cell_type": "markdown",
   "metadata": {},
   "source": [
    "### 16. Worthäufigkeiten\n",
    "Erstelle ein Wörterbuch, das die Worthäufigkeiten in dem von dir gewählten Buch ermittelt.\n",
    "\n",
    "Zusatz: Sortiere die Wörter absteigend nach ihrer Häufigkeit. Schlagen im Internet *Zipf's law* nach und überprüfe dieses an dem gewählten Buch. Zur graphischen Darstellung kannst du `matplotlib` benutzen."
   ]
  },
  {
   "cell_type": "markdown",
   "metadata": {},
   "source": [
    "### 17. Rätsel lösen\n",
    "In dem folgenden Rätsel sind Ziffern durch Buchstaben ersetzt.\n",
    "Schreiben Sie ein Programm, das alle Lösungen ausgibt.\n",
    "\n",
    "```\n",
    " OMA\n",
    "+OPA\n",
    "----\n",
    "PAAR\n",
    "```\n",
    "Wenn Sie noch Lust haben, können Sie zusätzlich die Lösung von\n",
    "```\n",
    " SEND\n",
    "+MORE\n",
    "-----\n",
    "MONEY\n",
    "```\n",
    "suchen. \n",
    "\n",
    "Wenn man davon ausgeht, das die drei Zahlen nicht mit Null beginnen,\n",
    "gibt es für dieses zweite Rätsel eine eindeutige Lösung."
   ]
  },
  {
   "cell_type": "markdown",
   "metadata": {},
   "source": [
    "## (Sehr) schwere Aufgaben"
   ]
  },
  {
   "cell_type": "markdown",
   "metadata": {},
   "source": [
    "### 18. Gini-Index\n",
    "Schreiben Sie ein Programm, das aus einer Liste von Zahlen $x_1,\\ldots, x_n$ den Gini-Index dieser Zahlen berechnet.\n",
    "Der Gini-Index ist ein  Maß für die Abweichung einer Verteilung (bspsw. einer Einkommensverteilung) von der Gleichverteilung, das von internationalen Organisationen als Ungleichheitsindikator verwendet wird.\n",
    "Der Gini-Index lässt sich so berechnen:\n",
    "\n",
    "$ G = \\frac{\\sum_{i=1}^n\\sum_{j=1}^n |x_j-x_i|}{2n\\sum_{i=1}^n x_i} \\; . $\n",
    "\n",
    "Testen Sie, ob $G$ für eine Liste gleicher Zahlen tatsächlich 0 ist. Bestimmen Sie weiterhin den Gini-Index von $\\{1,\\ldots, n\\}$ für $n=100,1000,10000$.\n",
    "\n",
    "Zusatz: Bestimmen Sie die Gini-Indizes des Einkommens im Bundesgebiet und per Bundesland mit Hilfe der Mikrozensusdaten. \n",
    "(Es lohnt sich, die Wikipedia-Seiten zum Gini-Index zu lesen. Wer sich allgemeiner für das Thema, Ungleichheit zu messen, interessiert, findet auf ISIS einen Übersichtsartikel von Atkinson.)\n"
   ]
  },
  {
   "cell_type": "markdown",
   "metadata": {},
   "source": [
    "### 19. Sieb\n",
    "Erzeugen Sie eine Liste aller Primzahlen, die kleiner als eine Million sind, mit dem Sieb des Eratosthenes. \n",
    "\n",
    "(Ein Tip: Verwenden Sie zu dem im Sieb-Algorithmus vorkommenden Durchstreichen ein Numpy-Array und die Ihnen bekannten 'Slicing'-Operationen.) \n",
    "\n",
    "Kleiner Wettbewerb:  Wer schreibt das Programm, das (auf einem Prozessor) am schnellsten läuft?"
   ]
  },
  {
   "cell_type": "markdown",
   "metadata": {},
   "source": [
    "### 20. Datenanalyse 1 (zählt doppelt)\n",
    "\n",
    "Lese die Tabelle der Mikrozensusdaten 2003 ein. \n",
    "\n",
    "Bestimme Median und Mittelwert des Einkommens in Abhängigkeit von Bundesland und Geschlecht.\n",
    "\n",
    "Zeige außerdem Histogramme der Einkommen in Abhängigkeit von Bundesland oder Geschlecht an.\n",
    "\n",
    "Hinweis: Bevor mit der Auswertung der Datem begonnen werden kann, müssen die erst mal ins richtige Format gebracht werden ..."
   ]
  },
  {
   "cell_type": "code",
   "execution_count": null,
   "metadata": {},
   "outputs": [],
   "source": [
    "raw_data = []\n",
    "datei=open(\"algebuei.csv\",\"r\")\n",
    "for zeile in datei:\n",
    "    raw_data.append(zeile)\n",
    "datei.close()\n",
    "\n",
    "zeilen = 5\n",
    "for i in range(zeilen):\n",
    "    print(raw_data[i])"
   ]
  },
  {
   "cell_type": "code",
   "execution_count": null,
   "metadata": {},
   "outputs": [],
   "source": [
    "processed_data = []\n",
    "for index in range(len(raw_data)):\n",
    "    processed_data.append(raw_data[index][:-1].split(\";\"))\n",
    "    \n",
    "for i in range(zeilen):\n",
    "    print(processed_data[i])  #hier stehen immernoch strings..."
   ]
  },
  {
   "cell_type": "markdown",
   "metadata": {},
   "source": [
    "### 21. Datenanalyse 2  (zählt doppelt)\n",
    "`av_temps`  bezeichnet ein Numpy-Array, das die täglichen Durchschnittstemperaturen vom 1.1.1948 bis zum 31.12.2018 enthält. Die direkte Darstellung der Temperaturen zeigt ein Auf-und-Ab, erlaubt aber nicht ohne weiteres, Tendenzen des Klimawandels zu sehen, die unter den Schwankungen unsichtbar werden.\n",
    "\n",
    "Berechne aus dem Array `av_temps` ein neues Array, das für jeden Tag den Mittelwert der mittleren Temperaturen von N Tagen vorher bis N Tagen nacher enthält. Wichtig ist hierbei, sich zu überlegen, wie der Rand behandelt wird, d.h. die ersten und die letzten N Tage des Datensatzes. \n",
    "\n",
    "Schau dir die zugehörigen Plots mit Hilfe der im Notebook definierten Funktion `show_plots` für verschiedene Werte von N an und interpretiere die Resultate.\n",
    "\n",
    "Kommst du noch auf andere Ideen?"
   ]
  },
  {
   "cell_type": "code",
   "execution_count": null,
   "metadata": {},
   "outputs": [],
   "source": [
    "import numpy as np\n",
    "import datetime\n",
    "import matplotlib.pyplot as plt\n",
    "import matplotlib.dates as mdates\n",
    "\n",
    "# Die Funktion how_plot müssen Sie nicht im einzelnen verstehen; sie\n",
    "# können sie zunächst einfach verwenden\n",
    "\n",
    "def show_plot(dates, temps_list, labels_list):\n",
    "    '''Shows the graphs of all the temperature array in temps_list,\n",
    "    labels them with the labels in labels_list. The common x-axis\n",
    "    is given by dates.'''\n",
    "    assert len(temps_list) == len(labels_list)  # es ist erforderlich, dass es\n",
    "    # so viele Labels wie Temperaturarrays gibt.\n",
    "    plt.figure()\n",
    "    for temps, label in zip(temps_list, labels_list):\n",
    "        plt.plot(dates, temps, label=label, alpha=0.7)\n",
    "\n",
    "    plt.gca().xaxis.set_major_locator(mdates.YearLocator())\n",
    "    plt.gca().xaxis.set_major_formatter(mdates.DateFormatter('%m/%d/%Y'))\n",
    "    plt.gcf().autofmt_xdate()\n",
    "    plt.legend(loc=4)\n",
    "    plt.grid()\n",
    "    plt.show()\n",
    "\n",
    "\n",
    "with open(\"produkt_klima_tag_19480101_20181231_00433.txt\", \"r\") as f:\n",
    "    dat = np.genfromtxt(f, names=True, delimiter=';')\n",
    "\n",
    "dates = [datetime.datetime(year=int(str(d)[:4]), month=int(str(d)[4:6]), day=int(\n",
    "    str(d)[6:8])) for d in np.array(dat['MESS_DATUM'], dtype=np.int)]\n",
    "\n",
    "av_temps = dat['TMK']\n",
    "max_temps = dat['TXK']\n",
    "min_temps = dat['TNK']\n",
    "\n",
    "show_plot(dates, [av_temps, max_temps, min_temps], ['av', 'max', 'min'])"
   ]
  },
  {
   "cell_type": "markdown",
   "metadata": {},
   "source": [
    "### 22. Schall (zählt doppelt)\n",
    "\n",
    "Schreibe ein Programm, das als Eingabe einen String mit Tonsymbolen verlangt 'a h c a' und diese hörbar macht. (Über eine Oktave zunächst, komplizierter mit mehreren Oktaven, etc.).\n",
    "\n",
    "Dazu kannst du mit `from schallwerkzeuge import * ` eine Funktion importieren, die das Abspielen eines Klangs \n",
    "erlaubt. Um die Schallwerkzeuge benutzen zu können muss auch noch `numpy` importiert werden. Das Modul benötigt \n",
    "das Modul `pyaudio` - um das zu installieren muss in der Konsole `pip install pyaudio` eingegeben werden - das kann aber auch gerne mal nicht klappen.\n",
    "\n",
    "Ein kleiner Codeschnipsel, der einen Ton erzeugt:"
   ]
  },
  {
   "cell_type": "code",
   "execution_count": null,
   "metadata": {},
   "outputs": [],
   "source": [
    "import numpy as np\n",
    "from schallwerkzeuge import *\n",
    "\n",
    "werte=[np.sin(x/10.) for x in range(40000)]\n",
    "playsnd(np.array(werte),RATE)"
   ]
  },
  {
   "cell_type": "markdown",
   "metadata": {},
   "source": [
    "### 23. 1D-Zellularautomaten mit ASCII-Graphik (zählt dreifach)\n",
    "\n",
    "Stellen dir eine Reihe von Zellen vor, die in einer Linie nebeneinander liegen. Jede Zelle hat einen Zustand, tot oder lebendig. Nun sollen sich die Zustände der Zellen in der Zeit schrittweise verändern, und zwar ist der Zustand abhängig von dem alten Zustand und den Zustand der beiden benachbarten Zellen.\n",
    "\n",
    "Den Zustand von je drei Zellen kann man als eine Zahl von 0 bis 7 auffassen: die Zustände als  0/1-Ziffern der Binärcodierung. Zum Beispiel Tot-Lebendig-Tot entspricht $010_2 = 2$. Eine Regel für den zellulären Automaten deﬁniert nun für jeden Zellenzustand unter Berücksichtigung ihrer Nachbarn einen darauf folgenden Zustand, d.h. es ergibt sich eine Tabelle mit acht Einträgen.\n",
    "\n",
    "| Nachbarschaft | Nachfolger |\n",
    "|---|---|\n",
    "|LLL ($111_2 = 7$)|L (1)|\n",
    "|LLT ($110_2 = 6$)|T (0)|\n",
    "|LTL ($101_2 = 5$)|T (0)|\n",
    "|LTT ($100_2 = 4$)|L (1)|\n",
    "|TLL ($011_2 = 3$)|T (0)|\n",
    "|TLT ($010_2 = 2$)|L (1)|\n",
    "|TTL ($001_2 = 1$)|L (1)|\n",
    "|TTT ($000_2 = 0$)|T (0)|\n",
    "\n",
    "Damit kann man dann die Regel einfach als Folge von acht Bits auffassen, also als Zahl von 0 bis\n",
    "255 (im Beispiel $10010110_2 = 150$).\n",
    "\n",
    "Schreibe ein Programm, das eine Regel als Zahl 0 bis 255 einliest und die Entwicklung der Zellen in der Zeit berechnet. gib für jeden Zeitschritt (Generation) die Zellen in einer Zeile aus, jede Zelle je nach Zustand als anderen Buchstaben. Für die Zellen am Rand ist es am einfachsten, wenn Sie die äußerste linke und rechte Zelle als benachbart ansehen (ein sog.\n",
    "*wraparound* oder auch *periodische Randbedingungen*).\n",
    "\n",
    "Die Anfangspopulation kann zufällig belegt werden. Hierfür bietet sich `random.random()` aus dem Modul `random` an, welches (Pseudo-)Zufallszahlen von 0.0 bis (ausschließlich) 1.0 liefert.\n",
    "\n",
    "Verschiedene Regeln ergeben verschiedene Verläufe https://en.wikipedia.org/wiki/Elementary_cellular_automaton\n",
    "\n",
    "Erklärung in *The Nature of Code* https://natureofcode.com/book/chapter-7-cellular-automata/"
   ]
  },
  {
   "cell_type": "code",
   "execution_count": null,
   "metadata": {},
   "outputs": [],
   "source": []
  }
 ],
 "metadata": {
  "kernelspec": {
   "display_name": "Python 3",
   "language": "python",
   "name": "python3"
  },
  "language_info": {
   "codemirror_mode": {
    "name": "ipython",
    "version": 3
   },
   "file_extension": ".py",
   "mimetype": "text/x-python",
   "name": "python",
   "nbconvert_exporter": "python",
   "pygments_lexer": "ipython3",
   "version": "3.8.3"
  }
 },
 "nbformat": 4,
 "nbformat_minor": 4
}
