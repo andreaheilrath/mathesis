{
 "cells": [
  {
   "cell_type": "markdown",
   "metadata": {},
   "source": [
    "**Name:**\n",
    "\n",
    "**Gruppenpartner:**\n",
    "\n",
    "**Hier** ist Platz für **Hinweise von euch!**\n"
   ]
  },
  {
   "cell_type": "markdown",
   "metadata": {},
   "source": [
    "#### Schere-Stein-Papier\n",
    "\n",
    "Schreiben Sie ein Programm, das gegen einen menschlichen Spieler  Schere-Stein-Papier spielt.  Was würden Sie intuitiv für ein besonders gutes Programm gegen einen Spieler halten, über den nichts bekannt ist, außer, dass er mit gewisser (unbekannter) Wahrscheinlichkeit eines der drei Symbole zeigt, wenn das Ziel ist, möglichst oft zu gewinnen, egal was der menschliche Spieler tut? Können Sie beweisen, dass Sie die optimale Strategie gefunden haben ?\n",
    "\n",
    "Diese einfache Aufgabe lässt sich als Ausgangspunkt für die Spieltheorie verwenden, indem man sie etwas weiter treibt.\n",
    "Was ist  die optimale Strategie, wenn Siege nicht gleichviel zählen, sondern eine Aus- oder Einzahlung stattfindet gemäß der folgenden Matrix ?\n",
    "\n",
    "| A | B | Ausz. an A | Ausz. an B |\n",
    "|---|---|---|---|\n",
    "| Schere | Papier | 2 | -2 |\n",
    "| Papier | Stein | 3 | -3 |\n",
    "| Stein | Schere | 1 | -1 |\n",
    "| Papier | Schere | -2 | 2 |\n",
    "| Stein | Papier | -3 | 3 |\n",
    "| Schere | Stein | -1 | 1 |\n",
    "\n",
    "Zeigen beide das gleiche Symbol, erfolgt keine Auszahlung. Ein hierfür relevantes Stichwort aus der Spieltheorie \n",
    "lautet **beste gemischte Strategie** oder auch **Gleichgewicht gemischter Strategien**.\n",
    "\n",
    "Frage zum Grübeln: Lässt sich die Strategie gegen einen **menschlichen** Spieler, der keine\n",
    "Hilfsmittel benutzt,  verbessern  ?}\n"
   ]
  },
  {
   "cell_type": "markdown",
   "metadata": {},
   "source": [
    "#### Diskretes Räuber-Beute-Modell\n",
    "\n",
    "Dieses in der mathematischen Biologie betrachtete Modell beschreibt die Entwicklung der Populationsdichte $x$ einer Beutespezies ('Kaninchen') und der Populationsdichte $y$ einer Räuberspezies ('Füchse'). Die Populationen werden nur in gewissen Zeitabständen ermittelt, und das Modell macht auch nur für diese Zeiten Voraussagen. Man sagt, das Modell sei diskret in der Zeit.\n",
    "\n",
    "$x_{n+1} =  ax_n(1-x_n) - bx_ny_n \\qquad y_{n+1} = cx_ny_n \\;. $\n",
    "\n",
    "Schreiben Sie ein Programm, dass die Populationen mit den Parametern $a=3.5$, $b=2$, $c=4.05$ und den Anfangswerten\n",
    "$x_0=0.5$ und $y_0=0.4$  hundert Schritte  lang berechnet und dabei $(x,y)$ mit turtle-Graphik visualisiert.\n",
    "\n",
    "Sehen Sie sich die Bilder auch für andere Werte der Parameter an.\n"
   ]
  },
  {
   "cell_type": "code",
   "execution_count": null,
   "metadata": {},
   "outputs": [],
   "source": []
  }
 ],
 "metadata": {
  "kernelspec": {
   "display_name": "Python 3",
   "language": "python",
   "name": "python3"
  },
  "language_info": {
   "codemirror_mode": {
    "name": "ipython",
    "version": 3
   },
   "file_extension": ".py",
   "mimetype": "text/x-python",
   "name": "python",
   "nbconvert_exporter": "python",
   "pygments_lexer": "ipython3",
   "version": "3.8.3"
  }
 },
 "nbformat": 4,
 "nbformat_minor": 4
}
