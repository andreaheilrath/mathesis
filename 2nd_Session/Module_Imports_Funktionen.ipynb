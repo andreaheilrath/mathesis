{
 "cells": [
  {
   "cell_type": "markdown",
   "metadata": {},
   "source": [
    "## Imports\n",
    "\n",
    "Wir haben schon ein paar Module kennen gelernt, z.B. `math` und `random`. Bevor wir diese Module benutzen können, müssen wie sie **importieren**, bisher haben wir das so gemacht:\n",
    "\n",
    "    import math\n",
    "    import random\n",
    "\n",
    "Python kommt mit einer großen Standardbibliothek, in der bereits viele nützliche Module enthalten sind. Darüber hinaus gibt es eine Community, die für die verschiedensten Gebiete weitere externe Module entwickelt und pflegt (Linguistik, Numerik, Astronomie, Spiele,...).\n",
    "\n",
    "Für Imports gibt es **verschiedene Möglichkeiten**. Einige seien hier vorgestellt.\n",
    "\n",
    "    from math import *\n",
    "    \n",
    "Dies ist die einfachste, aber manchmal gefährliche Methode.  Sie bedeutet, dass alle in dem Modul `math` definierten Namen von Variablen, Konstanten, Funktionen, Klassen nun direkt benutzt werden können (z.B. `sin, cos, exp, log, tan,...`). Sie sind jetzt im **Namensraum (name space)** des Programms.  Das heißt aber auch, dass eine vor dem Import definierte Variable durch den Import überschrieben werden kann. \n",
    "\n",
    "Übersichtlicher wird diese Form des Imports, wenn nur bestimmte Objekte importiert werden:\n",
    "\n",
    "    from math import sin, cos\n",
    "    \n",
    "importiert _nur die Funktionen__ `sin` und `cos`.\n",
    "\n",
    "Grundsätzlich **sicherer** ist die folgende Form des Imports:\n",
    "\n",
    "    import math \n",
    "    \n",
    "Danach sind alle Namen nur sozusagen über ihren 'Vornamen' `math` benutzbar, also etwa `math.sin, math.cos. math.exp, math.log,...`.\n",
    "\n",
    "Die dritte Variante erlaubt, einen alternativen ('aka') 'Vornamen' zu verwenden:\n",
    "\n",
    "    import math as m\n",
    "    \n",
    "Danach sind alle Funktionen mit dem alternativen Vornamen erreichbar, also `m.sin, m.cos, m.exp`.\n",
    "\n",
    "Korrekter als von Namen mit einem 'Vornamen' wäre  von Namen in einem  **Namensraum - oder name space** zu sprechen.\n",
    "\n",
    "---------------------------------------\n",
    "### Erste Form des Imports:"
   ]
  },
  {
   "cell_type": "code",
   "execution_count": null,
   "metadata": {},
   "outputs": [],
   "source": [
    "from math import *"
   ]
  },
  {
   "cell_type": "code",
   "execution_count": null,
   "metadata": {},
   "outputs": [],
   "source": [
    "pi, e"
   ]
  },
  {
   "cell_type": "code",
   "execution_count": null,
   "metadata": {},
   "outputs": [],
   "source": [
    "sin(pi)"
   ]
  },
  {
   "cell_type": "code",
   "execution_count": null,
   "metadata": {},
   "outputs": [],
   "source": [
    "# Achtung, man kann die importierten Variablen und Funktionen überschreiben\n",
    "\n",
    "pi = 3"
   ]
  },
  {
   "cell_type": "code",
   "execution_count": null,
   "metadata": {},
   "outputs": [],
   "source": [
    "pi"
   ]
  },
  {
   "cell_type": "markdown",
   "metadata": {},
   "source": [
    "###  Spezifische Importe\n",
    "\n",
    "Durch \n",
    "\n",
    "    from math import sin, pi, acos\n",
    "    \n",
    "werden genau diese Funktionen aus dem Modul math geladen, es besteht aber nicht die Gefahr, aus Versehen etwas zu überschreiben.'"
   ]
  },
  {
   "cell_type": "code",
   "execution_count": null,
   "metadata": {},
   "outputs": [],
   "source": [
    "from math import sin, pi, acos"
   ]
  },
  {
   "cell_type": "markdown",
   "metadata": {},
   "source": [
    "---------------------\n",
    "### 2. Form des Imports"
   ]
  },
  {
   "cell_type": "code",
   "execution_count": null,
   "metadata": {},
   "outputs": [],
   "source": [
    "import math"
   ]
  },
  {
   "cell_type": "code",
   "execution_count": null,
   "metadata": {},
   "outputs": [],
   "source": [
    "math.pi"
   ]
  },
  {
   "cell_type": "code",
   "execution_count": null,
   "metadata": {},
   "outputs": [],
   "source": [
    "math.cos(math.pi)"
   ]
  },
  {
   "cell_type": "markdown",
   "metadata": {},
   "source": [
    "----------------------------------\n",
    "###  3. Form des Imports"
   ]
  },
  {
   "cell_type": "code",
   "execution_count": null,
   "metadata": {},
   "outputs": [],
   "source": [
    "import math as m"
   ]
  },
  {
   "cell_type": "code",
   "execution_count": null,
   "metadata": {},
   "outputs": [],
   "source": [
    "m.cos(23)"
   ]
  },
  {
   "cell_type": "code",
   "execution_count": null,
   "metadata": {},
   "outputs": [],
   "source": [
    "m.e"
   ]
  },
  {
   "cell_type": "code",
   "execution_count": null,
   "metadata": {},
   "outputs": [],
   "source": [
    "import numpy as np #numpy ist eine mächtige Bibliothek für Vektoren und Matrizen"
   ]
  },
  {
   "cell_type": "code",
   "execution_count": null,
   "metadata": {},
   "outputs": [],
   "source": [
    "np.pi-m.pi"
   ]
  },
  {
   "cell_type": "code",
   "execution_count": null,
   "metadata": {},
   "outputs": [],
   "source": [
    "np.sin(np.pi), m.sin(m.pi)"
   ]
  },
  {
   "cell_type": "code",
   "execution_count": null,
   "metadata": {},
   "outputs": [],
   "source": [
    "np.sin(np.pi)-m.sin(m.pi)"
   ]
  },
  {
   "cell_type": "markdown",
   "metadata": {},
   "source": [
    "## Inhalt des Moduls math"
   ]
  },
  {
   "cell_type": "code",
   "execution_count": null,
   "metadata": {},
   "outputs": [],
   "source": [
    "help(math)"
   ]
  },
  {
   "cell_type": "markdown",
   "metadata": {},
   "source": [
    "Durch `help(...)` können sie Informationen über Python-Objekte bekommen (eingebaute Funktionen, importierte Module, Funktionen, Variablen.  Vermeiden Sie es, `help(np)` einzugeben, es kommt zu viel Information in einem ungünstigen Format.\n",
    "\n",
    "Für so umfangreiche Module, ist es viel besser, sich die Online-Dokumentation anzusehen, etwa für Numpy und Scipy:\n",
    "\n",
    "http://docs.scipy.org\n",
    "\n",
    "## Achtung\n",
    "\n",
    "Achten Sie darauf, sich die Dokumentation für die richtige Version des importierten Moduls anzusehen. Die Module werden ständig weiterentwickelt, und manchmal ändern sich die Definitionen. Die Version bekommen Sie so:\n",
    "\n"
   ]
  },
  {
   "cell_type": "code",
   "execution_count": null,
   "metadata": {},
   "outputs": [],
   "source": [
    "import numpy as np\n",
    "np.__version__"
   ]
  },
  {
   "cell_type": "markdown",
   "metadata": {},
   "source": [
    "**Aufgabe: ** Verwenden Sie die Funktionen des Moduls `math`, um herauszubekommen, wieviele Dezimalstellen 2\\*\\*10000 hat. (Zählen taugt nicht so gut, wie Sie sehen werden.)"
   ]
  },
  {
   "cell_type": "markdown",
   "metadata": {},
   "source": [
    "Als kleiner Vorgriff auf später noch wichtige graphische Möglichkeiten ein einfacher x-y-Plot aus zwei gleich langen Listen"
   ]
  },
  {
   "cell_type": "code",
   "execution_count": null,
   "metadata": {},
   "outputs": [],
   "source": [
    "import math\n",
    "import matplotlib.pyplot as plt\n",
    "%matplotlib notebook\n",
    "# %matplotlib inline gibt ins Notebook integrierte Pixelgraphik\n",
    "# %matplotlib notebook gibt ins Notebook integrierte Graphik mit Zoom-Möglichkeit\n",
    "# %matplotlib qt gibt eigenes Fenster mit Zoom-Möglichkeit\n",
    "\n",
    "plt.rcParams['figure.figsize'] = 10,8\n",
    "\n",
    "listx = list(range(100))\n",
    "listy = list(map(math.sin, listx))\n",
    "\n",
    "plt.figure()\n",
    "plt.plot(listx, listy)\n",
    "plt.show()"
   ]
  },
  {
   "cell_type": "markdown",
   "metadata": {},
   "source": [
    "**Aufgabe:**  Wandeln Sie den obigen Code ab, so dass der Graph der Sinus-Funktion zwischen 0 und $2\\pi$ einigermaßen glatt gezeichnet wird. (Hinweis: Die Liste `listx` sollte viele äquidistante Werte zwischen 0 und $2\\pi$ enthalten."
   ]
  },
  {
   "cell_type": "markdown",
   "metadata": {},
   "source": [
    "Vektoren, Matrizen\n",
    "------------------\n",
    "\n",
    "Für numerische Berechnungen werden wir meistens die Module\n",
    "<span>**numpy**</span> (Numerical Python) und <span>**scipy**</span>\n",
    "(Scientific Python) benutzen, die uns ermöglichen, Matrizen, Vektoren,\n",
    "Tensoren als so genannte Arrays zu definieren:\n",
    "\n",
    "    >>>import numpy as np\n",
    "    >>>A=np.zeros([2,3])\n",
    "    >>>A\n",
    "    array([[0.,0.,0.],[0.,0.,0.]])\n",
    "    >>>B=np.array([[1,2,3],[4,5,6]])\n",
    "    >>>v=np.array([1,4,2.3])\n",
    "    >>>\n",
    "\n",
    "`A` ist dann eine $2\\times 3$-Matrix, die Nullen (als Fließkommazahlen)\n",
    "enthält, `B` ist eine solche Matrix, die in der ersten Zeile $1,2,3$,\n",
    "sowie in der zweiten $4,5,6$ enthält. `v` ist ein Vektor, dessen 3\n",
    "Einträge 1.0, 4.0 und 2.3 sind.\n",
    "\n",
    "\n"
   ]
  },
  {
   "cell_type": "code",
   "execution_count": null,
   "metadata": {},
   "outputs": [],
   "source": [
    "import numpy as np\n",
    "import scipy as sp\n",
    "A = np.array([[1, 2], [3, 4]])\n",
    "b = np.array([[5], [5]])"
   ]
  },
  {
   "cell_type": "code",
   "execution_count": null,
   "metadata": {},
   "outputs": [],
   "source": [
    "A"
   ]
  },
  {
   "cell_type": "code",
   "execution_count": null,
   "metadata": {},
   "outputs": [],
   "source": [
    "b"
   ]
  },
  {
   "cell_type": "code",
   "execution_count": null,
   "metadata": {},
   "outputs": [],
   "source": [
    "np.array([[5, 5]])"
   ]
  },
  {
   "cell_type": "code",
   "execution_count": null,
   "metadata": {},
   "outputs": [],
   "source": [
    "A.shape"
   ]
  },
  {
   "cell_type": "code",
   "execution_count": null,
   "metadata": {},
   "outputs": [],
   "source": [
    "b.shape[0]"
   ]
  },
  {
   "cell_type": "code",
   "execution_count": null,
   "metadata": {},
   "outputs": [],
   "source": [
    "A.dot(b)"
   ]
  },
  {
   "cell_type": "code",
   "execution_count": null,
   "metadata": {},
   "outputs": [],
   "source": [
    "np.linalg.solve(A, b)"
   ]
  },
  {
   "cell_type": "markdown",
   "metadata": {},
   "source": [
    "\n",
    "An dieser Stelle scheint es angebracht, ein weiteres Beispiel dafür zu geben, wie\n",
    "man Daten graphisch darstellt. Wir können N verschiedene x-Werte in\n",
    "einem Numpy-Vektor `x` speichern, die zugehörigen y-Werte in einem\n",
    "Numpy-Vektor `y`. Das Modul `matplotlib` stellt eine Methode zur\n",
    "Verfügung, mit der man die zugehörigen Punkte in einem Koordinatensystem\n",
    "plotten kann. Sehen Sie sich das folgende Beispiel an:"
   ]
  },
  {
   "cell_type": "markdown",
   "metadata": {},
   "source": [
    "## Vorweg etwas über Funktionen\n",
    "\n",
    "Da wir nun langsam in etwas komplexere Gefilde eintreten und viele \"fremde\" Funktionen benutzen, hier vorab schon ein paar Hinweise zur Struktur von Funktionen.\n",
    "\n",
    "Funktionen ermöglichen, Code, der mehrfach ausgeführt werden soll, auch an verschiedenen\n",
    "Stellen des Programms, übersichtlich zu verpacken.\n",
    "\n",
    "Wie eine  **Funktion** in Python deklariert wird, sei an zwei Beispielen gezeigt.\n",
    "\n",
    "    def funktionsname( .... ):    # durch Komma getrennte Argumente, u.U. auch kein Argument\n",
    "        ..........\n",
    "        ..........          # Block der Funktion\n",
    "        ..........\n",
    "        return ...          # Werte, die die Funktion zurückgibt, kann entfallen"
   ]
  },
  {
   "cell_type": "code",
   "execution_count": null,
   "metadata": {},
   "outputs": [],
   "source": [
    "def flaeche(a, b):\n",
    "    return a*b                  # diese Funktione gibt einen Wert zurücl\n",
    "\n",
    "\n",
    "def ruehme(s):\n",
    "    print(s + \" sei gelobt!\")    # diese Funktion \"tut nur etwas\"\n",
    "\n",
    "\n",
    "def fluche():                 # diese Funktion hat kein Argument\n",
    "    print(\"*x!####!\")"
   ]
  },
  {
   "cell_type": "code",
   "execution_count": null,
   "metadata": {},
   "outputs": [],
   "source": [
    "print(flaeche(2, 3))"
   ]
  },
  {
   "cell_type": "code",
   "execution_count": null,
   "metadata": {},
   "outputs": [],
   "source": [
    "ruehme(\"Die Maus\")"
   ]
  },
  {
   "cell_type": "code",
   "execution_count": null,
   "metadata": {},
   "outputs": [],
   "source": [
    "fluche()"
   ]
  },
  {
   "cell_type": "markdown",
   "metadata": {},
   "source": [
    "## Ein Beispiel aus dem Labor\n",
    "\n",
    "Versucht, die Simulation, die die Wahrscheinlichkeit, mit der zwei Fliegen auf einem 1x1 Papier im Abstand >=1 landen, in kleine Funktionen zu zerlegen:\n",
    "\n",
    "    fliege_zufaellig()\n",
    "\n",
    "    Soll die Koordinaten einer Fliege, die landet, zufällig ermitteln,\n",
    "    gibt das Tupel p=(x,y) zurück)\n",
    "   \n",
    "    berechne_abstand(p1,p2)\n",
    "   \n",
    "    Berechnet den euklidischen Abstand zwischen zwei Koordinatentupeln.\n",
    "   \n",
    "    simuliere_ein_paar()\n",
    "   \n",
    "    Lässt zwei Fliegen zufällig landen, berechnet den Abstand und gibt\n",
    "    den Wert True zurück, falls der Abstand größer 1 ist, sonst 0.\n",
    "   \n",
    "    simuliere(N)\n",
    "   \n",
    "    Führt die Simulation simuliere_ein_paar N mal durch und berechne\n",
    "    daraus die relative Häufigkeit des Ereignisses 'Abstand >1' als\n",
    "    Näherung für die Wahrscheinlichkeit dieses Ereignisses. Gib diesen\n",
    "    Wert zurück.\n",
    "   \n",
    "\n",
    "Das darauf beruhende Programm ist vielleicht ein bisschen langsamer als einer Implementierung ohne Funktionen, aber sie ist gut lesbar und leicht modifizierbar. Zum Beispiel könnt ihr ausrechnen, wie die Antwort lautet, wenn ihr in `berechne_abstand` etwa die \"Manhattan-Distanz\" ($l^1$) statt des euklidischen Abstands verwendet. Oder aber, ihr ersetzt `simuliere_ein_paar` durch eine Funktion, die ein anderes Ereignis überprüft, z.B. dass bei drei Fliegen die Summer der paarweisen Abstände über einem gewissen Wert liegt oder oder...\n",
    "   "
   ]
  },
  {
   "cell_type": "markdown",
   "metadata": {},
   "source": [
    "### Noch eine Aufgabe mit echten Daten\n",
    "\n",
    "Diesmal lesen wir eine Tabelle mit Messdaten der Messstation Tempelhof, die für jeden Tag von 1948 bis 2018 mittlere Temperatur, Maximaltemperatur, Minimaltemperatur und einiges andere enthält (erhalten vom Deutschen Wetterdienst DWD).\n",
    "\n",
    "Betrachtet zunächst das große Diagramm (aus dem sich Teile durch Zoomen genauer untersuchen lassen):\n"
   ]
  },
  {
   "cell_type": "code",
   "execution_count": null,
   "metadata": {
    "code_folding": []
   },
   "outputs": [],
   "source": [
    "import numpy as np\n",
    "import datetime\n",
    "import matplotlib.pyplot as plt\n",
    "import matplotlib.dates as mdates\n",
    "\n",
    "\n",
    "# Die Funktion how_plot müssen Sie nicht im einzelnen verstehen; sie\n",
    "# können sie zunächst einfach verwenden\n",
    "\n",
    "def show_plot(dates, temps_list, labels_list):\n",
    "    '''Shows the graphs of all the temperature array in temps_list,\n",
    "    labels them with the labels in labels_list. The common x-axis\n",
    "    is given by dates.'''\n",
    "    assert len(temps_list) == len(labels_list)  # es ist erforderlich, dass es\n",
    "    # so viele Labels wie Temperaturarrays gibt.\n",
    "    plt.figure()\n",
    "    for temps, label in zip(temps_list, labels_list):\n",
    "        plt.plot(dates, temps, label=label, alpha=0.7)\n",
    "\n",
    "    plt.gca().xaxis.set_major_locator(mdates.YearLocator())\n",
    "    plt.gca().xaxis.set_major_formatter(mdates.DateFormatter('%m/%d/%Y'))\n",
    "    plt.gcf().autofmt_xdate()\n",
    "    plt.legend(loc=4)\n",
    "    plt.grid()\n",
    "    plt.show()\n",
    "\n",
    "\n",
    "with open(\"produkt_klima_tag_19480101_20181231_00433.txt\", \"r\") as f:\n",
    "    dat = np.genfromtxt(f, names=True, delimiter=';')\n",
    "\n",
    "dates = [datetime.datetime(year=int(str(d)[:4]), month=int(str(d)[4:6]), day=int(\n",
    "    str(d)[6:8])) for d in np.array(dat['MESS_DATUM'], dtype=np.int)]\n",
    "\n",
    "av_temps = dat['TMK']\n",
    "max_temps = dat['TXK']\n",
    "min_temps = dat['TNK']\n",
    "\n",
    "show_plot(dates, [av_temps, max_temps, min_temps], ['av', 'max', 'min'])"
   ]
  },
  {
   "cell_type": "markdown",
   "metadata": {},
   "source": [
    "**Die Aufgabe:**  Die Trends sind in dieser Graphik unter den vielen Schwankungen verborgen.  \n",
    "    Berechnen Sie aus dem Array der über den Tag gemittelten Temperaturen `av_temps` ein neues Array, \n",
    "    das für jeden Tag den Mittelwert der mittleren Temperaturen von N Tagen vorher bis N Tagen nacher enthält.  Sie müssen sich dabei überlegen, wie sie den Rand behandeln, d.h. die ersten und die letzten N Tage des Datensatzes.\n",
    "    Sehen Sie sich die zugehörigen Plots mit Hilfe der oben definierten Funktion `show_plots` für verschiedene Werte von N an und interpretieren Sie die Resultate.\n",
    "    \n",
    "Kommen Sie noch auf andere Ideen?"
   ]
  },
  {
   "cell_type": "code",
   "execution_count": null,
   "metadata": {},
   "outputs": [],
   "source": [
    "from matplotlib import pyplot as plt\n",
    "import numpy as np\n",
    "\n",
    "\n",
    "def plotfunction(f, x0, x1):\n",
    "    x = np.linspace(x0, x1, 1000)\n",
    "    y = f(x)\n",
    "    plt.figure()\n",
    "    plt.plot(x, y)\n",
    "    plt.show()\n",
    "\n",
    "\n",
    "plotfunction(np.sin, -10, 10)\n",
    "plotfunction(np.cos, -10, 10)\n",
    "plotfunction(np.arctan, -100, 100)"
   ]
  },
  {
   "cell_type": "markdown",
   "metadata": {
    "collapsed": true
   },
   "source": [
    "## Schall\n",
    "\n",
    "Wer mit Daten von Tonaufnahmen umgehen will, könnte das interessant finden."
   ]
  },
  {
   "cell_type": "code",
   "execution_count": null,
   "metadata": {},
   "outputs": [],
   "source": [
    "from schallwerkzeuge import *"
   ]
  },
  {
   "cell_type": "code",
   "execution_count": null,
   "metadata": {},
   "outputs": [],
   "source": [
    "help(recordsnd)"
   ]
  },
  {
   "cell_type": "code",
   "execution_count": null,
   "metadata": {},
   "outputs": [],
   "source": [
    "y = recordsnd(None, 2)"
   ]
  },
  {
   "cell_type": "code",
   "execution_count": null,
   "metadata": {},
   "outputs": [],
   "source": [
    "y.shape"
   ]
  },
  {
   "cell_type": "code",
   "execution_count": null,
   "metadata": {},
   "outputs": [],
   "source": []
  },
  {
   "cell_type": "code",
   "execution_count": null,
   "metadata": {},
   "outputs": [],
   "source": [
    "%matplotlib notebook\n",
    "import matplotlib.pyplot as plt"
   ]
  },
  {
   "cell_type": "code",
   "execution_count": null,
   "metadata": {},
   "outputs": [],
   "source": [
    "plt.plot(y)\n",
    "plt.show()"
   ]
  },
  {
   "cell_type": "code",
   "execution_count": null,
   "metadata": {},
   "outputs": [],
   "source": [
    "help(playsnd)"
   ]
  },
  {
   "cell_type": "code",
   "execution_count": null,
   "metadata": {},
   "outputs": [],
   "source": [
    "playsnd(y, RATE)"
   ]
  },
  {
   "cell_type": "code",
   "execution_count": null,
   "metadata": {},
   "outputs": [],
   "source": [
    "playsnd(y, 2*RATE)"
   ]
  },
  {
   "cell_type": "markdown",
   "metadata": {
    "collapsed": true
   },
   "source": [
    "### Aufgabe\n",
    "\n",
    "Erzeugen Sie einen numpy-Vektor von reellen Zahlen, das beim Abspielen mit playsnd(...)\n",
    "    einen Kammerton (a, 440 Hz) ergibt. "
   ]
  },
  {
   "cell_type": "code",
   "execution_count": null,
   "metadata": {},
   "outputs": [],
   "source": []
  },
  {
   "cell_type": "code",
   "execution_count": null,
   "metadata": {},
   "outputs": [],
   "source": []
  }
 ],
 "metadata": {
  "kernelspec": {
   "display_name": "Python 3",
   "language": "python",
   "name": "python3"
  },
  "language_info": {
   "codemirror_mode": {
    "name": "ipython",
    "version": 3
   },
   "file_extension": ".py",
   "mimetype": "text/x-python",
   "name": "python",
   "nbconvert_exporter": "python",
   "pygments_lexer": "ipython3",
   "version": "3.8.2"
  }
 },
 "nbformat": 4,
 "nbformat_minor": 2
}
