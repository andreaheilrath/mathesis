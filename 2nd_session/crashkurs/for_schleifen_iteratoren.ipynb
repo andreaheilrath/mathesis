{
 "cells": [
  {
   "cell_type": "markdown",
   "metadata": {},
   "source": [
    "# for - Schleifen\n",
    "\n",
    "Häufig ist es nötig, mit allen Einträgen einer Liste oder eines Vektors eine Operation vorzunehmen. Dafür sind so genannte `for`-Schleifen geeignet. \n",
    "\n",
    "Ist `liste` eine Liste, so führt\n",
    "\n",
    "    for x in liste:\n",
    "        ....\n",
    "        ....\n",
    "        ....\n",
    "\n",
    "eine Schleife über alle Elemente `x` der Liste `liste` aus.\n",
    "\n",
    "Ein Beispiel mit der Liste `kohl` vom letzten Notebook, zusammen mit der Ausgabe, die es hervorbringt:"
   ]
  },
  {
   "cell_type": "code",
   "execution_count": null,
   "metadata": {},
   "outputs": [],
   "source": [
    "kohl = ['Weißkohl', 'Rotkohl', 'Wirsing']\n",
    "\n",
    "for sorte in kohl:\n",
    "    print(sorte + \" ist wohlschmeckend und gesund\")"
   ]
  },
  {
   "cell_type": "code",
   "execution_count": null,
   "metadata": {},
   "outputs": [],
   "source": [
    "sorte"
   ]
  },
  {
   "cell_type": "code",
   "execution_count": null,
   "metadata": {},
   "outputs": [],
   "source": [
    "del(sorte) #damit lässt sich die variable sorte löschen"
   ]
  },
  {
   "cell_type": "code",
   "execution_count": null,
   "metadata": {},
   "outputs": [],
   "source": [
    "sorte"
   ]
  },
  {
   "cell_type": "markdown",
   "metadata": {},
   "source": [
    "### Worüber kann man eine  for-Schleife durchführen ?\n",
    "\n",
    "Über Listen, Tupel, Strings (als Ketten von Zeichen) und noch einige andere. Der Idee nach taugt alles, was man durchzählen kann. \n",
    "\n",
    "In Python ist das dadurch gegeben, dass das Objekt einen Zufgriff auf Elemente durch ihren Index (`[...]`) erlaubt oder einen **Iterator** zur Verfügung stellt. Dabei handelt es sich um ein Objekt, das jeweils das nächste Element in der Aufzählung liefert und weiß, wann es fertig ist."
   ]
  },
  {
   "cell_type": "code",
   "execution_count": null,
   "metadata": {},
   "outputs": [],
   "source": [
    "for a in (1, 2, 4, 8):  #hier wird \"in place\" ein Tupel definiert durch den dann iteriert wird\n",
    "    print(2**a)"
   ]
  },
  {
   "cell_type": "code",
   "execution_count": null,
   "metadata": {
    "scrolled": true
   },
   "outputs": [],
   "source": [
    "#mit der for-Schleife lässt sich auch über die Zeichen in einem String iterieren.\n",
    "l = []\n",
    "for buchstabe in 'Maus':\n",
    "    print(buchstabe)\n",
    "    l.append(10*buchstabe) #hier wird 10*buchstabe an die Liste l angefügt"
   ]
  },
  {
   "cell_type": "code",
   "execution_count": null,
   "metadata": {},
   "outputs": [],
   "source": [
    "l"
   ]
  },
  {
   "cell_type": "markdown",
   "metadata": {},
   "source": [
    "### range( ) und typische for-Schleifen\n",
    "\n",
    "Eine typische Form der for-Schleife zählt durch. Das lässt sich besonders einfach mit `range` bewerkstelligen."
   ]
  },
  {
   "cell_type": "code",
   "execution_count": null,
   "metadata": {},
   "outputs": [],
   "source": [
    "for index in range(4):\n",
    "    print(index, \"ter Durchlauf\")"
   ]
  },
  {
   "cell_type": "markdown",
   "metadata": {},
   "source": [
    "`range` ist ein Objekt in Python, das \"auf Anfrage\" Elemente zurückgibt."
   ]
  },
  {
   "cell_type": "code",
   "execution_count": null,
   "metadata": {},
   "outputs": [],
   "source": [
    "print(range(0,3))\n",
    "print(list(range(0,3))) #erst durch die Umwandlung in eine Liste werden die expliziten Einträge erzeugt"
   ]
  },
  {
   "cell_type": "code",
   "execution_count": null,
   "metadata": {},
   "outputs": [],
   "source": [
    "type(range(0,3)) #das range-Objekt hat einen eigenen Datentyp"
   ]
  },
  {
   "cell_type": "markdown",
   "metadata": {},
   "source": [
    "Durch `list(range(a,b))`wird die Liste aller ganzen Zahlen $i$ mit $a\\leq i <b$ erzeugt, also wird etwa durch `list(range(0,10))` die Liste `[0,1,2,3,4,5,6,7,8,9]` erzeugt. \n",
    "\n",
    "Für eine `for`-Schleife ist es jedoch nicht nötig `range` in eine Liste umzuwandeln. Hier noch einige Beispiele."
   ]
  },
  {
   "cell_type": "code",
   "execution_count": null,
   "metadata": {},
   "outputs": [],
   "source": [
    "for i in range(0, 3):\n",
    "    print(i, i*i)"
   ]
  },
  {
   "cell_type": "code",
   "execution_count": null,
   "metadata": {},
   "outputs": [],
   "source": [
    "for i in range(3):\n",
    "    print('__________________')\n",
    "    print(\"Wert von i\", i)\n",
    "    for j in range(3):\n",
    "        print(\"Wert von j\", j)"
   ]
  },
  {
   "cell_type": "code",
   "execution_count": null,
   "metadata": {},
   "outputs": [],
   "source": [
    "for i in range(8,12):\n",
    "    print (i)"
   ]
  },
  {
   "cell_type": "code",
   "execution_count": null,
   "metadata": {
    "scrolled": true
   },
   "outputs": [],
   "source": [
    "for i in range(17,12,-1):\n",
    "    print(i)"
   ]
  },
  {
   "cell_type": "markdown",
   "metadata": {},
   "source": [
    "Der große Vorteil von `range` im vergleich zu einer Liste, ist dass es weniger Speicher und insbesondere auch weniger Zeit benötigt!"
   ]
  },
  {
   "cell_type": "code",
   "execution_count": null,
   "metadata": {},
   "outputs": [],
   "source": [
    "%timeit for i in range(0,100): pass"
   ]
  },
  {
   "cell_type": "code",
   "execution_count": null,
   "metadata": {},
   "outputs": [],
   "source": [
    "%timeit for i in list(range(0,100)): pass"
   ]
  },
  {
   "cell_type": "markdown",
   "metadata": {},
   "source": [
    "### Praktische Beispiele"
   ]
  },
  {
   "cell_type": "markdown",
   "metadata": {},
   "source": [
    "Hier wird die for-Schleife mit einer if-Abfrage kombiniert."
   ]
  },
  {
   "cell_type": "code",
   "execution_count": null,
   "metadata": {},
   "outputs": [],
   "source": [
    "for x in [1, 2.323, 1+1j, 'Katze']:\n",
    "    if isinstance(x, complex):\n",
    "        print(x, \"gehört zum Datentyp 'complex'\")\n",
    "    elif isinstance(x, int):\n",
    "        print(x, \"gehört zum Datentyp 'int'\")\n",
    "    else: print(x, \"ist weder 'complex' noch 'int'\")"
   ]
  },
  {
   "cell_type": "markdown",
   "metadata": {},
   "source": [
    "Im Folgenden wird mithilfe einer for-Schleife unter einer gewissen Bedingung ein Dictionary erstellt. Effektiv wird nun im Dicitonary angegeben, wie oft ein Wort in der Wortliste vorkommt. "
   ]
  },
  {
   "cell_type": "code",
   "execution_count": null,
   "metadata": {},
   "outputs": [],
   "source": [
    "alle_woerter = [\"Katze\", \"Katze\", \"Hund\",  \"Katze\",  \"Katze\",  \"Maus\",   \"Hund\",]\n",
    "\n",
    "wb = {}\n",
    "for wort in alle_woerter:\n",
    "    if wort in wb:\n",
    "        wb[wort] += 1\n",
    "    else:\n",
    "        wb[wort] = 1\n",
    "        \n",
    "print(wb)"
   ]
  },
  {
   "cell_type": "markdown",
   "metadata": {},
   "source": [
    "### break, continue\n",
    "\n",
    "Wie bei while-Schleifen  gibt es die Möglichkeit, mit `continue` direkt zum nächsten Schleifendurchlauf zu springen und mit `break` die Schleife zu beenden."
   ]
  },
  {
   "cell_type": "code",
   "execution_count": null,
   "metadata": {},
   "outputs": [],
   "source": [
    "for i in range(100):\n",
    "    if i % 2 == 0:\n",
    "        continue\n",
    "    print(i)\n",
    "    if i % 17 == 0:\n",
    "        break"
   ]
  },
  {
   "cell_type": "markdown",
   "metadata": {},
   "source": [
    "### Nützliche Funktionen (= Generatoren ) für for-Schleifen (optional)\n",
    "\n",
    "Besonders nützlich sind eine Reihe von Generatoren, die aus anderen iterierbaren Objekten (Listen, Tupeln, Strings, Generatoren) neue machen.\n",
    "\n",
    "####  1. enumerate\n",
    "\n",
    "Der pythonische Stil von for-Schleifen hat viel für sich. Die for-Schleife iteriert etwa über den Elementen einer Liste, ohne dass man mit deren Indices herumrechnen müsste. Das ist lesbarer und weniger fehlerträchtig.\n",
    "\n",
    "Was aber tun, wenn man zu dem Eintrag in einer Liste auch den Index braucht? Die einfachste Idee wäre, doch über den Indices `range(0,len(l))` zu iterieren und mit dem Index auf die Listenelemente zuzugreifen. Dann aber wird der Code wieder schwerer lesbar und weniger pythonisch. Dafür gibt es `enumerate`. \n",
    "\n",
    "`enumerate(l)` liefert beispielsweise für eine Liste `l` (oder ein anderes iterables Objekt) in jedem Durchlauf ein Tupel `(index, element)`, also etwas `(0,l[0])`, dann `(1,l[1])` etc."
   ]
  },
  {
   "cell_type": "code",
   "execution_count": null,
   "metadata": {},
   "outputs": [],
   "source": [
    "alle_kuchen = ['Apfelkuchen','Streuselkuchen', 'Pflaumenkuchen']\n",
    "\n",
    "for kuchen in alle_kuchen:\n",
    "    print(kuchen)"
   ]
  },
  {
   "cell_type": "code",
   "execution_count": null,
   "metadata": {},
   "outputs": [],
   "source": [
    "for i, kuchen in enumerate(alle_kuchen):\n",
    "    print('%i. %s'%(i+1,kuchen))"
   ]
  },
  {
   "cell_type": "markdown",
   "metadata": {},
   "source": [
    "#### 2. zip\n",
    "\n",
    "Eine andere häufige Situation besteht darin, mehrere Listen gleicher Länge zu haben. Ich möchte nun eine\n",
    "Operation mit den ersten Elementen aller Listen, anschließend mit den zweiten, etc. Auch hier wäre eine einfache, aber eher unschöne Lösung, über die Indices zu iterieren und damit auf alle Listen zuzugreifen.\n",
    "\n",
    "`zip(l1,l2,...)` liefert nun für zwei oder mehr Listen einen Generator, der beim ersten Mal das Tupel aller ersten Elemente, beim zweite Mal das Tupel aller zweiten Elemente etc. liefert. "
   ]
  },
  {
   "cell_type": "code",
   "execution_count": null,
   "metadata": {},
   "outputs": [],
   "source": [
    "alle_getraenke = ['Tee', 'Kaffee', 'Wasser']\n",
    "\n",
    "for kuchen, getraenk in zip(alle_kuchen, alle_getraenke):\n",
    "    print(kuchen, ' mit ', getraenk)"
   ]
  },
  {
   "cell_type": "markdown",
   "metadata": {},
   "source": [
    "#### 3. Noch mehr davon: itertools\n",
    "\n",
    "In dem Paket der Standardbibliothek `itertools` gibt es noch mehr nützliche Generatoren. \n",
    "Für Python 2 finden Sie die offizielle Dokumentation hier:\n",
    "\n",
    "https://docs.python.org/2/library/itertools.html\n",
    "\n",
    "Viele davon sind nützlich, nur eine soll an dieser Stelle vorgeführt werden: `product`. \n",
    "\n",
    "Er produziert einen Generator für das kartesische  Produkt zweier Mengen, also die Menge der Tupel, wobei das erste Element des Tupels aus der ersten Menge und das zweite aus der zweiten stammt."
   ]
  },
  {
   "cell_type": "code",
   "execution_count": null,
   "metadata": {},
   "outputs": [],
   "source": [
    "from itertools import product"
   ]
  },
  {
   "cell_type": "code",
   "execution_count": null,
   "metadata": {},
   "outputs": [],
   "source": [
    "for kuchen, getraenk in product(alle_kuchen,alle_getraenke):\n",
    "    print(kuchen,'mit', getraenk)"
   ]
  },
  {
   "cell_type": "markdown",
   "metadata": {},
   "source": [
    "### List comprehensions (optional)\n",
    "\n",
    "Um aus Listen neue Listen zu definieren gibt es so genannte **list\n",
    "comprehensions**:\n",
    " \n",
    "Abstrakt sieht die Syntax so aus:\n",
    "\n",
    "    neue_liste=[funktion(element) for element in alte_liste if bedingung(element)]\n",
    "    \n",
    "Der Ausdruck ist strukturiert durch `for ... in  ... if`, dabei kann `if` entfallen. "
   ]
  },
  {
   "cell_type": "code",
   "execution_count": null,
   "metadata": {},
   "outputs": [],
   "source": [
    "l1 = [2, 3, 4, 5, 9, 100]\n",
    "\n",
    "l2 = [a*a for a in l1 if a < 10]\n",
    "\n",
    "print(l2)"
   ]
  },
  {
   "cell_type": "markdown",
   "metadata": {},
   "source": [
    "Die neue Liste besteht also aus den Quadraten $a*a$ aller Listenelemente\n",
    "$a$ von $l1$, die die Bedingung $a<10$ erfüllen.\n",
    "\n",
    "... das könnte man auch so schreiben:"
   ]
  },
  {
   "cell_type": "code",
   "execution_count": null,
   "metadata": {},
   "outputs": [],
   "source": [
    "l2 = []\n",
    "for x in l1:\n",
    "    if x < 10:\n",
    "        l2.append(x**2)\n",
    "print(l2)"
   ]
  }
 ],
 "metadata": {
  "kernelspec": {
   "display_name": "Python 3",
   "language": "python",
   "name": "python3"
  },
  "language_info": {
   "codemirror_mode": {
    "name": "ipython",
    "version": 3
   },
   "file_extension": ".py",
   "mimetype": "text/x-python",
   "name": "python",
   "nbconvert_exporter": "python",
   "pygments_lexer": "ipython3",
   "version": "3.8.3"
  }
 },
 "nbformat": 4,
 "nbformat_minor": 2
}
