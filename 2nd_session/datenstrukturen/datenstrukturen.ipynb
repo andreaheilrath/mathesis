{
 "cells": [
  {
   "cell_type": "markdown",
   "metadata": {},
   "source": [
    "# Datenstrukturen\n",
    "\n",
    "In Python gibt es Objekte bzw. **Datenstrukturen**, die verschiedene einfachere **Datentypen enthalten** die ihr schon kennt (`int`,` float`, `string`, ...). Im Folgenden werden wir uns diese Datenstrukturen ansehen:\n",
    "\n",
    "\n",
    "    Tupel\n",
    "    Listen\n",
    "    Wörterbücher (= dictionaries)\n",
    "    Mengen\n",
    "\n",
    "\n",
    "**Tupel und Listen** haben bestimmte Eigenschaften, die wir auch schon bei Strings kennen gelernt haben. Man kann auf die einzelnen Einträge mit **Indizes** zugreifen und sie erlauben **Slicing**.\n",
    "\n",
    "Der Abruf von Elementen bei **Dictionaries und Mengen** funktioniert über sogenannte **Keys** ... dazu unten mehr.\n",
    "\n",
    "\n",
    "## 1. Tupel\n",
    "\n",
    "Eine Variante, mehrere Zahlen oder Strings in ein Objekt zusammenzufassen, ist die Erstellung eineseines Tupels (`type tuple`)"
   ]
  },
  {
   "cell_type": "code",
   "execution_count": null,
   "metadata": {},
   "outputs": [],
   "source": [
    "tupel = (3.14, 'Katze', 42) #erstelle Variable \"tupel\" vom Datentyp tuple"
   ]
  },
  {
   "cell_type": "code",
   "execution_count": null,
   "metadata": {},
   "outputs": [],
   "source": [
    "tupel"
   ]
  },
  {
   "cell_type": "code",
   "execution_count": null,
   "metadata": {},
   "outputs": [],
   "source": [
    "type(tupel)"
   ]
  },
  {
   "cell_type": "markdown",
   "metadata": {},
   "source": [
    "Auf die Einträge eines Tupels kann man wie bei Strings mit Hilfe der eckigen Klammern zugreifen, die Länge erfährt man mit Hilfe der Funktion `len`."
   ]
  },
  {
   "cell_type": "code",
   "execution_count": null,
   "metadata": {},
   "outputs": [],
   "source": [
    "tupel[0]"
   ]
  },
  {
   "cell_type": "code",
   "execution_count": null,
   "metadata": {},
   "outputs": [],
   "source": [
    "tupel[1]"
   ]
  },
  {
   "cell_type": "code",
   "execution_count": null,
   "metadata": {},
   "outputs": [],
   "source": [
    "tupel[2]"
   ]
  },
  {
   "cell_type": "code",
   "execution_count": null,
   "metadata": {},
   "outputs": [],
   "source": [
    "len(tupel)"
   ]
  },
  {
   "cell_type": "markdown",
   "metadata": {},
   "source": [
    "Wie man sieht, sind die Einträge von 0 bis `len(tupel)-1` durchnummeriert.\n",
    "\n",
    "Tupel können auf beiden Seiten einer Zusweisung stehen, etwa:"
   ]
  },
  {
   "cell_type": "code",
   "execution_count": null,
   "metadata": {},
   "outputs": [],
   "source": [
    "(a, b) = (2, 3)"
   ]
  },
  {
   "cell_type": "code",
   "execution_count": null,
   "metadata": {},
   "outputs": [],
   "source": [
    "print(a, b)"
   ]
  },
  {
   "cell_type": "markdown",
   "metadata": {},
   "source": [
    "Dabei kann man die Klammern auch weglassen:"
   ]
  },
  {
   "cell_type": "code",
   "execution_count": null,
   "metadata": {},
   "outputs": [],
   "source": [
    "a, b = (2, 3)\n",
    "a, b = 2, 3"
   ]
  },
  {
   "cell_type": "markdown",
   "metadata": {},
   "source": [
    "Dadurch ist auch ein Variablentausch ohne Hilfsvariable möglich:"
   ]
  },
  {
   "cell_type": "code",
   "execution_count": null,
   "metadata": {},
   "outputs": [],
   "source": [
    "print(a, b)\n",
    "a, b = b, a\n",
    "print(a, b)"
   ]
  },
  {
   "cell_type": "markdown",
   "metadata": {},
   "source": [
    "Hier noch einige weiter Beispiele"
   ]
  },
  {
   "cell_type": "code",
   "execution_count": null,
   "metadata": {},
   "outputs": [],
   "source": [
    "c, b, a = tupel\n",
    "#Achtung! Hier muessen auf der linken Seite genauso viele Variablen stehen wie das Tupel Elemente hat.\n",
    "#Ansonsten tritt ein 'ValueError' auf ...\n",
    "print(a, b, c)"
   ]
  },
  {
   "cell_type": "markdown",
   "metadata": {},
   "source": [
    "Man kann die **Einträge oder die Länge eines Tupels nicht nachträglich verändern ('immutable')**, man muss dazu ein neues Tupel definieren.\n",
    "\n",
    "Das ist bei Strings genauso. Hier ein paar Beispiele:"
   ]
  },
  {
   "cell_type": "code",
   "execution_count": null,
   "metadata": {},
   "outputs": [],
   "source": [
    "tupel[1] = 1.61 # Neuzuweisung des Eintrags im Tupel ist NICHT möglich!"
   ]
  },
  {
   "cell_type": "code",
   "execution_count": null,
   "metadata": {},
   "outputs": [],
   "source": [
    "tupel_neu = (tupel[0], 1.61, tupel[2])"
   ]
  },
  {
   "cell_type": "code",
   "execution_count": null,
   "metadata": {},
   "outputs": [],
   "source": [
    "tupel_neu"
   ]
  },
  {
   "cell_type": "markdown",
   "metadata": {},
   "source": [
    "Tupel sind - so wie strings - sogenannte **'immutable objects'** also **unveränderliche** Datenstrukturen!!\n",
    "\n",
    "Listen verhalten sich in diesem Punkt ganz anders ..."
   ]
  },
  {
   "cell_type": "markdown",
   "metadata": {},
   "source": [
    "## 2. Listen\n",
    "\n",
    "Andere Variablentypen, die wir benötigen werden, sind Listen. Auf Elemente von Listen kann man wie bei Strings und Tupeln zugreifen. \n",
    "\n",
    "Im Gegensatz zu **Tupeln**, die mit **runden Klammern** initialisiert werden\n",
    "\n",
    "    tuple = (wert1, wert2, wert3)\n",
    "\n",
    "wird eine **Liste** mit **eckigen Klammern** initialisiert:\n",
    "\n",
    "    liste = [wert1, wert2, wert3]\n",
    "\n",
    "Das sieht fast gleich aus ... macht aber einen riesigen Unterschied!"
   ]
  },
  {
   "cell_type": "code",
   "execution_count": null,
   "metadata": {},
   "outputs": [],
   "source": [
    "kohl = [\"Weißkohl\", \"Rotkohl\", \"Wirsing\"]"
   ]
  },
  {
   "cell_type": "code",
   "execution_count": null,
   "metadata": {},
   "outputs": [],
   "source": [
    "kohl"
   ]
  },
  {
   "cell_type": "code",
   "execution_count": null,
   "metadata": {},
   "outputs": [],
   "source": [
    "print(kohl[0])\n",
    "print(kohl[2])\n",
    "print(kohl[-1])  # von hinten gezählt!\n",
    "print(len(kohl))"
   ]
  },
  {
   "cell_type": "code",
   "execution_count": null,
   "metadata": {},
   "outputs": [],
   "source": [
    "#Listen sind mutable! Das was oben schief ging, klappt hier einfach\n",
    "kohl[1] = \"Manipulierter Rotkohl\""
   ]
  },
  {
   "cell_type": "code",
   "execution_count": null,
   "metadata": {},
   "outputs": [],
   "source": [
    "kohl"
   ]
  },
  {
   "cell_type": "markdown",
   "metadata": {},
   "source": [
    "Listen lassen sich im Gegensatz zu Tupeln erweitern ... z.B. mit den Funktionen `.append` und `.extend`"
   ]
  },
  {
   "cell_type": "code",
   "execution_count": null,
   "metadata": {},
   "outputs": [],
   "source": [
    "kohl.append('Romanesco')  #damit wir der Liste kohl das Element 'Romanesco' angehängt.\n",
    "kohl"
   ]
  },
  {
   "cell_type": "markdown",
   "metadata": {},
   "source": [
    "Listen können alles mögliche enthalten... auch Listen! \n",
    "\n",
    "Zunächst ein Beispiel, in dem wir als neues Element der Liste `kohl` die Liste `[1,2,3]` anhängen."
   ]
  },
  {
   "cell_type": "code",
   "execution_count": null,
   "metadata": {},
   "outputs": [],
   "source": [
    "l = [1, 2, 3]\n",
    "kohl.append(l)\n",
    "kohl"
   ]
  },
  {
   "cell_type": "markdown",
   "metadata": {},
   "source": [
    "Die hinzugefügte Liste `l` ist jetzt **ein Element** der Liste `kohl`. \n",
    "\n",
    "Wollen wir nun auf ein Element der Liste `l` zugreifen, brauchen wir einen zweiten Index - einmal den Index der Stelle an der die Liste `l` steht und dann noch den Index der Liste `l` an dem z.B. der Integer 2 steht."
   ]
  },
  {
   "cell_type": "code",
   "execution_count": null,
   "metadata": {},
   "outputs": [],
   "source": [
    "kohl[4][1]"
   ]
  },
  {
   "cell_type": "markdown",
   "metadata": {},
   "source": [
    "Wenn wir die einzelnen Elemente der Liste `l` an die Liste `kohl` anhängen möchten, benutzen wir die Funktion `.extend`"
   ]
  },
  {
   "cell_type": "code",
   "execution_count": null,
   "metadata": {},
   "outputs": [],
   "source": [
    "kohl.extend(l)\n",
    "kohl"
   ]
  },
  {
   "cell_type": "code",
   "execution_count": null,
   "metadata": {},
   "outputs": [],
   "source": [
    "kohl[6] # der int 2 steht jetzt auch direkt in der Liste kohl"
   ]
  },
  {
   "cell_type": "code",
   "execution_count": null,
   "metadata": {},
   "outputs": [],
   "source": [
    "#man kann auch Tupel in Listen umwandeln ...\n",
    "liste_aus_tupel = list(tupel)\n",
    "print(liste_aus_tupel)"
   ]
  },
  {
   "cell_type": "code",
   "execution_count": null,
   "metadata": {},
   "outputs": [],
   "source": [
    "liste_aus_tupel[1] = 1.61\n",
    "print(liste_aus_tupel)"
   ]
  },
  {
   "cell_type": "code",
   "execution_count": null,
   "metadata": {},
   "outputs": [],
   "source": [
    "l = [] # man kann auch leere Listen erstellen. Das ist manchmal praktisch!\n",
    "print(l)"
   ]
  },
  {
   "cell_type": "markdown",
   "metadata": {},
   "source": [
    "### mutable vs immutable objects\n",
    "Die Listen-Methoden wie `extend` und\n",
    "`append` verändern eine gegebene Liste, sie liefern keinen Wert zurück.\n",
    "Im Gegensatz dazu liefern die entsprechenden String-Methoden einen neuen\n",
    "String.\n",
    "\n",
    "Ein Listenobjekt ist veränderbar, **mutable**, während Tupel, Strings, Zahlen unveränderlich, **immutable** sind.\n",
    "Der Wert einer Variablen, die auf ein  **immutable** Objekt weist, kann nur dadurch verändert werden, dass man sie **neu zuweist**.\n",
    "\n",
    "Schaut euch die unten stehenden Beispiele gut an - dieser Unterschied ist eine häufige Fehlerquelle."
   ]
  },
  {
   "cell_type": "code",
   "execution_count": null,
   "metadata": {},
   "outputs": [],
   "source": [
    "s = 'Maus'"
   ]
  },
  {
   "cell_type": "code",
   "execution_count": null,
   "metadata": {},
   "outputs": [],
   "source": [
    "s[1] = \"i\""
   ]
  },
  {
   "cell_type": "code",
   "execution_count": null,
   "metadata": {},
   "outputs": [],
   "source": [
    "s.replace('a', 'i')\n",
    "print(s)"
   ]
  },
  {
   "cell_type": "code",
   "execution_count": null,
   "metadata": {},
   "outputs": [],
   "source": [
    "s = s.replace('a', 'i') #hier erfolgt eine Zuweisung!!\n",
    "print(s)"
   ]
  },
  {
   "cell_type": "markdown",
   "metadata": {},
   "source": [
    "... ganz anders bei Listen!"
   ]
  },
  {
   "cell_type": "code",
   "execution_count": null,
   "metadata": {},
   "outputs": [],
   "source": [
    "l = [1,2,3]"
   ]
  },
  {
   "cell_type": "code",
   "execution_count": null,
   "metadata": {},
   "outputs": [],
   "source": [
    "l.append(4)  #hier erfolgt keine Zuweisung!!\n",
    "print(l)"
   ]
  },
  {
   "cell_type": "code",
   "execution_count": null,
   "metadata": {},
   "outputs": [],
   "source": [
    "l = l.append(5)  # ACHTUNG! DAS TUT NICHT, WAS ES SOLL\n",
    "print(l)"
   ]
  },
  {
   "cell_type": "markdown",
   "metadata": {},
   "source": [
    "### Listen \"kopieren\" ?!?\n",
    "\n",
    "Weisen wir eine Liste einer neuen Variable zu, so wird die Liste nicht kopiert, sondern die **neue Variable verweist auf die selbe Liste.** Die Liste hat jetzt sozusagen mehrere Namen.\n",
    "\n",
    "Wir können also nun die Original-Liste auch unter dem neuen Namen ansprechen und verändern. Das kann gefährliche Nebenwirkungen haben, wenn man es nicht bedenkt."
   ]
  },
  {
   "cell_type": "code",
   "execution_count": null,
   "metadata": {},
   "outputs": [],
   "source": [
    "liste1 = [2, 3, 4]\n",
    "liste2 = liste1\n",
    "print(liste1)\n",
    "print(liste2)"
   ]
  },
  {
   "cell_type": "code",
   "execution_count": null,
   "metadata": {},
   "outputs": [],
   "source": [
    "liste2[1] = 7  #mit dieser Operation wird das Objekt verändert, das sowohl in Variable liste1 und liste2 steht\n",
    "print(liste2)\n",
    "print(liste1)"
   ]
  },
  {
   "cell_type": "markdown",
   "metadata": {},
   "source": [
    "Wird eine **Kopie einer Liste** benötigt, die nichts mehr mit der ursprünglichen Liste zu tun hat, hilft das Modul `copy`. \n",
    "\n",
    "Dabei erzeugt die Funktion `copy.deepcopy`  ein volle Kopie, bei der auch in Listen verschachtelte Listen kopiert werden, während `copy.copy` nur die äußere Liste kopiert, aber eventuelle innere Listen dieselben bleiben."
   ]
  },
  {
   "cell_type": "code",
   "execution_count": null,
   "metadata": {},
   "outputs": [],
   "source": [
    "from copy import copy, deepcopy\n",
    "liste1 = [2, 3, 4]\n",
    "liste2 = copy(liste1)\n",
    "liste2[1] = 7\n",
    "print(liste2)\n",
    "print(liste1)"
   ]
  },
  {
   "cell_type": "code",
   "execution_count": null,
   "metadata": {},
   "outputs": [],
   "source": [
    "liste1.append([5, 6, 7])\n",
    "print(liste1)"
   ]
  },
  {
   "cell_type": "code",
   "execution_count": null,
   "metadata": {},
   "outputs": [],
   "source": [
    "liste2 = copy(liste1)\n",
    "liste1[3][1] = 8\n",
    "print(liste1, liste2)"
   ]
  },
  {
   "cell_type": "code",
   "execution_count": null,
   "metadata": {},
   "outputs": [],
   "source": [
    "liste3 = deepcopy(liste1)\n",
    "liste1[3][1] = 10\n",
    "print(liste1, liste3)"
   ]
  },
  {
   "cell_type": "code",
   "execution_count": null,
   "metadata": {},
   "outputs": [],
   "source": [
    "liste4 = deepcopy(liste1)\n",
    "print(liste1 == liste4)\n",
    "print(liste1 is liste4)"
   ]
  },
  {
   "cell_type": "markdown",
   "metadata": {},
   "source": [
    "### Zugehörigkeit\n",
    "\n",
    "Die Zugehörigkeit zu einer Liste prüft man mit `in`:"
   ]
  },
  {
   "cell_type": "code",
   "execution_count": null,
   "metadata": {},
   "outputs": [],
   "source": [
    "print(kohl)"
   ]
  },
  {
   "cell_type": "code",
   "execution_count": null,
   "metadata": {},
   "outputs": [],
   "source": [
    "print(\"Wirsing\" in kohl)\n",
    "print(\"Kartoffel\" in kohl)"
   ]
  },
  {
   "cell_type": "code",
   "execution_count": null,
   "metadata": {},
   "outputs": [],
   "source": [
    "print([1, 2] in kohl)\n",
    "print([1, 2, 3] in kohl)"
   ]
  },
  {
   "cell_type": "markdown",
   "metadata": {},
   "source": [
    "### Slicing\n",
    "\n",
    "Wichtig sind noch Ausdrücke, die einen Teil einer Liste liefern. Ist `l` eine Liste, so liefert `l[a:e]` die Liste aller Einträge von `l` mit Index $i$, wobei $a\\leq i<e$. Beachte die Zeichen $\\leq$ und $<$! \n",
    "\n",
    "Lässt man $a$ oder $e$ weg, so fällt die enstprechende Bedingung weg, also liefert `l[:e]` alle Einträge von `l` mit Index kleiner e, sowie `l[a:]` alle Einträge von $l$ mit Index $\\geq a$. \n",
    "\n",
    "Wollen Sie in einem solchen Indexbereich nur jedes $s.$ Zeichen, so schreiben Sie `l[a:e:s]`."
   ]
  },
  {
   "cell_type": "code",
   "execution_count": null,
   "metadata": {},
   "outputs": [],
   "source": [
    "l = [1, 2, 3, 4, 5, 6, 7, 8, 9, 10]"
   ]
  },
  {
   "cell_type": "code",
   "execution_count": null,
   "metadata": {},
   "outputs": [],
   "source": [
    "print(l[2:7])\n",
    "print(l[8:])"
   ]
  },
  {
   "cell_type": "code",
   "execution_count": null,
   "metadata": {},
   "outputs": [],
   "source": [
    "print(l[:-3])\n",
    "print(l[-5::-1])"
   ]
  },
  {
   "cell_type": "code",
   "execution_count": null,
   "metadata": {},
   "outputs": [],
   "source": [
    "print(l[::2])"
   ]
  },
  {
   "cell_type": "code",
   "execution_count": null,
   "metadata": {},
   "outputs": [],
   "source": [
    "l[1::2] = [0, 0, 0, 0, 0]  #hier findet eine Neuzuweisung statt!"
   ]
  },
  {
   "cell_type": "code",
   "execution_count": null,
   "metadata": {},
   "outputs": [],
   "source": [
    "l"
   ]
  },
  {
   "cell_type": "markdown",
   "metadata": {},
   "source": [
    "Da Listen der wohl wichtigste Datentyp in Python sind, hier eine Übersicht der Listen-Methoden (dabei sei `l` eine Liste). \n",
    "\n",
    "Darin bezeichnen die eckigen Klammern in den Argumenten der Funktionen ”optionale” Argumente, die man weglassen kann.\n",
    "\n",
    "    l[i] = x                               Element i von l durch x ersetzen      \n",
    "    l[i:j] = t                             \"slice\" von l von i bis j wird durch  t ersetzt     \n",
    "    del l[i:j]                             dasselbe wie l[i:j] = []    \n",
    "    l[i:j:k] = t                           die Elemente von l[i:j:k] werden durch die von t ersetzt     \n",
    "    del l[i:j:k]                           entfernt die Elemente l[i:j:k] aus der Liste      \n",
    "    l.append(x)                            dasselbe wie l[len(l):len(l)] = [x] \n",
    "    l.extend(x)                            dasselbe wie l[len(l):len(l)] = x \n",
    "    l.count(x)                             gibt die Anzahl der i‘s mit l[i] == x zurück    \n",
    "    l.index(x[, i[, j]])                   gibt das kleinste k zurück mit l[k] == x und i <= k < j\n",
    "    l.insert(i, x)                         dasselbe wie l[i:i] = [x]  \n",
    "    l.pop(i)                               dasselbe wie x = l[i]; del l[i]; return x \n",
    "    l.pop()                                dasselbe wie pop(len(l)-1)\n",
    "    l.remove(x )                           dasselbe wie del l[l.index(x)]   \n",
    "    l.reverse()                            kehrt die Reihenfolge der Elemente von l um \n",
    "    l.sort([cmp[, key[, reverse]]])        sortiert die Elemente von l\n",
    "\n",
    "Durch `sum(l)` erhält man die Summe der Elemente der Liste, wenn diese\n",
    "definiert ist. Bei lauter Zahlen wäre das die gewöhnliche Summe, bei\n",
    "Strings die Aneinanderkettung aller Strings.\n",
    "\n",
    "Sehr nützlich ist es, zu wissen, wie man eine Funktion auf jedes Element\n",
    "einer Liste anwenden kann: Wenn `f` eine Funktion ist und\n",
    "`l=[a_0,a_1,..., a_n]` eine Liste von Objekten, für die diese\n",
    "Funktion definiert ist, so liefert `list(map(f,l))` die Liste\n",
    "`[f(a_0),f(a_1),...,f(a_n)]`.'"
   ]
  },
  {
   "cell_type": "markdown",
   "metadata": {},
   "source": [
    "### Listen aus Strings\n",
    "\n",
    "Eine Operation, die einen String in eine Liste von Strings umwandelt, soll noch erwähnt werden. Mit ihrer Hilfe bricht man\n",
    "einen String an gewissen Trennzeichen in eine Liste von Strings auf.\n",
    "\n",
    "Das ist ungemein nützlich zum Einlesen von Tabellen oder zum Zerlegen von Nutzereingaben."
   ]
  },
  {
   "cell_type": "code",
   "execution_count": null,
   "metadata": {},
   "outputs": [],
   "source": [
    "s = 'Hund,Katze,Maus'\n",
    "s.split(',')"
   ]
  },
  {
   "cell_type": "code",
   "execution_count": null,
   "metadata": {},
   "outputs": [],
   "source": [
    "s = 'Hund        Katze  Maus'\n",
    "s.split()"
   ]
  },
  {
   "cell_type": "markdown",
   "metadata": {},
   "source": [
    "Eine Umkehrung dieser Operation liefert `join`:"
   ]
  },
  {
   "cell_type": "code",
   "execution_count": null,
   "metadata": {},
   "outputs": [],
   "source": [
    "l = ['Hund', 'Katze', 'Maus']\n",
    "' und '.join(l)"
   ]
  },
  {
   "cell_type": "markdown",
   "metadata": {},
   "source": [
    "## 3. Wörterbücher\n",
    "\n",
    "\n",
    "**Wörterbücher** oder **Dictionaries** sind ein praktischer Datentyp, um irgendwelchen Daten (*keys*) irgendwelche\n",
    "anderen Daten zuzuordnen (*values*). \n",
    "\n",
    "Ein Wörterbuch wird durch geschwungene Klammern gekennzeichnet und kann folgendermaßen angelegt:\n",
    "\n",
    "    wb = {key1:value1, key2:value2, key3:value3} \n",
    "    wb = {}\n",
    "\n",
    "Nun kann man durch `wb[key1]=value1` ein Paar `key1:value1` dem Wörterbuch hinzufügen, durch `wb[key2]=value2`\n",
    "ein weiteres Paar `key2:value2`, etc. Durch `w[key1]` erhält man anschließend den Wert `value1`, etc. Ein Beispiel:"
   ]
  },
  {
   "cell_type": "code",
   "execution_count": null,
   "metadata": {},
   "outputs": [],
   "source": [
    "wb = {\"house\": \"Haus\", \"black\": \"schwarz\"} \n",
    "wb[\"cat\"] =\"Katze\""
   ]
  },
  {
   "cell_type": "code",
   "execution_count": null,
   "metadata": {},
   "outputs": [],
   "source": [
    "wb"
   ]
  },
  {
   "cell_type": "code",
   "execution_count": null,
   "metadata": {},
   "outputs": [],
   "source": [
    "wb[\"cat\"]"
   ]
  },
  {
   "cell_type": "code",
   "execution_count": null,
   "metadata": {},
   "outputs": [],
   "source": [
    "list(wb.keys()) #damit bekommt man eine Liste aller keys aus dem dictionary"
   ]
  },
  {
   "cell_type": "code",
   "execution_count": null,
   "metadata": {},
   "outputs": [],
   "source": [
    "wb[\"pi\"] = 3.1415\n",
    "wb[3] = [\"drei\",\"vier\"]\n",
    "wb[1.23] = [42]\n",
    "print(wb)"
   ]
  },
  {
   "cell_type": "code",
   "execution_count": null,
   "metadata": {},
   "outputs": [],
   "source": [
    "wb[3].append('Ratte')\n",
    "print(wb)"
   ]
  },
  {
   "cell_type": "markdown",
   "metadata": {},
   "source": [
    "Als **Keys** kommen Strings, ganze Zahlen, Bruchzahlen, Tupel von solchen und Objekte anderer grundlegender Datentypen in Frage (aber beispielsweise keine Listen.)\n",
    "\n",
    "Ob ein gewisser **Key** im Wörterbuch vorkommt, lässt sich so abfragen:"
   ]
  },
  {
   "cell_type": "code",
   "execution_count": null,
   "metadata": {},
   "outputs": [],
   "source": [
    "\"cat\" in wb # True, da \"cat\" ein Key des Wörterbuchs ist"
   ]
  },
  {
   "cell_type": "code",
   "execution_count": null,
   "metadata": {},
   "outputs": [],
   "source": [
    "\"Katze\" in wb # False, da \"Katze\" KEIN Key des Wörterbuchs ist - \"Katze\" taucht nur als Value auf"
   ]
  },
  {
   "cell_type": "markdown",
   "metadata": {},
   "source": [
    "## 4. Mengen (Zusatz)\n",
    "\n",
    "Python kennt außer Listen auch Mengen. Eine Menge kann man entweder durch die Auflistung der Elemente in Mengenklammern angeben oder, indem man die den Typ umwandelnde Funktion `set` auf eine Menge anwendet.\n",
    "\n",
    "Mengen sind nicht geordnet, jedes Element kommt nur einmal vor. Die üblichem Mengenoperationen (Vereinigung, Schnitt, Differenz) sind verfügbar.   \n",
    "\n",
    "Wie bei Listen prüft man mit `in`, ob ein Objekt Element einer Menge ist. Mit $<=$, $>=$ prüft man, ob eine Menge Teilmenge, bzw. Obermenge ist, mit $<$, $>$, ob es sich um eine echte Teilmenge / Obermenge handelt.\n",
    "\n",
    "Im Folgenden einige Beispiele zu den Operationen mit Mengen."
   ]
  },
  {
   "cell_type": "code",
   "execution_count": null,
   "metadata": {},
   "outputs": [],
   "source": [
    "set1 = {'a', 'b', 'c', 'd'}  #Initialisierung mit geschweiften Klammern - ohne ':' für Verknüpfung wie bei dicts\n",
    "set2 = set(['a', 'b', 'e', 'e'])\n",
    "print(set1)\n",
    "print(set2)"
   ]
  },
  {
   "cell_type": "code",
   "execution_count": null,
   "metadata": {},
   "outputs": [],
   "source": [
    "print(\"Difference \")\n",
    "print(set1.difference(set2))\n",
    "#print(set1-set2)  # alternative Kurzschreibweise"
   ]
  },
  {
   "cell_type": "code",
   "execution_count": null,
   "metadata": {},
   "outputs": [],
   "source": [
    "print(\"Union\")\n",
    "print(set1.union(set2))\n",
    "#print(set1 | set2)  # alternative Kurzschreibweise"
   ]
  },
  {
   "cell_type": "code",
   "execution_count": null,
   "metadata": {},
   "outputs": [],
   "source": [
    "print(\"Intersection\")\n",
    "print(set1.intersection(set2))\n",
    "#print(set1 & set2)  # alternative Kurzschreibweise"
   ]
  },
  {
   "cell_type": "code",
   "execution_count": null,
   "metadata": {},
   "outputs": [],
   "source": [
    "print('a' in set1)\n",
    "print(set1 < set2)"
   ]
  },
  {
   "cell_type": "code",
   "execution_count": null,
   "metadata": {},
   "outputs": [],
   "source": [
    "print({'a', 'b'} < set1)\n",
    "print((set1 > set1))"
   ]
  },
  {
   "cell_type": "code",
   "execution_count": null,
   "metadata": {},
   "outputs": [],
   "source": []
  }
 ],
 "metadata": {
  "kernelspec": {
   "display_name": "Python 3",
   "language": "python",
   "name": "python3"
  },
  "language_info": {
   "codemirror_mode": {
    "name": "ipython",
    "version": 3
   },
   "file_extension": ".py",
   "mimetype": "text/x-python",
   "name": "python",
   "nbconvert_exporter": "python",
   "pygments_lexer": "ipython3",
   "version": "3.8.3"
  },
  "latex_envs": {
   "bibliofile": "biblio.bib",
   "cite_by": "apalike",
   "current_citInitial": 1,
   "eqLabelWithNumbers": true,
   "eqNumInitial": 0
  }
 },
 "nbformat": 4,
 "nbformat_minor": 1
}
