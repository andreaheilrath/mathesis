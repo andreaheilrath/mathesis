{
 "cells": [
  {
   "cell_type": "markdown",
   "metadata": {},
   "source": [
    "**Name:**\n",
    "\n",
    "**Gruppenpartner:**\n",
    "\n",
    "**Hier** ist Platz für **Hinweise von euch!**\n"
   ]
  },
  {
   "cell_type": "markdown",
   "metadata": {},
   "source": [
    "## 4. Übung\n",
    "\n",
    "Objekte und Klassen\n",
    "\n",
    "Hausaufgabe: Löse mindestens **eine der folgenden Aufgaben oder schreibe eine Klasse die dur dir selbst ausgedacht hast**. Ihr dürft die Aufgaben in Gruppen bearbeiten. \n",
    "\n",
    "Abgabe im ISIS-Kurs, spätestes Abgabedatum wird dort angegeben, Gruppenpartner bitte bei der Abgabe vermerken."
   ]
  },
  {
   "cell_type": "markdown",
   "metadata": {},
   "source": [
    "### Klasse Würfel\n",
    "\n",
    "Erstelle eine Klasse `Die` (Würfel) mit einem Attribut namens `sides`, das standardmäßig \n",
    "Wert 6h hat. Scrheibe eine Methode namens `roll_die()`, die eine Zufallszahl ausgibt, zwischen zwischen 1 und der Anzahl der Seiten, die der Würfel hat. Erstelle auch 10-seitige und eine 20-seitige Würfel. \n",
    "\n",
    "Würfel jeden Würfel 10 mal."
   ]
  },
  {
   "cell_type": "markdown",
   "metadata": {},
   "source": [
    "### Restaurant\n",
    "\n",
    "Erstelle eine Klasse mit dem Namen `Restaurant`. Die Methode `__init__()` für ein Restaurant sollte zwei Attribute speichern: den Namen des Restaurands und die Küchenart (italienisch, indisch, ...). \n",
    "Erstelle eine Methode namens `describe_restaurant()`, die diese beiden Informationen ausgibt und eine Methode namens `open_restaurant()`, die aussagt, dass das Restaurant geöffnet ist.\n",
    "\n",
    "Erstelle eine Instanz der Klasse und teste alle Funktionen."
   ]
  },
  {
   "cell_type": "markdown",
   "metadata": {},
   "source": [
    "### Eine Klasse für Daten\n",
    "\n",
    "Definiere eine Klasse `Data`, die als Datencontainer dienen soll. Sie soll eine Methode `titles()` haben, die eine Liste\n",
    "der Bezeichnungen der bisher gespeicherten Daten enthält, sowie eine Methode `set_data`, die einen Namen und ein Datenobjekt übergeben bekommt und dieses zu dem Namen in einem Wörterbuch speichert, sowie eine Methode `get_data`, die einen Namen übergeben bekommt und das Datenobjekt zurückgibt.\n",
    "\n",
    "**Zusatz:**\n",
    "\n",
    "Weiterhin soll es noch eine Methode `set_properties` und eine Methode `get_properties` geben, die zu einem Namen ein Dictionary von Eigenschaften speichert. Außerdem soll die Klasse Methoden `pickle` und `unpickle`haben, die einen Dateinamen übergeben bekommen und das Objekt mit Hilfe des Moduls `pickle` speichern bzw. lesen.\n",
    "\n",
    "Wenn eine besondere Art von Daten gespeichert werden soll, kann man von dieser Klasse eine andere ableiten, z.B. `EKGData`,\n",
    "und dort noch spezielle Methoden zum Lesen von Daten in gewissen Formaten und zum Auswerten, Anzeigen, etc. hinzufügen.  Dabei ist es wichtig, sich die Eigenschaften der entsprechenden Daten zu überlegen (z.B. bei einer Tabelle die Namen der Spalten oder\n",
    "der Zeilen, Einheiten, ...), um diese Eigenschaften in den Auswertungsfunktionen benutzen zu können."
   ]
  },
  {
   "cell_type": "markdown",
   "metadata": {},
   "source": [
    "### Eine Klasse für Himmelskörper\n",
    "\n",
    "Definiere eine Klasse `Body`, die als Attribute die Masse, den Radius, den Namen des Himmelskörpers enthält.\n",
    "Der Konstruktor sollte diese Parameter übergeben bekommen. Weitere mögliche Attribute: Bahnparameter, um die Keplerschen\n",
    "Bahnen zu berechnen, oder die Position und Geschwindigkeit zu einem gewissen Zeitpunkt, was ebenfalls die Berechnung der Bahnen\n",
    "erlaubt.\n",
    "\n",
    "**Zusatz:**\n",
    "\n",
    "Definiere eine Klasse `Viewer`, die in ihrem Konstruktor eine Liste von Himmelskörpern bekommt und Methoden `visualize` und `update`, die diese Himmelskörper 3d visualisieren, bzw. die Positionen aktualisieren.\n",
    "Da in galaktischen Maßstäben die Himmelskörper oft furchtbar klein sind, sollte die Methode `visualize` einen \n",
    "optionalen Paramter `scale` haben, mit dem man die Himmelskörper vergrößern kann. Am besten eignet sich dafür das Moduld `vpython` (es heißt auch 'visual python' oder 'visual'.)"
   ]
  },
  {
   "cell_type": "markdown",
   "metadata": {},
   "source": [
    "### Game of Life\n",
    "\n",
    "Programmieren Sie das Game of Life. Dafür ist es angemessen, eine Klasse `Welt`  zu definieren, die den Zustand \n",
    "der Welt in einem Attribut speichert und eine Methode `schritt` hat, die einen Entwicklungssschritt beschreibt. Weiterhin kann die Klasse eine Methode `anzeige` haben, die mit Hilfe von matplotlib den Zustand anzeigt."
   ]
  }
 ],
 "metadata": {
  "kernelspec": {
   "display_name": "Python 3",
   "language": "python",
   "name": "python3"
  },
  "language_info": {
   "codemirror_mode": {
    "name": "ipython",
    "version": 3
   },
   "file_extension": ".py",
   "mimetype": "text/x-python",
   "name": "python",
   "nbconvert_exporter": "python",
   "pygments_lexer": "ipython3",
   "version": "3.8.5"
  }
 },
 "nbformat": 4,
 "nbformat_minor": 4
}
