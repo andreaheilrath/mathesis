{
 "cells": [
  {
   "cell_type": "markdown",
   "metadata": {},
   "source": [
    "# Beispiele zu Klassen und mehr zu Special Methods\n",
    "\n",
    "Hier werden einige (mehr oder weniger komplexe) Beispiele zu Klassen aufgeführt.\n",
    "\n",
    "**Achtung:** Die Beispiele werden gegen Ende immer schwerer - ihr könnt auch später darauf zurückkommen wenn ihr sie nicht auf Anhieb versteht.\n",
    "\n",
    "Mehr Infos zu den **Special Methods** findet ihr in den Beispielen 5 (operator overloading) und 6 (getitem & setitem)\n",
    "\n",
    "Übersicht aller Beispiele:\n",
    "1. Telefonbucheintrag\n",
    "2. Ein Beispiel namens Bsp\n",
    "3. Hello World, vielsprachig\n",
    "4. Mulitagentensimulation: 'Lebewesen' in einer 'Welt' -- oder 'Himmelskörper'\n",
    "5. Klasse für Bilder (_operator overloading_ )\n",
    "6. Klasse für ein Buch (_getitem & setitem_ )\n",
    "7. Stapel\n",
    "8. Datenverarbeitungspipeline (Live Fourieranalyse des Mikrofon-Inputs) \n",
    "\n",
    "\n",
    "### 1. Telefonbucheintrag\n",
    "\n",
    "Telefonbucheintrag: Hier dient die Klasse/das Objekt nur zur Zusammenfassung verschiedener Eigenschaften. Das ließe sich mit einem Dictionary genauso machen, ist aber mit Klassen vermutlich doch lesbarer."
   ]
  },
  {
   "cell_type": "code",
   "execution_count": null,
   "metadata": {},
   "outputs": [],
   "source": [
    "class Telefonbucheintrag(object):\n",
    "    name = ''\n",
    "    vorname = ''\n",
    "    tel_priv = []\n",
    "    tel_arbeit = []\n",
    "    tel_mobil = []\n",
    "\n",
    "\n",
    "per1 = Telefonbucheintrag()\n",
    "per1.name = 'Mustermann'\n",
    "per1.vorname = 'Max'\n",
    "per1.tel_arbeit = ['030/314-75820']"
   ]
  },
  {
   "cell_type": "markdown",
   "metadata": {},
   "source": [
    "Einer der Gründe, selbst für so eine Aufgabe mit Klassen statt mit Dictionaries zu arbeiten, ist die\n",
    "Möglichkeit, den Typ abzufragen, bzw. zu Prüfen, ob ein Objekt den Typ 'Telefonbucheintrag' hat:"
   ]
  },
  {
   "cell_type": "code",
   "execution_count": null,
   "metadata": {
    "scrolled": true
   },
   "outputs": [],
   "source": [
    "type(per1)"
   ]
  },
  {
   "cell_type": "code",
   "execution_count": null,
   "metadata": {
    "scrolled": false
   },
   "outputs": [],
   "source": [
    "isinstance(per1, Telefonbucheintrag)"
   ]
  },
  {
   "cell_type": "markdown",
   "metadata": {},
   "source": [
    "### 2. Ein Beispiel namens Bsp\n",
    "\n",
    "Ein ganz einfaches und sont sinnloses Beispiel, das dazu dient,\n",
    "zu zeigen, wie Methoden \n",
    "auf die Attribute der Instanz (über das Argument self) \n",
    "und auf weitere der Methode übergebene Parameter zugreifen."
   ]
  },
  {
   "cell_type": "code",
   "execution_count": null,
   "metadata": {},
   "outputs": [],
   "source": [
    "class Bsp(object):\n",
    "    x = 0\n",
    "\n",
    "    def print_n_times(self, n):\n",
    "        '''Gibt das Attribut x der Instanz n mal aus.'''\n",
    "        for i in range(n):\n",
    "            print(self.x)"
   ]
  },
  {
   "cell_type": "code",
   "execution_count": null,
   "metadata": {},
   "outputs": [],
   "source": [
    "a = Bsp()\n",
    "a.x = 5\n",
    "a.print_n_times(6)"
   ]
  },
  {
   "cell_type": "markdown",
   "metadata": {},
   "source": [
    "### 3.  Hello World, vielsprachig"
   ]
  },
  {
   "cell_type": "code",
   "execution_count": null,
   "metadata": {},
   "outputs": [],
   "source": [
    "class HelloWorld():\n",
    "\n",
    "    languages = ['de', 'en', 'fr', 'tk']\n",
    "    messages = ['Hallo Welt!', \"Hello World!\",\n",
    "                \"Bonjour, le monde!\", \"Merhaba dünya!\"]\n",
    "\n",
    "    def __init__(self):\n",
    "        '''legt English als Anfangssprache fest'''\n",
    "        self.language = 'en'\n",
    "\n",
    "    def set_language(self, la):\n",
    "        '''stellt Sprache ein.\n",
    "        Übergeben wird'''\n",
    "        if la in self.languages:\n",
    "            self.language = la\n",
    "        else:\n",
    "            # kleiner Vorgriff auf Fehlerbehandlung\n",
    "            raise Exception(\n",
    "                \"Sprache nicht verfügbar. Verfügbar: \"+' '.join(self.languages))\n",
    "\n",
    "    def say(self):\n",
    "        i = self.languages.index(self.language)\n",
    "        print(self.messages[i])"
   ]
  },
  {
   "cell_type": "code",
   "execution_count": null,
   "metadata": {},
   "outputs": [],
   "source": [
    "h = HelloWorld()\n",
    "print(h.language)"
   ]
  },
  {
   "cell_type": "code",
   "execution_count": null,
   "metadata": {},
   "outputs": [],
   "source": [
    "h.say()"
   ]
  },
  {
   "cell_type": "code",
   "execution_count": null,
   "metadata": {},
   "outputs": [],
   "source": [
    "h.set_language('de')"
   ]
  },
  {
   "cell_type": "code",
   "execution_count": null,
   "metadata": {},
   "outputs": [],
   "source": [
    "print(h.language)"
   ]
  },
  {
   "cell_type": "code",
   "execution_count": null,
   "metadata": {},
   "outputs": [],
   "source": [
    "h.say()"
   ]
  },
  {
   "cell_type": "code",
   "execution_count": null,
   "metadata": {},
   "outputs": [],
   "source": [
    "h.set_language('tk')\n",
    "h.say()"
   ]
  },
  {
   "cell_type": "code",
   "execution_count": null,
   "metadata": {},
   "outputs": [],
   "source": [
    "h.set_language('es')"
   ]
  },
  {
   "cell_type": "code",
   "execution_count": null,
   "metadata": {},
   "outputs": [],
   "source": [
    "h.say()"
   ]
  },
  {
   "cell_type": "markdown",
   "metadata": {},
   "source": [
    "\n",
    "### 4. Mulitagentensimulation:  'Lebewesen' in einer 'Welt'  -- oder 'Himmelskörper' (mittel schwer)"
   ]
  },
  {
   "cell_type": "code",
   "execution_count": null,
   "metadata": {},
   "outputs": [],
   "source": [
    "import time\n",
    "import numpy as np\n",
    "import matplotlib.pyplot as plt\n",
    "import matplotlib\n",
    "matplotlib.use('TkAgg')\n",
    "\n",
    "\n",
    "class World(object):\n",
    "    '''Die Welt, in der die Wesen sozusagen leben.'''\n",
    "\n",
    "    def __init__(self):\n",
    "        self.wesen = None\n",
    "\n",
    "    def populate(self, liste):\n",
    "        '''Siedle die Wesen in der Welt an;\n",
    "        jedes wesen merkt sich einen Verweis auf die Welt.'''\n",
    "        self.wesen = liste\n",
    "        for vieh in self.wesen:\n",
    "            vieh.welt = self\n",
    "\n",
    "    def step(self, dt=1):\n",
    "        '''Ein Simulationsschritt, Zeit dt'''\n",
    "        for vieh in self.wesen:\n",
    "            vieh.berechne_kraft()\n",
    "        for vieh in self.wesen:\n",
    "            vieh.step(dt)\n",
    "\n",
    "\n",
    "class Vieh(object):\n",
    "    '''Ein Wesen, das Ort und Geschwindigkeit hat und auf das die anderen\n",
    "    Wesen Anziehungs- und Abstoßungskräfe ausüben.'''\n",
    "\n",
    "    def __init__(self, pos):\n",
    "        self.pos = pos\n",
    "        self.veloc = np.zeros(2)\n",
    "        self.welt = None\n",
    "        self.force_const1 = 1.\n",
    "        self.force_const2 = 0.1\n",
    "\n",
    "    def berechne_kraft(self):\n",
    "        self.kraft = np.zeros(2)\n",
    "        for vieh in self.welt.wesen:\n",
    "            if not (vieh is self):\n",
    "                self.kraft += self.force_const1*(vieh.pos-self.pos)/np.linalg.norm(vieh.pos-self.pos) +\\\n",
    "                    self.force_const2 / \\\n",
    "                    np.linalg.norm(vieh.pos-self.pos)**3*(self.pos-vieh.pos)\n",
    "\n",
    "    def step(self, dt):\n",
    "        '''Ein Bewegungsschritt'''\n",
    "        self.veloc += self.kraft*dt/2.\n",
    "        self.pos += self.veloc*dt\n",
    "        self.veloc += self.kraft*dt/2.\n",
    "\n",
    "\n",
    "class Viewer(object):\n",
    "    '''Viewer object, dass die Simulation durchführt und anzeigt.'''\n",
    "\n",
    "    def __init__(self, welt):\n",
    "        self.welt = welt\n",
    "\n",
    "    def simulate(self, N):\n",
    "        l = len(self.welt.wesen)\n",
    "        pos = np.array([vieh.pos for vieh in self.welt.wesen])\n",
    "        p = {}\n",
    "        plt.xlim(-3, 9)\n",
    "        plt.ylim(-3, 9)\n",
    "        for i in range(l):\n",
    "            p[i], = plt.plot(pos[i, 0], pos[i, 1], 'o',\n",
    "                             color=(i/l, (l-i)/l, ((l-i)/l)**2))\n",
    "\n",
    "        plt.pause(0.1)\n",
    "        for i in range(N):\n",
    "            self.welt.step(0.1)\n",
    "            pos = np.array([vieh.pos for vieh in self.welt.wesen])\n",
    "            for i in range(l):\n",
    "                # ,'o',color=(i/l,(l-i)/l,((l-i)/l)**2))\n",
    "                p[i].set_data(pos[i, 0], pos[i, 1])\n",
    "\n",
    "            plt.draw()\n",
    "            plt.pause(0.01)  # plt.pause(0.1)"
   ]
  },
  {
   "cell_type": "code",
   "execution_count": null,
   "metadata": {},
   "outputs": [],
   "source": [
    "# Das resultierende Programm sieht dann wie folgt aus:\n",
    "\n",
    "v1 = Vieh(np.array([2., 3]))\n",
    "v2 = Vieh(np.array([3., 5]))\n",
    "v3 = Vieh(np.array([2., 1]))\n",
    "v4 = Vieh(np.array([1., 1]))\n",
    "w = World()\n",
    "w.populate([v1, v2, v3, v4])\n",
    "v = Viewer(w)\n",
    "plt.ion()\n",
    "v.simulate(300)"
   ]
  },
  {
   "cell_type": "code",
   "execution_count": null,
   "metadata": {},
   "outputs": [],
   "source": [
    "plt.close('all')"
   ]
  },
  {
   "cell_type": "markdown",
   "metadata": {},
   "source": [
    "## Special Methods: operator overloading\n",
    "\n",
    "In der Deklaration von Klassen lassen sich \"special methods\" definieren, die aufgerufen werden, wenn man die Objekte dieser Klassen mit Rechenoperatoren `*,+,-,/, %,//`, etc. vernüpft. Außerdem lässt sich mit solchen Methoden entscheiden, wie das Objekt dargestellt wird, wenn man es (bei `print`) in einen String umwandelt oder in anderen Zusammenhängen als String repräsentiert.\n",
    "\n",
    "### 5. Klasse für Bilder"
   ]
  },
  {
   "cell_type": "code",
   "execution_count": null,
   "metadata": {},
   "outputs": [],
   "source": [
    "from imageio import imread\n",
    "import matplotlib.pyplot as plt\n",
    "\n",
    "\n",
    "class Bild(object):\n",
    "    '''Klasse für Bildobjekte, speichert die Bilddaten und\n",
    "    Metadaten'''\n",
    "\n",
    "    def __init__(self, daten=None, info=None):\n",
    "        self.daten = daten\n",
    "        if info:\n",
    "            self.info = info\n",
    "        else:\n",
    "            self.info = ''\n",
    "\n",
    "    def read_from_file(self, name):\n",
    "        '''liest Bilddatei'''\n",
    "        self.daten = imread(name, pilmode='F')\n",
    "        self.info = \"From file: \" + name\n",
    "\n",
    "    def __sub__(self, b):\n",
    "        \"definiert - für Bilder\"\n",
    "        return Bild(daten=self.daten-b.daten, info=\"Differenz von Bild1: \"+self.info+\"\\nund Bild 2:\"+b.info)\n",
    "\n",
    "    def __add__(self, b):\n",
    "        \"definiert + für Bilder\"\n",
    "        return Bild(daten=self.daten+b.daten, info=\"Summe von Bild1: \"+self.info+\"\\nund Bild 2:\"+b.info)\n",
    "\n",
    "    def __abs__(self):\n",
    "        \"definiert abs() für Bilder\"\n",
    "        return Bild(daten=np.absolute(self.daten), info=\"Betrag von Bild1: \"+self.info)\n",
    "\n",
    "    def __str__(self):\n",
    "        return \"Bild: \"+str(self.daten.shape)+\"\\nInfos: \"+str(self.info)\n",
    "\n",
    "    def show(self):\n",
    "        '''Anzeige'''\n",
    "        plt.imshow(self.daten, cmap=plt.get_cmap('gray'))\n",
    "        plt.show()"
   ]
  },
  {
   "cell_type": "code",
   "execution_count": null,
   "metadata": {},
   "outputs": [],
   "source": [
    "bild = Bild()\n",
    "bild.read_from_file('tu_berlin.jpg')\n",
    "print(bild)"
   ]
  },
  {
   "cell_type": "code",
   "execution_count": null,
   "metadata": {},
   "outputs": [],
   "source": [
    "bild_links = Bild(\n",
    "    bild.daten[:, :-1], info=\"linker Teil, rechte äußere Zeile weggelassen\")\n",
    "bild_rechts = Bild(\n",
    "    bild.daten[:, 1:], info=\"rechter Teil, linke äußere Zeile weggelassen\")\n",
    "print(bild_links, \"\\n\", bild_rechts)"
   ]
  },
  {
   "cell_type": "code",
   "execution_count": null,
   "metadata": {},
   "outputs": [],
   "source": [
    "bild.show()"
   ]
  },
  {
   "cell_type": "code",
   "execution_count": null,
   "metadata": {},
   "outputs": [],
   "source": [
    "bild2 = bild_links-bild_rechts"
   ]
  },
  {
   "cell_type": "code",
   "execution_count": null,
   "metadata": {},
   "outputs": [],
   "source": [
    "print(bild2)"
   ]
  },
  {
   "cell_type": "code",
   "execution_count": null,
   "metadata": {},
   "outputs": [],
   "source": [
    "bild2.show()"
   ]
  },
  {
   "cell_type": "markdown",
   "metadata": {},
   "source": [
    "## Special Methods: getitem, setitem\n",
    "\n",
    "Anders als Sprachen, die in ihrer Architektur auf einer Klassenhierarchie aufbauen -- wie Java -- ist Python eine\n",
    "Sprache, die so genannte \"Protokolle\" definiert. Jede Klasse, die gewisse Methoden hat, kann in gewissen\n",
    "Kontexten verwendet werden. Das ist ein größeres Thema, das nur an einem sehr einfachen Beispiel erläutert sei.\n",
    "\n",
    "Die folgende Klasse definiert eine `__getitem__` und eine `__setitem__` Methode. Daher kann man wie auf die\n",
    "Elemente einer Liste mit eckigen Klammern auf die Rückgabewerte dieser Methoden zugreifen. Hier liegt aber\n",
    "gar keine Liste vor, sondern alle Elemente werden als je eine Datei gespeichert.\n",
    "\n",
    "### 6. Klasse für ein Buch"
   ]
  },
  {
   "cell_type": "code",
   "execution_count": null,
   "metadata": {},
   "outputs": [],
   "source": [
    "class MyBook(object):\n",
    "    \n",
    "    def __init__(self,name):\n",
    "        self.basename=name\n",
    "        \n",
    "    def __getitem__(self,position):\n",
    "        if not isinstance(position, int):\n",
    "            raise TypeError(\"Index must be an Integer\")\n",
    "        with open(self* P+p**DDDDFFFFSS.basename+'%i.txt'%position, \"r\") as f:\n",
    "            return f.read()\n",
    "        \n",
    "    def __setitem__(self,position,value):\n",
    "        if not isinstance(position, int):\n",
    "            raise TypeError(\"Index must be an Integer\")\n",
    "        with open(self.basename+'%i.txt'%position, \"w\") as f:\n",
    "            f.write(value)"
   ]
  },
  {
   "cell_type": "code",
   "execution_count": null,
   "metadata": {},
   "outputs": [],
   "source": [
    "book=MyBook('book_page_')"
   ]
  },
  {
   "cell_type": "code",
   "execution_count": null,
   "metadata": {},
   "outputs": [],
   "source": [
    "book[0]='Maus'\n",
    "book[1]='Katze'\n",
    "book[2]='Schnabeligel'"
   ]
  },
  {
   "cell_type": "code",
   "execution_count": null,
   "metadata": {},
   "outputs": [],
   "source": [
    "book[2]"
   ]
  },
  {
   "cell_type": "code",
   "execution_count": null,
   "metadata": {},
   "outputs": [],
   "source": [
    "%ls *.txt"
   ]
  },
  {
   "cell_type": "code",
   "execution_count": null,
   "metadata": {},
   "outputs": [],
   "source": [
    "%load book_page_2.txt"
   ]
  },
  {
   "cell_type": "markdown",
   "metadata": {},
   "source": [
    "#### Wenn das geht, funktioniert dann eine for-Schleife ?"
   ]
  },
  {
   "cell_type": "code",
   "execution_count": null,
   "metadata": {},
   "outputs": [],
   "source": [
    "for page in book:\n",
    "    print(page)"
   ]
  },
  {
   "cell_type": "markdown",
   "metadata": {},
   "source": [
    "Offenbar geht es gut, solange eine Datei existiert.  Jedes Objekt mit einer `__getitem__`-Methode erlaubt  eine for-Schleife. Man kann nachschlagen, dass die for-Schleife regulär beendet wird, wenn ein 'IndexError' auftritt."
   ]
  },
  {
   "cell_type": "code",
   "execution_count": null,
   "metadata": {},
   "outputs": [],
   "source": [
    "class MyBook(object):\n",
    "    \n",
    "    def __init__(self,name):\n",
    "        self.basename=name\n",
    "        \n",
    "    def __len__(self):\n",
    "        return 2\n",
    "    \n",
    "    def __getitem__(self,position):\n",
    "        if not isinstance(position, int):\n",
    "            raise TypeError(\"Index must be an Integer\")\n",
    "        try:\n",
    "            with open(self.basename+'%i.txt'%position, \"r\") as f:\n",
    "                return f.read()\n",
    "        except:\n",
    "            raise IndexError\n",
    "            \n",
    "    def __setitem__(self,position,value):\n",
    "        if not isinstance(position, int):\n",
    "            raise TypeError(\"Index must be an Integer\")\n",
    "        with open(self.basename+'%i.txt'%position, \"w\") as f:\n",
    "            f.write(value)\n",
    "        \n",
    "            "
   ]
  },
  {
   "cell_type": "code",
   "execution_count": null,
   "metadata": {},
   "outputs": [],
   "source": [
    "book=MyBook('book_page_')\n",
    "for page in book:\n",
    "    print(page)"
   ]
  },
  {
   "cell_type": "markdown",
   "metadata": {},
   "source": [
    "for-Schleifen funktionieren aber auch noch unter ganz anderen Bedingungen, wenn nämlich das Objekt eine `__iter__`-Methode hat, die einen Iterator zurückgibt. Was das ist, soll hier nicht gesagt werden. "
   ]
  },
  {
   "cell_type": "markdown",
   "metadata": {},
   "source": [
    "### 7. Ein Beispiel:  Stapel - LiFo (mittelschwer)\n",
    "\n",
    "Wir wollen mit diesen Mitteln einen Stapel als verkettete Liste definieren, ohne auf den Python-Datentyp `list` zurückzugreifen. Der Stapel soll je eine Methode zum Ablegen und Nehmen eines Objekts haben. Das zuletzt abgelegte Objekt wird jeweils genommen: LiFo =  Last in First out.\n",
    "\n",
    "Ein solcher Stapel lässt sich durch eine Kette von Objekten darstellen, die wie Eisenbahnwaggons aneinander hängen. Jeder Waggon besitzt einen Inhalt und  eine Vorrichtung zum Ankoppeln des nächsten Waggons besitzen. \n",
    "Der vorderste Wagen sei, um im Gleichnis zu bleiben, ein Triebwagen oder eine Lokomotive. Der Inhalt der\n",
    "Lokomotive sei das, was  oben auf dem Stapel liegt.\n",
    "\n",
    "Legen wir Objekte auf dem Stapel ab,.\n",
    "\n",
    "Ein leerer Stapel besteht aus einem einzigen Waggon, der keinen Inhalt hat und keinen angekoppelten\n",
    "Wagen. Um das besser formulieren zu können, definieren wir ein besonders **NOTHING**-Objekt. (Wir könnten auch das Python-Objekt `None` nehmen, aber da dieses in Python an diversen Stellen vorkommt, könnte es zu Verwechslungen kommen.)\n",
    "\n",
    "\n",
    "\n",
    "\n",
    "\n",
    "\n"
   ]
  },
  {
   "cell_type": "code",
   "execution_count": null,
   "metadata": {},
   "outputs": [],
   "source": [
    "class Nothing:\n",
    "    pass\n",
    "\n",
    "NOTHING = Nothing()\n",
    "\n",
    "class Stapel(object):\n",
    "    '''LiFo'''\n",
    "\n",
    "    def __init__(self, oben=NOTHING, rest=NOTHING):\n",
    "        self.oben = oben  # dieses Attribut zeigt auf das Objekt, das oben liegt\n",
    "        self.rest = rest  # dieses Attribut zeigt auf den Reststapel"
   ]
  },
  {
   "cell_type": "markdown",
   "metadata": {},
   "source": [
    "Wie können wir ein Objekt auf dem Stapel ablegen?\n",
    "\n",
    "Dafür müssen wir einen Waggon zwischen die Lokomotive und den\n",
    "ersten Wagen ankoppeln, d.h. ein neues Stapel-Objekt erzeugen, \n",
    "bei dem `oben` auf das bisherige Attribut der Lokomotive verweist,\n",
    "sowie `rest` auf den bisherigen Zug hinter der Lokomotive.\n",
    "Die Lokomotive selbst erhält als `oben` das neu abgelegte Objekt.\n",
    "\n",
    "Als Beispiel betrachten wir ist das Stapel-Objekt `stapel`:\n",
    "\n",
    "![Zustand des Stapels](lifo-append.svg)\n",
    "\n",
    "\n",
    "Jetzt wollen wir das Objekt 'Sandkatze' ablegen, d.h. wir müssen dafür\n",
    "sorgen, dass ein neuer Waggon `stapel3` (links) an stapel2 angehängt wird wird,\n",
    "wobei `stapel3.oben`  den Wert 'Manguste' von `stapel.oben` übernimmt und \n",
    "`stapel3.rest` auf`stapel2`, d.h. `stapel.rest`.\n",
    "    \n",
    "    \n",
    "\n",
    "![Zustand des Stapels](lifo-appended.svg)\n",
    "\n",
    "Und `stapel.rest` soll nun  `stapel3` sein. \n",
    "\n",
    "\n",
    "\n"
   ]
  },
  {
   "cell_type": "code",
   "execution_count": null,
   "metadata": {},
   "outputs": [],
   "source": [
    "class Stapel(object):\n",
    "    '''LiFo'''\n",
    "\n",
    "    def __init__(self, oben=NOTHING, rest=NOTHING):\n",
    "        self.oben = oben  # dieses Attribut zeigt auf das Objekt, das oben liegt\n",
    "        self.rest = rest  # dieses Attribut zeigt auf den Reststapel\n",
    "\n",
    "    def lege_ab(self, x):\n",
    "        '''legt x oben auf den Stapel'''\n",
    "        self.rest = Stapel(oben=self.oben, rest=self.rest)\n",
    "        self.oben = x\n",
    "        \n",
    "        "
   ]
  },
  {
   "cell_type": "markdown",
   "metadata": {},
   "source": [
    "Wie müsste nun die Methode `nimm` aussehen, die das oberste Element vom Stapel wegnimmt?\n",
    "\n",
    "Schauen wir uns noch mal die eben betrachtete Beispielsituation an:\n",
    "\n",
    "![Zustand des Stapels](lifo-append.svg)\n",
    "\n",
    "Wir müssen stapel2 aushängen. Was bedeutet das? Nach dem Abhängen soll `stapel`\n",
    "als Attribut `oben` 'Nebelparder' haben, das Attribut `rest` soll auf `stapel1` verweisen\n",
    "\n",
    "\n",
    "    ausgabewert = stapel.oben\n",
    "    stapel2 = stapel.rest\n",
    "    stapel.oben = stapel2.oben\n",
    "    stapel.rest = stapel2.rest\n",
    "    \n"
   ]
  },
  {
   "cell_type": "code",
   "execution_count": null,
   "metadata": {},
   "outputs": [],
   "source": [
    "class Stapel(object):\n",
    "    '''LiFo'''\n",
    "\n",
    "    def __init__(self, oben=NOTHING, rest=NOTHING):\n",
    "        self.oben = oben  # dieses Attribut zeigt auf das Objekt, das oben liegt\n",
    "        self.rest = rest  # dieses Attribut zeigt auf den Reststapel\n",
    "\n",
    "    def lege_ab(self, x):\n",
    "        '''legt x oben auf den Stapel'''\n",
    "        self.rest = Stapel(oben=self.oben, rest=self.rest)\n",
    "        self.oben = x\n",
    "\n",
    "    def nimm(self):\n",
    "        wert = self.oben\n",
    "        if wert == NOTHING:\n",
    "            raise Exception(\"Stapel leer\")\n",
    "        else:\n",
    "            try:\n",
    "                self.oben = self.rest.oben\n",
    "                self.rest = self.rest.rest\n",
    "            except:\n",
    "                self.oben = NOTHING\n",
    "                self.rest = NOTHING\n",
    "            return wert\n",
    "\n",
    "  "
   ]
  },
  {
   "cell_type": "code",
   "execution_count": null,
   "metadata": {},
   "outputs": [],
   "source": [
    "s = Stapel()"
   ]
  },
  {
   "cell_type": "code",
   "execution_count": null,
   "metadata": {},
   "outputs": [],
   "source": [
    "s.lege_ab('Katze')"
   ]
  },
  {
   "cell_type": "code",
   "execution_count": null,
   "metadata": {},
   "outputs": [],
   "source": [
    "s.lege_ab(3.1415)"
   ]
  },
  {
   "cell_type": "code",
   "execution_count": null,
   "metadata": {},
   "outputs": [],
   "source": [
    "s.lege_ab('Spam Spam Spam')"
   ]
  },
  {
   "cell_type": "code",
   "execution_count": null,
   "metadata": {},
   "outputs": [],
   "source": [
    "s.nimm()"
   ]
  },
  {
   "cell_type": "markdown",
   "metadata": {},
   "source": [
    "Um ein weiteres Beispiel für **special methods** zu geben: Wenn wir \n",
    "eine `__getitem__`-Methode implementieren, können wir wie bei Strings\n",
    "oder Listen per  `[]` auf Elemente zugreifen und mit einer for-Schleife\n",
    "iterieren.\n",
    "\n"
   ]
  },
  {
   "cell_type": "code",
   "execution_count": null,
   "metadata": {},
   "outputs": [],
   "source": [
    "class Stapel(object):\n",
    "    '''LiFo'''\n",
    "\n",
    "    def __init__(self, oben=NOTHING, rest=NOTHING):\n",
    "        self.oben = oben  # dieses Attribut zeigt auf das Objekt, das oben liegt\n",
    "        self.rest = rest  # dieses Attribut zeigt auf den Reststapel\n",
    "\n",
    "    def lege_ab(self, x):\n",
    "        '''legt x oben auf den Stapel'''\n",
    "        self.rest = Stapel(oben=self.oben, rest=self.rest)\n",
    "        self.oben = x\n",
    "\n",
    "    def nimm(self):\n",
    "        wert = self.oben\n",
    "        if wert == NOTHING:\n",
    "            raise Exception(\"Stapel leer\")\n",
    "        else:\n",
    "            try:\n",
    "                self.oben = self.rest.oben\n",
    "                self.rest = self.rest.rest\n",
    "            except:\n",
    "                self.oben = NOTHING\n",
    "                self.rest = NOTHING\n",
    "            return wert\n",
    "\n",
    "    def __getitem__(self, ind):\n",
    "        '''greift auf das Element des Stapels mit Index ind zu,\n",
    "        Argument: ind (natürliche Zahl)\n",
    "\n",
    "        ind == 0: zuletzt abgelegtes Element\n",
    "        ind == 1: vorletztes Element, etc.\n",
    "        '''\n",
    "        i = 0\n",
    "        a = self\n",
    "        while i < ind:\n",
    "            i += 1\n",
    "            try:\n",
    "                a = a.rest\n",
    "            except:\n",
    "                raise IndexError()\n",
    "\n",
    "        try:\n",
    "            oben = a.oben\n",
    "        except:\n",
    "            raise IndexError()\n",
    "\n",
    "        if oben == NOTHING:\n",
    "            raise IndexError()\n",
    "        else:\n",
    "            return oben"
   ]
  },
  {
   "cell_type": "code",
   "execution_count": null,
   "metadata": {},
   "outputs": [],
   "source": [
    "s = Stapel()\n",
    "s.lege_ab('Katze')\n",
    "s.lege_ab(3.1415)\n",
    "s.lege_ab('Spam Spam Spam')\n",
    "\n",
    "for x in s:\n",
    "    print(x)"
   ]
  },
  {
   "cell_type": "code",
   "execution_count": null,
   "metadata": {},
   "outputs": [],
   "source": [
    "s = Stapel()\n",
    "s.lege_ab('Katze')\n",
    "s.lege_ab(3.1415)\n",
    "s.lege_ab('Spam Spam Spam')\n",
    "\n",
    "print(s[0])"
   ]
  },
  {
   "cell_type": "markdown",
   "metadata": {},
   "source": [
    "### 8.  Ein wichtiger Anwendungsfall: Datenverarbeitungspipeline (schwierig)\n",
    "\n",
    "Eine Datenverarbeitungspipeline.\n",
    "\n",
    "Mikrophon ->  Fourieranalyse -> ... -> Anzeige\n",
    "\n",
    "Jede Verarbeitungsstufe ist durch eine Klasse repräsentiert.\n",
    "Die Objekte der Klassen kommunizieren über Queues (Warteschlangen),\n",
    "die dafür sorgen, dass die Daten in der Reihenfolge ihrer Ankunft \n",
    "bearbeitet werden und dass jeder Schritt auf die nächsten Daten wartet,\n",
    "wenn noch keine da sind.\n",
    "\n",
    "Alle Klassen haben eine Methode 'work'. Diese Methoden \n",
    "laufen parallel (in verschiedenen Threads, aber auf demselben\n",
    "Prozessor, also kein Geschwindigkeitsgewinn.)\n",
    "\n",
    "Im folgenden wird ein einfaches Oszilloskop erzeugt."
   ]
  },
  {
   "cell_type": "code",
   "execution_count": null,
   "metadata": {},
   "outputs": [],
   "source": [
    "from __future__ import division\n",
    "import pyaudio\n",
    "from threading import Thread\n",
    "import time\n",
    "import matplotlib.pyplot as plt\n",
    "import numpy as np\n",
    "import queue\n",
    "\n",
    "%matplotlib qt\n",
    "\n",
    "\n",
    "# Audio - Parameter, je nach  Soundkarte andere RATE wählen\n",
    "\n",
    "CHUNK = 2048\n",
    "RATE = 44100\n",
    "CHANNELS = 1\n",
    "\n",
    "# Allgemeine Workerklasse, ließe sich als abstract base class definieren\n",
    "# mit Hilfe des Moduls abc.\n",
    "\n",
    "\n",
    "class Worker(object):\n",
    "    '''Allgemeine Workerklasse. Hat eine in_queue und eine out_queue,\n",
    "    die out_queue wird vom Konstruktor __init__ erzeugt, die in_queue\n",
    "    kommt von außerhalb und wird durch connect_in angeschlossen.'''\n",
    "\n",
    "    def __init__(self):\n",
    "        self.out_queue = queue.Queue()\n",
    "        self.in_queue = None\n",
    "        self.STOP = False\n",
    "\n",
    "    def connect_in(self, q):\n",
    "        '''registriert connect_in als in_queue'''\n",
    "        self.in_queue = q\n",
    "\n",
    "    def work(self):\n",
    "        '''tut nichts (könnte als abstractmethod deklariert werden).'''\n",
    "        pass\n",
    "\n",
    "\n",
    "class Source(Worker):\n",
    "    '''Audio-Quelle, der Audio-Stream ruft alle CHUNK frames\n",
    "    die  Methode micro_callback auf, die die Daten in die out_queue\n",
    "    schreibt.\n",
    "    '''\n",
    "\n",
    "    p = pyaudio.PyAudio()\n",
    "\n",
    "    def micro_callback(self, in_data, frame_count, time_info, status):\n",
    "        '''callback Funktion: wird vom PyAudio-Objekt aufgerufen,\n",
    "        wenn CHUNK Frames von der Soundkarte (Mikrophon) gelesen wurden'''\n",
    "        # print \"Micro\"\n",
    "        y = np.fromstring(in_data, dtype=np.short)\n",
    "        if CHANNELS == 2:\n",
    "            y = y.reshape((y.shape[0]//2, 2))\n",
    "        else:\n",
    "            y = y.reshape((y.shape[0], 1))\n",
    "\n",
    "        self.out_queue.put(y)\n",
    "        return (in_data, pyaudio.paContinue)\n",
    "\n",
    "    def work(self):\n",
    "        '''Startet den Audio-Aufnahme-Stream und registriert micro_callback\n",
    "        als Callback-Funktion, die jeweils CHUNK Frames verarbeitet.'''\n",
    "        # print \"source\"\n",
    "        self.inStream = self.p.open(format=pyaudio.paInt16, channels=CHANNELS,\n",
    "                                    rate=RATE, input=True, output=False, frames_per_buffer=CHUNK,\n",
    "                                    stream_callback=self.micro_callback)\n",
    "        self.inStream.start_stream()  # threading.Thread(target=stream).start()\n",
    "        time.sleep(0.01)\n",
    "\n",
    "\n",
    "class Analyser(Worker):\n",
    "    '''Fourier-Analyse-Worker'''\n",
    "\n",
    "    def work(self):\n",
    "        '''führt Fourier-Analyse durch'''\n",
    "        while not self.STOP:\n",
    "            # print \"Analyser\"\n",
    "            y = self.in_queue.get()\n",
    "            y2 = np.abs(np.fft.fft(y, axis=0))\n",
    "            self.out_queue.put(y2)\n",
    "\n",
    "\n",
    "class Viewer(Worker):\n",
    "    '''Anzeige-Worker'''\n",
    "\n",
    "    def work(self):\n",
    "        self.fig, self.ax = plt.subplots(1, 1)\n",
    "        self.ax = plt.axes(ylim=(-1, 1), xlim=(0, CHUNK/RATE))\n",
    "        self.xwerte = np.arange(CHUNK)/RATE\n",
    "\n",
    "        self.kurve, = self.ax.plot(self.xwerte, np.zeros(CHUNK), lw=2)\n",
    "        self.fig.canvas.draw()\n",
    "        plt.pause(0.001)\n",
    "\n",
    "        while not self.STOP:\n",
    "            # print \"Viewer\"\n",
    "            data = self.in_queue.get()\n",
    "            self.kurve.set_data(self.xwerte, data/2**16)\n",
    "            plt.pause(0.001)\n",
    "            self.fig.canvas.flush_events()\n",
    "\n",
    "\n",
    "source = Source()\n",
    "analyser = Analyser()\n",
    "analyser.connect_in(source.out_queue)\n",
    "viewer = Viewer()\n",
    "viewer.connect_in(analyser.out_queue)\n",
    "\n",
    "# st=Thread(target=source.work)\n",
    "# st.start()\n",
    "\n",
    "source.work()\n",
    "at = Thread(target=analyser.work)\n",
    "at.start()\n",
    "vt = Thread(target=viewer.work)\n",
    "vt.start()\n",
    "\n",
    "time.sleep(60)\n",
    "viewer.STOP = True\n",
    "analyser.STOP = True\n",
    "source.inStream.stop_stream()\n",
    "del(viewer)\n",
    "plt.close('all')"
   ]
  }
 ],
 "metadata": {
  "kernelspec": {
   "display_name": "Python 3",
   "language": "python",
   "name": "python3"
  },
  "language_info": {
   "codemirror_mode": {
    "name": "ipython",
    "version": 3
   },
   "file_extension": ".py",
   "mimetype": "text/x-python",
   "name": "python",
   "nbconvert_exporter": "python",
   "pygments_lexer": "ipython3",
   "version": "3.8.3"
  }
 },
 "nbformat": 4,
 "nbformat_minor": 2
}
