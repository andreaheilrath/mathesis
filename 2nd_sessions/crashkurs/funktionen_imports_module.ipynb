{
 "cells": [
  {
   "cell_type": "markdown",
   "metadata": {},
   "source": [
    "## Vorweg etwas über Funktionen\n",
    "\n",
    "Da wir nun langsam in etwas komplexere Gefilde eintreten und gleich viele \"fremde\" Funktionen benutzen, hier vorab schon ein paar Hinweise zur Struktur von Funktionen.\n",
    "\n",
    "Funktionen ermöglichen, Code, der mehrfach ausgeführt werden soll, auch an verschiedenen Stellen des Programms, übersichtlich zu verpacken.\n",
    "\n",
    "Wie eine  **Funktion** in Python deklariert wird, sei an zwei Beispielen gezeigt.\n",
    "\n",
    "    def funktionsname( .... ):    # durch Komma getrennte Argumente, u.U. auch kein Argument\n",
    "        ..........\n",
    "        ..........          # Block der Funktion\n",
    "        ..........\n",
    "        return ...          # Werte, die die Funktion zurückgibt, kann entfallen"
   ]
  },
  {
   "cell_type": "code",
   "execution_count": null,
   "metadata": {},
   "outputs": [],
   "source": [
    "def flaeche(a, b):\n",
    "    return a*b                  # diese Funktione gibt einen Wert zurücl\n",
    "\n",
    "def ruehme(s):\n",
    "    print(s + \" sei gelobt!\")    # diese Funktion \"tut nur etwas\"\n",
    "\n",
    "def fluche():                 # diese Funktion hat kein Argument\n",
    "    print(\"*x!####!\")"
   ]
  },
  {
   "cell_type": "code",
   "execution_count": null,
   "metadata": {},
   "outputs": [],
   "source": [
    "flaeche(2, 3)"
   ]
  },
  {
   "cell_type": "code",
   "execution_count": null,
   "metadata": {},
   "outputs": [],
   "source": [
    "ruehme(\"Die Maus\")"
   ]
  },
  {
   "cell_type": "code",
   "execution_count": null,
   "metadata": {},
   "outputs": [],
   "source": [
    "fluche()"
   ]
  },
  {
   "cell_type": "markdown",
   "metadata": {},
   "source": [
    "## Imports\n",
    "\n",
    "Wir haben schon ein paar Module kennen gelernt, z.B. `turtle`, `math` und `random`. \n",
    "\n",
    "Bevor wir diese Module benutzen können, müssen wie sie **importieren**, bisher haben wir das so gemacht:\n",
    "\n",
    "    import math\n",
    "    import random\n",
    "\n",
    "Python kommt mit einer großen Standardbibliothek, in der bereits viele nützliche Module enthalten sind. Darüber hinaus gibt es eine Community, die für die verschiedensten Gebiete weitere externe Module entwickelt und pflegt (Linguistik, Numerik, Astronomie, Spiele,...).\n",
    "\n",
    "Für Imports gibt es **verschiedene Möglichkeiten**. Einige seien hier vorgestellt.\n",
    "\n",
    "### Variante 1"
   ]
  },
  {
   "cell_type": "code",
   "execution_count": null,
   "metadata": {},
   "outputs": [],
   "source": [
    "from math import *  # Alle Funktionen und Variablen des Moduls math werden direkt importiert"
   ]
  },
  {
   "cell_type": "markdown",
   "metadata": {},
   "source": [
    "Dies ist die einfachste, aber manchmal gefährliche Methode.  Sie bedeutet, dass alle in dem Modul `math` definierten Namen von Variablen, Konstanten, Funktionen, Klassen nun direkt benutzt werden können (z.B. `sin, cos, exp, log, tan,...`). Sie sind jetzt im **Namensraum (name space)** des Programms.  Das heißt aber auch, dass eine vor dem Import definierte Variable durch den Import überschrieben werden kann."
   ]
  },
  {
   "cell_type": "code",
   "execution_count": null,
   "metadata": {},
   "outputs": [],
   "source": [
    "pi, e"
   ]
  },
  {
   "cell_type": "code",
   "execution_count": null,
   "metadata": {},
   "outputs": [],
   "source": [
    "sin(pi)"
   ]
  },
  {
   "cell_type": "code",
   "execution_count": null,
   "metadata": {},
   "outputs": [],
   "source": [
    "# Achtung, man kann die importierten Variablen und Funktionen überschreiben\n",
    "pi = 3"
   ]
  },
  {
   "cell_type": "code",
   "execution_count": null,
   "metadata": {},
   "outputs": [],
   "source": [
    "pi"
   ]
  },
  {
   "cell_type": "markdown",
   "metadata": {},
   "source": [
    "Übersichtlicher wird diese Form des Imports, wenn nur bestimmte Objekte importiert werden:"
   ]
  },
  {
   "cell_type": "code",
   "execution_count": null,
   "metadata": {},
   "outputs": [],
   "source": [
    "from math import sin, cos"
   ]
  },
  {
   "cell_type": "markdown",
   "metadata": {},
   "source": [
    "importiert **nur die Funktionen `sin` und `cos`**."
   ]
  },
  {
   "cell_type": "markdown",
   "metadata": {},
   "source": [
    "### Variante 2\n",
    "\n",
    "Grundsätzlich **sicherer** ist die folgende Form des Imports:"
   ]
  },
  {
   "cell_type": "code",
   "execution_count": null,
   "metadata": {},
   "outputs": [],
   "source": [
    "import math"
   ]
  },
  {
   "cell_type": "markdown",
   "metadata": {},
   "source": [
    "Danach sind alle Namen nur sozusagen über ihren 'Vornamen' `math` benutzbar, also etwa `math.sin, math.cos. math.exp, math.log,...`."
   ]
  },
  {
   "cell_type": "code",
   "execution_count": null,
   "metadata": {},
   "outputs": [],
   "source": [
    "math.pi"
   ]
  },
  {
   "cell_type": "code",
   "execution_count": null,
   "metadata": {},
   "outputs": [],
   "source": [
    "math.cos(math.pi)"
   ]
  },
  {
   "cell_type": "markdown",
   "metadata": {},
   "source": [
    "### Variante 3\n",
    "\n",
    "Die dritte Variante erlaubt, einen alternativen ('aka') 'Vornamen' zu verwenden:"
   ]
  },
  {
   "cell_type": "code",
   "execution_count": null,
   "metadata": {},
   "outputs": [],
   "source": [
    "import math as m"
   ]
  },
  {
   "cell_type": "markdown",
   "metadata": {},
   "source": [
    "Danach sind alle Funktionen mit dem alternativen Vornamen erreichbar, also `m.sin, m.cos, m.exp`.\n",
    "\n",
    "Korrekter als von Namen mit einem 'Vornamen' wäre  von Namen in einem  **Namensraum - oder name space** zu sprechen."
   ]
  },
  {
   "cell_type": "code",
   "execution_count": null,
   "metadata": {},
   "outputs": [],
   "source": [
    "m.cos(23)"
   ]
  },
  {
   "cell_type": "code",
   "execution_count": null,
   "metadata": {},
   "outputs": [],
   "source": [
    "m.e"
   ]
  },
  {
   "cell_type": "markdown",
   "metadata": {},
   "source": [
    "**Aufgabe:** Verwenden Sie die Funktionen des Moduls `math`, um herauszubekommen, wieviele Dezimalstellen 2\\*\\*10000 hat. (Zählen taugt nicht so gut, wie Sie sehen werden.)"
   ]
  },
  {
   "cell_type": "markdown",
   "metadata": {},
   "source": [
    "## Weitere wichtige Bibliotheken"
   ]
  },
  {
   "cell_type": "markdown",
   "metadata": {},
   "source": [
    "### numpy\n",
    "\n",
    "Für numerische Berechnungen werden wir häufig das Modul `numpy` (Numerical Python)  benutzen."
   ]
  },
  {
   "cell_type": "code",
   "execution_count": null,
   "metadata": {},
   "outputs": [],
   "source": [
    "import numpy as np\n",
    "np.__version__"
   ]
  },
  {
   "cell_type": "code",
   "execution_count": null,
   "metadata": {},
   "outputs": [],
   "source": [
    "np.sin(np.pi / 2.0)"
   ]
  },
  {
   "cell_type": "markdown",
   "metadata": {},
   "source": [
    "Damit ist es möglich, Matrizen, Vektoren, Tensoren als so genannte Arrays zu definieren:"
   ]
  },
  {
   "cell_type": "code",
   "execution_count": null,
   "metadata": {},
   "outputs": [],
   "source": [
    "A = np.zeros((2,3)) # numpy macht aus Listen und Tupeln Matrizen!\n",
    "B = np.array([[1, 2, 3], [4, 5, 6]])\n",
    "v = np.array([1.0, 3.0, 5.0]) #man kann auch einen leeren Vektor einer gewissen \"shape\" erstellen"
   ]
  },
  {
   "cell_type": "markdown",
   "metadata": {},
   "source": [
    "`A` ist dann eine $2\\times 3$-Matrix, die Nullen (als Fließkommazahlen) enthält, `B` ist eine solche Matrix, die in der ersten Zeile $1,2,3$, sowie in der zweiten $4,5,6$ enthält. `v` ist ein Vektor, dessen 3 Einträge 1.0, 3.0 und 5.0 sind."
   ]
  },
  {
   "cell_type": "code",
   "execution_count": null,
   "metadata": {},
   "outputs": [],
   "source": [
    "A"
   ]
  },
  {
   "cell_type": "code",
   "execution_count": null,
   "metadata": {},
   "outputs": [],
   "source": [
    "B"
   ]
  },
  {
   "cell_type": "code",
   "execution_count": null,
   "metadata": {},
   "outputs": [],
   "source": [
    "v"
   ]
  },
  {
   "cell_type": "code",
   "execution_count": null,
   "metadata": {},
   "outputs": [],
   "source": [
    "A.shape"
   ]
  },
  {
   "cell_type": "code",
   "execution_count": null,
   "metadata": {},
   "outputs": [],
   "source": [
    "B.shape"
   ]
  },
  {
   "cell_type": "code",
   "execution_count": null,
   "metadata": {},
   "outputs": [],
   "source": [
    "v.shape"
   ]
  },
  {
   "cell_type": "code",
   "execution_count": null,
   "metadata": {},
   "outputs": [],
   "source": [
    "B.dot(v) # bezeichnet das Produkt aus B mit v"
   ]
  },
  {
   "cell_type": "markdown",
   "metadata": {},
   "source": [
    "### matplotlib\n",
    "\n",
    "`matplotlib` ist eine mächtige Biblothek zur grafischen Darstellung von Daten."
   ]
  },
  {
   "cell_type": "code",
   "execution_count": null,
   "metadata": {
    "scrolled": true
   },
   "outputs": [],
   "source": [
    "import matplotlib.pyplot as plt\n",
    "\n",
    "# Zunächst erstelle ich einige Listen, die gleich geplottet werden sollen.\n",
    "x_werte = [0, 1, 2, 3, 4, 5]\n",
    "y_werte1 = [0, 0, 2, 2, 4, 4]\n",
    "y_werte2 = [3, 3, 1, 1, 0, 0]\n",
    "\n",
    "plt.clf()\n",
    "plt.scatter(x_werte,y_werte1) #erzeugt punkte\n",
    "plt.plot(x_werte,y_werte1) #erzeugt verbindungslinien\n",
    "plt.scatter(x_werte,y_werte2, marker = \"x\") #erzeugt kreuze\n",
    "plt.plot(x_werte,y_werte2) #erzeugt verbindungslinien\n",
    "plt.show()"
   ]
  },
  {
   "cell_type": "code",
   "execution_count": null,
   "metadata": {},
   "outputs": [],
   "source": [
    "import math\n",
    "import matplotlib.pyplot as plt\n",
    "\n",
    "# %matplotlib inline #gibt ins Notebook integrierte Pixelgraphik\n",
    "# %matplotlib notebook gibt ins Notebook integrierte Graphik mit Zoom-Möglichkeit\n",
    "# %matplotlib qt gibt eigenes Fenster mit Zoom-Möglichkeit\n",
    "\n",
    "listx = list(range(100))\n",
    "listy = list(map(math.sin, listx))\n",
    "plt.clf()\n",
    "plt.plot(listx, listy)\n",
    "plt.show()"
   ]
  },
  {
   "cell_type": "markdown",
   "metadata": {},
   "source": [
    "### Fortgeschrittenes Beispiel: Funktion zum Plotten einer Funktion\n",
    "\n",
    "Versuche den unten dargestellten Code zu verstehen und zu manipulieren."
   ]
  },
  {
   "cell_type": "code",
   "execution_count": null,
   "metadata": {},
   "outputs": [],
   "source": [
    "from matplotlib import pyplot as plt\n",
    "import numpy as np\n",
    "\n",
    "\n",
    "def plotfunction(f, x0, x1):\n",
    "    x = np.linspace(x0, x1, 1000)\n",
    "    y = f(x)\n",
    "    plt.figure()\n",
    "    plt.plot(x, y)\n",
    "    plt.show()\n",
    "\n",
    "\n",
    "plotfunction(np.sin, -10, 10)\n",
    "plotfunction(np.cos, -10, 10)\n",
    "plotfunction(np.arctan, -100, 100)"
   ]
  },
  {
   "cell_type": "markdown",
   "metadata": {
    "collapsed": true
   },
   "source": [
    "## Schall\n",
    "\n",
    "Wer mit Daten von Tonaufnahmen umgehen will, könnte das interessant finden.\n",
    "\n",
    "**Hinweis:** um das Modul `schallwerkzeuge` zu benutzen, muss das Modul `pyaudio` mit dem Befehl `conda install pyaudio` in der Konsole installiert werden!"
   ]
  },
  {
   "cell_type": "code",
   "execution_count": null,
   "metadata": {},
   "outputs": [],
   "source": [
    "from schallwerkzeuge import *"
   ]
  },
  {
   "cell_type": "code",
   "execution_count": null,
   "metadata": {},
   "outputs": [],
   "source": [
    "help(recordsnd)"
   ]
  },
  {
   "cell_type": "code",
   "execution_count": null,
   "metadata": {},
   "outputs": [],
   "source": [
    "y = recordsnd(None, 2)"
   ]
  },
  {
   "cell_type": "code",
   "execution_count": null,
   "metadata": {},
   "outputs": [],
   "source": [
    "y.shape"
   ]
  },
  {
   "cell_type": "code",
   "execution_count": null,
   "metadata": {},
   "outputs": [],
   "source": []
  },
  {
   "cell_type": "code",
   "execution_count": null,
   "metadata": {},
   "outputs": [],
   "source": [
    "%matplotlib notebook\n",
    "import matplotlib.pyplot as plt"
   ]
  },
  {
   "cell_type": "code",
   "execution_count": null,
   "metadata": {},
   "outputs": [],
   "source": [
    "plt.plot(y)\n",
    "plt.show()"
   ]
  },
  {
   "cell_type": "code",
   "execution_count": null,
   "metadata": {},
   "outputs": [],
   "source": [
    "help(playsnd)"
   ]
  },
  {
   "cell_type": "code",
   "execution_count": null,
   "metadata": {},
   "outputs": [],
   "source": [
    "playsnd(y, RATE)"
   ]
  },
  {
   "cell_type": "code",
   "execution_count": null,
   "metadata": {},
   "outputs": [],
   "source": [
    "playsnd(y, 2*RATE)"
   ]
  }
 ],
 "metadata": {
  "kernelspec": {
   "display_name": "Python 3",
   "language": "python",
   "name": "python3"
  },
  "language_info": {
   "codemirror_mode": {
    "name": "ipython",
    "version": 3
   },
   "file_extension": ".py",
   "mimetype": "text/x-python",
   "name": "python",
   "nbconvert_exporter": "python",
   "pygments_lexer": "ipython3",
   "version": "3.8.3"
  }
 },
 "nbformat": 4,
 "nbformat_minor": 2
}
