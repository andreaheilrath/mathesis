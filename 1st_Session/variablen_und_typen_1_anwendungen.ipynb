{
 "cells": [
  {
   "cell_type": "markdown",
   "metadata": {},
   "source": [
    "# Variablen & Typen - Anwendungen und Beispiele"
   ]
  },
  {
   "cell_type": "markdown",
   "metadata": {},
   "source": [
    "Ausgaben und Eingaben\n",
    "-----------------------\n",
    "\n",
    "Ein Programm muss Daten einlesen und Ergebnisse ausgeben können. \n",
    "\n",
    "### print\n",
    "\n",
    "Hier müssen Klammern um die auszugebenden Ausdrücke stehen, `print(...)` ist eine **Funktion**. Also:\n",
    "\n",
    "    print(a,b,213213)\n",
    "\n",
    "Diese Funktion gibt den Inhalt der Variablen a, b , sowie die Dezimalzahl 213213 aus.\n",
    "\n",
    "    \n",
    "### input\n",
    "\n",
    "Die Funktion `input(...)` erlaubt, in einem Programm den Benutzer um eine Tastatureingabe zu bitten, die mit\n",
    "der Eingabetaste abzuschließen ist. Sie liefert stets eine Zeichenkette, die dann erst in einem zweiten Schritt in eine Zahl oder etwas anderes umgewandelt werden kann.\n",
    "\n",
    "    s=input('Geben Sie ein Zahl zwischen 1 und 10 ein:')\n",
    "    zahl=int(s)\n",
    "    \n",
    "Im Input steht erst mal ein String - da der Rechner die eingegebenen Zeichen registriert. \n",
    "\n",
    "Eine Zeichenkette in ein `float` umzuwandeln, heißt die entsprechende Funktion `float`, entsprechend für `complex`. Umgekehrt können Zahlen mit der Funktion `str` in Strings umgewandelt werden . Darüber später noch etwas mehr.   \n",
    "    "
   ]
  },
  {
   "cell_type": "code",
   "execution_count": null,
   "metadata": {},
   "outputs": [],
   "source": [
    "s = input(\"Geben Sie etwas ein:\")"
   ]
  },
  {
   "cell_type": "code",
   "execution_count": null,
   "metadata": {},
   "outputs": [],
   "source": [
    "s"
   ]
  },
  {
   "cell_type": "markdown",
   "metadata": {},
   "source": [
    "**Aufgabe:** Schreiben Sie ein kleines Programm, das um die Eingabe eines Worts bittet und dieses anschließend dreimal ausgibt."
   ]
  },
  {
   "cell_type": "code",
   "execution_count": null,
   "metadata": {},
   "outputs": [],
   "source": []
  },
  {
   "cell_type": "code",
   "execution_count": null,
   "metadata": {},
   "outputs": [],
   "source": [
    "s = input(\"Geben Sie einen Text ein:\")\n",
    "print(\"Was bedeutet \", s, \"?\")\n",
    "print(\"Typ der Eingabe: \", type(s))"
   ]
  },
  {
   "cell_type": "code",
   "execution_count": null,
   "metadata": {},
   "outputs": [],
   "source": [
    "s = input('Geben Sie eine Zahl ein:')\n",
    "print(type(s))\n",
    "zahl = int(s)\n",
    "print(zahl, type(zahl))"
   ]
  },
  {
   "cell_type": "markdown",
   "metadata": {},
   "source": [
    "**Aufgabe:** Schreiben Sie ein Programm, dass die Eingabe einer Zahl verlangt und anschließen die Zahl, ihr Quadrat und ihre dritte Potenz ausgibt."
   ]
  },
  {
   "cell_type": "code",
   "execution_count": null,
   "metadata": {},
   "outputs": [],
   "source": []
  },
  {
   "cell_type": "markdown",
   "metadata": {},
   "source": [
    "Rechenoperationen mit Zahlen\n",
    "-------------------------------\n",
    "\n",
    "Ihr könnet die üblichen Grundrechenarten, darüber hinaus `**` für die Potenz benutzen. Der Typ der Ergebnisse solcher Rechenoperationen hängt vom Typ der beteiligten Zahlen ab, Operationen aus float und int liefern float, aus complex und einem der anderen liefert complex. Ihr könnt Klammern ( ) benutzen.\n",
    "    \n",
    "\n",
    "### Prioritäten:\n",
    "\n",
    "- Geklammerte Ausdrücke werden zuerst berechnet, innere Klammern vor äußeren.\n",
    "- 'Punkt vor Strich':  /,\\* kommt vor +,-\n",
    "\n",
    "### Weitere Operationen\n",
    "\n",
    "Wichtig ist noch die Division mit Rest //, bzw. der Rest bei dieser Division ('modulo') %, der sowohl für ganze Zahlen (mit ganzzahligem Ergebnis) als auch für Fließkommazahlen (mit float als Ergebnis) definiert ist:\n",
    "\n",
    "     7//3  --> 2\n",
    "\n",
    "     7%3   --> 1\n",
    "\n",
    "     \n",
    "Für ganze Zahlen gibt es weitere Operationen, die auf die Binärdarstellung bezogen sind: Das binäre 'und' &, 'oder' |\n",
    "und binäre Shifts <<, >>. Hier soll nicht weiter darauf eingegangen werden.\n",
    "             \n",
    "\n"
   ]
  },
  {
   "cell_type": "code",
   "execution_count": null,
   "metadata": {},
   "outputs": [],
   "source": [
    "# Kleiner Hinweis: In Python2 wird der Wert fuer Volumen 0, da die Division bei Integers dort anders funktioniert.\n",
    "\n",
    "#Berechnung Kegel-Volumen\n",
    "hoehe = 10\n",
    "grundflaeche = 2.5\n",
    "volumen = 1/3*hoehe*grundflaeche\n",
    "print(volumen)"
   ]
  },
  {
   "cell_type": "code",
   "execution_count": null,
   "metadata": {},
   "outputs": [],
   "source": [
    "2**10  #exponent"
   ]
  },
  {
   "cell_type": "code",
   "execution_count": null,
   "metadata": {},
   "outputs": [],
   "source": [
    "2**10000"
   ]
  },
  {
   "cell_type": "code",
   "execution_count": null,
   "metadata": {},
   "outputs": [],
   "source": [
    "13//5 #ganzzahlige division"
   ]
  },
  {
   "cell_type": "code",
   "execution_count": null,
   "metadata": {},
   "outputs": [],
   "source": [
    "13 % 5 #modulo"
   ]
  },
  {
   "cell_type": "code",
   "execution_count": null,
   "metadata": {},
   "outputs": [],
   "source": [
    "12321321321312 % 7"
   ]
  },
  {
   "cell_type": "markdown",
   "metadata": {},
   "source": [
    "Weitere eingebaute Funktionen:\n",
    "\n",
    "`abs, max, min`"
   ]
  },
  {
   "cell_type": "code",
   "execution_count": null,
   "metadata": {},
   "outputs": [],
   "source": [
    "abs(-3)  #Betrag"
   ]
  },
  {
   "cell_type": "code",
   "execution_count": null,
   "metadata": {},
   "outputs": [],
   "source": [
    "abs(1+1j) "
   ]
  },
  {
   "cell_type": "code",
   "execution_count": null,
   "metadata": {},
   "outputs": [],
   "source": [
    "max(1, 2, 4, 2)"
   ]
  },
  {
   "cell_type": "code",
   "execution_count": null,
   "metadata": {},
   "outputs": [],
   "source": [
    "min(1, 2, -1, 5)"
   ]
  },
  {
   "cell_type": "code",
   "execution_count": null,
   "metadata": {},
   "outputs": [],
   "source": [
    "max(1+1j, 2+2j)"
   ]
  },
  {
   "cell_type": "markdown",
   "metadata": {},
   "source": [
    "Es gibt  Funktionen zur **Typumwandlung** `float( ... )`, `int(    )`, `complex( ... )`, die meistens so heißen wie der Typ."
   ]
  },
  {
   "cell_type": "code",
   "execution_count": null,
   "metadata": {},
   "outputs": [],
   "source": [
    "float(1)"
   ]
  },
  {
   "cell_type": "code",
   "execution_count": null,
   "metadata": {},
   "outputs": [],
   "source": [
    "int(3.12312312)"
   ]
  },
  {
   "cell_type": "code",
   "execution_count": null,
   "metadata": {},
   "outputs": [],
   "source": [
    "int(-3.1231)"
   ]
  },
  {
   "cell_type": "code",
   "execution_count": null,
   "metadata": {},
   "outputs": [],
   "source": [
    "complex(213.2)"
   ]
  },
  {
   "cell_type": "markdown",
   "metadata": {},
   "source": [
    "Unter diesen Typ-Umwandlungen geht nur bei int(...) Information verloren, wenn das Argument ein `float` ist.  `int(...)` lässt einfach die Nachkommastellen weg. Oft aber will man ein anderes Verhalten, abrunden oder aufrunden oder aber zur nächsten ganzen Zahl runden.  \n",
    "\n",
    "Die eingebaute Funktion `round` rundet ein `float` zur nächsten ganzen Zahl, das Ergebnis ist in Python 2 ein `float`, in Python 3 ein `int`:\n",
    "\n"
   ]
  },
  {
   "cell_type": "markdown",
   "metadata": {},
   "source": [
    "Vergleiche mit Boolschen Variablen\n",
    "-----------\n",
    "\n",
    "Im letzten  Notebook haben wir schon etwas über die Eigenschaften von Boolschen Variablen gelernt. Dieser Datentyp spielt bei der Überprüfung von Bedingungen eine zentrale Rolle.\n",
    "\n",
    "Durch `==` prüfen Sie, ob zwei Werte gleich sind, das Ergebnis ist `True`, wenn sie es sind, sonst `False`.\n",
    "\n",
    "\n",
    "**Achtung**: Hier stehen **zwei Gleichheitszeichen!** Ein Gleichheitszeichen wird nur Zuweisungen von Variablen verwendet.\n"
   ]
  },
  {
   "cell_type": "code",
   "execution_count": null,
   "metadata": {},
   "outputs": [],
   "source": [
    "1 == 1"
   ]
  },
  {
   "cell_type": "code",
   "execution_count": null,
   "metadata": {},
   "outputs": [],
   "source": [
    "2 == 2.0"
   ]
  },
  {
   "cell_type": "markdown",
   "metadata": {},
   "source": [
    "Ihr seht also: Werte können gleich sein, selbst wenn die Typen verschieden sind.\n",
    "\n",
    "Durch `is` wird dagegen überprüft, ob es sich bei zwei Objekten um dasselbe Objekt handelt. Das wird später noch eine größere Rolle spielen."
   ]
  },
  {
   "cell_type": "code",
   "execution_count": null,
   "metadata": {},
   "outputs": [],
   "source": [
    "2 is 2.0"
   ]
  },
  {
   "cell_type": "code",
   "execution_count": null,
   "metadata": {},
   "outputs": [],
   "source": [
    "a = 2\n",
    "b = 2\n",
    "print(a is b)"
   ]
  },
  {
   "cell_type": "markdown",
   "metadata": {
    "collapsed": true
   },
   "source": [
    "**Ungleichheit** wird durch **!=** überprüft; Sie können aber auch not(... == ...) verwenden.\n",
    "\n",
    "Ansonsten kennt Python auch <, > , <=, >= und Ketten von solchen Ausdrücken, die zu interpretieren sind als die Verbindung der Ausdrücke durch `and`."
   ]
  },
  {
   "cell_type": "code",
   "execution_count": null,
   "metadata": {},
   "outputs": [],
   "source": [
    "a = 1\n",
    "b = 4\n",
    "c = 2\n",
    "print(a <= b <= c)"
   ]
  },
  {
   "cell_type": "code",
   "execution_count": null,
   "metadata": {},
   "outputs": [],
   "source": [
    "print(a <= c <= b)"
   ]
  },
  {
   "cell_type": "code",
   "execution_count": null,
   "metadata": {},
   "outputs": [],
   "source": [
    "print(a <= b >= c)  # in der Mathematik macht man das so nicht"
   ]
  },
  {
   "cell_type": "markdown",
   "metadata": {},
   "source": [
    "Für **Strings** sind ebenfalls alle diese Vergleichsoperatoren definiert. Dabei beziehen  sich '<','>','<=','>=' auf die **lexikalische Ordnung**. (Dieses Verhalten lässt sich ändern.)"
   ]
  },
  {
   "cell_type": "code",
   "execution_count": null,
   "metadata": {},
   "outputs": [],
   "source": [
    "a = 'Apfel'\n",
    "b = 'Apfelkuchen'\n",
    "c = 'Birne'\n",
    "print(a < a)\n",
    "print(a <= a)\n",
    "print(a < b)\n",
    "print(b < c)"
   ]
  },
  {
   "cell_type": "code",
   "execution_count": null,
   "metadata": {},
   "outputs": [],
   "source": [
    "d = 'Apfel'\n",
    "print(a == d)"
   ]
  },
  {
   "cell_type": "code",
   "execution_count": null,
   "metadata": {},
   "outputs": [],
   "source": [
    "print(a is d)"
   ]
  },
  {
   "cell_type": "markdown",
   "metadata": {},
   "source": [
    "Operationen mit Strings\n",
    "--------------------------\n"
   ]
  },
  {
   "cell_type": "code",
   "execution_count": null,
   "metadata": {},
   "outputs": [],
   "source": [
    "s='Mausefalle'"
   ]
  },
  {
   "cell_type": "markdown",
   "metadata": {},
   "source": [
    "Die Länge des Strings `s` erhalten Sie durch `len(s)`."
   ]
  },
  {
   "cell_type": "code",
   "execution_count": null,
   "metadata": {},
   "outputs": [],
   "source": [
    "len(s)"
   ]
  },
  {
   "cell_type": "markdown",
   "metadata": {},
   "source": [
    "Die einzelnen Zeichen eines Strings können Sie über einen Index in eckigen Klammern erreichen.\n",
    "\n",
    "Durch `s[0]` greift man auf den ersten Buchstaben von 'Katze' zu, `s[1]`\n",
    "auf den zweiten, etc.  Das letzte Zeichen von $c$ hat den Index `len(s)-1`, **also\n",
    "liefert `s[len(s)-1]` den Wert “e”.** Sie können aber das letzte Zeichen\n",
    "auch so erhalten: `s[-1]`, das vorletzte `s[2]`, etc. Ein negativer\n",
    "Index wird so interpretiert, dass vom Ende der Zeichenkette zu zählen\n",
    "ist.\n",
    "\n",
    "**Bemerkung**: So gut wie alle num(m)erierten Objekte in Python Zählen von Null an. Das entspricht natürlich nicht der Umgangssprache: In einer Reihe von zehn Bäumen wird man vom ersten, zweiten, ... , zehnten Baum sprechen.  Hier müssen Sie sich daran gewöhnen, vom nullten, ersten,  ... , neunten Baum zu reden.  Das ist eine mögliche Fehlerquelle, also Vorsicht!  \n",
    "\n",
    "Man kann historisch erklären, wie es dazu kommt. In anderen Programmiersprachen (Pascal/Delphi) wird die Zählung mit 1 begonnen, die derzeit wichtigsten Programmiersprachen (C, C++, Java, Fortran, Python) beginnen aber mit 0.\n"
   ]
  },
  {
   "cell_type": "code",
   "execution_count": null,
   "metadata": {},
   "outputs": [],
   "source": [
    "s[0]"
   ]
  },
  {
   "cell_type": "code",
   "execution_count": null,
   "metadata": {},
   "outputs": [],
   "source": [
    "s[1]"
   ]
  },
  {
   "cell_type": "code",
   "execution_count": null,
   "metadata": {},
   "outputs": [],
   "source": [
    "s[4]"
   ]
  },
  {
   "cell_type": "code",
   "execution_count": null,
   "metadata": {},
   "outputs": [],
   "source": [
    "s[-1]"
   ]
  },
  {
   "cell_type": "code",
   "execution_count": null,
   "metadata": {},
   "outputs": [],
   "source": [
    "s[-2]"
   ]
  },
  {
   "cell_type": "code",
   "execution_count": null,
   "metadata": {},
   "outputs": [],
   "source": [
    "s[11]"
   ]
  },
  {
   "cell_type": "markdown",
   "metadata": {},
   "source": [
    "Sie können auch einen Ausschnitt (ein `slice`) eines Strings bekommen, indem Sie in eckigen Klammern\n",
    "zwei oder drei durch Doppelpunkte getrennte Zahlen eingeben.\n",
    "\n",
    "- `s[anfang:ende]`  liefert den Teil des Strings, der zu den Indices i mit `anfang`$\\leq i< $`ende` gehört, der letzte Index ist also `ende-1`!\n",
    "\n",
    "- `s[anfang:ende:sprung]` liefert den Teil des Strings, der zu den Indices \n",
    "i$\\in\\{$ `anfang, anfang+sprung, anfang+2*sprung` $,\\ldots\\}$ mit $ i< $`ende` gehört. \n",
    "\n",
    "Für negative Indices ist wieder zu beachten, dass -1 dem Index `len(s)-1`, -k dem Index `len(s)-k` entspricht. In diesem mus Fall liefert `s[anfang:ende:sprung]`  für `anfang>ende` den Teilstring, der zu den Indices \n",
    "i$\\in\\{$ `anfang, anfang+sprung, anfang+2*sprung` $,\\ldots\\}$ mit $ i> $`ende` gehört.\n",
    "\n",
    "\n",
    "Lässt man die erste Zahl weg, also etwa s[:3], so wäre alles ab dem Anfang (Index 0) gemeint. Lässt man die zweite\n",
    "Zahl weg, so ist alles bis zum Ende gemeint.\n",
    "\n",
    "\n",
    "Diese Art, bestimmte Teile eines indizierten Objekts zu bekommen, nennt man **slicing**.  Es ist sehr wichtig und nützlich und wird uns noch öfter begegnen."
   ]
  },
  {
   "cell_type": "code",
   "execution_count": null,
   "metadata": {},
   "outputs": [],
   "source": [
    "s[0:4]"
   ]
  },
  {
   "cell_type": "code",
   "execution_count": null,
   "metadata": {},
   "outputs": [],
   "source": [
    "s[5:]"
   ]
  },
  {
   "cell_type": "code",
   "execution_count": null,
   "metadata": {},
   "outputs": [],
   "source": [
    "s[1:8:2]"
   ]
  },
  {
   "cell_type": "code",
   "execution_count": null,
   "metadata": {},
   "outputs": [],
   "source": [
    "s[-4:-2]"
   ]
  },
  {
   "cell_type": "code",
   "execution_count": null,
   "metadata": {},
   "outputs": [],
   "source": [
    "s[8:1:-1]"
   ]
  },
  {
   "cell_type": "code",
   "execution_count": null,
   "metadata": {},
   "outputs": [],
   "source": [
    "s='Katzenfutter'\n",
    "s[3:9:2]"
   ]
  },
  {
   "cell_type": "code",
   "execution_count": null,
   "metadata": {},
   "outputs": [],
   "source": [
    "s[-4:-1]"
   ]
  },
  {
   "cell_type": "markdown",
   "metadata": {},
   "source": [
    "\n",
    "Für Zeichenketten bedeutet `+` das Aneinanderhängen der Zeichenketten.\n"
   ]
  },
  {
   "cell_type": "code",
   "execution_count": null,
   "metadata": {},
   "outputs": [],
   "source": [
    "t=s+s+'Hund'"
   ]
  },
  {
   "cell_type": "code",
   "execution_count": null,
   "metadata": {},
   "outputs": [],
   "source": [
    "print(t)"
   ]
  },
  {
   "cell_type": "code",
   "execution_count": null,
   "metadata": {},
   "outputs": [],
   "source": [
    "'Katze'*4"
   ]
  },
  {
   "cell_type": "markdown",
   "metadata": {},
   "source": [
    "**Aufgabe:** Weisen Sie einer Variablen einen Satz als \n",
    "String zu und bestimmen Sie nun verschiedene *slices* dieses Strings.\n",
    "Lassen Sie sich die ersten 6, die letzten 6 und jeden zweiten Buchstaben\n",
    "ausgeben.\n",
    "\n",
    "Es gibt natürlich viel mehr Stringoperationen, die man nachschlagen\n",
    "kann, sobald man sie braucht. Es sollen noch einige erwähnt werden, weil\n",
    "wir sie bald gebrauchen können. **Beachten Sie im folgenden, dass der Variablennamen \n",
    "durch einen Punkt vom Namen einer Funktion getrennt wird.** Wir werden\n",
    "das später noch näher kennenlernen; es handelt sich um so genannte\n",
    "Methoden von Objekten.\n",
    "\n",
    "Ist `s` ein String, der am Ende Leerzeichen enthält oder `\\n`\n",
    "(’newline’), bzw. `\\r`(’carriage return’), so liefert die Funktion\n",
    "`s.rstrip()` einen String zurück, aus dem diese unsichtbaren Zeichen\n",
    "entfernt wurden. (Die Zeichen `\\r` und `\\n` trennen in gewöhnlichen\n",
    "Textdateien die Zeilen voneinander. Deswegen treten diese Zeichen beim\n",
    "Lesen solcher Dateien für gewöhnlich auf.)\n",
    "\n",
    "Die Funktion `s.replace(alt,neu)` liefert einen String, in dem alle\n",
    "Vorkommen des Strings `alt` im String `s` durch den String `neu` ersetzt\n",
    "wurden. Die Funktionen `s.upper` und `s.lower` liefern den String in\n",
    "Groß- bzw. Kleinbuchstaben umgewandelt zurück. **Der ursprüngliche\n",
    "String bleibt dabei unverändert, wenn Sie die Variable nicht neu\n",
    "zuweisen.**\n",
    "\n",
    "Eine weitere nützliche Funktion ist `s.find(...)`.  Diese sucht, ab welchem Index der für ... eingesetzte String\n",
    "in `s` vorkommt. Kommt er nicht vor, wird -1 zurückgegeben."
   ]
  },
  {
   "cell_type": "code",
   "execution_count": null,
   "metadata": {},
   "outputs": [],
   "source": [
    "satz='Ach, der Sommer ist vorbei.'\n",
    "satz2=satz.upper()\n",
    "satz2"
   ]
  },
  {
   "cell_type": "code",
   "execution_count": null,
   "metadata": {},
   "outputs": [],
   "source": [
    "print(satz)"
   ]
  },
  {
   "cell_type": "code",
   "execution_count": null,
   "metadata": {},
   "outputs": [],
   "source": [
    "satz3=satz2.replace('O','I')\n",
    "print(satz3)"
   ]
  },
  {
   "cell_type": "code",
   "execution_count": null,
   "metadata": {},
   "outputs": [],
   "source": [
    "satz4=satz3.replace('E','U')\n",
    "print(satz4)"
   ]
  },
  {
   "cell_type": "code",
   "execution_count": null,
   "metadata": {},
   "outputs": [],
   "source": []
  },
  {
   "cell_type": "markdown",
   "metadata": {},
   "source": [
    "### Wie  vertauschen wir den 3. und 5. Buchstaben eines Strings?"
   ]
  },
  {
   "cell_type": "code",
   "execution_count": null,
   "metadata": {},
   "outputs": [],
   "source": [
    "s=\"Die Pampaskatze ist eine Pardelkatze.\"\n",
    "# So nicht:\n",
    "a=s[2]\n",
    "b=s[4]\n",
    "s[2]=b\n",
    "s[4]=a"
   ]
  },
  {
   "cell_type": "markdown",
   "metadata": {},
   "source": [
    "### So ging's nicht.  Aufgabe: Wie vertauscht man also das 3. und 5. Zeichen?\n",
    "\n",
    "Das liegt daran, dass strings _immutable_ sind. Auch int, float, bool, decimal und complex Variablen sind immutable. \n",
    "\n",
    "Dazu später mehr.\n",
    "\n",
    "Nicht weiterlesen, wenn ihr es euch selbst überlegen wollt.\n",
    "\n",
    "\n",
    "\n",
    ".\n",
    "\n",
    ".\n",
    "\n",
    "\n",
    ".\n",
    "\n",
    "\n",
    ".\n",
    "\n",
    "\n",
    ".\n",
    "\n",
    "\n",
    "\n",
    "\n"
   ]
  },
  {
   "cell_type": "markdown",
   "metadata": {},
   "source": []
  },
  {
   "cell_type": "code",
   "execution_count": null,
   "metadata": {},
   "outputs": [],
   "source": [
    "# So geht's:\n",
    "s=s[:2]+s[4]+s[3:4]+s[2]+s[5:]"
   ]
  },
  {
   "cell_type": "code",
   "execution_count": null,
   "metadata": {},
   "outputs": [],
   "source": [
    "print(s)"
   ]
  },
  {
   "cell_type": "code",
   "execution_count": null,
   "metadata": {},
   "outputs": [],
   "source": [
    "def vertausche(s,i,j):\n",
    "    if i>j:\n",
    "        zwischen=i\n",
    "        i=j\n",
    "        j=zwischen\n",
    "    return s[:i]+s[j]+s[i+1:j]+s[i]+s[j+1:]\n",
    "\n",
    "print(vertausche('Hund',1,2))"
   ]
  },
  {
   "cell_type": "markdown",
   "metadata": {},
   "source": [
    "\n",
    "**Aufgabe: ** Schreiben Sie ein kleines Programm, dass eine Zeichenkette\n",
    "einliest, in Großbuchstaben umwandelt,  alle Vokale entfernt und das Ergebnis anschließend wieder\n",
    "ausgibt. \n"
   ]
  },
  {
   "cell_type": "code",
   "execution_count": null,
   "metadata": {},
   "outputs": [],
   "source": []
  },
  {
   "cell_type": "markdown",
   "metadata": {},
   "source": [
    "## Umwandlung von Zeichenketten in Zahlen und umgekehrt\n",
    "\n",
    "Wieder heißen die Umwandlungsfunktionen so wie die Typen."
   ]
  },
  {
   "cell_type": "code",
   "execution_count": null,
   "metadata": {},
   "outputs": [],
   "source": [
    "eingabe='213213'"
   ]
  },
  {
   "cell_type": "code",
   "execution_count": null,
   "metadata": {},
   "outputs": [],
   "source": [
    "type(eingabe)"
   ]
  },
  {
   "cell_type": "code",
   "execution_count": null,
   "metadata": {},
   "outputs": [],
   "source": [
    "float(eingabe)"
   ]
  },
  {
   "cell_type": "code",
   "execution_count": null,
   "metadata": {},
   "outputs": [],
   "source": [
    "int(eingabe)"
   ]
  },
  {
   "cell_type": "code",
   "execution_count": null,
   "metadata": {},
   "outputs": [],
   "source": [
    "eingabe='2.3213e+4'"
   ]
  },
  {
   "cell_type": "code",
   "execution_count": null,
   "metadata": {},
   "outputs": [],
   "source": [
    "int(eingabe)"
   ]
  },
  {
   "cell_type": "code",
   "execution_count": null,
   "metadata": {},
   "outputs": [],
   "source": [
    "float(eingabe)"
   ]
  },
  {
   "cell_type": "code",
   "execution_count": null,
   "metadata": {},
   "outputs": [],
   "source": [
    "int(float(eingabe))"
   ]
  },
  {
   "cell_type": "code",
   "execution_count": null,
   "metadata": {},
   "outputs": [],
   "source": [
    "eingabe='2.3213e+200'"
   ]
  },
  {
   "cell_type": "code",
   "execution_count": null,
   "metadata": {},
   "outputs": [],
   "source": [
    "float(eingabe)\n"
   ]
  },
  {
   "cell_type": "code",
   "execution_count": null,
   "metadata": {},
   "outputs": [],
   "source": []
  },
  {
   "cell_type": "code",
   "execution_count": null,
   "metadata": {},
   "outputs": [],
   "source": [
    "int(float(eingabe))    ## Seltsam, nicht?  "
   ]
  },
  {
   "cell_type": "code",
   "execution_count": null,
   "metadata": {},
   "outputs": [],
   "source": [
    "str(12.123213)"
   ]
  },
  {
   "cell_type": "code",
   "execution_count": null,
   "metadata": {},
   "outputs": [],
   "source": [
    "str(1.342324234e4)"
   ]
  },
  {
   "cell_type": "code",
   "execution_count": null,
   "metadata": {},
   "outputs": [],
   "source": [
    "str(1.3243242e16)"
   ]
  },
  {
   "cell_type": "markdown",
   "metadata": {},
   "source": [
    "Wir werden noch lernen, wie wir die Ausgabe von Zahlen (und anderen Objekten) als Strings genauer bestimmen. Das Thema heißt 'Formatierung'."
   ]
  },
  {
   "cell_type": "markdown",
   "metadata": {},
   "source": [
    "Einzelne Zeichen (also Strings der Länge 1) erlauben noch eine andere Art der Typumwandlung, nämlich die Umwandlung in einer Ordnungsnummer in einer bestimmten Anordnung der Zeichen.\n",
    "\n",
    "In den frühen Tagen der Personalcomputer gab es nur eine Anordnung von 128 Zeichen (englische Buchstaben und Satzzeichen, Klammern, einige Sonderzeichen), die ASCII-Zeichen. Diese Anordnung wurde später auf verschiedene Weisen auf 256 Zeichen (die Codierung war für verschiedene Sprachen verschieden.) Noch später wurde der Versuch unternummen, alle Zeichen, die in möglichst allen verschriftlichten Sprachen verwendet werden anzuordnen: Unicode.\n",
    "\n",
    "\n",
    "Die Funktion `ord( ... )` liefert die Ordnungszahl zu einem Zeichen, `chr( ... )` das Zeichen zu einer Ordnungszahl."
   ]
  },
  {
   "cell_type": "code",
   "execution_count": null,
   "metadata": {},
   "outputs": [],
   "source": [
    "ord('A')"
   ]
  },
  {
   "cell_type": "code",
   "execution_count": null,
   "metadata": {
    "scrolled": true
   },
   "outputs": [],
   "source": [
    "chr(66)"
   ]
  },
  {
   "cell_type": "markdown",
   "metadata": {},
   "source": [
    "# Aufgabe"
   ]
  },
  {
   "cell_type": "code",
   "execution_count": null,
   "metadata": {},
   "outputs": [],
   "source": [
    "%ls *.txt"
   ]
  },
  {
   "cell_type": "code",
   "execution_count": null,
   "metadata": {},
   "outputs": [],
   "source": [
    "genom = ''\n",
    "with open('protein_ecoli.txt','r') as f:\n",
    "    for line in f:\n",
    "        genom = genom + line.rstrip()      \n",
    "    "
   ]
  },
  {
   "cell_type": "code",
   "execution_count": null,
   "metadata": {},
   "outputs": [],
   "source": [
    "genom"
   ]
  },
  {
   "cell_type": "markdown",
   "metadata": {},
   "source": [
    "## Formulierung der Aufgabe\n",
    "\n",
    "1. Bestimmen Sie die Häufigkeit der Basen im Genom.\n",
    "2. \\* Finden Sie das längste Stück des Genoms, das überschneidungsfrei mindestens zwei mal vorkommt."
   ]
  },
  {
   "cell_type": "code",
   "execution_count": null,
   "metadata": {},
   "outputs": [],
   "source": []
  }
 ],
 "metadata": {
  "kernelspec": {
   "display_name": "Python 3",
   "language": "python",
   "name": "python3"
  },
  "language_info": {
   "codemirror_mode": {
    "name": "ipython",
    "version": 3
   },
   "file_extension": ".py",
   "mimetype": "text/x-python",
   "name": "python",
   "nbconvert_exporter": "python",
   "pygments_lexer": "ipython3",
   "version": "3.8.2"
  },
  "latex_envs": {
   "bibliofile": "biblio.bib",
   "cite_by": "apalike",
   "current_citInitial": 1,
   "eqLabelWithNumbers": true,
   "eqNumInitial": 0
  }
 },
 "nbformat": 4,
 "nbformat_minor": 1
}
