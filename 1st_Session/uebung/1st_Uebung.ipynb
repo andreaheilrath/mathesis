{
 "cells": [
  {
   "cell_type": "markdown",
   "metadata": {},
   "source": [
    "**Name:**\n",
    "\n",
    "**Gruppenpartner:**\n",
    "\n",
    "**Hier** ist Platz für **Hinweise von euch!**\n"
   ]
  },
  {
   "cell_type": "markdown",
   "metadata": {},
   "source": [
    "## 1. Übung\n",
    "\n",
    "Zahlen, Strings, Bedingungen, while-Schleifen\n",
    "\n",
    "Hausaufgabe: Löse mindestens 6 der folgenden Aufgaben. Ihr dürft die Aufgaben in Gruppen bearbeiten. \n",
    "\n",
    "Abgabe im ISIS-Kurs, spätestes Abgabedatum wird dort angegeben, Gruppenpartner bitte bei der Abgabe vermerken.\n",
    "\n",
    "Für einige Aufgaben benötigt ihr Zufallszahlen. Für Fließkomma-Zufallszahlen\n",
    "zwischen 0 und 1 können Sie die Funktion `random` des Moduls `random` benutzen oder die Funktion `rand` des Moduls `numpy.random`. \n",
    "Für ganze Zufallszahlen gibt es in den beiden Modulen eine Funktion `randint` (mit kleinen Unterschieden, sehen Sie sich `help(...)` an!)."
   ]
  },
  {
   "cell_type": "code",
   "execution_count": null,
   "metadata": {},
   "outputs": [],
   "source": [
    "import random  #importiert random - ab jetzt könnt ihr das Modul im ganzen Notebook aufrufen!\n",
    "help(random.random)  #gibt aus, was die Funktion random des moduls random tut\n",
    "\n",
    "import math\n",
    "help(math.sqrt)"
   ]
  },
  {
   "cell_type": "markdown",
   "metadata": {},
   "source": [
    "### Leichtere Aufgaben"
   ]
  },
  {
   "cell_type": "markdown",
   "metadata": {},
   "source": [
    "#### 1. Fakultät berechnen\n",
    "Schreibe ein Programm, das eine natürliche Zahl einliest und deren Fakultät ausgibt."
   ]
  },
  {
   "cell_type": "markdown",
   "metadata": {},
   "source": [
    "#### 2. Primzahltest\n",
    "Schreibe ein Programm, das eine natürliche Zahl einliest und prüft, ob es sich um eine Primzahl handelt."
   ]
  },
  {
   "cell_type": "markdown",
   "metadata": {},
   "source": [
    "#### 3. Quersumme\n",
    "Schreibe ein Programm, das als Eingabe eine ganze Zahl erwartet und die Quersumme ausgibt."
   ]
  },
  {
   "cell_type": "markdown",
   "metadata": {},
   "source": [
    "#### 4. Regelmäßiges Polygon\n",
    "Schreibe ein Programm, das um Eingabe einer (natürlichen) Zahl n bittet und anschließend  mit der Turtle-Graphik ein n-Eck zeichnet."
   ]
  },
  {
   "cell_type": "markdown",
   "metadata": {},
   "source": [
    "#### 5. Harshad-Zahlen\n",
    "Eine naürliche Zahl heißt Harshad-Zahl, wenn sie durch ihre Quersumme bezüglich der Dezimalschreibweise) teilbar ist. Beispielsweise ist für $777$ die Quersumme $7+7+7=21$ und teilt $777$.\n",
    "\n",
    "Schreibe ein Programm, dass die Harshard-Zahlen von 1 bis 100 berechnet."
   ]
  },
  {
   "cell_type": "markdown",
   "metadata": {},
   "source": [
    "#### 6. Palindrom\n",
    "Schreibe ein Programm, das einen String einliest und prüft, ob es sich um ein Palindrom handelt."
   ]
  },
  {
   "cell_type": "markdown",
   "metadata": {},
   "source": [
    "#### 7. Spiralornament\n",
    "\n",
    "Zeichne mit der Turtle ein spiralartiges Ornament\n",
    "\n",
    "\n",
    "<img src=\"spirale.png\" width=300 height=300 />"
   ]
  },
  {
   "cell_type": "markdown",
   "metadata": {},
   "source": [
    "### Mittelschwere Aufgaben"
   ]
  },
  {
   "cell_type": "markdown",
   "metadata": {},
   "source": [
    "#### 8. Pi durch Zufallszahlen\n",
    "\n",
    "Wir betrachten ein Quadrat der Seitenlänge 1 und setzen zufällig einen Punkt auf das Papier. Wie wahrscheinlich ist es, dass ein Punkt weniger als Abstand 1 zum Mittelpunkt hat? Hinweis: hier sind die Module `random` und `math` sehr hilfreich.\n",
    "\n",
    "Wie lässt sich daraus $\\pi$ berechnen? Starthilfe von Daniel Shiffman: https://youtu.be/5cNnf_7e92Q?t=99"
   ]
  },
  {
   "cell_type": "markdown",
   "metadata": {},
   "source": [
    "#### 9. Random Walk\n",
    "\n",
    "Simuliere mit Hilfe der Turtlegraphik ein Wesen, dass im Ursprung startet und in jedem Zeitschritt mit Wahrscheinlichkeit 1/4 \n",
    "nach N/W/S/O läuft (eine gewisse Strecke s). Beende die Simulation, wenn das Wesen wieder im Ursprung ist.\n",
    "\n",
    "\n",
    "Hast du Vermutungen darüber, mit welcher Wahrscheinlichkeit das Wesen überhaupt zurückkehrt oder über die mittlere Dauer der Irrfahrt?  Wie lassen sich solche Hypothesen mit einer Simulation auf Plausibilität überprüfen? (Beweisen könnten lässt sich das allerdings nur mit Hilfe von Mathematik.)"
   ]
  },
  {
   "cell_type": "markdown",
   "metadata": {},
   "source": [
    "#### 10. Pseudozufallszahlen\n",
    "Wenn man in Programmen Zufallszahlen benötigt, so werden meist Folgen von Pseudozufallszahlen verwendet, d.h. eine Folge von Zahlen $a_1, a_2, a_3, \\ldots$, die für statistische Analysen wie das Ergebnis eines Zufallsprozesses aussehen. Ein einfaches Beispiel solcher Pseudozufallfolgen mit Folgegliedern aus dem Bereich von 0 bis 65535 erhält man durch\n",
    "\n",
    "$a_{i+1} = (25173 \\, a_i + 13849) \\% 65536$.\n",
    "\n",
    "(Dies ist eine übliche Weise für die Definition von Zahlenfolgen: Die Gleichung gibt an, wie man aus einem Folgeglied $a_i$ das nächste Folgeglied $a_{i+1}$ errechnet.) Schreibe ein Programm, das das erste Folgeglied (den **seed**)\n",
    "vom Nutzer einliest und die nächsten 20 Folgegliedeausgibt.\n",
    "\n",
    "*Zusatz*: Veranschauliche die Zufallszahlen, indem du durch diese Zahlen die Bewegung einer `turtle` steuerst. Dafür gibt es verschiedene Möglichkeiten. Wenn das Ergebnis schön wirr aussieht, scheint der Zufall zufällig genug zu sein."
   ]
  },
  {
   "cell_type": "markdown",
   "metadata": {},
   "source": [
    "#### 11. Häufigkeit der Vokale\n",
    "\n",
    "Schreibe ein Programm, das für einen String (also Text) die Anzahl der 'e','a','i','o' und 'u' ermittelt. \n",
    "Man kann statt eines eingegebenen Strings auch einen ganzen Text verwenden.  Kopiere dazu den Text\n",
    "als Datei (auf ISIS/GitHub stehen als Beispiele *das\\_urteil.txt* und *dickens\\_martinchuzzlewit.txt*) in das Verzeichnis, wo sich das Programm befindet. \n",
    "\n",
    "Daran lässt sich die Sprache erkennen, probier es aus!"
   ]
  },
  {
   "cell_type": "code",
   "execution_count": null,
   "metadata": {},
   "outputs": [],
   "source": [
    "with open(\"das_urteil.txt\",\"r\") as f:\n",
    "    text=f.read()"
   ]
  },
  {
   "cell_type": "markdown",
   "metadata": {},
   "source": [
    "#### 12. Buchstaben zu Bild\n",
    "Schreibe ein Programm, das um die Eingabe einer Zeichenkette aus den Buchstaben 'L','R' und 'G' bittet. Anschließend zeichnet die Turtle-Graphik die Kurve, die durch die Anweisungen 'L' (nach links drehen), 'R' (nach rechts drehen) und 'G' (50 Schritte geradeaus gehen) gegeben ist, also liefert beispielsweise GLGLGLG ein Quadrat."
   ]
  },
  {
   "cell_type": "markdown",
   "metadata": {},
   "source": [
    "#### 13. Stern\n",
    "Schreibe ein Programm, das um Eingabe einer Zahl n bittet und anschließend mithilfe der Turtle-Grafik einen n-zackigen Stern zeichnet.\n"
   ]
  },
  {
   "cell_type": "markdown",
   "metadata": {},
   "source": [
    "#### 14. Mäander\n",
    "Schreibe ein Programm, das nach Eingabe einer Zahl n ein n-fach wiederholtes Mäander-Ornament zeichnet, siehe: https://de.wikipedia.org/wiki/Mäander_(Ornamentik)"
   ]
  },
  {
   "cell_type": "markdown",
   "metadata": {},
   "source": [
    "#### 15. Eine quadratische Gleichung\n",
    "Schreibe ein Programm, das die Koeffizienten $a$,$b$,$c$ einer\n",
    "quadratischen Gleichung $ax^2+bx+c=0$ einliest und die reelle(n) Lösung(en) ausgibt,\n",
    "bzw. gegebenenfalls eine Meldung, dass es keine reelle Lösung gibt.  \n",
    "Schreibe eine Variante, die die komplexen Lösungen ausgibt. In beiden Fällen braucht man die Wurzelfunktion `sqrt(x)`, die man entwerder aus `numpy` oder `math` importieren kann. \n"
   ]
  },
  {
   "cell_type": "markdown",
   "metadata": {},
   "source": [
    "### Schwere Aufgaben"
   ]
  },
  {
   "cell_type": "markdown",
   "metadata": {},
   "source": [
    "#### 16. Collatz-Folge\n",
    "Die Collatz-Folge $(a_n)_{n \\in N}$ zum Anfangswert $a_0\\in N$ ist wie folgt rekursiv definiert: Ist $a_n$ gerade, so ist $a_{n+1}=\\frac{a_n}{2}$, andernfalls $a_{n+1}=3 a_n+1$.  Es ist nicht bekannt, ob diese Folge für alle Anfangswerte irgendwann bei $1$ ankommt (und anschließend periodische weitergeht $1\\rightarrow 4 \\rightarrow 2 \\rightarrow 1 \\rightarrow \\cdots$.)\n",
    "\n",
    "Schreibe ein Programm, dass für einen eingebenen Anfangswerd die ersten 100 Folgenglieder ausgibt. Schreibe anschließend eine Variante, die alle Glieder bis zur ersten $1$ und den Index dieser ersten $1$ ausgibt. Schreibe anschließend ein Programm, das im Zahlenbereich bis zu 1 Million (oder gerne auch größer) den Anfangswert mit dem längsten Anfangsstück bis zur ersten $1$ ausgibt. "
   ]
  },
  {
   "cell_type": "markdown",
   "metadata": {},
   "source": [
    "#### 17. Verschlüsselung mit Caesarchiffre\n",
    "\n",
    "Bei der Caesarchiffre, einem einfachen Verfahren zur Verschlüsselung von Nachrichten, ersetzt man die Buchstaben mit dem $n$. Nachfolger im Alphabet (zyklisch), also z.B. f\"ur $n = 3$ wird a zu d, b zu e, c zu f, ..., w zu z, x zu a, y zu b und z zu c. Aus **eswarschondunkel** wird dann **hvzduvfkrqgxqnho**. \n",
    "Traditionell verwendet man bei den einfachen Verschlüsselungen keine Groß-/Kleinschreibung, Interpunktion und Leerzeichen -- das Knacken des Codes wäre sonst zu einfach. Ebenso können hier Umlaute und ß besser als ae, oe, ue und ss dargestellt werden. \n",
    "\n",
    "Schreibe ein Programm, das ein $n$ und den zu verschlüsselnden Klartext einliest und dafür die verschlüsselte Zeichenkette ausgibt."
   ]
  },
  {
   "cell_type": "markdown",
   "metadata": {},
   "source": [
    "#### 18. Genomanalyse (zählt doppelt)\n",
    "Lese mit dem folgenden Stück Code die ganze Datei *protein_ecoli.txt* in einen String. Es handelt sich um den Teil der DNA von E. Coli, der das erste Protein (bezüglich einer in den großen Gendatenbanken festgelegten Reihenfolge) codiert.\n",
    "\n",
    "Schreibe ein kleines Programm, das das längste Code-Stück sucht, das (überschneidungsfrei) doppelt in dieser Sequenz vorkommt (oder alle längsten Stücke)."
   ]
  },
  {
   "cell_type": "code",
   "execution_count": null,
   "metadata": {
    "scrolled": true
   },
   "outputs": [],
   "source": [
    "%ls *.txt #dieser Befehl wird in der Konsole ausgeführt. Hier sollte die datei \"pritein_exoli.txt\" auftauchen"
   ]
  },
  {
   "cell_type": "code",
   "execution_count": null,
   "metadata": {},
   "outputs": [],
   "source": [
    "f = open(\"protein_ecoli.txt\", \"r\")\n",
    "seq = \"\"\n",
    "\n",
    "for line in f:\n",
    "    seq = seq + line.rstrip()\n",
    "f.close()"
   ]
  },
  {
   "cell_type": "code",
   "execution_count": null,
   "metadata": {},
   "outputs": [],
   "source": []
  }
 ],
 "metadata": {
  "kernelspec": {
   "display_name": "Python 3",
   "language": "python",
   "name": "python3"
  },
  "language_info": {
   "codemirror_mode": {
    "name": "ipython",
    "version": 3
   },
   "file_extension": ".py",
   "mimetype": "text/x-python",
   "name": "python",
   "nbconvert_exporter": "python",
   "pygments_lexer": "ipython3",
   "version": "3.8.3"
  }
 },
 "nbformat": 4,
 "nbformat_minor": 4
}
