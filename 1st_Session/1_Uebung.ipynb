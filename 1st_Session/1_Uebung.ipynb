{
 "cells": [
  {
   "cell_type": "markdown",
   "metadata": {},
   "source": [
    "**Name:**\n",
    "\n",
    "**Gruppenpartner:**\n",
    "\n",
    "**Hier** ist Platz für **Hinweise von euch!**\n"
   ]
  },
  {
   "cell_type": "markdown",
   "metadata": {},
   "source": [
    "## 1. Übung\n",
    "\n",
    "Zahlen, Strings, Bedingungen, while-Schleifen\n",
    "\n",
    "Hausaufgabe: Löse mindestens 6 der folgenden Aufgaben. Ihr dürft die Aufgaben in Gruppen bearbeiten. Aufgaben mit Stern * zählen doppelt.\n",
    "\n",
    "Abgabe im ISIS-Kurs, spätestes Abgabedatum wird dort angegeben, Gruppenpartner bitte bei der Abgabe vermerken.\n",
    "\n",
    "Für einige Aufgaben benötigen Sie Zufallszahlen. Für Fließkomma-Zufallszahlen\n",
    "zwischen 0 und 1 können Sie die Funktion `random` des Moduls `random` benutzen oder die Funktion `rand` des Moduls `numpy.random`. \n",
    "Für ganze Zufallszahlen gibt es in den beiden Modulen eine Funktion `randint` (mit kleinen Unterschieden, sehen Sie sich `help(...)` an!)."
   ]
  },
  {
   "cell_type": "code",
   "execution_count": null,
   "metadata": {},
   "outputs": [],
   "source": [
    "import random  #importiert random - ab jetzt könnt ihr das Modul im ganzen Notebook aufrufen!\n",
    "help(random.random)  #gibt aus, was die Funktion random des moduls random tut\n",
    "\n",
    "import math\n",
    "help(math.sqrt)"
   ]
  },
  {
   "cell_type": "markdown",
   "metadata": {},
   "source": [
    "#### Primzahltest\n",
    "Schreiben Sie ein Programm, das eine natürliche Zahl einliest und prüft, ob es sich um eine Primzahl handelt."
   ]
  },
  {
   "cell_type": "markdown",
   "metadata": {},
   "source": [
    "#### Fakultät berechnen\n",
    "Schreiben Sie ein Programm, das eine natürliche Zahl einliest und deren Fakultät ausgibt."
   ]
  },
  {
   "cell_type": "markdown",
   "metadata": {},
   "source": [
    "#### Abstand von Fliegen auf einem Papier\n",
    "\n",
    "Zwei Fliegen landen zufällig (gleichverteilt) auf einem Quadrat der Seitenlänge  eins. Mit welcher Wahrscheinlichkeit ist der (euklidische) Abstand der Fliegen größer als 1?\n",
    "Ermitteln Sie einen Näherungswert durch eine Simulation über eine Million Landungen. \n",
    "\n",
    "Gelingt es Ihnen, den Wert theoretisch zu bestimmen (technisch nicht so leicht)?"
   ]
  },
  {
   "cell_type": "markdown",
   "metadata": {},
   "source": [
    "#### Pi durch Zufallszahlen\n",
    "\n",
    "Wir betrachten ein Quadrat der Seitenlänge 1 und setzen zufällig einen Punkt auf das Papier. Wie wahrscheinlich ist es, dass ein Punkt weniger als 1 Abstand zum Mittelpunkt hat? Hinweis: hier sind die Module `random` und `math` sehr hilfreich.\n",
    "\n",
    "Wie lässt sich daraus $\\pi$ berechnen? Starthilfe von Daniel Shiffman: https://youtu.be/5cNnf_7e92Q?t=99"
   ]
  },
  {
   "cell_type": "code",
   "execution_count": null,
   "metadata": {},
   "outputs": [],
   "source": [
    "import random\n",
    "import math\n",
    "\n",
    "iterations = 1000000\n",
    "inside_circle = 0\n",
    "\n",
    "for i in range(iterations):\n",
    "    x = 2*random.random()\n",
    "    y = 2*random.random()\n",
    "    if (math.sqrt((x-1)**2 + (y-1)**2) <= 1): inside_circle += 1\n",
    "    \n",
    "print((inside_circle/iterations)*4)"
   ]
  },
  {
   "cell_type": "markdown",
   "metadata": {},
   "source": [
    "#### Genomanalyse *\n",
    "Lesen Sie mit dem folgenden Stück Code die ganze Datei *protein_ecoli.txt* in einen String. Es handelt sich um den Teil der DNA von E. Coli, der  das erste Protein (bezüglich einer in den großen Gendatenbanken festgelegten Reihenfolge) codiert.\n",
    "\n",
    "Schreiben Sie ein kleines Programm, das das längste Code-Stück sucht,\n",
    "das (überschneidungsfrei) doppelt in dieser Sequenz vorkommt (oder alle längsten Stücke).\n",
    "\n",
    "    f = open(\"protein_ecoli.txt\", \"r\")\n",
    "    seq = \"\"\n",
    "\n",
    "    for line in f:\n",
    "        seq = seq + line.rstrip()\n",
    "    f.close()"
   ]
  },
  {
   "cell_type": "markdown",
   "metadata": {},
   "source": [
    "#### Random Walk\n",
    "\n",
    "Simulieren mit Hilfe der Turtlegraphik ein Wesen, dass im Ursprung startet und in jedem Zeitschritt mit Wahrscheinlichkeit 1/4 \n",
    "nach N/W/S/O läuft (eine gewisse Strecke s). Beende die Simulation, wenn das Wesen wieder im Ursprung ist.\n",
    "\n",
    "\n",
    "Haben Sie Vermutungen darüber, mit welcher Wahrscheinlichkeit das Wesen überhaupt zurückkehrt oder über die mittlere Dauer der Irrfahrt?  Wie könnten Sie solche Hypothesen mit einer Simulation auf Plausibilität überprfen? (Beweisen könnten Sie sie allerdings nur mit Hilfe von\n",
    "Mathematik.)"
   ]
  },
  {
   "cell_type": "code",
   "execution_count": 69,
   "metadata": {},
   "outputs": [
    {
     "ename": "Terminator",
     "evalue": "",
     "output_type": "error",
     "traceback": [
      "\u001b[1;31m---------------------------------------------------------------------------\u001b[0m",
      "\u001b[1;31mTerminator\u001b[0m                                Traceback (most recent call last)",
      "\u001b[1;32m<ipython-input-69-5655e9854118>\u001b[0m in \u001b[0;36m<module>\u001b[1;34m\u001b[0m\n\u001b[0;32m     12\u001b[0m     \u001b[0mvalue\u001b[0m \u001b[1;33m=\u001b[0m \u001b[1;36m90\u001b[0m \u001b[1;33m*\u001b[0m \u001b[0mrandom\u001b[0m\u001b[1;33m.\u001b[0m\u001b[0mrandint\u001b[0m\u001b[1;33m(\u001b[0m\u001b[1;36m0\u001b[0m\u001b[1;33m,\u001b[0m\u001b[1;36m4\u001b[0m\u001b[1;33m)\u001b[0m\u001b[1;33m\u001b[0m\u001b[1;33m\u001b[0m\u001b[0m\n\u001b[0;32m     13\u001b[0m     \u001b[0madd_value\u001b[0m \u001b[1;33m+=\u001b[0m \u001b[0mvalue\u001b[0m\u001b[1;33m\u001b[0m\u001b[1;33m\u001b[0m\u001b[0m\n\u001b[1;32m---> 14\u001b[1;33m     \u001b[0mturtle\u001b[0m\u001b[1;33m.\u001b[0m\u001b[0mleft\u001b[0m\u001b[1;33m(\u001b[0m\u001b[0mvalue\u001b[0m\u001b[1;33m)\u001b[0m\u001b[1;33m\u001b[0m\u001b[1;33m\u001b[0m\u001b[0m\n\u001b[0m\u001b[0;32m     15\u001b[0m     \u001b[0mturtle\u001b[0m\u001b[1;33m.\u001b[0m\u001b[0mforward\u001b[0m\u001b[1;33m(\u001b[0m\u001b[1;36m10\u001b[0m\u001b[1;33m)\u001b[0m\u001b[1;33m\u001b[0m\u001b[1;33m\u001b[0m\u001b[0m\n\u001b[0;32m     16\u001b[0m \u001b[1;33m\u001b[0m\u001b[0m\n",
      "\u001b[1;32m~\\anaconda3\\lib\\turtle.py\u001b[0m in \u001b[0;36mleft\u001b[1;34m(angle)\u001b[0m\n",
      "\u001b[1;31mTerminator\u001b[0m: "
     ]
    }
   ],
   "source": [
    "import turtle\n",
    "import random\n",
    "\n",
    "turtle.speed(0)\n",
    "\n",
    "step = 0\n",
    "steps = 10000\n",
    "add_value = 0\n",
    "#for i in range(steps):\n",
    "while step < steps:\n",
    "    step = step + 1\n",
    "    value = 90 * random.randint(0,4)\n",
    "    add_value += value\n",
    "    turtle.left(value)\n",
    "    turtle.forward(10)\n",
    "\n",
    "print(add_value / steps)\n",
    "turtle.exitonclick()\n",
    "turtle.bye()"
   ]
  },
  {
   "cell_type": "markdown",
   "metadata": {},
   "source": [
    "#### Pseudozufallszahlen\n",
    "Wenn man in Programmen Zufallszahlen benötigt, so werden meist Folgen von Pseudozufallszahlen verwendet, d.h. eine Folge von Zahlen $a_1, a_2, a_3, \\ldots$, die für statistische Analysen wie das Ergebnis eines Zufallsprozesses aussehen. Ein einfaches Beispiel solcher Pseudozufallfolgen mit Folgegliedern aus dem Bereich von 0 bis 65535 erhält man durch\n",
    "\n",
    "$a_{i+1} = (25173 \\, a_i + 13849) \\% 65536$.\n",
    "\n",
    "(Dies ist eine übliche Weise für die Definition von Zahlenfolgen: Die Gleichung gibt an, wie man aus einem Folgeglied $a_i$ das nächste Folgeglied $a_{i+1}$ errechnet.) Schreiben Sie ein Programm, das das erste Folgeglied (den **seed**)\n",
    "vom Nutzer einliest und die n\"achsten 20 Folgegliedeausgibt.\n",
    "\n",
    "Zusatz: Veranschaulichen sie die Zufallszahlen, indem Sie durch diese Zahlen die Bewegung einer `turtle` steuern. Dafür gibt es verschiedene Möglichkeiten, lassen Sie sich was einfallen.\n",
    "Wenn das Ergebnis schön wirr aussieht, scheint der Zufall zufällig genug zu sein."
   ]
  },
  {
   "cell_type": "markdown",
   "metadata": {},
   "source": [
    "#### Häufigkeit der Vokale\n",
    "\n",
    "Schreiben Sie ein Programm, das für einen String (also Text) die Anzahl der 'e','a','i','o' und 'u' ermittelt. \n",
    "Sie können statt eines eingegebenen Strings auch einen ganzen Text verwenden.  Dazu kopieren Sie den Text\n",
    "als Datei (auf ISIS stehen als Beispiele *das\\_urteil.txt* und *dickens\\_martinchuzzlewit.txt* in das Verzeichnis, wo sich ihr Programm befindet. Mit\n",
    "\n",
    "    with open(\"das_urteil.txt\",\"r\") as f:\n",
    "        text=f.read()\n",
    "\n",
    "wird der ganze Text in dem String 'text' gespeichert.\n",
    "\n",
    "Sie können daran etwa die Sprache erkennen, probieren Sie's aus."
   ]
  },
  {
   "cell_type": "markdown",
   "metadata": {},
   "source": [
    "#### Spiralornament\n",
    "\n",
    "Zeichnen Sie mit der Turtle ein spiralartiges Ornament\n",
    "\n",
    "\n",
    "<img src=\"spirale.png\" width=300 height=300 />"
   ]
  },
  {
   "cell_type": "markdown",
   "metadata": {},
   "source": [
    "#### Buchstaben zu Bild\n",
    "Schreiben Sie ein Programm, das um die Eingabe einer Zeichenkette aus den Buchstaben 'L','R' und 'G' bittet. Anschließend zeichnet die Turtle-Graphik die Kurve, die durch die Anweisungen 'L' (nach links drehen), 'R' (nach rechts drehen) und 'G' (50 Schritte geradeaus gehen) gegeben ist, also liefert beispielsweise GLGLGLG ein Quadrat."
   ]
  },
  {
   "cell_type": "markdown",
   "metadata": {},
   "source": [
    "#### Quersumme\n",
    "Schreiben Sie ein Programm, das als Eingabe eine Dezimalzahl erwartet\n",
    "und die Quersumme ausgibt."
   ]
  },
  {
   "cell_type": "markdown",
   "metadata": {},
   "source": [
    "#### Collatz-Folge\n",
    "Die Collatz-Folge $(a_n)_{n \\in \\N}$ zum Anfangswert $a_0\\in \\N$ ist wie folgt rekursiv definiert: Ist $a_n$ gerade, so ist $a_{n+1}=\\frac{a_n}{2}$, andernfalls $a_{n+1}=3 a_n+1$.  Es ist nicht bekannt, ob diese Folge für alle Anfangswerte irgendwann bei $1$ ankommt (und anschließend periodische weitergeht $1\\rightarrow 4 \\rightarrow 2 \\rightarrow 1 \\rightarrow \\cdots$.)\n",
    "\n",
    "Schreiben Sie ein Programm, dass für einen eingebenen Anfangswerd die ersten 100 Folgenglieder ausgibt. Schreiben Sie anschließend eine Variante, die alle Glieder bis zur ersten $1$ und den Index dieser ersten $1$ ausgibt. Schreiben Sie \n",
    "anschließend ein Programm, dass im Zahlenbereich bis zu 1 Million (oder gerne auch größer) den Anfangswert mit dem längsten Anfangsstück bis zur ersten $1$ ausgibt. "
   ]
  },
  {
   "cell_type": "markdown",
   "metadata": {},
   "source": [
    "#### Verschlüsselung mit Caesarchiffre\n",
    "\n",
    "Bei der Caesarchiffre, einem einfachen Verfahren zur Verschlüsselung von Nachrichten, ersetzt man die Buchstaben mit dem $n$. Nachfolger im Alphabet (zyklisch), also z.B. f\"ur $n = 3$ wird a zu d, b zu e, c zu f, ..., w zu z, x zu a, y zu b und z zu c. Aus **eswarschondunkel** wird dann **hvzduvfkrqgxqnho**. \n",
    "Traditionell verwendet man bei den einfachen Verschlüsselungen keine Groß-/Kleinschreibung, Interpunktion und Leerzeichen -- das Knacken des Codes wäre sonst zu einfach. Ebenso können hier Umlaute und ß besser als ae, oe, ue und ss dargestellt werden. \n",
    "\n",
    "Schreiben Sie ein Programm, das ein $n$ und den zu verschlüsselnden Klartext einliest und dafür die verschlüsselte Zeichenkette ausgibt."
   ]
  },
  {
   "cell_type": "markdown",
   "metadata": {},
   "source": [
    "#### Harshad-Zahlen\n",
    "Eine naürliche Zahl heißt Harshad-Zahl, wenn sie durch ihre Quersumme bezüglich der Dezimalschreibweise) teilbar ist. Beispielsweise ist für $777$ die Quersumme $7+7+7=21$ und teilt $777$.\n",
    "\n",
    "Schreiben Sie ein Programm, dass die Harshard-Zahlen von 1 bis 100 berechnet."
   ]
  },
  {
   "cell_type": "markdown",
   "metadata": {},
   "source": [
    "#### Palindrom\n",
    "Schreiben Sie zwei Programme, die einen String einlesen und prüfen, ob es sich um ein Palindrom handelt: 1. ein einzeiliges Programm, das ohne Schleifen auskommt und die besonderen String-Operationen verwendet. 2. ein Programm,\n",
    "das mit Schleifen arbeitet."
   ]
  },
  {
   "cell_type": "markdown",
   "metadata": {},
   "source": [
    "#### regelmäßiges Polygon\n",
    "Schreiben Sie ein Programm, das um Eingabe einer (natürlichen) Zahl n bittet und anschließend  mit der Turtle-Graphik ein n-Eck zeichnet."
   ]
  },
  {
   "cell_type": "markdown",
   "metadata": {},
   "source": [
    "#### Stern\n",
    "Schreiben Sie ein Programm, das um Eingabe einer Zahl n bittet und anschließend einen n-zackigen Stern zeichnet.\n"
   ]
  },
  {
   "cell_type": "markdown",
   "metadata": {},
   "source": [
    "#### Mäander\n",
    "Schreiben Sie ein Programm, das nach Eingabe einer Zahl n ein n-fach wiederholtes Mäander-Ornament zeichnet, siehe: https://de.wikipedia.org/wiki/Mäander_(Ornamentik)"
   ]
  },
  {
   "cell_type": "markdown",
   "metadata": {},
   "source": [
    "#### Eine quadratische Gleichung\n",
    "Schreiben Sie ein Programm, das die Koeffizienten $a$,$b$,$c$ einer\n",
    "quadratischen Gleichung $ax^2+bx+c=0$ einliest und die reelle(n) Lösung(en) ausgibt,\n",
    "bzw. gegebenenfalls eine Meldung, dass es keine reelle Lösung gibt.  \n",
    "-- Schreiben Sie eine Variante, die die komplexen Lösungen ausgibt. In beiden\n",
    "`numpy` oder `math` importieren können. \n"
   ]
  },
  {
   "cell_type": "code",
   "execution_count": null,
   "metadata": {},
   "outputs": [],
   "source": []
  },
  {
   "cell_type": "markdown",
   "metadata": {},
   "source": [
    "#### Schere-Stein-Papier\n",
    "\n",
    "Schreiben Sie ein Programm, das gegen einen menschlichen Spieler  Schere-Stein-Papier spielt.  Was würden Sie intuitiv für ein besonders gutes Programm gegen einen Spieler halten, über den nichts bekannt ist, außer, dass er mit gewisser (unbekannter) Wahrscheinlichkeit eines der drei Symbole zeigt, wenn das Ziel ist, möglichst oft zu gewinnen, egal was der menschliche Spieler tut? Können Sie beweisen, dass Sie die optimale Strategie gefunden haben ?\n",
    "\n",
    "Diese einfache Aufgabe lässt sich als Ausgangspunkt für die Spieltheorie verwenden, indem man sie etwas weiter treibt.\n",
    "Was ist  die optimale Strategie, wenn Siege nicht gleichviel zählen, sondern eine Aus- oder Einzahlung stattfindet gemäß der folgenden Matrix ?\n",
    "\n",
    "\\begin{tabular}{ll| l l}\n",
    "A & B & Ausz. an A & Ausz. an B\\\\ \\hline\n",
    "Schere & Papier & 2 & -2 \\\\\n",
    "Papier & Stein  & 3 & -3 \\\\\n",
    "Stein  & Schere & 1 & -1 \\\\\n",
    "Papier & Schere & -2 & 2 \\\\\n",
    "Stein & Papier & -3 & 3 \\\\\n",
    "Schere & Stein & -1 & 1 \\\\\n",
    "\\end{tabular}\n",
    "\n",
    "Zeigen beide das gleiche Symbol, erfolgt keine Auszahlung. Ein hierfür relevantes Stichwort aus der Spieltheorie \n",
    "lautet **beste gemischte Strategie** oder auch **Gleichgewicht gemischter Strategien**.\n",
    "\n",
    "Frage zum Grübeln: Lässt sich die Strategie gegen einen **menschlichen** Spieler, der keine\n",
    "Hilfsmittel benutzt,  verbessern  ?}\n"
   ]
  },
  {
   "cell_type": "markdown",
   "metadata": {},
   "source": [
    "#### Diskretes Räuber-Beute-Modell\n",
    "\n",
    "Dieses in der mathematischen Biologie betrachtete Modell beschreibt die Entwicklung der Populationsdichte $x$ einer Beutespezies ('Kaninchen') und der Populationsdichte $y$ einer Räuberspezies ('Füchse'). Die Populationen werden nur in gewissen Zeitabständen ermittelt, und das Modell macht auch nur für diese Zeiten Voraussagen. Man sagt, das Modell sei diskret in der Zeit.\n",
    "\n",
    "$x_{n+1} =  ax_n(1-x_n) - bx_ny_n \\qquad y_{n+1} = cx_ny_n \\;. $\n",
    "\n",
    "Schreiben Sie ein Programm, dass die Populationen mit den Parametern $a=3.5$, $b=2$, $c=4.05$ und den Anfangswerten\n",
    "$x_0=0.5$ und $y_0=0.4$  hundert Schritte  lang berechnet und dabei $(x,y)$ mit turtle-Graphik visualisiert.\n",
    "\n",
    "Sehen Sie sich die Bilder auch für andere Werte der Parameter an.\n"
   ]
  },
  {
   "cell_type": "code",
   "execution_count": null,
   "metadata": {},
   "outputs": [],
   "source": []
  }
 ],
 "metadata": {
  "kernelspec": {
   "display_name": "Python 3",
   "language": "python",
   "name": "python3"
  },
  "language_info": {
   "codemirror_mode": {
    "name": "ipython",
    "version": 3
   },
   "file_extension": ".py",
   "mimetype": "text/x-python",
   "name": "python",
   "nbconvert_exporter": "python",
   "pygments_lexer": "ipython3",
   "version": "3.7.6"
  }
 },
 "nbformat": 4,
 "nbformat_minor": 4
}
