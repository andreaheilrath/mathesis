{
 "cells": [
  {
   "cell_type": "markdown",
   "metadata": {
    "collapsed": true
   },
   "source": [
    "# Variablen & Typen - Basics\n",
    "============\n",
    "\n",
    "Übersicht\n",
    "----------\n",
    "\n",
    "Python kennt eine Reihe von einfachen Datentypen:\n",
    "\n",
    "Für Zahlen:\n",
    "\n",
    "- float [64 Bit- Fließkommazahlen, größter Betrag=1.7976931348623157e+308, kleinster Betrag 2.2250738585072014e-308]\n",
    "- int [beliebig große ganze Zahlen (begrenzt durch den Arbeitsspeicher)] \n",
    "- complex [komplexe Zahlen, Real- und Imaginärteil sind float]\n",
    "\n",
    "Für Zeichenketten (Strings):\n",
    "\n",
    "- str\n",
    "\n",
    "Für Wahrheitswerte:\n",
    "\n",
    "- bool  \n",
    "\n",
    "Die Funktion `type()` gibt den Datentyp einer Variable zurück.\n",
    "\n",
    "\n",
    "Zahlen\n",
    "-------\n",
    "\n",
    "Zahlen können direkt auf verschiedene Weisen angegeben werden ('numeric literals'):\n"
   ]
  },
  {
   "cell_type": "code",
   "execution_count": null,
   "metadata": {},
   "outputs": [],
   "source": [
    "type(123)"
   ]
  },
  {
   "cell_type": "code",
   "execution_count": null,
   "metadata": {},
   "outputs": [],
   "source": [
    "-1.323123"
   ]
  },
  {
   "cell_type": "code",
   "execution_count": null,
   "metadata": {},
   "outputs": [],
   "source": [
    "type(-1.323123)"
   ]
  },
  {
   "cell_type": "code",
   "execution_count": null,
   "metadata": {},
   "outputs": [],
   "source": [
    "1+2j"
   ]
  },
  {
   "cell_type": "code",
   "execution_count": null,
   "metadata": {},
   "outputs": [],
   "source": [
    "type(1+2.5j)"
   ]
  },
  {
   "cell_type": "code",
   "execution_count": null,
   "metadata": {},
   "outputs": [],
   "source": [
    "(1+1j)**8"
   ]
  },
  {
   "cell_type": "markdown",
   "metadata": {},
   "source": [
    "Schreibt man den Buchstaben 'j' im Anschluss an eine Dezimalzahl (float oder int), so wird das interpretiert als das Produkt dieser Zahl mit der imaginären Einheit i. 2+3.5j ist also  die komplexe Zahl mit Realteil 2 und Imaginärteil 3.\n",
    "\n",
    "Durch die Funktion `type( ... )` erfährt man den Typ von ... :"
   ]
  },
  {
   "cell_type": "code",
   "execution_count": null,
   "metadata": {},
   "outputs": [],
   "source": [
    "type(1+2.5j)"
   ]
  },
  {
   "cell_type": "markdown",
   "metadata": {},
   "source": [
    "Für ganze Zahlen gibt es auch ungewöhnlichere Darstellungsformen als das Bekannte Dezimalsystem:\n",
    "Octal, Binär- oder Hexadezimalsystem."
   ]
  },
  {
   "cell_type": "code",
   "execution_count": null,
   "metadata": {},
   "outputs": [],
   "source": [
    "0xff"
   ]
  },
  {
   "cell_type": "code",
   "execution_count": null,
   "metadata": {},
   "outputs": [],
   "source": [
    "0b11111111"
   ]
  },
  {
   "cell_type": "code",
   "execution_count": null,
   "metadata": {},
   "outputs": [],
   "source": [
    "0o377"
   ]
  },
  {
   "cell_type": "markdown",
   "metadata": {},
   "source": [
    "Zeichenketten (Strings)\n",
    "-------------------------\n",
    "\n",
    "Eine Zeichenkette kann durch Einfache Anführungszeichen '...' oder doppelte \n",
    "Anführungszeichen \"...\" eingeschlossen werden. Passt eine solche Zeichenkette\n",
    "nicht in eine Zeile, so lässt sich ** - wie stets in Python - ** durch einen\n",
    "Backslash \\ die Zeile in die folgende Zeile verlängern. Die über mehrere Zeilen\n",
    "verteilten Langzeilen werden vom Interpreter anschließend wieder aneinander\n",
    "gehängt, dabei werden die \\ wieder entfernt. \n",
    "\n",
    "Für wirklich merhzeiligen Text gibt es noch eine praktischere Variante,\n",
    "dreifache Anführungszeichen am Anfang und am Ende. Die Zeilenumbrüche\n",
    "werden in dieser Variante Teil der Zeichenkette. Ein Zeilenumbruch kann auch mit `\\n` codiert werden. \n",
    "\n",
    "Meistens nennen ich Zeichenketten Strings, weil es kürzer ist."
   ]
  },
  {
   "cell_type": "code",
   "execution_count": null,
   "metadata": {},
   "outputs": [],
   "source": [
    "'sdfadsfsdf ewrwer324 32423 AASASD__.,sdf'"
   ]
  },
  {
   "cell_type": "code",
   "execution_count": null,
   "metadata": {},
   "outputs": [],
   "source": [
    "\"Katze\""
   ]
  },
  {
   "cell_type": "code",
   "execution_count": null,
   "metadata": {},
   "outputs": [],
   "source": [
    "'K\\\n",
    "a\\\n",
    "t\\\n",
    "ze'"
   ]
  },
  {
   "cell_type": "code",
   "execution_count": null,
   "metadata": {},
   "outputs": [],
   "source": [
    "#Yeichenketten über mehrere Zeilen\n",
    "\"\"\"Sehr geehrter Herr Müller,\n",
    "\n",
    "mir reicht's.\"\"\""
   ]
  },
  {
   "cell_type": "code",
   "execution_count": null,
   "metadata": {},
   "outputs": [],
   "source": [
    "print(\"\"\"Sehr geehrter Herr Müller,\n",
    "\n",
    "mir reicht's.\"\"\")"
   ]
  },
  {
   "cell_type": "markdown",
   "metadata": {},
   "source": [
    "Wahrheitswerte (Typ bool)\n",
    "-----------------------\n",
    "\n",
    "Der Datentyp `bool` hat die Besonderheit, nur zwei Werte, nämlich `True` und  `False` zuzulassen.  **Beachten Sie die Großbuchstaben; bei vielen anderen Programmiersprachen sind es Kleinbuchstaben.**\n",
    "\n",
    "Für Wahrheitswerte sind die *Rechenoperationen* die logischen Operationen: `and`, `or`, `not`. Man spricht in diesem Zusammenhang von einer Bool'schen Algebra.  Es gibt für `and` und `or` zwei Distributivgesetze, und für den Zusammenhang zwischen `not` und `und`, bzw. `or` die de Morgan'schen Regeln.\n",
    "\n",
    "Sie können Klammern verwenden, um die Reihenfolge der Operationen festzulegen.\n",
    "\n",
    "Das logische `und` muss nicht erklärt werden, das logische `oder` kann aber zu Missverständnissen führen: Es schließt den Fall, dass beide Seiten wahr sind, mit ein, ist also kein 'entweder ... oder'.\n",
    "\n",
    "Andere Typen lassen sich auch in `bool` umwandeln. Dabei ergeben 0 oder 0.0 oder der leere String `False`, andere  Zahlen oder Strings `True`.\n"
   ]
  },
  {
   "cell_type": "code",
   "execution_count": null,
   "metadata": {},
   "outputs": [],
   "source": [
    "type(True)"
   ]
  },
  {
   "cell_type": "code",
   "execution_count": null,
   "metadata": {},
   "outputs": [],
   "source": [
    "not True"
   ]
  },
  {
   "cell_type": "code",
   "execution_count": null,
   "metadata": {},
   "outputs": [],
   "source": [
    "True and False"
   ]
  },
  {
   "cell_type": "code",
   "execution_count": null,
   "metadata": {},
   "outputs": [],
   "source": [
    "True or False"
   ]
  },
  {
   "cell_type": "code",
   "execution_count": null,
   "metadata": {},
   "outputs": [],
   "source": [
    "False or (True and False)"
   ]
  },
  {
   "cell_type": "code",
   "execution_count": null,
   "metadata": {},
   "outputs": [],
   "source": [
    "bool(1)"
   ]
  },
  {
   "cell_type": "code",
   "execution_count": null,
   "metadata": {},
   "outputs": [],
   "source": [
    "bool(0)"
   ]
  },
  {
   "cell_type": "code",
   "execution_count": null,
   "metadata": {},
   "outputs": [],
   "source": [
    "bool(0.1)"
   ]
  },
  {
   "cell_type": "code",
   "execution_count": null,
   "metadata": {},
   "outputs": [],
   "source": [
    "bool('')"
   ]
  },
  {
   "cell_type": "code",
   "execution_count": null,
   "metadata": {},
   "outputs": [],
   "source": [
    "bool('Katze')"
   ]
  },
  {
   "cell_type": "markdown",
   "metadata": {},
   "source": [
    "Variablen Definition\n",
    "----------\n",
    "\n",
    "Durch das Gleich-Zeichen `=` wird eine **Zuweisung** vorgenommen.  Auf der linken Seite steht der Name einer Variable auf der rechten Seite ein Ausdruck, der ein Objekt irgendeines Typs liefert, zum Beispiel eine Dezimalzahl. Eine Zuweisung ist *keine mathematische Gleichung*, denn Gleichungen kann man umstellen, Zuweisungen nicht."
   ]
  },
  {
   "cell_type": "code",
   "execution_count": null,
   "metadata": {},
   "outputs": [],
   "source": [
    "a  #Variablen muss vor Benutzung ein Wert zugewiesen werden - sonst tritt ein \"NameError\" auf!"
   ]
  },
  {
   "cell_type": "markdown",
   "metadata": {},
   "source": [
    "In anderen Programmiersprachen muss der Datentyp explizit angegeben werden, z.B. in der Programmiersprache C: \n",
    "`float a = 54.435`\n",
    "Python macht erkennt den Typ automatisch - das hat manchmal Tücken!"
   ]
  },
  {
   "cell_type": "code",
   "execution_count": null,
   "metadata": {},
   "outputs": [],
   "source": [
    "a = 54  #Definition als Integer\n",
    "b = 54. #Definition als Float"
   ]
  },
  {
   "cell_type": "code",
   "execution_count": null,
   "metadata": {},
   "outputs": [],
   "source": [
    "a"
   ]
  },
  {
   "cell_type": "code",
   "execution_count": null,
   "metadata": {},
   "outputs": [],
   "source": [
    "b"
   ]
  },
  {
   "cell_type": "code",
   "execution_count": null,
   "metadata": {},
   "outputs": [],
   "source": [
    "print(\"Datentyp von a:\", type(a), \"Datentyp von b:\", type(b))"
   ]
  },
  {
   "cell_type": "code",
   "execution_count": null,
   "metadata": {},
   "outputs": [],
   "source": [
    "c = \"Starlink\""
   ]
  },
  {
   "cell_type": "code",
   "execution_count": null,
   "metadata": {},
   "outputs": [],
   "source": [
    "type(c)"
   ]
  },
  {
   "cell_type": "code",
   "execution_count": null,
   "metadata": {},
   "outputs": [],
   "source": [
    "b = 2*b #Variablen kann ein neuer Wert zugewiesen werden - auch durch sich selbst!\n",
    "print(b)"
   ]
  },
  {
   "cell_type": "code",
   "execution_count": null,
   "metadata": {},
   "outputs": [],
   "source": [
    "type(b)"
   ]
  },
  {
   "cell_type": "code",
   "execution_count": null,
   "metadata": {},
   "outputs": [],
   "source": [
    "b = 'Katamaran'"
   ]
  },
  {
   "cell_type": "code",
   "execution_count": null,
   "metadata": {},
   "outputs": [],
   "source": [
    "type(b)"
   ]
  },
  {
   "cell_type": "code",
   "execution_count": null,
   "metadata": {},
   "outputs": [],
   "source": [
    "c = int(23452.78) #Bestimmte Datentypen kann man auch ineinander umwandeln - z.B. ints und floats.\n",
    "print(c)"
   ]
  },
  {
   "cell_type": "markdown",
   "metadata": {
    "collapsed": true
   },
   "source": [
    "Wenn eine Variable **neu zugewiesen wird**, verliert sie die Verbindung zu dem früheren Objekt. Das wird (falls es nicht anderweitig benutzt wird) gelöscht.\n",
    "\n",
    "Als Variablennamen kommen Zeichenketten aus Großbuchstaben, Kleinbuchstaben, \\_ und Zahlen in Frage, am Anfang darf aber keine Zahl stehen.  Großbuchstaben und Kleinbuchstaben werden unterschieden.  `katze` und `Katze` wären also verschiedene Variablennamen. \n",
    "\n",
    "Wählen Sie in Programmen die Variablennamen systematisch und lesbar; im Idealfall sagt die Variable, wozu sie dient.\n",
    "\n",
    "Beachten Sie außerdem nach Möglichkeiten Benennungskonventionen für Variablen: Sie sollten mit einem Kleinbuchstaben beginnen (im Gegensatz zu den Namen von Klassen, wie wir später bekommen). Vermeiden Sie deutsche Sonderbuchstaben (ä,ö,ü,ß). Konstanten,  also Variablen, die nicht verändert werden sollen, sollten Namen aus Großbuchstaben haben."
   ]
  },
  {
   "cell_type": "code",
   "execution_count": null,
   "metadata": {},
   "outputs": [],
   "source": [
    "katze = 5\n",
    "Katze = 3"
   ]
  },
  {
   "cell_type": "code",
   "execution_count": null,
   "metadata": {},
   "outputs": [],
   "source": [
    "katze"
   ]
  },
  {
   "cell_type": "code",
   "execution_count": null,
   "metadata": {},
   "outputs": [],
   "source": [
    "Katze"
   ]
  },
  {
   "cell_type": "code",
   "execution_count": null,
   "metadata": {},
   "outputs": [],
   "source": [
    "laenge = 2.123213\n",
    "breite = 3.42421\n",
    "flaeche = laenge * breite\n",
    "print(flaeche)"
   ]
  },
  {
   "cell_type": "code",
   "execution_count": null,
   "metadata": {},
   "outputs": [],
   "source": []
  }
 ],
 "metadata": {
  "kernelspec": {
   "display_name": "Python 3",
   "language": "python",
   "name": "python3"
  },
  "language_info": {
   "codemirror_mode": {
    "name": "ipython",
    "version": 3
   },
   "file_extension": ".py",
   "mimetype": "text/x-python",
   "name": "python",
   "nbconvert_exporter": "python",
   "pygments_lexer": "ipython3",
   "version": "3.8.2"
  },
  "latex_envs": {
   "bibliofile": "biblio.bib",
   "cite_by": "apalike",
   "current_citInitial": 1,
   "eqLabelWithNumbers": true,
   "eqNumInitial": 0
  }
 },
 "nbformat": 4,
 "nbformat_minor": 1
}
