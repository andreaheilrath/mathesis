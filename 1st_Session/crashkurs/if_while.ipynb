{
 "cells": [
  {
   "cell_type": "markdown",
   "metadata": {},
   "source": [
    "Programmierung 1:  Bedingte Ausführung und while-Schleifen\n",
    "================================\n",
    "\n",
    "Blöcke\n",
    "-------\n",
    "\n",
    "\n",
    "Fürs Programmieren ist es wesentlich, das Programm in übersichtliche\n",
    "Stücke zu unterteilen und den **Programmfluss** zu steuern.\n",
    "\n",
    "Eine in diesem Zusammenhang wichtige Struktur von Python ist ein so\n",
    "genannter **Block**. Ein Block ist, anders als in vielen anderen\n",
    "Programmiersprachen, durch eine **gemeinsame Einrückungstiefe** definiert.\n",
    "\n",
    "    ....                                   \n",
    "    ....                                   \n",
    "       .......                            \n",
    "       .......    Diese vier Zeilen       \n",
    "       .......    bilden einen Block      \n",
    "       .......\n",
    "    ...\n",
    "    ...\n",
    "\n",
    "Auch die ganzen acht Zeilen bilden einen Block, in dem eben der kleiner\n",
    "Block enthalten ist. Einrücken können Sie **entweder mit der\n",
    "Tabulator-Taste oder mit Leerzeichen.** Mischen Sie auf keinen Fall\n",
    "beides, das kann zu Problemen führen.\n",
    "\n",
    "Bedingungen\n",
    "-----------\n",
    "\n",
    "## if\n",
    "\n",
    "Wenn Sie eine Folge von Befehlen nur dann ausführen wollen, wenn eine\n",
    "gewisse Bedingung erfüllt ist, so geht das so:\n",
    "\n",
    "    if alter > 120:\n",
    "       print(\"Da stimmte was nicht, so alt kann man nicht werden.\")\n",
    "       \n",
    "    print(\"I'm a lumberjack and I'm OK.\")   # Das steht wieder im Hauptblock und wird immer durchgeführt.\n",
    "    \n",
    "Beachten Sie die Syntax: Nach 'if  Bedingung' **steht ein Doppelpunkt.** Danach kommt ein\n",
    "eingerückter Block.\n",
    "    \n",
    "Der Programmfluss für ein 'if' lässt sich so veranschaulichen:\n",
    "\n",
    "<img src='if.png'></img>\n",
    "\n",
    "## if ... else\n",
    "\n",
    "Wenn eine Bedingung erfüllt ist, soll etwas getan werden, andernfalls etwas anderes:\n",
    "\n",
    "    if alter > 120:\n",
    "       print(\"Da stimmt was nicht, so alt kann man nicht werden.\")\n",
    "    else:\n",
    "       print(\"Gratuliere zum \"+str(alter)+ \". Geburtstag\")\n",
    "       print(\"Wie geht's?\"\n",
    "          \n",
    "    print(\"I'm a lumberjack an I'm OK.\")   # Das steht wieder im Hauptblock.\n",
    "          \n",
    "Beachten Sie auch hier wieder die Syntax und die Einrückung.\n",
    "          \n",
    "Der Programmfluss für ein 'if ... else' lässt sich so veranschaulichen:\n",
    "\n",
    "<img src=\"if_else.png\"> </img>\n",
    "\n",
    "\n",
    "\n",
    "## if .. elif .. else\n",
    "      \n",
    "Häufig will man alternative Bedingungen verwenden: Wenn etwas der Fall ist, tu dies, wenn etwas anderes \n",
    "der Fall ist, das, sonst jenes.  'wenn etwas anderes der Fall ist'  wird in Python durch 'elif' wiedergegeben. Es können beliebig viele solcher 'elif'-Fälle stehen, bevor der 'else'-Fall kommt.\n",
    "       \n",
    "    if alter > 120:\n",
    "       print(\"Da stimmt was nicht, so alt kann man nicht werden.\")\n",
    "    elif alter > 115:\n",
    "       print(\"Sind Sie sicher ? Sie wären dann der älteste Mensch.\")\n",
    "    elif alter > 100:\n",
    "       print(\"Gratuliere!\")\n",
    "       print(str(alter)+\" Jahre ist ein biblisches Alter\")\n",
    "    else:\n",
    "       print(\"Gratuliere zum \"+str(alter)+ \". Geburtstag\")\n",
    "\n",
    "Nach dem Doppelpunkt beginnt in der nächsten Zeile jeweils ein tiefer\n",
    "eingerückter Block. Genau dieser Block wird ausgeführt, wenn die\n",
    "Bedingung vor dem Doppelpunkt erfüllt ist.\n",
    "\n",
    "Der Programmfluss sieht so aus:\n",
    "\n",
    "<img src='if_elif_else.png'></img>\n",
    "\n",
    "## Unterfälle\n",
    "\n",
    "In einem Block kann wieder eine Fallunterscheidung stehen, also beispielsweise:\n",
    "\n",
    "    if alter > 120:\n",
    "       print(\"Da stimmt was nicht, so alt kann man nicht werden.\")\n",
    "    else:\n",
    "       print(\"Gratuliere zum \"+str(alter)+ \". Geburtstag\")\n",
    "       print(\"Wie geht's?\")\n",
    "       print(\"Übrigens ...\")\n",
    "       if alter%2 == 0:\n",
    "          print(\"Ihr Alter ist gerade.\")\n",
    "       else:\n",
    "          print(\"Ihr Alter ist ungerade.\")\n"
   ]
  },
  {
   "cell_type": "code",
   "execution_count": null,
   "metadata": {},
   "outputs": [],
   "source": []
  },
  {
   "cell_type": "markdown",
   "metadata": {},
   "source": [
    "while-Schleifen\n",
    "-----------------\n",
    "\n",
    "Man kann einen Programmblock so lange durchführen, wie eine gewisse Bedingung erfüllt ist, dann\n",
    "mit dem weiteren Programm fortfahren.\n",
    "\n",
    "    n=int(input(\"Geben Sie eine nat. Zahl groesser als 0 ein: \"))\n",
    "    while n%2 == 0:\n",
    "        n = n//2\n",
    "        print(\"n halbiert\")\n",
    "        print(\"Ergebnis: \", n)\n",
    "         \n",
    "    print(\"Wieder im übergeordneten Block.\")\n",
    "    \n",
    "Das Flussdiagramm sieht so aus:\n",
    "\n",
    "<img src=\"while.png\"></img>\n",
    "\n",
    "Da in diesem Diagramm ein eine 'Schleife' ('loop') vorkommt, nennt man dieses Konstrukt eine 'while-Schleife'.\n"
   ]
  },
  {
   "cell_type": "code",
   "execution_count": null,
   "metadata": {},
   "outputs": [],
   "source": [
    "n = int(input(\"Geben Sie eine nat. Zahl groesser als 0 ein: \"))\n",
    "while n % 2 == 0:\n",
    "    n = n//2\n",
    "    print(\"n halbiert\")\n",
    "    print(\"Ergebnis: \", n)\n",
    "\n",
    "print(\"Wieder im übergeordneten Block.\")"
   ]
  },
  {
   "cell_type": "markdown",
   "metadata": {},
   "source": [
    "**Frage:**  Wie formulieren Sie eine Schleife, die niemals abbricht?"
   ]
  },
  {
   "cell_type": "code",
   "execution_count": null,
   "metadata": {},
   "outputs": [],
   "source": []
  },
  {
   "cell_type": "code",
   "execution_count": null,
   "metadata": {},
   "outputs": [],
   "source": []
  },
  {
   "cell_type": "code",
   "execution_count": null,
   "metadata": {},
   "outputs": [],
   "source": []
  },
  {
   "cell_type": "markdown",
   "metadata": {},
   "source": [
    "### Break und Continue\n",
    "\n",
    "Manchmal ist es wichtig, zur nächsten 'Runde' der Schleife zu springen, das geschieht mit der Anweisung `continue`. In anderen Fällen wollen wir eine Schleife abbrechen, das geschieht mit der Anweisung `break`. Das Programm fährt \n",
    "dann mit dem Code nach der while-Schleife fort."
   ]
  },
  {
   "cell_type": "code",
   "execution_count": null,
   "metadata": {},
   "outputs": [],
   "source": [
    "# Was tut dieses Programm ?\n",
    "\n",
    "i = 0\n",
    "while i < 10:\n",
    "    s = input('Sagen Sie was! ')\n",
    "    i = i+1\n",
    "    if s == 'weiter':\n",
    "        continue\n",
    "    if s == 'fertig':\n",
    "        break\n",
    "    print('Sie haben \"', s, '\" gesagt.')\n",
    "\n",
    "print(\"Jetzt ist's vorbei.\")"
   ]
  },
  {
   "cell_type": "markdown",
   "metadata": {},
   "source": [
    "## Nichts tun\n",
    "\n",
    "Manchmal ist es gut, eine Programmstruktur vorzubereiten, ohne genau zu wissen, was genau getan werden soll. Sie können etwas einen 'else'-Fall vorbereiten, aber noch nichts tun.  Das geschieht durch die Anweisung `pass`. **Sie können nicht einfach nichts in einen Block schreiben.**\n",
    "\n",
    "\n"
   ]
  },
  {
   "cell_type": "code",
   "execution_count": null,
   "metadata": {
    "code_folding": []
   },
   "outputs": [],
   "source": [
    "if 2 == 1:\n",
    "    print(\"Seltsam\")\n",
    "else:\n",
    "    pass"
   ]
  },
  {
   "cell_type": "code",
   "execution_count": null,
   "metadata": {},
   "outputs": [],
   "source": []
  },
  {
   "cell_type": "markdown",
   "metadata": {
    "collapsed": true
   },
   "source": [
    "## Aufgabe: Abstand von Fliegen auf einem Papier\n",
    "\n",
    "Zwei Fliegen landen zufällig auf dem Quadrat [0,1]x[0,1]. Schätzen\n",
    "Sie den mittleren Abstand durch eine Simulation.\n",
    "\n",
    "Bestimmen Sie anschließend die Wahrscheinlichkeit dafür, dass die\n",
    "Fliegen weiter als 1 Einheit entfernt voneinander sind."
   ]
  },
  {
   "cell_type": "code",
   "execution_count": null,
   "metadata": {},
   "outputs": [],
   "source": [
    "# Verwenden Sie das Modul random (das zur Standardbibliothek gehört)\n",
    "# und darin die Funktion  random\n",
    "\n",
    "import random\n",
    "help(random.random)"
   ]
  },
  {
   "cell_type": "markdown",
   "metadata": {
    "collapsed": true
   },
   "source": [
    "## Aufgabe: Schere-Stein-Papier\n",
    "\n",
    "Schreiben Sie ein Programm, dass den Benutzer dazu auffordert, Schere, Stein oder Papier einzugeben.\n",
    "Das Programm wählt (wie, können Sie sich ausdenken) ebenfalls eines der drei und gibt\n",
    "aus, wer gewonnen hat."
   ]
  },
  {
   "cell_type": "code",
   "execution_count": null,
   "metadata": {},
   "outputs": [],
   "source": []
  },
  {
   "cell_type": "markdown",
   "metadata": {},
   "source": [
    "## Aufgabe: Diskretes Räuber-Beute-Modell\n",
    "\n",
    "Wir betrachten das diskrete Räuber-Beute-Modell\n",
    "\n",
    "$$ x_{n+1} =  ax_n(1-x_n) - bx_ny_n \\qquad y_{n+1} = cx_ny_n \\;. $$\n",
    "\n",
    "Schreiben Sie ein Programm, dass die Populationen mit den Parametern $a=3.5$, $b=2$, $c=4.05$ und den Anfangswerten\n",
    "$x_0=0.5$ und $y_0=0.4$  hundert Schritte  lang berechnet und die Werte ausgibt.\n",
    "\n",
    "\n",
    "\n",
    "\n",
    "\n"
   ]
  },
  {
   "cell_type": "code",
   "execution_count": null,
   "metadata": {},
   "outputs": [],
   "source": []
  },
  {
   "cell_type": "markdown",
   "metadata": {},
   "source": [
    "Wahrheitswerte (Typ bool)\n",
    "-----------------------\n",
    "\n",
    "Der Datentyp `bool` hat die Besonderheit, nur zwei Werte, nämlich `True` und  `False` zuzulassen.  **Beachten Sie die Großbuchstaben; bei vielen anderen Programmiersprachen sind es Kleinbuchstaben.**\n",
    "\n",
    "Für Wahrheitswerte sind die *Rechenoperationen* die logischen Operationen: `and`, `or`, `not`. Man spricht in diesem Zusammenhang von einer Bool'schen Algebra.  Es gibt für `and` und `or` zwei Distributivgesetze, und für den Zusammenhang zwischen `not` und `und`, bzw. `or` die de Morgan'schen Regeln.\n",
    "\n",
    "Sie können Klammern verwenden, um die Reihenfolge der Operationen festzulegen.\n",
    "\n",
    "Das logische `und` muss nicht erklärt werden, das logische `oder` kann aber zu Missverständnissen führen: Es schließt den Fall, dass beide Seiten wahr sind, mit ein, ist also kein 'entweder ... oder'.\n",
    "\n",
    "Andere Typen lassen sich auch in `bool` umwandeln. Dabei ergeben 0 oder 0.0 oder der leere String `False`, andere  Zahlen oder Strings `True`.\n"
   ]
  },
  {
   "cell_type": "code",
   "execution_count": null,
   "metadata": {},
   "outputs": [],
   "source": [
    "True and False"
   ]
  },
  {
   "cell_type": "code",
   "execution_count": null,
   "metadata": {},
   "outputs": [],
   "source": [
    "True or False"
   ]
  },
  {
   "cell_type": "code",
   "execution_count": null,
   "metadata": {},
   "outputs": [],
   "source": [
    "False or (True and False)"
   ]
  },
  {
   "cell_type": "code",
   "execution_count": null,
   "metadata": {},
   "outputs": [],
   "source": [
    "bool(1)"
   ]
  },
  {
   "cell_type": "code",
   "execution_count": null,
   "metadata": {},
   "outputs": [],
   "source": [
    "bool(0)"
   ]
  },
  {
   "cell_type": "code",
   "execution_count": null,
   "metadata": {},
   "outputs": [],
   "source": [
    "bool(0.1)"
   ]
  },
  {
   "cell_type": "code",
   "execution_count": null,
   "metadata": {},
   "outputs": [],
   "source": [
    "bool('')"
   ]
  },
  {
   "cell_type": "code",
   "execution_count": null,
   "metadata": {},
   "outputs": [],
   "source": [
    "bool('Katze')"
   ]
  },
  {
   "cell_type": "markdown",
   "metadata": {},
   "source": [
    "Vergleiche mit Boolschen Variablen\n",
    "-----------\n",
    "\n",
    "Im letzten  Notebook haben wir schon etwas über die Eigenschaften von Boolschen Variablen gelernt. Dieser Datentyp spielt bei der Überprüfung von Bedingungen eine zentrale Rolle.\n",
    "\n",
    "Durch `==` prüfen Sie, ob zwei Werte gleich sind, das Ergebnis ist `True`, wenn sie es sind, sonst `False`.\n",
    "\n",
    "\n",
    "**Achtung**: Hier stehen **zwei Gleichheitszeichen!** Ein Gleichheitszeichen wird nur Zuweisungen von Variablen verwendet.\n",
    "\n",
    "\n",
    "1 == 1\n",
    "\n",
    "2 == 2.0\n",
    "\n",
    "Ihr seht also: Werte können gleich sein, selbst wenn die Typen verschieden sind.\n",
    "\n",
    "Durch `is` wird dagegen überprüft, ob es sich bei zwei Objekten um dasselbe Objekt handelt. Das wird später noch eine größere Rolle spielen.\n",
    "\n",
    "2 is 2.0\n",
    "\n",
    "a = 2\n",
    "b = 2\n",
    "print(a is b)\n",
    "\n",
    "**Ungleichheit** wird durch **!=** überprüft; Sie können aber auch not(... == ...) verwenden.\n",
    "\n",
    "Ansonsten kennt Python auch <, > , <=, >= und Ketten von solchen Ausdrücken, die zu interpretieren sind als die Verbindung der Ausdrücke durch `and`.\n",
    "\n",
    "a = 1\n",
    "b = 4\n",
    "c = 2\n",
    "print(a <= b <= c)\n",
    "\n",
    "print(a <= c <= b)\n",
    "\n",
    "print(a <= b >= c)  # in der Mathematik macht man das so nicht\n",
    "\n",
    "Für **Strings** sind ebenfalls alle diese Vergleichsoperatoren definiert. Dabei beziehen  sich '<','>','<=','>=' auf die **lexikalische Ordnung**. (Dieses Verhalten lässt sich ändern.)\n",
    "\n",
    "a = 'Apfel'\n",
    "b = 'Apfelkuchen'\n",
    "c = 'Birne'\n",
    "print(a < a)\n",
    "print(a <= a)\n",
    "print(a < b)\n",
    "print(b < c)\n",
    "\n",
    "d = 'Apfel'\n",
    "print(a == d)\n",
    "\n",
    "print(a is d)"
   ]
  }
 ],
 "metadata": {
  "kernelspec": {
   "display_name": "Python 3",
   "language": "python",
   "name": "python3"
  },
  "language_info": {
   "codemirror_mode": {
    "name": "ipython",
    "version": 3
   },
   "file_extension": ".py",
   "mimetype": "text/x-python",
   "name": "python",
   "nbconvert_exporter": "python",
   "pygments_lexer": "ipython3",
   "version": "3.8.3"
  },
  "latex_envs": {
   "bibliofile": "biblio.bib",
   "cite_by": "apalike",
   "current_citInitial": 1,
   "eqLabelWithNumbers": true,
   "eqNumInitial": 0
  }
 },
 "nbformat": 4,
 "nbformat_minor": 1
}
