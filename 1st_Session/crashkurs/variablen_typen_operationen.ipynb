{
 "cells": [
  {
   "cell_type": "markdown",
   "metadata": {
    "collapsed": true
   },
   "source": [
    "## Variablen und Datentypen\n",
    "\n",
    "In allen Programmiersprachen können nur bestimmte \"Formen\" von Information gespeichert werden. Diese Formen nennt man **Datentypen**.\n",
    "\n",
    "Um einen Wert zu speichern und wieder abrufen zukönnen, werden **Variablen** benutzt.\n",
    "\n",
    "Durch das Gleich-Zeichen `=` wird eine **Zuweisung** vorgenommen.  Auf der linken Seite steht der Name einer Variable auf der rechten Seite ein Ausdruck, der ein Objekt irgendeines Typs liefert, zum Beispiel eine Dezimalzahl. Eine Zuweisung ist *keine mathematische Gleichung*, denn Gleichungen kann man umstellen, Zuweisungen nicht."
   ]
  },
  {
   "cell_type": "code",
   "execution_count": null,
   "metadata": {},
   "outputs": [],
   "source": [
    "x = 1  # hier wird die Variable x mit dem Wert 1 deklariert!"
   ]
  },
  {
   "cell_type": "code",
   "execution_count": null,
   "metadata": {},
   "outputs": [],
   "source": [
    "x"
   ]
  },
  {
   "cell_type": "markdown",
   "metadata": {},
   "source": [
    "**Variablennamen** können aus Buchstaben, \\_ und Zahlen bestehen, am Anfang darf aber keine Zahl stehen. Großbuchstaben und Kleinbuchstaben werden unterschieden. `Wert` und `wert` wären also verschiedene Variablennamen. \n",
    "\n",
    "Wählt in Programmen die Variablennamen systematisch und lesbar; im Idealfall sagt die Variable, wozu sie dient.\n",
    "\n",
    "Beachtet außerdem nach Möglichkeiten Benennungskonventionen für Variablen: Sie sollten mit einem Kleinbuchstaben beginnen, vermeidet deutsche Sonderbuchstaben (ä,ö,ü,ß). Konstanten,  also Variablen, die nicht verändert werden sollen, sollten Namen aus Großbuchstaben haben."
   ]
  },
  {
   "cell_type": "code",
   "execution_count": null,
   "metadata": {},
   "outputs": [],
   "source": [
    "wert = 5\n",
    "Wert = 0\n",
    "print(Wert, wert)"
   ]
  },
  {
   "cell_type": "markdown",
   "metadata": {},
   "source": [
    "### Verschiedene Datentypen in Python\n",
    "\n",
    "**Zahlen**\n",
    "* `int`, beschreibt beliebig große **ganze Zahlen** (integers), die Größe ist begrenzt durch den Arbeitsspeicher\n",
    "* `float` beschreibt **Fließkommazahlen** (floating point number), \n",
    "    64 Bit, größter Betrag: 1.7976931348623157e+308, kleinster Betrag: 2.2250738585072014e-30\n",
    "* `complex` beschreibt **komplexe Zahlen**, Real- und Imaginärteil sind floats\n",
    "\n",
    "**Zeichenketten**\n",
    "* `str` (String)\n",
    "\n",
    "**Wahrheitswerte**\n",
    "* `bool` lässt nur zwei Werte zu: `True` und  `False`  \n",
    "\n",
    "Die Funktion `type()` gibt den Datentyp einer Variable zurück.\n",
    "\n",
    "\n",
    "\n",
    "### Beispiele"
   ]
  },
  {
   "cell_type": "code",
   "execution_count": null,
   "metadata": {},
   "outputs": [],
   "source": [
    "type(1)"
   ]
  },
  {
   "cell_type": "code",
   "execution_count": null,
   "metadata": {},
   "outputs": [],
   "source": [
    "type(x)"
   ]
  },
  {
   "cell_type": "code",
   "execution_count": null,
   "metadata": {},
   "outputs": [],
   "source": [
    "y = 1.  #sobald ein . in einer Zahl enthalten ist, wird sie als float interpretiert!"
   ]
  },
  {
   "cell_type": "code",
   "execution_count": null,
   "metadata": {},
   "outputs": [],
   "source": [
    "type(y)"
   ]
  },
  {
   "cell_type": "code",
   "execution_count": null,
   "metadata": {},
   "outputs": [],
   "source": []
  },
  {
   "cell_type": "code",
   "execution_count": null,
   "metadata": {},
   "outputs": [],
   "source": [
    "z = \"Hello World\"  #ein String"
   ]
  },
  {
   "cell_type": "code",
   "execution_count": null,
   "metadata": {},
   "outputs": [],
   "source": [
    "z"
   ]
  },
  {
   "cell_type": "code",
   "execution_count": null,
   "metadata": {},
   "outputs": [],
   "source": [
    "type(\"Katze\")"
   ]
  },
  {
   "cell_type": "code",
   "execution_count": null,
   "metadata": {},
   "outputs": [],
   "source": [
    "'Kat\\\n",
    "ze'"
   ]
  },
  {
   "cell_type": "code",
   "execution_count": null,
   "metadata": {},
   "outputs": [],
   "source": []
  },
  {
   "cell_type": "code",
   "execution_count": 1,
   "metadata": {},
   "outputs": [
    {
     "data": {
      "text/plain": [
       "bool"
      ]
     },
     "execution_count": 1,
     "metadata": {},
     "output_type": "execute_result"
    }
   ],
   "source": [
    "type(True)"
   ]
  },
  {
   "cell_type": "code",
   "execution_count": 2,
   "metadata": {},
   "outputs": [
    {
     "data": {
      "text/plain": [
       "False"
      ]
     },
     "execution_count": 2,
     "metadata": {},
     "output_type": "execute_result"
    }
   ],
   "source": [
    "not True"
   ]
  },
  {
   "cell_type": "markdown",
   "metadata": {},
   "source": [
    "## Ausgaben und Eingaben\n",
    "\n",
    "### print\n",
    "\n",
    "Der print-Befehl wird sehr häufig genutzt. Man kann verschiedene Variablen in einer Zeile ausgeben lassen.\n",
    "\n",
    "`print(...)` ist eine **Funktion**, daher müssen Klammern um die auszugebenden Ausdrücke stehen."
   ]
  },
  {
   "cell_type": "code",
   "execution_count": null,
   "metadata": {},
   "outputs": [],
   "source": [
    "print(x,y,z,'test')"
   ]
  },
  {
   "cell_type": "code",
   "execution_count": null,
   "metadata": {},
   "outputs": [],
   "source": [
    "print(\"Datentyp von x:\", type(x), \"Datentyp von y:\", type(y), \"Datentyp von 'test'\", type('test'))"
   ]
  },
  {
   "cell_type": "markdown",
   "metadata": {},
   "source": [
    "### input\n",
    "\n",
    "Die Funktion `input(...)` erlaubt, in einem Programm den Benutzer um eine Tastatureingabe zu bitten, die mit\n",
    "der Eingabetaste abzuschließen ist."
   ]
  },
  {
   "cell_type": "code",
   "execution_count": null,
   "metadata": {},
   "outputs": [],
   "source": [
    "s = input(\"Geben Sie etwas ein:\")"
   ]
  },
  {
   "cell_type": "code",
   "execution_count": null,
   "metadata": {},
   "outputs": [],
   "source": [
    "s"
   ]
  },
  {
   "cell_type": "markdown",
   "metadata": {},
   "source": [
    "Die input-Funktion liefert stets eine Zeichenkette. Mit der Funktion `int()` kann eine Variable in den Datentyp `int` umgewandelt werden. Eine Zeichenkette in ein `float` umzuwandeln, heißt die entsprechende Funktion `float`. Umgekehrt können Zahlen mit der Funktion `str` in Strings umgewandelt werden."
   ]
  },
  {
   "cell_type": "code",
   "execution_count": null,
   "metadata": {},
   "outputs": [],
   "source": [
    "s = input(\"Geben Sie eine Zahl zwischen 0 und 10 ein:\")"
   ]
  },
  {
   "cell_type": "code",
   "execution_count": null,
   "metadata": {},
   "outputs": [],
   "source": [
    "zahl = int(s)\n",
    "print(s)"
   ]
  },
  {
   "cell_type": "markdown",
   "metadata": {},
   "source": [
    "**Aufgabe:** Schreiben Sie ein kleines Programm, das um die Eingabe eines Worts bittet und dieses anschließend dreimal ausgibt."
   ]
  },
  {
   "cell_type": "code",
   "execution_count": null,
   "metadata": {},
   "outputs": [],
   "source": []
  },
  {
   "cell_type": "markdown",
   "metadata": {},
   "source": [
    "**Aufgabe:** Schreiben Sie ein Programm, dass die Eingabe einer Zahl verlangt und anschließen die Zahl, ihr Quadrat und ihre dritte Potenz ausgibt."
   ]
  },
  {
   "cell_type": "code",
   "execution_count": null,
   "metadata": {},
   "outputs": [],
   "source": []
  },
  {
   "cell_type": "markdown",
   "metadata": {},
   "source": [
    "## Rechenoperationen\n",
    "\n",
    "Ihr könnt die üblichen Grundrechenarten, darüber hinaus `**` für die Potenz benutzen. Der Typ der Ergebnisse solcher Rechenoperationen hängt vom Typ der beteiligten Zahlen ab, Operationen aus float und int liefern float, aus complex und einem der anderen liefert complex.\n",
    "    \n",
    "\n",
    "### Prioritäten:\n",
    "\n",
    "- Geklammerte Ausdrücke werden zuerst berechnet, innere Klammern vor äußeren.\n",
    "- *Punkt vor Strich:*  /,\\* kommt vor +,-\n",
    "\n",
    "### Weitere Operationen\n",
    "\n",
    "Wichtig ist noch die Division mit Rest //, bzw. der Rest bei dieser Division (modulo) %, der sowohl für ganze Zahlen (mit ganzzahligem Ergebnis) als auch für Fließkommazahlen (mit float als Ergebnis) definiert ist:\n",
    "\n",
    "     7//3  --> 2    ganzzahlige Division\n",
    "\n",
    "     7%3   --> 1    Modulo-Operator"
   ]
  },
  {
   "cell_type": "code",
   "execution_count": null,
   "metadata": {},
   "outputs": [],
   "source": [
    "#Berechnung Kegel-Volumen\n",
    "hoehe = 10\n",
    "grundflaeche = 2.5\n",
    "volumen = 1/3*hoehe*grundflaeche\n",
    "print(volumen)"
   ]
  },
  {
   "cell_type": "code",
   "execution_count": null,
   "metadata": {},
   "outputs": [],
   "source": [
    "2**10  #exponent"
   ]
  },
  {
   "cell_type": "code",
   "execution_count": null,
   "metadata": {},
   "outputs": [],
   "source": [
    "2**10000"
   ]
  },
  {
   "cell_type": "code",
   "execution_count": null,
   "metadata": {},
   "outputs": [],
   "source": [
    "13//5 #ganzzahlige division"
   ]
  },
  {
   "cell_type": "code",
   "execution_count": null,
   "metadata": {},
   "outputs": [],
   "source": [
    "13 % 5 #modulo"
   ]
  },
  {
   "cell_type": "code",
   "execution_count": null,
   "metadata": {},
   "outputs": [],
   "source": []
  },
  {
   "cell_type": "markdown",
   "metadata": {},
   "source": [
    "Weitere eingebaute Funktionen:\n",
    "\n",
    "`abs, max, min`"
   ]
  },
  {
   "cell_type": "code",
   "execution_count": null,
   "metadata": {},
   "outputs": [],
   "source": [
    "abs(-3)  #Betrag"
   ]
  },
  {
   "cell_type": "code",
   "execution_count": null,
   "metadata": {},
   "outputs": [],
   "source": [
    "max(1, 2, 4, 2)"
   ]
  },
  {
   "cell_type": "code",
   "execution_count": null,
   "metadata": {},
   "outputs": [],
   "source": [
    "min(1, 2, -1, 5)"
   ]
  },
  {
   "cell_type": "code",
   "execution_count": null,
   "metadata": {},
   "outputs": [],
   "source": []
  },
  {
   "cell_type": "markdown",
   "metadata": {},
   "source": [
    "### Operationen mit Strings\n",
    "\n",
    "Eine Zeichenkette kann durch Einfache Anführungszeichen '...' oder doppelte Anführungszeichen \"...\" eingeschlossen werden. Passt eine solche Zeichenkette nicht in eine Zeile, so lässt sich - wie stets in Python - durch einen Backslash `\\` die Zeile in die folgende Zeile verlängern. Die über mehrere Zeilen verteilten Langzeilen werden vom Interpreter anschließend wieder aneinander gehängt, dabei werden die \\ wieder entfernt. \n",
    "\n",
    "Für wirklich mehrzeiligen Text gibt es noch eine praktischere Variante, dreifache Anführungszeichen am Anfang und am Ende. Die Zeilenumbrüche werden in dieser Variante Teil der Zeichenkette. Ein Zeilenumbruch kann auch mit `\\n` codiert werden."
   ]
  },
  {
   "cell_type": "code",
   "execution_count": null,
   "metadata": {},
   "outputs": [],
   "source": [
    "s = \"\"\"Sehr geehrter Herr Müller,\n",
    "\n",
    "mir reicht's.\"\"\""
   ]
  },
  {
   "cell_type": "code",
   "execution_count": null,
   "metadata": {
    "scrolled": true
   },
   "outputs": [],
   "source": [
    "print(s)"
   ]
  },
  {
   "cell_type": "code",
   "execution_count": null,
   "metadata": {},
   "outputs": [],
   "source": [
    "s='Mausefalle'"
   ]
  },
  {
   "cell_type": "markdown",
   "metadata": {},
   "source": [
    "Die Länge des Strings `s` erhalten Sie durch `len(s)`."
   ]
  },
  {
   "cell_type": "code",
   "execution_count": null,
   "metadata": {
    "scrolled": true
   },
   "outputs": [],
   "source": [
    "len(s)"
   ]
  },
  {
   "cell_type": "markdown",
   "metadata": {},
   "source": [
    "\n",
    "Für Zeichenketten bedeutet `+` das Aneinanderhängen der Zeichenketten.\n"
   ]
  },
  {
   "cell_type": "code",
   "execution_count": null,
   "metadata": {},
   "outputs": [],
   "source": [
    "t=s+s+'Hund'"
   ]
  },
  {
   "cell_type": "code",
   "execution_count": null,
   "metadata": {},
   "outputs": [],
   "source": [
    "print(t)"
   ]
  },
  {
   "cell_type": "code",
   "execution_count": null,
   "metadata": {
    "scrolled": true
   },
   "outputs": [],
   "source": [
    "'Katze'*4"
   ]
  },
  {
   "cell_type": "markdown",
   "metadata": {},
   "source": [
    "Die **einzelnen Zeichen eines Strings** kann man über einen Index in eckigen Klammern erreichen."
   ]
  },
  {
   "cell_type": "code",
   "execution_count": null,
   "metadata": {},
   "outputs": [],
   "source": [
    "s[0]"
   ]
  },
  {
   "cell_type": "code",
   "execution_count": null,
   "metadata": {},
   "outputs": [],
   "source": [
    "s[1]"
   ]
  },
  {
   "cell_type": "code",
   "execution_count": null,
   "metadata": {},
   "outputs": [],
   "source": [
    "s[-1]"
   ]
  },
  {
   "cell_type": "markdown",
   "metadata": {},
   "source": [
    "Durch `s[0]` greift man auf den ersten Buchstaben von 'Katze' zu, `s[1]` auf den zweiten, etc.  Das letzte Zeichen von $c$ hat den Index `len(s)-1`, **also liefert `s[len(s)-1]` den Wert “e”.** Sie können aber das letzte Zeichen auch so erhalten: `s[-1]`, das vorletzte `s[2]`, etc. Ein negativer Index wird so interpretiert, dass vom Ende der Zeichenkette zu zählen ist.\n",
    "\n",
    "**Bemerkung**: So gut wie alle num(m)erierten Objekte in Python Zählen von Null an. Das entspricht natürlich nicht der Umgangssprache: In einer Reihe von zehn Bäumen wird man vom ersten, zweiten, ... , zehnten Baum sprechen.  Hier müssen Sie sich daran gewöhnen, vom nullten, ersten,  ... , neunten Baum zu reden.  Das ist eine mögliche Fehlerquelle, also Vorsicht! "
   ]
  },
  {
   "cell_type": "code",
   "execution_count": null,
   "metadata": {},
   "outputs": [],
   "source": [
    "s[-2]"
   ]
  },
  {
   "cell_type": "code",
   "execution_count": null,
   "metadata": {
    "scrolled": true
   },
   "outputs": [],
   "source": [
    "s[11]"
   ]
  },
  {
   "cell_type": "markdown",
   "metadata": {},
   "source": [
    "Man kann auch einen Ausschnitt (ein `slice`) eines Strings bekommen, indem man in eckigen Klammern zwei oder drei durch Doppelpunkte getrennte Zahlen eingiebt.\n",
    "\n",
    "- `s[anfang:ende]`  liefert den Teil des Strings, der zu den Indices i mit `anfang`$\\leq i< $`ende` gehört, der letzte Index ist also `ende-1`!\n",
    "\n",
    "- `s[anfang:ende:sprung]` liefert den Teil des Strings, der zu den Indices \n",
    "i$\\in\\{$ `anfang, anfang+sprung, anfang+2*sprung` $,\\ldots\\}$ mit $ i< $`ende` gehört. \n",
    "\n",
    "Für negative Indices ist wieder zu beachten, dass -1 dem Index `len(s)-1`, -k dem Index `len(s)-k` entspricht. In diesem mus Fall liefert `s[anfang:ende:sprung]`  für `anfang>ende` den Teilstring, der zu den Indices \n",
    "i$\\in\\{$ `anfang, anfang+sprung, anfang+2*sprung` $,\\ldots\\}$ mit $ i> $`ende` gehört.\n",
    "\n",
    "\n",
    "Lässt man die erste Zahl weg, also etwa s[:3], so wäre alles ab dem Anfang (Index 0) gemeint. Lässt man die zweite\n",
    "Zahl weg, so ist alles bis zum Ende gemeint.\n",
    "\n",
    "Diese Art, bestimmte Teile eines indizierten Objekts zu bekommen, nennt man **slicing**.  Es ist sehr wichtig und nützlich und wird uns noch öfter begegnen."
   ]
  },
  {
   "cell_type": "code",
   "execution_count": null,
   "metadata": {},
   "outputs": [],
   "source": [
    "s[0:4]"
   ]
  },
  {
   "cell_type": "code",
   "execution_count": null,
   "metadata": {},
   "outputs": [],
   "source": [
    "s[5:]"
   ]
  },
  {
   "cell_type": "code",
   "execution_count": null,
   "metadata": {},
   "outputs": [],
   "source": [
    "s[1:8:2]"
   ]
  },
  {
   "cell_type": "markdown",
   "metadata": {},
   "source": [
    "**Aufgabe:** Weisen Sie einer Variablen einen Satz als \n",
    "String zu und bestimmen Sie nun verschiedene *slices* dieses Strings.\n",
    "Lassen Sie sich die ersten 6, die letzten 6 und jeden zweiten Buchstaben\n",
    "ausgeben."
   ]
  },
  {
   "cell_type": "code",
   "execution_count": null,
   "metadata": {},
   "outputs": [],
   "source": []
  },
  {
   "cell_type": "markdown",
   "metadata": {},
   "source": [
    "Es gibt natürlich viel mehr Stringoperationen, die man nachschlagen\n",
    "kann, sobald man sie braucht. Es sollen noch einige erwähnt werden, weil\n",
    "wir sie bald gebrauchen können. **Beachten Sie im folgenden, dass der Variablennamen \n",
    "durch einen Punkt vom Namen einer Funktion getrennt wird.** Wir werden\n",
    "das später noch näher kennenlernen; es handelt sich um so genannte\n",
    "Methoden von Objekten.\n",
    "\n",
    "Ist `s` ein String, der am Ende Leerzeichen enthält oder `\\n`\n",
    "(’newline’), bzw. `\\r`(’carriage return’), so liefert die Funktion\n",
    "`s.rstrip()` einen String zurück, aus dem diese unsichtbaren Zeichen\n",
    "entfernt wurden. (Die Zeichen `\\r` und `\\n` trennen in gewöhnlichen\n",
    "Textdateien die Zeilen voneinander. Deswegen treten diese Zeichen beim\n",
    "Lesen solcher Dateien für gewöhnlich auf.)\n",
    "\n",
    "Die Funktion `s.replace(alt,neu)` liefert einen String, in dem alle\n",
    "Vorkommen des Strings `alt` im String `s` durch den String `neu` ersetzt\n",
    "wurden. Die Funktionen `s.upper` und `s.lower` liefern den String in\n",
    "Groß- bzw. Kleinbuchstaben umgewandelt zurück. **Der ursprüngliche\n",
    "String bleibt dabei unverändert, wenn Sie die Variable nicht neu\n",
    "zuweisen.**\n",
    "\n",
    "Eine weitere nützliche Funktion ist `s.find(...)`.  Diese sucht, ab welchem Index der für ... eingesetzte String\n",
    "in `s` vorkommt. Kommt er nicht vor, wird -1 zurückgegeben."
   ]
  },
  {
   "cell_type": "code",
   "execution_count": null,
   "metadata": {},
   "outputs": [],
   "source": [
    "satz='Ach, der Sommer ist vorbei.'\n",
    "satz2=satz.upper()\n",
    "satz2"
   ]
  },
  {
   "cell_type": "code",
   "execution_count": null,
   "metadata": {},
   "outputs": [],
   "source": [
    "print(satz)"
   ]
  },
  {
   "cell_type": "code",
   "execution_count": null,
   "metadata": {},
   "outputs": [],
   "source": [
    "satz3=satz2.replace('O','I')\n",
    "print(satz3)"
   ]
  },
  {
   "cell_type": "code",
   "execution_count": null,
   "metadata": {},
   "outputs": [],
   "source": [
    "satz4=satz3.replace('E','U')\n",
    "print(satz4)"
   ]
  },
  {
   "cell_type": "code",
   "execution_count": null,
   "metadata": {},
   "outputs": [],
   "source": []
  }
 ],
 "metadata": {
  "kernelspec": {
   "display_name": "Python 3",
   "language": "python",
   "name": "python3"
  },
  "language_info": {
   "codemirror_mode": {
    "name": "ipython",
    "version": 3
   },
   "file_extension": ".py",
   "mimetype": "text/x-python",
   "name": "python",
   "nbconvert_exporter": "python",
   "pygments_lexer": "ipython3",
   "version": "3.8.3"
  },
  "latex_envs": {
   "bibliofile": "biblio.bib",
   "cite_by": "apalike",
   "current_citInitial": 1,
   "eqLabelWithNumbers": true,
   "eqNumInitial": 0
  }
 },
 "nbformat": 4,
 "nbformat_minor": 1
}
