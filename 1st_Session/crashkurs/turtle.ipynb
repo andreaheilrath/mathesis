{
 "cells": [
  {
   "cell_type": "markdown",
   "metadata": {},
   "source": [
    "# Turtle Grafik\n",
    "\n",
    "In diesem Notebook soll es um die Befehle des Turtle-Moduls gehen.\n",
    "\n",
    "Mit `turtle.delay(...)` wird eingestellt,\n",
    "welche Zeit (in Millisekunden) 'turtle' zwischen den einzelnen Aktionen wartet.\n",
    "Mit `turtle.speed(...)` wird eingestellt, \n",
    "wie schnell sich die Schildkröte bei den einzelnen Schritten bewegt.\n",
    "\n",
    "Das Modul stellt verschiedene Funktionen zur Verfügung,\n",
    "mit denen man zeichnen kann:\n",
    "\n",
    "    turtle.fd(x)  #'forward'  bewegt turtle um x Einheiten vorwärts\n",
    "    turtle.lt(x)  #'left turn' dreht turtle um x Grad nach links\n",
    "    turtle.rt(x)  #'right turn' dreht turtle um x Grad nach rechts\n",
    "    turtle.pd()   #'pen down'   versetzt turtle in den Schreibmodus\n",
    "    turtle.pu()   #'pen up' beendet den Schreibmodus\n",
    "\n",
    "\n",
    "Eine vollständige Übersicht über die Befehle findet man unter\n",
    "https://docs.python.org/2/library/turtle.html\n",
    "\n",
    "Wenn nicht im interaktiven Modus gearbeitet wird, geht das Fenster \n",
    "gleich nach dem Zeichnen wieder zu. Mit dem Befehl\n",
    "\n",
    "    turtle.exitonclick()\n",
    "    \n",
    "schließt das Fenster erst, wenn darauf geklickt wird.\n",
    "\n",
    "Mit \n",
    "   \n",
    "    turtle.bye()\n",
    "    \n",
    "lässt sich ein turtle-Fenster schließen.\n",
    "\n",
    "In manchen Betriebssystemen gibt es einen Konflikt zwischen dem Jupyter-Notebook und \n",
    "der Verwaltung der Turtle-Fenster. Wenn ein Problem ergibt, sollten \n",
    "Programme besser nicht in einem Notebook, sondern mit einem Editor geschrieben und direkt mit dem\n",
    "Interpreter ausgeführt werden."
   ]
  },
  {
   "cell_type": "code",
   "execution_count": null,
   "metadata": {
    "scrolled": true
   },
   "outputs": [],
   "source": [
    "import turtle\n",
    "\n",
    "turtle.fd(100)\n",
    "turtle.lt(90)\n",
    "turtle.fd(50)\n",
    "turtle.lt(90)\n",
    "turtle.fd(25)\n",
    "turtle.lt(90)\n",
    "turtle.exitonclick()\n",
    "turtle.mainloop()\n",
    "turtle.bye()"
   ]
  },
  {
   "cell_type": "markdown",
   "metadata": {},
   "source": [
    "Die Turtlegraphik war ursprünglich so gedacht, wie oben beschrieben. Sie zeichnet, indem sie sich relativ zu einer Position bewegt.\n",
    "\n",
    "Es gibt aber dennoch ein zugrundeliegendes unsichtbares Koordinatensystem. In diesem hat die Turtle eine Position (x,y). Man kann sie mit \n",
    "    \n",
    "    turtle.goto(x_neu, y_neu)\n",
    "    \n",
    "zu einer neuen absoluten Position bewegen.\n",
    "\n",
    "Welche Koordinaten überhaupt verfügbar sind, lässt sich mit turtle.screensize ermitteln.\n",
    "Der Ursprung (0,0) liegt in der Mitte.\n"
   ]
  },
  {
   "cell_type": "code",
   "execution_count": null,
   "metadata": {},
   "outputs": [],
   "source": [
    "turtle.xcor(), turtle.ycor()"
   ]
  },
  {
   "cell_type": "code",
   "execution_count": null,
   "metadata": {
    "scrolled": true
   },
   "outputs": [],
   "source": [
    "turtle.screensize()"
   ]
  },
  {
   "cell_type": "code",
   "execution_count": null,
   "metadata": {},
   "outputs": [],
   "source": [
    "turtle.goto(100, 100)"
   ]
  },
  {
   "cell_type": "code",
   "execution_count": null,
   "metadata": {
    "scrolled": true
   },
   "outputs": [],
   "source": [
    "turtle.bye()"
   ]
  }
 ],
 "metadata": {
  "kernelspec": {
   "display_name": "Python 3",
   "language": "python",
   "name": "python3"
  },
  "language_info": {
   "codemirror_mode": {
    "name": "ipython",
    "version": 3
   },
   "file_extension": ".py",
   "mimetype": "text/x-python",
   "name": "python",
   "nbconvert_exporter": "python",
   "pygments_lexer": "ipython3",
   "version": "3.8.3"
  },
  "latex_envs": {
   "bibliofile": "biblio.bib",
   "cite_by": "apalike",
   "current_citInitial": 1,
   "eqLabelWithNumbers": true,
   "eqNumInitial": 0
  }
 },
 "nbformat": 4,
 "nbformat_minor": 1
}
