{
 "cells": [
  {
   "cell_type": "markdown",
   "metadata": {},
   "source": [
    "# Klassen und Objekte\n",
    "\n",
    "Bisher waren unsere Programme so strukturiert, dass wir dem Rechner nach und nach vorgegeben haben, was er zu tun hat. Diese Form der Anweisung nennt man oft **Prozedurale Programmierung**.\n",
    "Im Kontrast dazu steht die **Objektorientierte Programmierung** um die es hier gehen soll.\n",
    "\n",
    "Objekte habt ihr in den letzten Wochen schon kennengelernt. Zum Beispiel habt ihr die _turtle_ benutzt. Eine **Instanz** (synonym zu Objekt) der Klasse _turtle_ verfügt sowohl über einen Zustand (z.B. aktuelle Position) als auch über Aktionen (goto, forward, lt, ...)  - im Allgemeinen werden die **Zustandsvariablen als Attribute** und die **Funktionen als Methoden bezeichnet.**  \n",
    "\n",
    "\n",
    "**In einer Klasse werden Variablen und Funktionen in einen Container gesteckt und sind somit \"verkapselt\".**\n",
    "Eine Klasse ist eine **_Blaupause_** für ein Objekt. Die Klassendeklaration gibt vor, welche Attribute (Variablen) und Methoden (Funktionen) existieren. Verschiedene Instanzen einer Klasse können in verschiedenen Zuständen sein - allerdings zeigen sie alle das gleiche Verhalten, da sie auf die selben Methoden zurückgreifen. \n",
    "\n",
    "\n",
    "\n",
    "## Klassendeklaration\n",
    "\n",
    "So könnte ihr eine Klasse erstellen:\n",
    "\n",
    "\n",
    "    class KlassenName():\n",
    "        ...\n",
    "        ...   Deklaration\n",
    "        ...\n",
    "       \n",
    "\n",
    "        \n",
    "#### Ein Beispiel mit Katze:"
   ]
  },
  {
   "cell_type": "code",
   "execution_count": null,
   "metadata": {},
   "outputs": [],
   "source": [
    "class cat():\n",
    "    mood = 5\n",
    "    hunger = 5\n",
    "    energy = 5\n",
    "    \n",
    "    def sleep(self):   #den Funktionen der Klasse muss die jeweilige Intanz (das Objekt) übergeben werden\n",
    "        self.mood += 1\n",
    "        self.energy += 2\n",
    "        \n",
    "    def play(self):\n",
    "        self.mood += 1\n",
    "        self.energy -= 1\n",
    "        self.hunger += 1\n",
    "        self.meow()\n",
    "    \n",
    "    def feed(self):\n",
    "        self.mood += 1 \n",
    "        self.hunger -= 1\n",
    "    \n",
    "    def meow(self):\n",
    "        print(\"MiauMiau\")"
   ]
  },
  {
   "cell_type": "code",
   "execution_count": null,
   "metadata": {},
   "outputs": [],
   "source": [
    "miez = cat()  #Hier wird ein Objekt der Klasse cat mit dem Namen miez erstellt"
   ]
  },
  {
   "cell_type": "code",
   "execution_count": null,
   "metadata": {},
   "outputs": [],
   "source": [
    "miez.play()   #Da miez ein Objekt der Klasse cat ist, besitzt es die Methode play\n",
    "print(miez.mood)"
   ]
  },
  {
   "cell_type": "code",
   "execution_count": null,
   "metadata": {},
   "outputs": [],
   "source": [
    "cat.play(miez) #das gleiche wie miez.play() - nur ausgeschrieben"
   ]
  },
  {
   "cell_type": "code",
   "execution_count": null,
   "metadata": {},
   "outputs": [],
   "source": [
    "miez.mood() #Error - mood ist keine Funktion sondern ein Attribut!"
   ]
  },
  {
   "cell_type": "code",
   "execution_count": null,
   "metadata": {},
   "outputs": [],
   "source": [
    "miez.mood  #"
   ]
  },
  {
   "cell_type": "markdown",
   "metadata": {},
   "source": [
    "In anderen Programmiersprachen sind die Attribute einer Klasse per default _private_ , in diesem Fall dürfen nur die Methoden der Klasse selbst die Attribute verändern. In Python gibt es **keine Unterscheidung in public und private**. Ihr könnt jederzeit \"von Außen\" die Werte der Attribute ändern.\n",
    "\n",
    "Im Fall der echten Katze habt ihr keinen direkten Zugriff auf Laune oder Müdigkeit. Aber ihr könnt z.B. durch Füttern ihren Zustand verändern. Hier ist das anders - aber seid vorsichtig!"
   ]
  },
  {
   "cell_type": "code",
   "execution_count": null,
   "metadata": {},
   "outputs": [],
   "source": [
    "miez.mood = 4\n",
    "print(miez.mood)"
   ]
  },
  {
   "cell_type": "markdown",
   "metadata": {},
   "source": [
    "(Anmerkung: Laut _CodingConvention_ (aktuell [PEP 8](\"https://www.python.org/dev/peps/pep-0008/\")) werden **Attribute die nicht von außen verändert werden sollen mit einem Unterstrich markiert, also z.B. `_mood`**, in unserem Falle wäre der Aufruf von Außen dann `miez._mood`. Benutzt gern diese Konvention - und vor allem beachtet sie wenn fremden Code benutzt!\n",
    "\n",
    "### Special (\\Magic \\Dunder) Methods\n",
    "\n",
    "Es gibt spezielle Methoden die im Kontext von Klassen benutzt werden können, diese werden durch doppelte Unterstriche gekennzeichnet (Dunder = double under).\n",
    "\n",
    "    __init__  # \"Konstruktor\" zum Erstellen es Objekts\n",
    "    __str__   # Definiert, wie das Objekt durch die print() Funktion dargestellt wird\n",
    "    __len__   # Definiert, was die len() Funktion auf dem Objekt zurückgibt\n",
    "    \n",
    "    __getitem__ #getitem und setitem ermöglichen das Zugeifen auf Einträge via Indizes\n",
    "    __setitem__ #dann lässt sich auch über das Objekt iteriere (wie bei Listen, Arrays, ...)\n",
    "    \n",
    "    \n",
    "... und noch einige mehr siehe z.B. [hier](\"https://dbader.org/blog/python-dunder-methods\"). Mehr dazu in den Beispielen.\n",
    "    "
   ]
  },
  {
   "cell_type": "code",
   "execution_count": null,
   "metadata": {},
   "outputs": [],
   "source": [
    "class cat():\n",
    "    \n",
    "    def __init__(self, mood = 5, hunger = 5, energy = 5):\n",
    "        self.mood = mood\n",
    "        self.hunger = hunger\n",
    "        self.energy = energy\n",
    "        \n",
    "    def __str__(self):\n",
    "        return(\"Katze. Laune: \" + str(self.mood) + \", Hunger: \" + str(self.hunger) + \\\n",
    "               \":, Energie: \" + str(self.energy))\n",
    "    \n",
    "    def sleep(self):   #den Funktionen der Klasse muss die jeweilige Intanz (das Objekt) übergeben werden\n",
    "        self.mood += 1\n",
    "        self.energy += 2\n",
    "        \n",
    "    def play(self):\n",
    "        self.mood += 1\n",
    "        self.energy -= 1\n",
    "        self.hunger += 1\n",
    "        self.meow()\n",
    "    \n",
    "    def feed(self):\n",
    "        self.mood += 1 \n",
    "        self.hunger -= 1\n",
    "    \n",
    "    def meow(self):\n",
    "        print(\"MiauMiau\")"
   ]
  },
  {
   "cell_type": "code",
   "execution_count": null,
   "metadata": {},
   "outputs": [],
   "source": [
    "miez2 = cat(mood = 3, hunger = 4, energy = 5) #wir können die Miez jetzt in einem gewählten Zustand initialisieren!\n",
    "print(miez2.hunger)"
   ]
  },
  {
   "cell_type": "code",
   "execution_count": null,
   "metadata": {},
   "outputs": [],
   "source": [
    "print(miez) #Ohne __str__ Magic Method (Objekt von oben)\n",
    "print(\"\\n\")\n",
    "print(miez2) #mit __str__ Das ist hübscher!"
   ]
  },
  {
   "cell_type": "markdown",
   "metadata": {},
   "source": [
    "### Vererbung (inheritance)\n",
    "\n",
    "Klasseneigenschaften lassen sich auch an andere Klassen vererben, die Definition sieht dann wie folgt aus:\n",
    "\n",
    "     class KlassenName(AndereKlasse): \n",
    "        ...\n",
    "        ...   Deklaration\n",
    "        ...   \n",
    "        \n",
    "Angenommen wir möchten nun auch eine Klasse zu Hunden haben. Eine Variante möglichst Effizient zu arbeiten ist alle Eigenschaften die Katze und Hund gemeinsam haben in einer übergeordneten Klasse `pet` zusammenzufassen."
   ]
  },
  {
   "cell_type": "code",
   "execution_count": null,
   "metadata": {},
   "outputs": [],
   "source": [
    "class pet():\n",
    "    \n",
    "    def __init__(self, mood=5, hunger=5, energy=5):\n",
    "        self.mood = mood\n",
    "        self.hunger = hunger\n",
    "        self.energy = energy\n",
    "        \n",
    "    def __str__(self):\n",
    "        return(\"Haustier. Laune: \" + str(self.mood) + \", Hunger: \" + str(self.hunger) + \\\n",
    "               \":, Energie: \" + str(self.energy))\n",
    "    \n",
    "    def sleep(self):   #den Funktionen der Klasse muss die jeweilige Intanz (das Objekt) übergeben werden\n",
    "        self.mood += 1\n",
    "        self.energy += 2\n",
    "    \n",
    "    def feed(self):\n",
    "        self.mood += 1 \n",
    "        self.hunger -= 1"
   ]
  },
  {
   "cell_type": "code",
   "execution_count": null,
   "metadata": {},
   "outputs": [],
   "source": [
    "class cat(pet):\n",
    "    \n",
    "    def meow(self):\n",
    "        print(\"MiauMiau\")\n",
    "        \n",
    "    def play(self):\n",
    "        self.mood += 1\n",
    "        self.energy -= 1\n",
    "        self.hunger += 1\n",
    "        self.meow()\n",
    "\n",
    "class dog(pet):\n",
    "\n",
    "    def bark(self):\n",
    "        print(\"WauWau!\")\n",
    "        \n",
    "    def play(self):\n",
    "        self.mood += 1\n",
    "        self.energy -= 1\n",
    "        self.hunger += 1\n",
    "        self.bark()"
   ]
  },
  {
   "cell_type": "code",
   "execution_count": null,
   "metadata": {},
   "outputs": [],
   "source": [
    "rex = dog()\n",
    "garfield = cat()"
   ]
  },
  {
   "cell_type": "code",
   "execution_count": null,
   "metadata": {},
   "outputs": [],
   "source": [
    "rex.play()"
   ]
  },
  {
   "cell_type": "code",
   "execution_count": null,
   "metadata": {},
   "outputs": [],
   "source": [
    "garfield.sleep()\n",
    "print(garfield.mood)"
   ]
  },
  {
   "cell_type": "markdown",
   "metadata": {},
   "source": [
    "### Polymorphismus (Vielgestaltigkeit)\n",
    "\n",
    "Hier soll noch erwähnt sein, dass Funktionen aus der Elternklasse auch **überschrieben** werden können. Dies kann man unter anderem dafür nutzen, dass die selbe Methode bei ähnlichen Objekten verschiedene Resultate liefert - deshalb polymorph.\n",
    "\n",
    "Hier das Gleiche wie oben nur anders."
   ]
  },
  {
   "cell_type": "code",
   "execution_count": null,
   "metadata": {},
   "outputs": [],
   "source": [
    "class pet():\n",
    "    \n",
    "    def __init__(self, mood=5, hunger=5, energy=5):\n",
    "        self.mood = mood\n",
    "        self.hunger = hunger\n",
    "        self.energy = energy\n",
    "        \n",
    "    def __str__(self):\n",
    "        return(\"Haustier. Laune: \" + str(self.mood) + \", Hunger: \" + str(self.hunger) + \\\n",
    "               \":, Energie: \" + str(self.energy))\n",
    "    \n",
    "    def sleep(self):   #den Funktionen der Klasse muss die jeweilige Intanz (das Objekt) übergeben werden\n",
    "        self.mood += 1\n",
    "        self.energy += 2\n",
    "    \n",
    "    def feed(self):\n",
    "        self.mood += 1 \n",
    "        self.hunger -= 1\n",
    "        \n",
    "    def sound(self):\n",
    "        raise NotImplementedError()\n",
    "        \n",
    "    def play(self):\n",
    "        self.mood += 1\n",
    "        self.energy -= 1\n",
    "        self.hunger += 1\n",
    "        self.sound()\n",
    "        \n",
    "class cat(pet):\n",
    "    def sound(self):\n",
    "        print(\"Miau!\")\n",
    "\n",
    "class dog(pet):\n",
    "    def sound(self):\n",
    "        print(\"Wuff!\")        "
   ]
  },
  {
   "cell_type": "code",
   "execution_count": null,
   "metadata": {},
   "outputs": [],
   "source": [
    "rex = dog()\n",
    "garfield = cat()"
   ]
  },
  {
   "cell_type": "code",
   "execution_count": null,
   "metadata": {},
   "outputs": [],
   "source": [
    "rex.play()"
   ]
  },
  {
   "cell_type": "code",
   "execution_count": null,
   "metadata": {},
   "outputs": [],
   "source": [
    "garfield.play()"
   ]
  },
  {
   "cell_type": "markdown",
   "metadata": {},
   "source": [
    "## Abstraktion\n",
    "\n",
    "Zum Schluss sei noch angemerkt welchen enormen Vorteil Objektorientierte Programmierung noch bietet - Vereinfachung durch Abstraktion! Meist will User garnicht wissen, welche Codeberge sich hinter Methoden verbergen. **Mit möglichst sprechenden Attributen und Variablen wird ein Programm extrem aufgeräumt und bedienbar, obwohl es sehr komplex sein mag.**\n",
    "\n",
    "Damit haben wir die grundlegenden Konzepte hinter Objektorientierer Programmierung abgedeckt:\n",
    "* Verkapselung\n",
    "* Abstraktion\n",
    "* Vererbung\n",
    "* Polymorphismus\n",
    "\n",
    "Einige Beispiele und Konzepte sind aus [diesem FreeCodeCamp Post](\"https://www.freecodecamp.org/news/object-oriented-programming-concepts-21bb035f7260/\") entnommen.\n",
    "\n",
    "... und zum Abschluss noch \"The Zen of Python\""
   ]
  },
  {
   "cell_type": "code",
   "execution_count": null,
   "metadata": {},
   "outputs": [],
   "source": [
    "import this"
   ]
  },
  {
   "cell_type": "code",
   "execution_count": null,
   "metadata": {},
   "outputs": [],
   "source": []
  }
 ],
 "metadata": {
  "kernelspec": {
   "display_name": "Python 3",
   "language": "python",
   "name": "python3"
  },
  "language_info": {
   "codemirror_mode": {
    "name": "ipython",
    "version": 3
   },
   "file_extension": ".py",
   "mimetype": "text/x-python",
   "name": "python",
   "nbconvert_exporter": "python",
   "pygments_lexer": "ipython3",
   "version": "3.8.2"
  }
 },
 "nbformat": 4,
 "nbformat_minor": 2
}
