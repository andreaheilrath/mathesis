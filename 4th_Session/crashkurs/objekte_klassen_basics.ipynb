{
 "cells": [
  {
   "cell_type": "markdown",
   "metadata": {},
   "source": [
    "# Klassen und Objekte\n",
    "\n",
    "Bisher waren unsere Programme so strukturiert, dass wir dem Rechner nach und nach vorgegeben haben, was er zu tun hat. Diese Form der Anweisung nennt man oft **Prozedurale Programmierung**.\n",
    "Im Kontrast dazu steht die **Objektorientierte Programmierung** um die es hier gehen soll.\n",
    "\n",
    "Objekte habt ihr in den letzten Wochen schon kennengelernt. Zum Beispiel habt ihr die _turtle_ benutzt. Eine **Instanz** (synonym zu Objekt) der Klasse _turtle_ verfügt sowohl über einen Zustand (z.B. aktuelle Position) als auch über Aktionen (goto, forward, lt, ...)  - im Allgemeinen werden die **Zustandsvariablen als Attribute** und die **Funktionen als Methoden bezeichnet.**  \n",
    "\n",
    "\n",
    "**In einer Klasse werden Variablen und Funktionen in einen Container gesteckt und sind somit \"verkapselt\".**\n",
    "Eine Klasse ist eine **_Blaupause_** für ein Objekt. Die Klassendeklaration gibt vor, welche Attribute (Variablen) und Methoden (Funktionen) existieren. Verschiedene Instanzen einer Klasse können in verschiedenen Zuständen sein - allerdings zeigen sie alle das gleiche Verhalten, da sie auf die selben Methoden zurückgreifen. \n",
    "\n",
    "## Klassendeklaration\n",
    "\n",
    "<img src=\"https://media1.giphy.com/media/3oriO0OEd9QIDdllqo/200.webp?cid=ecf05e47xps9hzonzme5bgk7gdgobbxxaiktvrjnvn5blonp&rid=200.webp\" style=\"float:right\">\n",
    "\n",
    "\n",
    "So lässt sich eine Klasse erstellen:\n",
    "\n",
    "\n",
    "    class KlassenName():\n",
    "        ...\n",
    "        ...   Deklaration\n",
    "        ...\n",
    "       \n",
    "\n",
    "#### Ein Beispiel mit Katze:"
   ]
  },
  {
   "cell_type": "code",
   "execution_count": null,
   "metadata": {},
   "outputs": [],
   "source": [
    "class cat():\n",
    "    \"\"\"Eine Klasse für Katzen.\"\"\"\n",
    "    \n",
    "    sounds = [\"MiauMiau!\"]  #Variable, die von allen Instanzen der Klasse geteilt wird\n",
    "    \n",
    "    def __init__(self): #Funktion die bei der Erstellung einer Instanz aufgerufen wird\n",
    "        self.mood = 5        #Variablen, die für jede einzelne Instanz erstellt werden\n",
    "        self.energy = 5\n",
    "        self.hunger = 5\n",
    "    \n",
    "    def meow(self):\n",
    "        for sound in self.sounds:\n",
    "            print(sound)\n",
    "        \n",
    "    def play(self):\n",
    "        self.mood += 1\n",
    "        self.energy -= 0.5\n",
    "        self.hunger += 0.5\n",
    "        self.meow()"
   ]
  },
  {
   "cell_type": "code",
   "execution_count": null,
   "metadata": {},
   "outputs": [],
   "source": [
    "miez = cat()  # Hier wird ein Objekt der Klasse cat mit dem Variablennamen miez erstellt"
   ]
  },
  {
   "cell_type": "code",
   "execution_count": null,
   "metadata": {},
   "outputs": [],
   "source": [
    "miez.meow()   # Da miez ein Objekt der Klasse cat ist, besitzt es die Methode meow"
   ]
  },
  {
   "cell_type": "code",
   "execution_count": null,
   "metadata": {},
   "outputs": [],
   "source": [
    "miez.play()  # In der Methode .play() wird auch die Methode .meow() aufgerufen\n",
    "print(miez.mood) # mood ist keine Methode, sondern ein Attribut. Daher wird es ohne Klammern () aufgerufen."
   ]
  },
  {
   "cell_type": "markdown",
   "metadata": {},
   "source": [
    "<img src=\"cat_class.png\" style=\"float:right\" width=55%>\n",
    "\n",
    "*Bei der Deklaration von Klassen gibt es einiges zu beachten:*\n",
    "\n",
    "Den Funktionen muss eine **Referenz auf die jeweilige Instanz der Klasse** übergeben werden: `self`.\n",
    "\n",
    "Die Funktion `meow` verändert den Zustand der Katze nicht. Es wird nur gemauzt.\n",
    "\n",
    "Die Funktion `play` verändert den Zustand der Katze, sie wird glücklicher, aber auch müder und hungriger.\n",
    "\n",
    "Die Funktion `__init__`gehört zu den sogenannten **Special Methods**, von denen wir gleich noch mehr kennenlernen werden. Diese Funktion wird aufgerufen, wenn eine neue Instanz der Klasse erstellt wird, also bei `miez = cat()`. \n",
    "Nur die in der Init-Funktion definierten Variablen gehören der Instanz allein, die weiter oben definierte Variable `sounds` wird unter allen Instanzen von `cat` geteilt!"
   ]
  },
  {
   "cell_type": "code",
   "execution_count": null,
   "metadata": {},
   "outputs": [],
   "source": [
    "miez2 = cat()"
   ]
  },
  {
   "cell_type": "code",
   "execution_count": null,
   "metadata": {},
   "outputs": [],
   "source": [
    "miez2.sounds.append(\"maaumau\") #das fügt für alle Katzen \"maaumau\" zur Liste sounds hinzu"
   ]
  },
  {
   "cell_type": "code",
   "execution_count": null,
   "metadata": {
    "scrolled": true
   },
   "outputs": [],
   "source": [
    "miez.play()"
   ]
  },
  {
   "cell_type": "markdown",
   "metadata": {},
   "source": [
    "Die Syntax die wir bei Klassen verwenden ist der beim Import von Modulen sehr ähnlich.\n",
    "\n",
    "Die Sinusfunktion des Moduls `math` lässt sich mit `math.sin()` aufrufen - die Konstante Pi mit `math.pi` - wir sehen, dass der Aufruf von Methoden und Attritbuten bei Klassen auch mit einem `.` erfolgt.\n",
    "\n",
    "Es gibt aber auch noch eine andere Variante die Methoden (=Funktionen) einer Klasse abzurufen:"
   ]
  },
  {
   "cell_type": "code",
   "execution_count": null,
   "metadata": {},
   "outputs": [],
   "source": [
    "cat.meow(miez) #das gleiche wie miez.meow() - nur ausgeschrieben"
   ]
  },
  {
   "cell_type": "markdown",
   "metadata": {},
   "source": [
    "Mit Attributen (=Variablen) geht das nicht ..."
   ]
  },
  {
   "cell_type": "code",
   "execution_count": null,
   "metadata": {},
   "outputs": [],
   "source": [
    "cat.mood(miez)   # das wirft eine Fehlermeldung"
   ]
  },
  {
   "cell_type": "code",
   "execution_count": null,
   "metadata": {},
   "outputs": [],
   "source": [
    "miez.mood # korrekte Schreibweise"
   ]
  },
  {
   "cell_type": "markdown",
   "metadata": {},
   "source": [
    "### Public and non-Public\n",
    "\n",
    "In anderen Programmiersprachen sind die Attribute einer Klasse per default _private_ , in diesem Fall dürfen nur die Methoden der Klasse selbst die Attribute verändern. In Python sind alle Attribute von außen abruf- und veränderbar.\n",
    "\n",
    "Mit doppelten unterstrichen vor dem Variablennamen kann eine Variable jedoch \"versteckt\" werden."
   ]
  },
  {
   "cell_type": "code",
   "execution_count": null,
   "metadata": {},
   "outputs": [],
   "source": [
    "class cat():\n",
    "    \"\"\"Eine Klasse für Katzen.\"\"\"\n",
    "    \n",
    "    sounds = [\"MiauMiau!\"] \n",
    "    \n",
    "    def __init__(self):\n",
    "        self.mood = 5        # kein Unterstrich: public\n",
    "        self._energy = 5   # ein Unterstrich: soll wie non-public behandelt werden\n",
    "        self.__hunger = 5  # doppelter Unterstrich: non-public\n",
    "    \n",
    "    def meow(self):\n",
    "        for sound in self.sounds:\n",
    "            print(sound)\n",
    "        \n",
    "    def play(self):\n",
    "        self.mood += 1\n",
    "        self._energy -= 0.5\n",
    "        self.__hunger += 0.5\n",
    "        self.meow()\n",
    "        \n",
    "    def sleep(self):\n",
    "        self.mood += 1\n",
    "        self._energy += 2\n",
    "        \n",
    "    def feed(self):\n",
    "        self.mood += 1 \n",
    "        self.__hunger -= 1"
   ]
  },
  {
   "cell_type": "code",
   "execution_count": null,
   "metadata": {},
   "outputs": [],
   "source": [
    "private_miez = cat()"
   ]
  },
  {
   "cell_type": "code",
   "execution_count": null,
   "metadata": {},
   "outputs": [],
   "source": [
    "private_miez.mood"
   ]
  },
  {
   "cell_type": "code",
   "execution_count": null,
   "metadata": {},
   "outputs": [],
   "source": [
    "private_miez.mood = 0"
   ]
  },
  {
   "cell_type": "code",
   "execution_count": null,
   "metadata": {},
   "outputs": [],
   "source": [
    "private_miez._energy # eine so benannte Variable abzurufen ist schlechter Stil"
   ]
  },
  {
   "cell_type": "code",
   "execution_count": null,
   "metadata": {},
   "outputs": [],
   "source": [
    "private_miez.__hunger # Variablen mit doppeltem Unterstrich können nicht abgerufen werden"
   ]
  },
  {
   "cell_type": "code",
   "execution_count": null,
   "metadata": {},
   "outputs": [],
   "source": [
    "private_miez.feed()"
   ]
  },
  {
   "cell_type": "markdown",
   "metadata": {},
   "source": [
    "### Special (\\Magic \\Dunder) Methods\n",
    "\n",
    "Es gibt spezielle Methoden die im Kontext von Klassen benutzt werden können, diese werden durch doppelte Unterstriche gekennzeichnet (Dunder = double under).\n",
    "\n",
    "    __init__  # \"Konstruktor\" zum Erstellen es Objekts\n",
    "    __str__   # Definiert, wie das Objekt durch die print() Funktion dargestellt wird\n",
    "    __len__   # Definiert, was die len() Funktion auf dem Objekt zurückgibt\n",
    "    \n",
    "    __getitem__ #getitem und setitem ermöglichen das Zugeifen auf Einträge via Indizes\n",
    "    __setitem__ #dann lässt sich auch über das Objekt iterieren (wie bei Listen, Arrays, ...)\n",
    "    \n",
    "    \n",
    "... und noch einige mehr siehe z.B. [hier](\"https://dbader.org/blog/python-dunder-methods\"). Mehr dazu in den Beispielen.\n",
    "    "
   ]
  },
  {
   "cell_type": "code",
   "execution_count": null,
   "metadata": {},
   "outputs": [],
   "source": [
    "class cat():\n",
    "    \n",
    "    def __init__(self, mood = 5, hunger = 5, energy = 5):\n",
    "        self.mood = mood\n",
    "        self.hunger = hunger\n",
    "        self.energy = energy\n",
    "        \n",
    "    def __str__(self):\n",
    "        return(\"Katze. Laune: \" + str(self.mood) + \", Hunger: \" + str(self.hunger) + \\\n",
    "               \", Energie: \" + str(self.energy))\n",
    "    \n",
    "    def sleep(self):   #den Funktionen der Klasse muss die jeweilige Intanz (das Objekt) übergeben werden\n",
    "        self.mood += 1\n",
    "        self.energy += 2\n",
    "        \n",
    "    def play(self):\n",
    "        self.mood += 1\n",
    "        self.energy -= 1\n",
    "        self.hunger += 1\n",
    "        self.meow()\n",
    "    \n",
    "    def feed(self):\n",
    "        self.mood += 1 \n",
    "        self.hunger -= 1\n",
    "    \n",
    "    def meow(self):\n",
    "        print(\"MiauMiau\")"
   ]
  },
  {
   "cell_type": "code",
   "execution_count": null,
   "metadata": {},
   "outputs": [],
   "source": [
    "miez2 = cat(mood = 3, hunger = 4, energy = 5) #wir können die Miez jetzt in einem gewählten Zustand initialisieren!\n",
    "print(miez2.hunger)"
   ]
  },
  {
   "cell_type": "code",
   "execution_count": null,
   "metadata": {},
   "outputs": [],
   "source": [
    "print(miez) #Ohne __str__ Magic Method (Objekt von oben)\n",
    "print(\"\\n\")\n",
    "print(miez2) #mit __str__ Das ist hübscher!"
   ]
  },
  {
   "cell_type": "markdown",
   "metadata": {},
   "source": [
    "### Vererbung (inheritance)\n",
    "\n",
    "Klasseneigenschaften lassen sich auch an andere Klassen vererben, die Definition sieht dann wie folgt aus:\n",
    "\n",
    "     class KlassenName(AndereKlasse): \n",
    "        ...\n",
    "        ...   Deklaration\n",
    "        ...   \n",
    "        \n",
    "Angenommen wir möchten nun auch eine Klasse zu Hunden haben. Eine Variante möglichst Effizient zu arbeiten ist alle Eigenschaften die Katze und Hund gemeinsam haben in einer übergeordneten Klasse `pet` zusammenzufassen."
   ]
  },
  {
   "cell_type": "code",
   "execution_count": null,
   "metadata": {},
   "outputs": [],
   "source": [
    "class pet():\n",
    "    \n",
    "    def __init__(self, mood=5, hunger=5, energy=5):\n",
    "        self.mood = mood\n",
    "        self.hunger = hunger\n",
    "        self.energy = energy\n",
    "        \n",
    "    def __str__(self):\n",
    "        return(\"Haustier. Laune: \" + str(self.mood) + \", Hunger: \" + str(self.hunger) + \\\n",
    "               \":, Energie: \" + str(self.energy))\n",
    "    \n",
    "    def sleep(self):   #den Funktionen der Klasse muss die jeweilige Intanz (das Objekt) übergeben werden\n",
    "        self.mood += 1\n",
    "        self.energy += 2\n",
    "    \n",
    "    def feed(self):\n",
    "        self.mood += 1 \n",
    "        self.hunger -= 1"
   ]
  },
  {
   "cell_type": "code",
   "execution_count": null,
   "metadata": {},
   "outputs": [],
   "source": [
    "class cat(pet):\n",
    "    \n",
    "    def meow(self):\n",
    "        print(\"MiauMiau\")\n",
    "        \n",
    "    def play(self):\n",
    "        self.mood += 1\n",
    "        self.energy -= 1\n",
    "        self.hunger += 1\n",
    "        self.meow()\n",
    "\n",
    "class dog(pet):\n",
    "\n",
    "    def bark(self):\n",
    "        print(\"WauWau!\")\n",
    "        \n",
    "    def play(self):\n",
    "        self.mood += 1\n",
    "        self.energy -= 1\n",
    "        self.hunger += 1\n",
    "        self.bark()"
   ]
  },
  {
   "cell_type": "code",
   "execution_count": null,
   "metadata": {},
   "outputs": [],
   "source": [
    "rex = dog()\n",
    "garfield = cat()"
   ]
  },
  {
   "cell_type": "code",
   "execution_count": null,
   "metadata": {},
   "outputs": [],
   "source": [
    "rex.play()"
   ]
  },
  {
   "cell_type": "code",
   "execution_count": null,
   "metadata": {},
   "outputs": [],
   "source": [
    "garfield.sleep()\n",
    "print(garfield.mood)"
   ]
  },
  {
   "cell_type": "markdown",
   "metadata": {},
   "source": [
    "### Polymorphismus (Vielgestaltigkeit)\n",
    "\n",
    "Hier soll noch erwähnt sein, dass Funktionen aus der Elternklasse auch **überschrieben** werden können. Dies kann man unter anderem dafür nutzen, dass die selbe Methode bei ähnlichen Objekten verschiedene Resultate liefert - deshalb polymorph.\n",
    "\n",
    "Hier das Gleiche wie oben nur anders."
   ]
  },
  {
   "cell_type": "code",
   "execution_count": null,
   "metadata": {},
   "outputs": [],
   "source": [
    "class pet():\n",
    "    \n",
    "    def __init__(self, mood=5, hunger=5, energy=5):\n",
    "        self.mood = mood\n",
    "        self.hunger = hunger\n",
    "        self.energy = energy\n",
    "        \n",
    "    def __str__(self):\n",
    "        return(\"Haustier. Laune: \" + str(self.mood) + \", Hunger: \" + str(self.hunger) + \\\n",
    "               \":, Energie: \" + str(self.energy))\n",
    "    \n",
    "    def sleep(self):   #den Funktionen der Klasse muss die jeweilige Intanz (das Objekt) übergeben werden\n",
    "        self.mood += 1\n",
    "        self.energy += 2\n",
    "    \n",
    "    def feed(self):\n",
    "        self.mood += 1 \n",
    "        self.hunger -= 1\n",
    "        \n",
    "    def sound(self):\n",
    "        raise NotImplementedError()\n",
    "        \n",
    "    def play(self):\n",
    "        self.mood += 1\n",
    "        self.energy -= 1\n",
    "        self.hunger += 1\n",
    "        self.sound()\n",
    "        \n",
    "class cat(pet):\n",
    "    def sound(self):\n",
    "        print(\"Miau!\")\n",
    "\n",
    "class dog(pet):\n",
    "    def sound(self):\n",
    "        print(\"Wuff!\")        "
   ]
  },
  {
   "cell_type": "code",
   "execution_count": null,
   "metadata": {},
   "outputs": [],
   "source": [
    "rex = dog()\n",
    "garfield = cat()"
   ]
  },
  {
   "cell_type": "code",
   "execution_count": null,
   "metadata": {},
   "outputs": [],
   "source": [
    "rex.play()"
   ]
  },
  {
   "cell_type": "code",
   "execution_count": null,
   "metadata": {},
   "outputs": [],
   "source": [
    "garfield.play()"
   ]
  },
  {
   "cell_type": "markdown",
   "metadata": {},
   "source": [
    "## Abstraktion\n",
    "\n",
    "Zum Schluss sei noch angemerkt welchen enormen Vorteil Objektorientierte Programmierung noch bietet - Vereinfachung durch Abstraktion! Meist will User garnicht wissen, welche Codeberge sich hinter Methoden verbergen. **Mit möglichst sprechenden Attributen und Variablen wird ein Programm extrem aufgeräumt und bedienbar, obwohl es sehr komplex sein mag.**\n",
    "\n",
    "Damit haben wir die grundlegenden Konzepte hinter Objektorientierer Programmierung abgedeckt:\n",
    "* Verkapselung\n",
    "* Abstraktion\n",
    "* Vererbung\n",
    "* Polymorphismus\n",
    "\n",
    "Einige Beispiele und Konzepte sind aus [diesem FreeCodeCamp Post](\"https://www.freecodecamp.org/news/object-oriented-programming-concepts-21bb035f7260/\") entnommen.\n",
    "\n",
    "... und zum Abschluss noch \"The Zen of Python\""
   ]
  },
  {
   "cell_type": "code",
   "execution_count": null,
   "metadata": {},
   "outputs": [],
   "source": [
    "import this"
   ]
  },
  {
   "cell_type": "code",
   "execution_count": null,
   "metadata": {},
   "outputs": [],
   "source": []
  }
 ],
 "metadata": {
  "kernelspec": {
   "display_name": "Python 3",
   "language": "python",
   "name": "python3"
  },
  "language_info": {
   "codemirror_mode": {
    "name": "ipython",
    "version": 3
   },
   "file_extension": ".py",
   "mimetype": "text/x-python",
   "name": "python",
   "nbconvert_exporter": "python",
   "pygments_lexer": "ipython3",
   "version": "3.8.3"
  }
 },
 "nbformat": 4,
 "nbformat_minor": 2
}
