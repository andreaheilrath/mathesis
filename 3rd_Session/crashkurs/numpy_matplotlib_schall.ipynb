{
 "cells": [
  {
   "cell_type": "markdown",
   "metadata": {},
   "source": [
    "Numpy und Matplotlib (+ Beispiele)\n",
    "==============\n",
    "\n",
    "**Numpy** ist eine Bibliothek, die eine einfache Handhabung von Vektoren, Matrizen oder generell großen mehrdimensionalen Arrays ermöglicht. Neben den Datenstrukturen bietet NumPy auch effizient implementierte Funktionen für numerische Berechnungen an.\n",
    "\n",
    "**Matplotlib** erlaubt es mathematische Darstellungen aller Art anzufertigen. \n",
    "\n",
    "Eine andere zentrale Bibliothek ist **SciPy**. Sie wird hauptsächlich für wissenschaftliche und technische Berechnungen verwendet. SciPy enthält Module für Optimierung, lineare Algebra, Integration, Interpolation, spezielle Funktionen, FFT, Signal- und Bildverarbeitung, ODE-Löser und andere in Wissenschaft und Technik übliche Aufgaben."
   ]
  },
  {
   "cell_type": "markdown",
   "metadata": {},
   "source": [
    "# 1. Numpy\n",
    "\n",
    "## 1.1 Zentrale Datenstruktur:  \"array\"\n",
    "\n",
    "Ein Array kann auf verschiedene Art erzeugt werden, zum Beispiel mit der Funktion `array` aus einer Liste von Zahlen. Von anderen Arten wird gleich noch die Rede sein.\n",
    "\n",
    "Ein solches Array ist eine Speicherstruktur, in der Zahlen (oder andere Objekte) in Abhängigkeit\n",
    "von einer gewissen Zahl von Indices gespeichert sind. Eine Matrix als rechteckige Anordnung von Zahlen ist der Spezialfall eines Arrays mit zwei Indices.  Ein Array mit drei Indizes könnte man sich als quaderförmige Anordnung von Zahlen vorstellen.  Allgemeiner ist ein Array dessen Einträge mit n Indices adressiert werden können, ein n-dimensionales Array.\n",
    "\n",
    "Ist `a` ein solches Array, so liefert das Attribut (Achtung! keine runden Klammern, keine Funktion!)\n",
    "\n",
    "    a.shape\n",
    "    \n",
    "ein Tupel, dessen Länge die Dimension des Arrays ist, die sich auch direkt mit `a.ndim` erfragen lässt. Jeder Eintrag `a.shape[i]` des Tupels gibt an, welche Werte der i. Index annehmen kann, nämlich `range(a.shape[i])`. Die folgende Liste der Attribute eines Arrays aus der Dokumentation erlaubt, noch mehr Informationen über die Datenstruktur zu erhalten:\n",
    "\n",
    "    ndarray.flags \t   Information about the memory layout of the array.\n",
    "    ndarray.shape \t   Tuple of array dimensions.\n",
    "    ndarray.strides \t Tuple of bytes to step in each dimension when traversing an array.\n",
    "    ndarray.ndim    \t Number of array dimensions.\n",
    "    ndarray.data \t    Python buffer object pointing to the start of the array’s data.\n",
    "    ndarray.size \t    Number of elements in the array.\n",
    "    ndarray.itemsize \tLength of one array element in bytes.\n",
    "    ndarray.nbytes   \tTotal bytes consumed by the elements of the array.\n",
    "    ndarray.base \t    Base object if memory is from some other object.\n",
    "\n",
    "Auf die Elemente eines Arrays `A` kann zugegriffen werden mit\n",
    "  \n",
    "    A[i1,i2,...,ik]\n",
    "    \n",
    "    oder\n",
    "    \n",
    "    A[i1][i2]...[ik]\n",
    "    \n",
    "Die letzte Schreibweise zeigt noch einmal die Verwandschaft eines Arrays mit einer Liste von Listen\n",
    "von Listen...\n",
    "\n",
    "\n",
    "\n",
    "Wichtige Funktionen\n",
    "\n",
    "\n",
    "Erzeugen von Arrays:\n",
    "\n",
    "      np.array([....])        erzeugt ein Array aus den Elementen einer (verschachtelten) Liste\n",
    "      np.zeros(shape)         erzeugt ein Array aus Nullen, dessen Shape durch das Tupel `shape` gegeben ist\n",
    "      np.ones(shape)          erzeugt ein Array aus Einsen, dessen Shape durch das Tupel `shape` gegeben ist\n",
    "      np.zeros_like(A)        erzeugt ein Array aus Nullen mit der selben Shape wie A\n",
    "      np.ones_like(A)         erzeugt ein Array aus Einsen mit der selben Shape wie A\n",
    "      \n",
    "      np.arange(anfang, [ende, [sprung]])  erzeugt das Array [anfang, anfang+sprung,anfang +2*sprung,...],\n",
    "                                           wobei 'ende' nicht dazu gehört.\n",
    "      np.linspace(anfang, ende, n)         erzeugt ein Array mit n Elementen\n",
    "                                           und gleichen Abständen, das erste ist anfang, das letzte ist ende.\n",
    "      np.random.rand(n1,n2,...,nk)         erzeugt eine Matrix der Shape (n1,...,nk), die mit Zufallszahlen \n",
    "                                           aus der Gleichverteilung auf [0,1] gefüllt ist\n",
    "      np.random.randn(n1,....,nk)          erzeugt eine Matrix der Shape (n1,...,nk), die mit Zufallszahlen \n",
    "                                           aus der Gauß'schen Normalverteilung gefüllt ist\n",
    "                                           \n",
    "Aus Arrays neue Arrays berechnen:      \n",
    "                                           \n",
    "      np.concatenate((A,B,...), axis=...)  nimmt die Arrays A,B,... und fügt\n",
    "                                           sie längs der Achse 'axis' zu einem Array zusammen.  \n",
    "                                           axis=0 hieße für 2-dim Arrays, sie übereinander zu stapeln, \n",
    "                                           axis=1 bedeutet, sie hintereinander zu hängen.\n",
    "\n",
    "      np.dot(A,B) bzw. A.dot(B)   gibt das Matrizenprodukt zweier Arrays zurück, bzw.das Skalarprodukt zweier \n",
    "                                  eindimensionaler Arrays.\n",
    "                                \n",
    "      A.reshape(new_shape)    gibt ein Array zurück, das aus der Umordnung von A zur neuen Shape new_shape \n",
    "                              entsteht; die Shapes müssen kompatibel sein.               \n",
    "                              \n",
    "      A.copy() oder np.copy(A)  gibt eine Kopie des Arrays A zurück.\n",
    "      "
   ]
  },
  {
   "cell_type": "code",
   "execution_count": null,
   "metadata": {},
   "outputs": [],
   "source": [
    "import numpy as np"
   ]
  },
  {
   "cell_type": "code",
   "execution_count": null,
   "metadata": {},
   "outputs": [],
   "source": [
    "v = np.arange(100)   # liefert die Liste 0..99 als Vektor\n",
    "v"
   ]
  },
  {
   "cell_type": "code",
   "execution_count": null,
   "metadata": {},
   "outputs": [],
   "source": [
    "type(v)"
   ]
  },
  {
   "cell_type": "code",
   "execution_count": null,
   "metadata": {},
   "outputs": [],
   "source": [
    "v.flags"
   ]
  },
  {
   "cell_type": "code",
   "execution_count": null,
   "metadata": {},
   "outputs": [],
   "source": [
    "v.shape"
   ]
  },
  {
   "cell_type": "code",
   "execution_count": null,
   "metadata": {},
   "outputs": [],
   "source": [
    "v[2]"
   ]
  },
  {
   "cell_type": "code",
   "execution_count": null,
   "metadata": {},
   "outputs": [],
   "source": [
    "w = v.reshape((2, 50))  # beachtet: die neue Matrix wird zeilenweise befüllt\n",
    "w"
   ]
  },
  {
   "cell_type": "code",
   "execution_count": null,
   "metadata": {},
   "outputs": [],
   "source": [
    "w[1, 0]  # erstes Element der zweiten Zeile"
   ]
  },
  {
   "cell_type": "code",
   "execution_count": null,
   "metadata": {},
   "outputs": [],
   "source": [
    "w[1][0]  # dito"
   ]
  },
  {
   "cell_type": "code",
   "execution_count": null,
   "metadata": {},
   "outputs": [],
   "source": [
    "w.flags  # hier sieht man, dass in der neuen Matrix die Einträge der\n",
    "# Matrix im Speicher hintereinander stehen, die der Spalten nicht\n",
    "# Das bedeutet C_CONTIGUOUS, denn so ist es in der Programmiersprace C.\n",
    "# In Fortran wäre es umgekehrt."
   ]
  },
  {
   "cell_type": "code",
   "execution_count": null,
   "metadata": {},
   "outputs": [],
   "source": [
    "v.dot(v)  # Skalarprodukt mit sich selbst"
   ]
  },
  {
   "cell_type": "code",
   "execution_count": null,
   "metadata": {},
   "outputs": [],
   "source": [
    "np.ones_like(v)"
   ]
  },
  {
   "cell_type": "code",
   "execution_count": null,
   "metadata": {},
   "outputs": [],
   "source": [
    "# Anwenden einer numpy-Funktion ('universal function') auf ein Array bedeutet,\n",
    "sinuswerte = np.sin(0.1*v)\n",
    "print(sinuswerte)          # sie auf jedes Element anzuwenden."
   ]
  },
  {
   "cell_type": "code",
   "execution_count": null,
   "metadata": {},
   "outputs": [],
   "source": [
    "v2 = np.concatenate((v, v))  # Aneinanderhängen zweier Vektoren\n",
    "print(v2)\n",
    "print(v2.shape)"
   ]
  },
  {
   "cell_type": "markdown",
   "metadata": {},
   "source": [
    "## 1.2 Lineare Algebra \n",
    "\n",
    "Zunächst noch ein paar Beispiel zu `np.dot`, was ja die zentrale algebraische Operation für Matrizen ist."
   ]
  },
  {
   "cell_type": "code",
   "execution_count": null,
   "metadata": {},
   "outputs": [],
   "source": [
    "A = np.array([[1, 2], [3, 4]])\n",
    "print(A)"
   ]
  },
  {
   "cell_type": "code",
   "execution_count": null,
   "metadata": {},
   "outputs": [],
   "source": [
    "v = np.array([[2], [3]])\n",
    "print(v)"
   ]
  },
  {
   "cell_type": "code",
   "execution_count": null,
   "metadata": {},
   "outputs": [],
   "source": [
    "print(np.dot(A, v))  # Matrix-Vektor-Produkt"
   ]
  },
  {
   "cell_type": "code",
   "execution_count": null,
   "metadata": {},
   "outputs": [],
   "source": [
    "A.dot(v)  # alternative Schreibweise"
   ]
  },
  {
   "cell_type": "markdown",
   "metadata": {},
   "source": [
    "Transponieren geht nicht über eine Funktion, sondern über ein Attribut. **Achtung!** Dieses legt kein neues Objekt im Speicher an, sondern nur eine andere 'View' auf dasselbe Objekt. Wenn Sie also das Transponierte verändern, verändern Sie das ursprüngliche Objekt auch. Wollen Sie das nicht, müssen Sie explizit mit `np.copy` eine Kopie anfertigen."
   ]
  },
  {
   "cell_type": "code",
   "execution_count": null,
   "metadata": {},
   "outputs": [],
   "source": [
    "v.T  # transponieren"
   ]
  },
  {
   "cell_type": "code",
   "execution_count": null,
   "metadata": {},
   "outputs": [],
   "source": [
    "# v und v.T beziehen sich auf dasselbe Objekt im Speicher:\n",
    "w = v.T\n",
    "w[0, 0] = 5  # verändert v und w\n",
    "print(v, w)"
   ]
  },
  {
   "cell_type": "code",
   "execution_count": null,
   "metadata": {},
   "outputs": [],
   "source": [
    "# Diesmal wird v.T kopiert: w bezieht sich auf ein anderes Objekt im Speicher.\n",
    "w = np.copy(v.T)\n",
    "print(w, v)\n",
    "w[0, 0] = 6   # verändert nur w\n",
    "print(w, v)"
   ]
  },
  {
   "cell_type": "markdown",
   "metadata": {},
   "source": [
    "Für weitergehende Operationen der linearen Algebra gibt es ein Unterpaket: `numpy.linalg`"
   ]
  },
  {
   "cell_type": "code",
   "execution_count": null,
   "metadata": {},
   "outputs": [],
   "source": [
    "help(np.linalg)"
   ]
  },
  {
   "cell_type": "markdown",
   "metadata": {},
   "source": [
    "Eine Funktion, die sehr wichtig ist, ist  `numpy.linalg.solve`. Sie löst ein lineares Gleichungssystem mit einer schnellen, in C programmierten Variante des Gauß'schen Algorithmus."
   ]
  },
  {
   "cell_type": "code",
   "execution_count": null,
   "metadata": {},
   "outputs": [],
   "source": [
    "A = np.array([[1, 2], [3, 4]])\n",
    "v = np.array([[2], [3]])\n",
    "np.linalg.solve(A, v)"
   ]
  },
  {
   "cell_type": "code",
   "execution_count": null,
   "metadata": {},
   "outputs": [],
   "source": [
    "# Probieren wir mal, wie lange ein 10000x10000-Gleichungssystem dauert\n",
    "\n",
    "v = np.random.rand(10000)"
   ]
  },
  {
   "cell_type": "code",
   "execution_count": null,
   "metadata": {},
   "outputs": [],
   "source": [
    "v[:100]"
   ]
  },
  {
   "cell_type": "code",
   "execution_count": null,
   "metadata": {},
   "outputs": [],
   "source": [
    "A = np.random.rand(10000, 10000)"
   ]
  },
  {
   "cell_type": "code",
   "execution_count": null,
   "metadata": {},
   "outputs": [],
   "source": [
    "A.shape"
   ]
  },
  {
   "cell_type": "code",
   "execution_count": null,
   "metadata": {},
   "outputs": [],
   "source": [
    "v.shape"
   ]
  },
  {
   "cell_type": "code",
   "execution_count": null,
   "metadata": {},
   "outputs": [],
   "source": [
    "v = v.reshape((10000, 1))"
   ]
  },
  {
   "cell_type": "code",
   "execution_count": null,
   "metadata": {},
   "outputs": [],
   "source": []
  },
  {
   "cell_type": "code",
   "execution_count": null,
   "metadata": {},
   "outputs": [],
   "source": [
    "%time np.linalg.solve(A, v)  #das dauert eine Weile ..."
   ]
  },
  {
   "cell_type": "markdown",
   "metadata": {},
   "source": [
    "## 1.3 Slicing\n",
    "\n",
    "Wie bei Listen und Strings ist Slicing eine wichtige Operation, die hier noch flexibler ist, denn man kann auch \n",
    "mit einem Tupel (t1,t2,...,tk) für die entsprechende Dimension gerade die Einträge mit den Indices t1,...,tk auswählen."
   ]
  },
  {
   "cell_type": "code",
   "execution_count": null,
   "metadata": {},
   "outputs": [],
   "source": [
    "A = np.arange(20).reshape((5, 4))\n",
    "print(A)"
   ]
  },
  {
   "cell_type": "code",
   "execution_count": null,
   "metadata": {},
   "outputs": [],
   "source": [
    "A[:2, :]"
   ]
  },
  {
   "cell_type": "code",
   "execution_count": null,
   "metadata": {},
   "outputs": [],
   "source": [
    "A[:, 1:3]"
   ]
  },
  {
   "cell_type": "code",
   "execution_count": null,
   "metadata": {},
   "outputs": [],
   "source": [
    "A[0, 1:4]"
   ]
  },
  {
   "cell_type": "code",
   "execution_count": null,
   "metadata": {},
   "outputs": [],
   "source": [
    "A[:, (0, 3)]  # slicing mit tupel: Spalten 0 und 3"
   ]
  },
  {
   "cell_type": "code",
   "execution_count": null,
   "metadata": {},
   "outputs": [],
   "source": [
    "A[(1, 2, 3), :] = A[(2, 3, 1), :]  # slicing mit Tupel bei Zuweisung\n",
    "# die Zeilen 2,3,1 treten an die Stelle\n",
    "# der Zeilen 1,2,3"
   ]
  },
  {
   "cell_type": "code",
   "execution_count": null,
   "metadata": {},
   "outputs": [],
   "source": [
    "print(A)"
   ]
  },
  {
   "cell_type": "markdown",
   "metadata": {},
   "source": [
    "## 1.4 Kumulierende Funktionen\n",
    "\n",
    "     numpy.sum(..., [axis=...])     summiert die Einträge, gegebenenfalls längs axis\n",
    "     numpy.mean(..., [axis=...])    Mittelwert über die Einträge, ggf. längs axis\n",
    "     numpy.std(..., [axis=...])     Standardabweichung ü.d. Einträge, ggf. längs axis\n",
    "     \n",
    "Dabei ist axis entweder eine Zahl oder ein Tupel, wenn über mehre Dimension summiert werden soll. Es gibt noch viel mehr solcher Funktionen, aber hier wird keine Vollständigkeit angestrebt.\n"
   ]
  },
  {
   "cell_type": "code",
   "execution_count": null,
   "metadata": {},
   "outputs": [],
   "source": [
    "np.sum(A, axis=1)"
   ]
  },
  {
   "cell_type": "code",
   "execution_count": null,
   "metadata": {},
   "outputs": [],
   "source": [
    "np.sum(A, axis=0)"
   ]
  },
  {
   "cell_type": "code",
   "execution_count": null,
   "metadata": {},
   "outputs": [],
   "source": [
    "np.mean(A)"
   ]
  },
  {
   "cell_type": "code",
   "execution_count": null,
   "metadata": {},
   "outputs": [],
   "source": [
    "np.mean(A, axis=1)"
   ]
  },
  {
   "cell_type": "markdown",
   "metadata": {},
   "source": [
    "## 1.5 Daten aus Tabelle lesen\n",
    "\n",
    "Da numpy unter anderem zur Datenverarbeitung gut ist, gibt es auch Funktionen, die beim Lesen von Daten helfen, etwa aus einer 'komma-separierten Liste' csv.\n",
    "\n",
    "     np.genfromtxt(dateiname, [delimiter=...,[skip_header=...])"
   ]
  },
  {
   "cell_type": "code",
   "execution_count": null,
   "metadata": {},
   "outputs": [],
   "source": [
    "%ls *.csv"
   ]
  },
  {
   "cell_type": "code",
   "execution_count": null,
   "metadata": {},
   "outputs": [],
   "source": [
    "daten = np.genfromtxt(\"algebuei.csv\", delimiter=\";\", skip_header=True)"
   ]
  },
  {
   "cell_type": "code",
   "execution_count": null,
   "metadata": {},
   "outputs": [],
   "source": [
    "daten"
   ]
  },
  {
   "cell_type": "code",
   "execution_count": null,
   "metadata": {},
   "outputs": [],
   "source": [
    "np.mean(daten, axis=0)"
   ]
  },
  {
   "cell_type": "markdown",
   "metadata": {},
   "source": [
    "## 1.6 numpy.random\n",
    "\n",
    "Oben wurden schon zufällige Arrays erzeugt. `numpy.random` kann natürlich viel mehr.\n",
    "Zufallsverteilungen spielen eine große Rolle in Simulationen (Verkehr, Populationen, Physik), könnten daher auch für ein Projekt wichtig sein. Daher die Auflistung aus der offiziellen Dokumentation:\n",
    "\n",
    "Random sampling (numpy.random)\n",
    "\n",
    "Simple random data\n",
    "\n",
    "    rand(d0, d1, …, dn) \tRandom values in a given shape.\n",
    "    randn(d0, d1, …, dn) \tReturn a sample (or samples) from the “standard normal” distribution.\n",
    "    randint(low[, high, size, dtype]) \tReturn random integers from low (inclusive) to high (exclusive).\n",
    "    random_integers(low[, high, size]) \tRandom integers of type np.int between low and high, inclusive.\n",
    "    random_sample([size]) \tReturn random floats in the half-open interval [0.0, 1.0).\n",
    "    random([size]) \tReturn random floats in the half-open interval [0.0, 1.0).\n",
    "    ranf([size]) \tReturn random floats in the half-open interval [0.0, 1.0).\n",
    "    sample([size]) \tReturn random floats in the half-open interval [0.0, 1.0).\n",
    "    choice(a[, size, replace, p]) \tGenerates a random sample from a given 1-D array\n",
    "    bytes(length) \tReturn random bytes.\n",
    "    \n",
    "Permutations\n",
    "\n",
    "    shuffle(x) \tModify a sequence in-place by shuffling its contents.\n",
    "    permutation(x) \tRandomly permute a sequence, or return a permuted range.\n",
    "    Distributions\n",
    "    beta(a, b[, size]) \tDraw samples from a Beta distribution.\n",
    "    binomial(n, p[, size]) \tDraw samples from a binomial distribution.\n",
    "    chisquare(df[, size]) \tDraw samples from a chi-square distribution.\n",
    "    dirichlet(alpha[, size]) \tDraw samples from the Dirichlet distribution.\n",
    "    exponential([scale, size]) \tDraw samples from an exponential distribution.\n",
    "    f(dfnum, dfden[, size]) \tDraw samples from an F distribution.\n",
    "    gamma(shape[, scale, size]) \tDraw samples from a Gamma distribution.\n",
    "    geometric(p[, size]) \tDraw samples from the geometric distribution.\n",
    "    gumbel([loc, scale, size]) \tDraw samples from a Gumbel distribution.\n",
    "    hypergeometric(ngood, nbad, nsample[, size]) \tDraw samples from a Hypergeometric distribution.\n",
    "    laplace([loc, scale, size]) \tDraw samples from the Laplace or double exponential distribution with specified location (or mean) and scale (decay).\n",
    "    logistic([loc, scale, size]) \tDraw samples from a logistic distribution.\n",
    "    lognormal([mean, sigma, size]) \tDraw samples from a log-normal distribution.\n",
    "    logseries(p[, size]) \tDraw samples from a logarithmic series distribution.\n",
    "    multinomial(n, pvals[, size]) \tDraw samples from a multinomial distribution.\n",
    "    multivariate_normal(mean, cov[, size, …) \tDraw random samples from a multivariate normal distribution.\n",
    "    negative_binomial(n, p[, size]) \tDraw samples from a negative binomial distribution.\n",
    "    noncentral_chisquare(df, nonc[, size]) \tDraw samples from a noncentral chi-square distribution.\n",
    "    noncentral_f(dfnum, dfden, nonc[, size]) \tDraw samples from the noncentral F distribution.\n",
    "    normal([loc, scale, size]) \tDraw random samples from a normal (Gaussian) distribution.\n",
    "    pareto(a[, size]) \tDraw samples from a Pareto II or Lomax distribution with specified shape.\n",
    "    poisson([lam, size]) \tDraw samples from a Poisson distribution.\n",
    "    power(a[, size]) \tDraws samples in [0, 1] from a power distribution with positive exponent a - 1.\n",
    "    rayleigh([scale, size]) \tDraw samples from a Rayleigh distribution.\n",
    "    standard_cauchy([size]) \tDraw samples from a standard Cauchy distribution with mode = 0.\n",
    "    standard_exponential([size]) \tDraw samples from the standard exponential distribution.\n",
    "    standard_gamma(shape[, size]) \tDraw samples from a standard Gamma distribution.\n",
    "    standard_normal([size]) \tDraw samples from a standard Normal distribution (mean=0, stdev=1).\n",
    "    standard_t(df[, size]) \tDraw samples from a standard Student’s t distribution with df degrees of freedom.\n",
    "    triangular(left, mode, right[, size]) \tDraw samples from the triangular distribution over the interval [left, right].\n",
    "    uniform([low, high, size]) \tDraw samples from a uniform distribution.\n",
    "    vonmises(mu, kappa[, size]) \tDraw samples from a von Mises distribution.\n",
    "    wald(mean, scale[, size]) \tDraw samples from a Wald, or inverse Gaussian, distribution.\n",
    "    weibull(a[, size]) \tDraw samples from a Weibull distribution.\n",
    "    zipf(a[, size]) \tDraw samples from a Zipf distribution.\n",
    "    \n",
    "Random generator\n",
    "\n",
    "    RandomState([seed]) \tContainer for the Mersenne Twister pseudo-random number generator.\n",
    "    seed([seed]) \tSeed the generator.\n",
    "    get_state() \tReturn a tuple representing the internal state of the generator.\n",
    "    set_state(state) \tSet the internal state of the generator from a tuple."
   ]
  },
  {
   "cell_type": "markdown",
   "metadata": {},
   "source": [
    "# 2. Matplotlib (pyplot)"
   ]
  },
  {
   "cell_type": "code",
   "execution_count": null,
   "metadata": {},
   "outputs": [],
   "source": [
    "import matplotlib.pyplot as plt\n",
    "%matplotlib notebook\n",
    "\n",
    "# try (after restart) %matplotlib inline\n",
    "#                  or %matplotlib qt\n",
    "#                  or %matplotlib notebook"
   ]
  },
  {
   "cell_type": "code",
   "execution_count": null,
   "metadata": {},
   "outputs": [],
   "source": [
    "x = np.linspace(0, 10, 1000)"
   ]
  },
  {
   "cell_type": "code",
   "execution_count": null,
   "metadata": {},
   "outputs": [],
   "source": [
    "y = np.sin(x)"
   ]
  },
  {
   "cell_type": "code",
   "execution_count": null,
   "metadata": {},
   "outputs": [],
   "source": [
    "plt.figure()\n",
    "plt.plot(x, y)\n",
    "plt.show()"
   ]
  },
  {
   "cell_type": "markdown",
   "metadata": {},
   "source": [
    "Bei den meisten graphischen \"Backends\" erscheint die Graphik erst\n",
    "beim Aufruf von plt.show()\n",
    "Vorher existiert sie nur als Datenstruktur\n",
    "\n",
    "In Jupyter-Notebooks entfällt show() meistens, da es automatisch\n",
    "aufgerufen wird. Für eine interaktive Umgebung zur Datenanalyse\n",
    "(und zum Ausprobieren) ist das sinnvoll."
   ]
  },
  {
   "cell_type": "code",
   "execution_count": null,
   "metadata": {},
   "outputs": [],
   "source": []
  },
  {
   "cell_type": "code",
   "execution_count": null,
   "metadata": {},
   "outputs": [],
   "source": [
    "plt.figure()\n",
    "plt.hist(daten[:, 3], bins=50)"
   ]
  },
  {
   "cell_type": "code",
   "execution_count": null,
   "metadata": {},
   "outputs": [],
   "source": [
    "plt.show() #das braucht ihr in einem \"normalen\" Python-Skript um den Plot anzuzeigen"
   ]
  },
  {
   "cell_type": "code",
   "execution_count": null,
   "metadata": {},
   "outputs": [],
   "source": [
    "daten.shape"
   ]
  },
  {
   "cell_type": "code",
   "execution_count": null,
   "metadata": {},
   "outputs": [],
   "source": [
    "import matplotlib.pyplot as plt\n",
    "from mpl_toolkits.mplot3d import Axes3D\n",
    "fig = plt.figure()\n",
    "ax = fig.add_subplot(111, projection='3d')\n",
    "\n",
    "x = np.linspace(-3, 3, 500)\n",
    "y = np.linspace(-3, 3, 500)\n",
    "xx, yy = np.meshgrid(x, y)\n",
    "z = np.sin(xx*xx+yy*yy)\n",
    "ax.plot_surface(xx, yy, z)\n",
    "plt.show()"
   ]
  },
  {
   "cell_type": "markdown",
   "metadata": {},
   "source": [
    "# 3. Anwendungen und Beispiele\n",
    "\n",
    "## 3.1 Schall und ein Beispiel für 'concatenate'"
   ]
  },
  {
   "cell_type": "code",
   "execution_count": null,
   "metadata": {},
   "outputs": [],
   "source": [
    "from schallwerkzeuge import *"
   ]
  },
  {
   "cell_type": "code",
   "execution_count": null,
   "metadata": {},
   "outputs": [],
   "source": [
    "y = recordsnd(None, 1)"
   ]
  },
  {
   "cell_type": "code",
   "execution_count": null,
   "metadata": {},
   "outputs": [],
   "source": [
    "playsnd(y, RATE)"
   ]
  },
  {
   "cell_type": "code",
   "execution_count": null,
   "metadata": {},
   "outputs": [],
   "source": [
    "plt.figure()\n",
    "plt.plot(y)\n",
    "plt.show()"
   ]
  },
  {
   "cell_type": "code",
   "execution_count": null,
   "metadata": {},
   "outputs": [],
   "source": [
    "y.shape"
   ]
  },
  {
   "cell_type": "code",
   "execution_count": null,
   "metadata": {},
   "outputs": [],
   "source": [
    "x = np.linspace(0, 1, 44100) #erzeugt eine Liste die dann Sekunden entspricht"
   ]
  },
  {
   "cell_type": "code",
   "execution_count": null,
   "metadata": {},
   "outputs": [],
   "source": [
    "plt.figure()\n",
    "plt.plot(x, y)\n",
    "plt.show()"
   ]
  },
  {
   "cell_type": "code",
   "execution_count": null,
   "metadata": {},
   "outputs": [],
   "source": [
    "y2 = y*np.sin(40*2*np.pi*x)"
   ]
  },
  {
   "cell_type": "code",
   "execution_count": null,
   "metadata": {},
   "outputs": [],
   "source": [
    "playsnd(y2, RATE)"
   ]
  },
  {
   "cell_type": "code",
   "execution_count": null,
   "metadata": {},
   "outputs": [],
   "source": [
    "playsnd(y[::-1], RATE) #reverse"
   ]
  },
  {
   "cell_type": "code",
   "execution_count": null,
   "metadata": {},
   "outputs": [],
   "source": [
    "z = np.zeros(0)\n",
    "for i in range(4):\n",
    "    z = np.concatenate((z, y, y[::-1], y2))"
   ]
  },
  {
   "cell_type": "code",
   "execution_count": null,
   "metadata": {},
   "outputs": [],
   "source": [
    "playsnd(z, RATE)\n",
    "\n",
    "z = 0.5*(z+z[list(range(5000, z.shape[0]))+list(range(5000))]) #was ist das ... ??"
   ]
  },
  {
   "cell_type": "code",
   "execution_count": null,
   "metadata": {},
   "outputs": [],
   "source": [
    "z = 0.5*(z+z[list(range(5000, z.shape[0]))+list(range(5000))])\n",
    "\n",
    "playsnd(z, RATE)"
   ]
  },
  {
   "cell_type": "markdown",
   "metadata": {},
   "source": [
    "## 3.2 Bilder"
   ]
  },
  {
   "cell_type": "code",
   "execution_count": null,
   "metadata": {},
   "outputs": [],
   "source": [
    "from scipy import ndimage  #hier taucht scipy auf!\n",
    "import imageio"
   ]
  },
  {
   "cell_type": "code",
   "execution_count": null,
   "metadata": {},
   "outputs": [],
   "source": [
    "bild = imageio.imread('IMGP2821.JPG', pilmode='F')\n",
    "# tragen Sie doch hier den Namen eines Bildes ein, das sich im\n",
    "# Verzeichnis befindet."
   ]
  },
  {
   "cell_type": "code",
   "execution_count": null,
   "metadata": {},
   "outputs": [],
   "source": [
    "bild.shape"
   ]
  },
  {
   "cell_type": "code",
   "execution_count": null,
   "metadata": {},
   "outputs": [],
   "source": [
    "plt.figure()\n",
    "plt.imshow(bild, cmap=plt.get_cmap('gray'))"
   ]
  },
  {
   "cell_type": "code",
   "execution_count": null,
   "metadata": {},
   "outputs": [],
   "source": []
  },
  {
   "cell_type": "code",
   "execution_count": null,
   "metadata": {},
   "outputs": [],
   "source": [
    "plt.figure()\n",
    "plt.imshow(bild)\n",
    "plt.show()"
   ]
  },
  {
   "cell_type": "code",
   "execution_count": null,
   "metadata": {},
   "outputs": [],
   "source": [
    "a = np.abs(bild[10:, :]-bild[:-10])\n",
    "# Was koennte diese Rechnung bewirken -- bevor Sie sich das Ergebnis ansehen?"
   ]
  },
  {
   "cell_type": "code",
   "execution_count": null,
   "metadata": {},
   "outputs": [],
   "source": [
    "plt.figure()\n",
    "plt.imshow(a, cmap=plt.get_cmap('gray'))"
   ]
  },
  {
   "cell_type": "markdown",
   "metadata": {
    "collapsed": true
   },
   "source": [
    "## Schall\n",
    "\n",
    "Wer mit Daten von Tonaufnahmen umgehen will, könnte das interessant finden."
   ]
  },
  {
   "cell_type": "code",
   "execution_count": null,
   "metadata": {},
   "outputs": [],
   "source": [
    "from schallwerkzeuge import *"
   ]
  },
  {
   "cell_type": "code",
   "execution_count": null,
   "metadata": {},
   "outputs": [],
   "source": [
    "help(recordsnd)"
   ]
  },
  {
   "cell_type": "code",
   "execution_count": null,
   "metadata": {},
   "outputs": [],
   "source": [
    "y = recordsnd(None, 2)"
   ]
  },
  {
   "cell_type": "code",
   "execution_count": null,
   "metadata": {},
   "outputs": [],
   "source": [
    "y.shape"
   ]
  },
  {
   "cell_type": "code",
   "execution_count": null,
   "metadata": {},
   "outputs": [],
   "source": []
  },
  {
   "cell_type": "code",
   "execution_count": null,
   "metadata": {},
   "outputs": [],
   "source": [
    "%matplotlib notebook\n",
    "import matplotlib.pyplot as plt"
   ]
  },
  {
   "cell_type": "code",
   "execution_count": null,
   "metadata": {},
   "outputs": [],
   "source": [
    "plt.plot(y)\n",
    "plt.show()"
   ]
  },
  {
   "cell_type": "code",
   "execution_count": null,
   "metadata": {},
   "outputs": [],
   "source": [
    "help(playsnd)"
   ]
  },
  {
   "cell_type": "code",
   "execution_count": null,
   "metadata": {},
   "outputs": [],
   "source": [
    "playsnd(y, RATE)"
   ]
  },
  {
   "cell_type": "code",
   "execution_count": null,
   "metadata": {},
   "outputs": [],
   "source": [
    "playsnd(y, 2*RATE)"
   ]
  },
  {
   "cell_type": "markdown",
   "metadata": {
    "collapsed": true
   },
   "source": [
    "### Aufgabe\n",
    "\n",
    "Erzeugen Sie einen numpy-Vektor von reellen Zahlen, das beim Abspielen mit playsnd(...)\n",
    "    einen Kammerton (a, 440 Hz) ergibt. "
   ]
  },
  {
   "cell_type": "code",
   "execution_count": null,
   "metadata": {},
   "outputs": [],
   "source": []
  },
  {
   "cell_type": "code",
   "execution_count": null,
   "metadata": {},
   "outputs": [],
   "source": []
  },
  {
   "cell_type": "code",
   "execution_count": null,
   "metadata": {},
   "outputs": [],
   "source": []
  }
 ],
 "metadata": {
  "kernelspec": {
   "display_name": "Python 3",
   "language": "python",
   "name": "python3"
  },
  "language_info": {
   "codemirror_mode": {
    "name": "ipython",
    "version": 3
   },
   "file_extension": ".py",
   "mimetype": "text/x-python",
   "name": "python",
   "nbconvert_exporter": "python",
   "pygments_lexer": "ipython3",
   "version": "3.8.3"
  },
  "latex_envs": {
   "bibliofile": "biblio.bib",
   "cite_by": "apalike",
   "current_citInitial": 1,
   "eqLabelWithNumbers": true,
   "eqNumInitial": 0
  }
 },
 "nbformat": 4,
 "nbformat_minor": 1
}
