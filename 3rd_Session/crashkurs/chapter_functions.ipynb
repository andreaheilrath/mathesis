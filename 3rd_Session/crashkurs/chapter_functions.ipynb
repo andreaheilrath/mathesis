{
 "cells": [
  {
   "cell_type": "markdown",
   "metadata": {},
   "source": [
    "# Funktionen\n",
    "\n",
    "## Grundlagen\n",
    "\n",
    "\n",
    "Ein besonders wichtiges Hilfsmittel zur Strukturierung von Programmen\n",
    "ist die Definition von Funktionen."
   ]
  },
  {
   "cell_type": "code",
   "execution_count": null,
   "metadata": {},
   "outputs": [],
   "source": [
    "def division(x, y):\n",
    "    '''Liefert x/y, falls y != 0\n",
    "    '''\n",
    "    if y != 0:  \n",
    "        return x/y\n",
    "    else:\n",
    "        print(\"Fehler. Division durch Null\")"
   ]
  },
  {
   "cell_type": "markdown",
   "metadata": {},
   "source": [
    "Mit `return ...` wird die Größe definiert, die anschließend als Wert der Funktion zurückgegeben wird.\n",
    "\n",
    "Sobald die Funktion definiert ist, kann sie benutzt werden:"
   ]
  },
  {
   "cell_type": "code",
   "execution_count": null,
   "metadata": {},
   "outputs": [],
   "source": [
    "division(0, 3)"
   ]
  },
  {
   "cell_type": "code",
   "execution_count": null,
   "metadata": {},
   "outputs": [],
   "source": [
    "division(3, 0)"
   ]
  },
  {
   "cell_type": "code",
   "execution_count": null,
   "metadata": {},
   "outputs": [],
   "source": [
    "division(2.3, 4.5423234)"
   ]
  },
  {
   "cell_type": "markdown",
   "metadata": {},
   "source": [
    "Wird kein Rückgabewert bei `return`definiert, wie das in der `else` Abfrage geschieht, wird der Wert `None` zurückgegeben."
   ]
  },
  {
   "cell_type": "code",
   "execution_count": null,
   "metadata": {},
   "outputs": [],
   "source": [
    "return_wert = division(3, 0)\n",
    "print(return_wert)"
   ]
  },
  {
   "cell_type": "markdown",
   "metadata": {},
   "source": [
    "Man kann auch Tupel zurückgeben:"
   ]
  },
  {
   "cell_type": "code",
   "execution_count": null,
   "metadata": {},
   "outputs": [],
   "source": [
    "def summe(x, y):\n",
    "    return x+y\n",
    "\n",
    "print(summe(2, 3))\n",
    "print(summe('hallo ', 'ihr'))"
   ]
  },
  {
   "cell_type": "markdown",
   "metadata": {},
   "source": [
    "## Doc-Strings\n",
    "\n",
    "Unter der `def`-Zeile steht im Beispiel eine Beschreibung in dreifachen Anführungszeichen. Die kann auch über mehrere Zeilen gehen und wird angezeigt, wenn man im interaktiven Modus `help(f)` eingibt."
   ]
  },
  {
   "cell_type": "code",
   "execution_count": null,
   "metadata": {},
   "outputs": [],
   "source": [
    "help(division)"
   ]
  },
  {
   "cell_type": "markdown",
   "metadata": {},
   "source": [
    "Man nennt das einen Doc-String. Generell sollte man in Programmen alle Funktionen mit einer kleinen Beschreibung versehen und auch sonst mit Kommentaren nicht sparen: Beim Schreiben weiß man meistens noch, was\n",
    "man will, eine Woche später vielleicht schon nicht mehr. Siehe auch [Der Nutzen von Doc-Strings](https://www.mintgruen.tu-berlin.de/mathesisWiki/doku.php?id=ws1314:der_nutzen_von_doc-strings_und_was_doc-strings_sind) in der Wiki."
   ]
  },
  {
   "cell_type": "markdown",
   "metadata": {},
   "source": [
    "## Lokale und globale Variablen\n",
    "\n",
    "Gewisse Funkyionen in Python sollen immer verfügbar sein, z.B. id() oder type(). Diese Funktionen sind im **built-in namespace** zu finden.\n",
    "Variablen die innerhalb des \"Hauptkörpers\" des Programms definiert werden gehören zum **global namespace**.\n",
    "\n",
    "Alle Variablen, die in einer Funktion verändert oder zugewiesen werden, sind Teil des **local namespace**.\n",
    "\n",
    "Das führt dazu, dass sich die Zuweisung nicht außerhalb der Funktion auswirkt, wenn dort eine Variable denselben Namen trägt. Wenn tatsächlich \"äußere\" Variablen geändert werden sollen, muss das durch `global variablenname` deklariert werden.\n",
    "\n",
    "Durch diese Eigenschaft kollidieren Variablen auf verschiedenen \"Ebenen\" mit selben Variablennamen nicht!\n",
    "\n",
    "<img src=\"namespaces.jpg\" alt=\"Namespaces\" style=\"width: 70%;\"/>\n",
    "\n",
    "### Beispiele"
   ]
  },
  {
   "cell_type": "code",
   "execution_count": null,
   "metadata": {},
   "outputs": [],
   "source": [
    "konstante = 42  #Variable \"konstante\" im global namespace\n",
    "\n",
    "def f(x):\n",
    "    konstante = 1 #Variable \"konstante\" im local namespace\n",
    "    #print(konstante)\n",
    "    y = konstante*x\n",
    "    return y"
   ]
  },
  {
   "cell_type": "code",
   "execution_count": null,
   "metadata": {},
   "outputs": [],
   "source": [
    "f(1)"
   ]
  },
  {
   "cell_type": "code",
   "execution_count": null,
   "metadata": {},
   "outputs": [],
   "source": [
    "print(konstante) #Zugriff auf den global namespace"
   ]
  },
  {
   "cell_type": "code",
   "execution_count": null,
   "metadata": {},
   "outputs": [],
   "source": [
    "# fehlerhafter Code: Ausprobieren, um den Fehler zu sehen\n",
    "\n",
    "konstante = 42\n",
    "\n",
    "def f(x):\n",
    "    y = x*konstante\n",
    "    return y"
   ]
  },
  {
   "cell_type": "code",
   "execution_count": null,
   "metadata": {},
   "outputs": [],
   "source": [
    "f(1)"
   ]
  },
  {
   "cell_type": "markdown",
   "metadata": {},
   "source": [
    "**Im Folgenden Beispiel wird die Variable aus dem globalen Namenstraum innerhalb der Funktion benutzt.**"
   ]
  },
  {
   "cell_type": "code",
   "execution_count": null,
   "metadata": {},
   "outputs": [],
   "source": [
    "konstante = 42\n",
    "\n",
    "def f(x):\n",
    "    global konstante\n",
    "    y = x*konstante\n",
    "    return y"
   ]
  },
  {
   "cell_type": "code",
   "execution_count": null,
   "metadata": {},
   "outputs": [],
   "source": [
    "f(1)"
   ]
  },
  {
   "cell_type": "markdown",
   "metadata": {},
   "source": [
    "### nonlocal\n",
    "\n",
    "Für den Fall einer Funktionsdefinition inerhalb einer Funktion, lässt sich mit `nonlocal` der \"nächsthöhere\" Namensraum ansprechen.\n",
    "\n",
    "Läuft nur mit Python 3, nicht in Python 2!"
   ]
  },
  {
   "cell_type": "code",
   "execution_count": null,
   "metadata": {},
   "outputs": [],
   "source": [
    "konstante = 42\n",
    "\n",
    "def f():\n",
    "    konstante = 4\n",
    "\n",
    "    def g():\n",
    "        nonlocal konstante\n",
    "        konstante = 2\n",
    "    g()\n",
    "    return konstante\n",
    "\n",
    "\n",
    "print(f())\n",
    "print(konstante)"
   ]
  },
  {
   "cell_type": "markdown",
   "metadata": {},
   "source": [
    "## Argumente\n",
    "\n",
    "### Übergabe durch Position\n",
    "\n",
    "In den älteren Programmiersprachen werden die Argumente an eine Funktion in einer bestimmten Reihenfolge übergeben, die man sich merken muss. Das ist auch in Python eine mögliche Variante."
   ]
  },
  {
   "cell_type": "code",
   "execution_count": null,
   "metadata": {},
   "outputs": [],
   "source": [
    "def trapez(a, b, h):\n",
    "    '''berechnet Fläche eines Trapezes\n",
    "    Parameter a,b,h'''\n",
    "    return h*(b+a)/2"
   ]
  },
  {
   "cell_type": "markdown",
   "metadata": {},
   "source": [
    "In der Funktion spielen $a$, $b$ und $h$ verschiedene Rollen. Wenn ich\n",
    "$f(1,2,5)$ aufrufe, sollte ich wissen, dass 1 für a, 2 für b und 5 für h\n",
    "eingesetzt wird."
   ]
  },
  {
   "cell_type": "code",
   "execution_count": null,
   "metadata": {},
   "outputs": [],
   "source": [
    "trapez(2, 3, 4)"
   ]
  },
  {
   "cell_type": "markdown",
   "metadata": {},
   "source": [
    "### Übergabe durch Schlüsselwort (keyword)\n",
    "\n",
    "Es ist aber auch möglich, Funktionen so zu deklarieren, dass die Argumente mit Schlüsselwörtern übergeben werden können.\n",
    "\n",
    "    def funktion(argument1=default1, argument2=default2,...)\n",
    "    \n",
    "Dabei muss jeweils ein Defaultwert angegeben werden, den der Interpreter für das Argument einsetzt, wenn nichts zu diesem Schlüsselwort übergeben wurde. Man kann auch in diesem Fall noch die Argumente ohne Schlüsselwort übergeben. Sie werden dann in der Reihenfolge den Argumentvariablen zugeordnet, in der sie in der Deklaration stehen.\n",
    "\n",
    "\n"
   ]
  },
  {
   "cell_type": "code",
   "execution_count": null,
   "metadata": {},
   "outputs": [],
   "source": [
    "def trapez(a=1, b=1, h=1):\n",
    "    '''brerechnet Fläche eines Trapezes\n",
    "    Parameter a,b,h'''\n",
    "    return h*(b+a)/2"
   ]
  },
  {
   "cell_type": "code",
   "execution_count": null,
   "metadata": {},
   "outputs": [],
   "source": [
    "print(trapez(a=3, b=2)) #Wert für h ist nicht angegeben - es wird der Defaultwert benutzt\n",
    "print(trapez())\n",
    "print(trapez(h=12, a=12, b=13))"
   ]
  },
  {
   "cell_type": "markdown",
   "metadata": {},
   "source": [
    "Aufruf der selben Funktion ohne Schlüsselwörter -- Reihenfolge wichtig:"
   ]
  },
  {
   "cell_type": "code",
   "execution_count": null,
   "metadata": {},
   "outputs": [],
   "source": [
    "trapez(12, 13, 12)"
   ]
  },
  {
   "cell_type": "markdown",
   "metadata": {},
   "source": [
    "## Ein  weiteres Beispiel: Funktion für numerische Integration\n",
    "\n",
    "Das ist eine Funktion, die eine übergebene Funktion numerisch integriert. (Zugrunde liegt eine so genannte Quadraturformel, genauer eine der einfachsten, die Trapezregel.)\n",
    "\n",
    "<img src=\"integral2.jpg\" width=60%>\n",
    "\n",
    "$\\int^b_a f(x) \\approx \\sum^n_{i=0} f(a + i \\, \\Delta x) \\Delta x - f(a)\\frac{1}{2}\\Delta x - f(b) \\frac{1}{2} \\Delta x $"
   ]
  },
  {
   "cell_type": "code",
   "execution_count": null,
   "metadata": {},
   "outputs": [],
   "source": [
    "import numpy as np\n",
    "\n",
    "def integral(f, a, b, n):\n",
    "    '''Approximiert das Integral über die Funktion f von a bis b nach der Trapezregel\n",
    "    mit n Unterteilungen'''\n",
    "    x = np.linspace(a, b, n+1) #erzeugt ein Array mit gleichmäßigen Abständen in einem Intervall\n",
    "    \n",
    "    return (np.sum(f(x)) -0.5*f(a) - 0.5*f(b)) * (b-a)/n"
   ]
  },
  {
   "cell_type": "code",
   "execution_count": null,
   "metadata": {},
   "outputs": [],
   "source": [
    "integral(np.sin, 0, 2*np.pi, 100)"
   ]
  },
  {
   "cell_type": "code",
   "execution_count": null,
   "metadata": {},
   "outputs": [],
   "source": [
    "integral(np.sin, 0, 2*np.pi, 1000)"
   ]
  },
  {
   "cell_type": "markdown",
   "metadata": {},
   "source": [
    "Es ist aber - gerade bei Funktionen mit vielen Argumenten - praktisch, sich nicht deren Reihenfolge, sondern deren hoffentlich sprechende Namen merken zu müssen. \n",
    "\n",
    "Ich könnte die Funktion also so deklarieren:"
   ]
  },
  {
   "cell_type": "code",
   "execution_count": null,
   "metadata": {},
   "outputs": [],
   "source": [
    "def integral(f=np.sin, a=0, b=1, n=1000):\n",
    "    '''Approximiert das Integral über f von a bis b nach der Trapezregel\n",
    "    mit n Unterteilungen'''\n",
    "    x = np.linspace(a, b, n+1)\n",
    "    return (np.sum(f(x)) -0.5*f(a) - 0.5*f(b)) * (b-a)/n"
   ]
  },
  {
   "cell_type": "markdown",
   "metadata": {},
   "source": [
    "Diese Funktion kann ich immer noch so wie die vorige aufrufen. `integral(np.sin,0,2*np.pi,1000)` wird weiterhin die Variablen in der gegebenen Reihenfolge ersetzen. \n",
    "\n",
    "Die Argumente lassen sich aber auch so übergeben: `f(f=np.cos,a=1,b=5,n=50)`. Hier werden die Variablen gemäß ihrer Namen\n",
    "(keywords) mit Werten gefüllt. Es ist aber insbesondere auch möglich manche dieser Argumente wegzulassen. Diese erhalten dann den default-Wert, der in der Definition steht. `f(np.sin,0,2)` verwendet also für $n$ den Defaultwert 1000."
   ]
  },
  {
   "cell_type": "code",
   "execution_count": null,
   "metadata": {},
   "outputs": [],
   "source": [
    "integral(f=np.cos, a=0, b=0.5*np.pi)"
   ]
  },
  {
   "cell_type": "markdown",
   "metadata": {},
   "source": [
    "### Mischung der beiden Formen: Positionsargumente und Schlüsselwörter\n",
    "\n",
    "Es lassen sich in einer Funktion auch erst eine gewisse Zahl von durch\n",
    "ihre Position bestimmte Argumente und danach durch ’keywords’ bestimmte\n",
    "Argumente angeben.\n",
    "\n",
    "\n",
    "    def funktion(arg1, arg2,... , kwarg1=default1, kwarg2=default2)\n",
    "\n",
    "Überlegen wir noch einmal: Was müssen\n",
    "wir, um ein bestimmtes Integral zu berechnen, unbedingt angeben, und was\n",
    "eher nicht?  In unserem Fall würden wir uns um die Feinheit der Näherung\n",
    "oft nicht scheren, wenn sie fein genug voreingestellt ist.\n",
    "\n",
    "Also hat die folgende Variante die beste Aufteilung der Argumente für\n",
    "den Zweck der Funktion."
   ]
  },
  {
   "cell_type": "code",
   "execution_count": null,
   "metadata": {},
   "outputs": [],
   "source": [
    "def integral(f, a, b, n=1000):\n",
    "    '''Approximiert das Integral über f von a bis b nach der Trapezregel\n",
    "    mit n Unterteilungen'''\n",
    "    x = np.linspace(a, b, n+1)\n",
    "    return (-0.5*f(a)-0.5*f(b)+np.sum(f(x)))*(b-a)/n"
   ]
  },
  {
   "cell_type": "code",
   "execution_count": null,
   "metadata": {},
   "outputs": [],
   "source": [
    "integral(np.sin, 0, 1)"
   ]
  },
  {
   "cell_type": "code",
   "execution_count": null,
   "metadata": {},
   "outputs": [],
   "source": [
    "integral(np.sin, 0, 1, n=1000000)"
   ]
  },
  {
   "cell_type": "markdown",
   "metadata": {},
   "source": [
    "\n",
    "### Und das geht nur in Python 3:\n",
    "\n",
    "#### Obligatorische Schlüsselwortargumente ohne Default-Wert\n",
    "\n",
    "\n",
    "Es gibt noch etwas, das Sie vermissen könnten bei den oben skizzierten Varianten der Übergabe von Argumenten. Argumente werden entweder *ohne Default-Wert* nach ihrer Position übergeben oder *mit Default-Werten* über Schlüsselwörter. Es könnte aber doch wünschenswert sein, Argumente ohne Default-Wert über Schlüsselwörter zu übergeben. Argumente ohne Default-Wert müssen tatsächlich übergeben werden, man kann sie nicht weglassen. In Python 3 geht das so:\n",
    "\n",
    "    def f(a,*,b,c=3):\n",
    "       print(\"a: \",a)\n",
    "       print(\"b: \",b)\n",
    "       print(\"c: \",c)\n",
    "       \n",
    "Alle Argumente nach dem \\* **müssen über ihr Schlüsselwort** übergeben werden. Dabei kann man die Argumente mit Default-Wert (hier c) weglassen, b aber kann man nicht weglassen. Also z. B.\n",
    " \n",
    "    f(1,b=5)\n",
    "    f(1,b=5,c=2)\n",
    "\n"
   ]
  },
  {
   "cell_type": "code",
   "execution_count": null,
   "metadata": {},
   "outputs": [],
   "source": [
    "# Achtung! Nur Python 3\n",
    "\n",
    "def integral(f, *, a, b, n=1000):\n",
    "    '''Approximiert das Integral über f von a bis b nach der Trapezregel\n",
    "    mit n Unterteilungen'''\n",
    "    x = np.linspace(a, b, n+1)\n",
    "    return (-0.5*f(a)-0.5*f(b)+np.sum(f(x)))*(b-a)/n"
   ]
  },
  {
   "cell_type": "code",
   "execution_count": null,
   "metadata": {},
   "outputs": [],
   "source": [
    "# integral(np.exp, a=1, b=2, n=1000)  # geht\n",
    "# integral(np.exp, a=1, b=2) # geht auch"
   ]
  },
  {
   "cell_type": "code",
   "execution_count": null,
   "metadata": {},
   "outputs": [],
   "source": [
    "# integral(np.cos, 1,2,1000)  # Fehler"
   ]
  },
  {
   "cell_type": "markdown",
   "metadata": {},
   "source": [
    "### Achtung: mutable und immutable\n",
    "\n",
    "Wenn einer Funktion Argumente übergeben werden, so muss darauf geachtet werden, ob die Argumente **mutable** oder **immutable** sind.\n",
    "\n",
    "Wenn **Zahlen, Strings, Tupel** und einige andere einfachen Typen übergeben werden, die **immutable** sind, so besteht **keine Gefahr die Originale aus Versehen zu verändern**. Bei den **mutable-Typen Listen, Arrays, Mengen etc. dagegen ist das anders**. Sie werden als Referenzen ('call by reference') auf das veränderliche Original übergeben. Wenn also in der Funktion eine übergebene Liste verändert wird, verändert sich die ursprüngliche Liste.   \n",
    "\n",
    "Wenn du sicher sein willst, dass das nicht geschieht, müsst du selbst eine Kopie des übergebenen Objekts anfertigen und nur noch damit arbeiten. (Das entsprechende Verhalten nennt man im Zusammenhang anderer Programmiersprachen 'call by value')."
   ]
  },
  {
   "cell_type": "code",
   "execution_count": null,
   "metadata": {},
   "outputs": [],
   "source": [
    "from copy import copy\n",
    "\n",
    "def funktion1(x):\n",
    "    '''erwartet eine Liste'''\n",
    "    x.append(4)\n",
    "    print(\"f1 durchgefuehrt\")\n",
    "\n",
    "def funktion2(x):\n",
    "    '''erwartet eine Liste'''\n",
    "    x[1] = 'Huhn'\n",
    "    x = 3.33  # ab hier verliert 'x' die Verbindung\n",
    "    # zum übergebenen Objekt x\n",
    "    print(\"f2 durchgefuehrt\")\n",
    "    return x\n",
    "\n",
    "def funktion3(x):\n",
    "    '''erwartet eine Liste'''\n",
    "    y = copy(x)\n",
    "    y.append('asdf')\n",
    "    print(y)\n",
    "    print(x)"
   ]
  },
  {
   "cell_type": "code",
   "execution_count": null,
   "metadata": {},
   "outputs": [],
   "source": [
    "l = [1, 2, 3]\n",
    "funktion1(l)\n",
    "print(l)"
   ]
  },
  {
   "cell_type": "code",
   "execution_count": null,
   "metadata": {},
   "outputs": [],
   "source": [
    "l = [1, 2, 3]\n",
    "return_wert = funktion2(l)\n",
    "print(return_wert, l)"
   ]
  },
  {
   "cell_type": "code",
   "execution_count": null,
   "metadata": {
    "scrolled": true
   },
   "outputs": [],
   "source": [
    "l = [1, 2, 3]\n",
    "funktion3(l)\n",
    "print(l)"
   ]
  },
  {
   "cell_type": "markdown",
   "metadata": {},
   "source": [
    "Argumente ein- und auspacken\n",
    "--------------------------------\n",
    "\n",
    "Es ist häufig nötig, eine größere Zahl von benannten und unbenannten Argumenten zu übergeben. Der Aufruf oder die Definition einer Funktion f(a,b,c,d,e,f,g,h) kann dann leicht unlesbar und fehlerträchtig werden. Deshalb gibt es in Python die Möglichkeit Parameter gewissermaßen **ein- und auszupacken**. Diesen Mechanismus gibt es sowohl für die Definition von Funktionen als auch für deren Aufruf.  \n",
    "\n",
    "### Durch ihre Position bestimmte Argumente\n",
    "\n",
    "Eine beliebige Zahl von durch ihre Position bestimmten Argumenten kann verpackt werden in ein Tupel (oder eine Liste), bzw. ausgepackt werden aus einem Tupel oder einer Liste.\n",
    "\n",
    "\n",
    "**Syntax bei der Funktionsdeklaration mit Sternchen:**\n",
    "\n",
    "    \n"
   ]
  },
  {
   "cell_type": "code",
   "execution_count": null,
   "metadata": {},
   "outputs": [],
   "source": [
    "def f(*x):\n",
    "    print(\"0. Arg: \", x[0])\n",
    "    print(\"1. Arg: \", x[1])\n",
    "    print(\"Rest: \", x[2:])\n",
    "    print(type(x))"
   ]
  },
  {
   "cell_type": "code",
   "execution_count": null,
   "metadata": {},
   "outputs": [],
   "source": [
    "f(2, 3, 4, \"Hund\")  # Argumente werden beim Aufruf in ein Tupel verpackt"
   ]
  },
  {
   "cell_type": "code",
   "execution_count": null,
   "metadata": {},
   "outputs": [],
   "source": [
    "f(2, 3, 5, 6, 7, 8, 9, 0)  # Argumente werden beim Aufruf in ein Tupel verpackt"
   ]
  },
  {
   "cell_type": "markdown",
   "metadata": {},
   "source": [
    "**Syntax beim Aufruf:**"
   ]
  },
  {
   "cell_type": "code",
   "execution_count": null,
   "metadata": {},
   "outputs": [],
   "source": [
    "def g(a, b, c):\n",
    "    print(a)\n",
    "    print(b)\n",
    "    print(c)"
   ]
  },
  {
   "cell_type": "code",
   "execution_count": null,
   "metadata": {},
   "outputs": [],
   "source": [
    "liste = [1, 2, \"Maus\"]\n",
    "# g(liste[0],liste[1],liste[2])\n",
    "g(*liste)  # Liste wird beim Aufruf ausgepackt"
   ]
  },
  {
   "cell_type": "code",
   "execution_count": null,
   "metadata": {},
   "outputs": [],
   "source": [
    "tupel = (\"Hund\", 3, 4)\n",
    "g(*tupel)"
   ]
  },
  {
   "cell_type": "markdown",
   "metadata": {},
   "source": [
    "### Beliebige Zahl durch ein Schlüsselwort bestimmter Argumente\n",
    "\n",
    "Eine beliebige Zahl von durch Schlüsselwort bestimmte Argumente kann in ein **Wörterbuch** verpackt, bzw. aus diesem ausgepackt werden.\n",
    "\n",
    "**Syntax bei der Funktionsdeklaration mit zwei Sternchen:**\n"
   ]
  },
  {
   "cell_type": "code",
   "execution_count": null,
   "metadata": {},
   "outputs": [],
   "source": [
    "def f(**x):\n",
    "    print(x)\n",
    "\n",
    "# Argumente werden in das Wörterbuch x verpackt\n",
    "f(tag='Montag', anzahl=5, preis=3.8)"
   ]
  },
  {
   "cell_type": "code",
   "execution_count": null,
   "metadata": {},
   "outputs": [],
   "source": [
    "def diskriminante(**x):\n",
    "    '''berechnet die Diskriminante von a*x**2+b*x+c=0'''\n",
    "    return x['b']**2-4*x['a']*x['c']\n",
    "\n",
    "\n",
    "# Argumente werden in das Wörterbuch x verpackt\n",
    "diskriminante(a=2, b=3.5, c=-4)"
   ]
  },
  {
   "cell_type": "markdown",
   "metadata": {},
   "source": [
    "**Syntax beim Aufruf:**"
   ]
  },
  {
   "cell_type": "code",
   "execution_count": null,
   "metadata": {},
   "outputs": [],
   "source": [
    "def g(a=1, b=2):\n",
    "    print(a*b)\n",
    "\n",
    "\n",
    "wb = {'a': 5, 'b': 17}\n",
    "g(**wb)  # Wörterbuch wird beim Aufruf ausgepackt"
   ]
  },
  {
   "cell_type": "markdown",
   "metadata": {},
   "source": [
    "Kombination aller Arten von Argumenten\n",
    "--------------------------------------------\n",
    "\n",
    "Um sich nicht zu verwirren, werden in Python-Lehrbüchern die Positions-Argumente häufig mit `pargs`, die keyword-Argumente mit `kwargs` abgekürzt. \n",
    "\n",
    "Man kann nun in einer **Funktionsdeklaration** einzelne Positionsargumente mit verpackten pargs und kwargs kombinieren:\n"
   ]
  },
  {
   "cell_type": "code",
   "execution_count": null,
   "metadata": {},
   "outputs": [],
   "source": [
    "def f(a, b, *pargs, **kwargs):\n",
    "    print((\"a: \", a))\n",
    "    print((\"b: \", b))\n",
    "    print((\"pargs: \", pargs))\n",
    "    print(type(pargs))\n",
    "    print((\"kwargs: \", kwargs))\n",
    "    print(type(kwargs))\n",
    "\n",
    "\n",
    "f(11, 2, 3, 4, x=3.14, y=0.0)"
   ]
  },
  {
   "cell_type": "markdown",
   "metadata": {},
   "source": [
    "**Beachten Sie dabei die Reihenfolge:** Einzelne Positionsargumente -- \\*pargs -- \\*\\*kwargs."
   ]
  },
  {
   "cell_type": "markdown",
   "metadata": {},
   "source": [
    "**Beim Aufruf sieht das so aus:**"
   ]
  },
  {
   "cell_type": "code",
   "execution_count": null,
   "metadata": {},
   "outputs": [],
   "source": [
    "def f(a, b, c, d, x=0.0, y=0.0):\n",
    "    print((\"a: \", a))\n",
    "    print((\"b: \", b))\n",
    "    print((\"c: \", c))\n",
    "    print((\"d: \", d))\n",
    "    print((\"x: \", x))\n",
    "    print((\"y: \", y))\n",
    "    return a*b*c*d+x*y\n",
    "\n",
    "\n",
    "liste = [2, 3]\n",
    "woerterbuch = {'x': 10., 'y': 3.5}\n",
    "\n",
    "\n",
    "f(1, 4, *liste, **woerterbuch)"
   ]
  },
  {
   "cell_type": "markdown",
   "metadata": {},
   "source": [
    "$\\longrightarrow$ Das müssen Sie jetzt nicht sofort beherrschen, fürs erste werden Sie meistens die Argumente direkt übergeben. Sie sollten aber diese Formen der Übergabe wiedererkennen und sich erinnern, dass es so etwas gibt, wenn sie größere Mengen oder eine unbestimmte Zahl von Argumenten übergeben müssen --- und dann gegebenenfalls noch einmal nachschlagen.\n",
    "\n",
    "\n"
   ]
  },
  {
   "cell_type": "markdown",
   "metadata": {},
   "source": [
    "Weiteres zum Programmieren mit Funktionen\n",
    "-----------------------------------------\n",
    "\n",
    "Um wirklich mit Funktionen umgehen zu können, eine komplexe Aufgabe in\n",
    "einfachere Aufgaben zu zerlegen und alles, was mehrfach vorkommt, wieder\n",
    "in eigene Funktionen zu verlagern. Um das zu üben, folgende Aufgabe:\n"
   ]
  },
  {
   "cell_type": "markdown",
   "metadata": {},
   "source": [
    "Rekursion\n",
    "----------\n",
    "\n",
    "\n",
    "Da Funktionen sich auch selbst aufrufen können,\n",
    "ermöglichen sie das einfache Berechnen von \n",
    "rekursiv definierten Größen. Es gibt viele Probleme, deren rekursive Formulierung \n",
    "besonders verständlich ist. Allerdings lässt sich, wer rekursiv programmiert, darauf\n",
    "ein, den genauen Ablauf der Ausführung schwer zu durchschauen.  Insbesondere muss bei\n",
    "jedem Aufruf der Funktion der Kontext (insbesondere: lokale Variablen) \n",
    "der aufrufenden Funktion gespeichert werden und \n",
    "der Kontext der aufgerufenen Funktion angelegt werden. Kehrt die aufgerufene Funktion zurück,\n",
    "kann deren Kontext gelöscht werden; der Kontext der aufrufenden Funktion wird wieder hergestellt.\n",
    "Diese Speicherungen finden statt auf dem so genannten 'Stack', dem Stapel.\n",
    "\n",
    "Ruft eine Funktion sehr oft sich selbst auf, kann viel Speicherplatz verbraucht werden. Außerdem ist in Python eine maximale Rekursionstiefe (d.h. wie oft sich eine Funktion selbst aufrufen darf) eingestellt, die sich aber ändern lässt.\n",
    "\n",
    "\n",
    "**Aufgabe:**\n",
    "Die Fibonacci-Folge ist definiert durch $a_0=1$, $a_1=1$, $a_{n+2}=a_{n}+a_{n+1}$.\n",
    "Schreiben Sie eine Funktion fib(n) die Ihnen $a_n$ liefert.\n",
    "Berechnen Sie mit dieser Funktion $a_{10}$, $a_{20}$, $a_{30}$ und $a_{35}$.\n",
    "Was fällt Ihnen auf? Analysieren Sie die Ursache des Problems und\n",
    "schreiben Sie eine zweite Funktion, die diesen Fehler nicht hat.\n",
    "\n",
    "\n"
   ]
  },
  {
   "cell_type": "code",
   "execution_count": null,
   "metadata": {},
   "outputs": [],
   "source": [
    "def fib(n):\n",
    "    if n == 0 or n == 1:\n",
    "        return 1\n",
    "    else:\n",
    "        return fib(n-1) + fib(n-2)\n",
    "\n",
    "\n",
    "fib(40)"
   ]
  },
  {
   "cell_type": "code",
   "execution_count": null,
   "metadata": {},
   "outputs": [],
   "source": []
  },
  {
   "cell_type": "markdown",
   "metadata": {},
   "source": [
    "**Hinweis**: Am Ende ist es für die Fibonacci-Folge besser, mit einer Schleife zu arbeiten statt mit Rekursion. Dennoch ist bei vielen Problemen eine rekursive Programmierung unvermeidlich.\n",
    "\n",
    "Der Interpreter gestattet nur eine gewisse 'Rekursionstiefe'. Diese lässt sich auslesen mit `sys.getrecursionlimit()` und verändern mit `sys.setrecursionlimit()`.\n",
    "\n"
   ]
  },
  {
   "cell_type": "code",
   "execution_count": null,
   "metadata": {},
   "outputs": [],
   "source": [
    "import sys\n",
    "print(sys.getrecursionlimit())\n",
    "sys.setrecursionlimit(1200)\n",
    "print(sys.getrecursionlimit())"
   ]
  },
  {
   "cell_type": "markdown",
   "metadata": {},
   "source": [
    "**Aufgabe**:  Die Drachenkurve lässt sich gewissermaßen basteln. (--Vorführung im Labor--)  Zeichnen Sie die Drachenkurve mit Hilfe von `turtle` und Rekursion. Die Bastelvorschrift ist ebenfalls rekursiv, das muss nur geeignet übersetzt werden.\n"
   ]
  },
  {
   "cell_type": "code",
   "execution_count": null,
   "metadata": {},
   "outputs": [],
   "source": []
  },
  {
   "cell_type": "markdown",
   "metadata": {},
   "source": [
    "Weiteres zum Programmieren mit Funktionen\n",
    "-----------------------------------------\n",
    "\n",
    "Um wirklich mit Funktionen umgehen zu können, eine komplexe Aufgabe in\n",
    "einfachere Aufgaben zu zerlegen und alles, was mehrfach vorkommt, wieder\n",
    "in eigene Funktionen zu verlagern. Um das zu üben, folgende Aufgabe:\n",
    "\n",
    "**Aufgabe:**\n",
    "\n",
    "[nach Allen B. Downing, Programmieren lernen\n",
    "mit Python]\n",
    "Importieren Sie das Modul 'turtle'. (Wer am eigenen\n",
    "Rechner arbeitet, braucht python mit 'Tk'-Unterstützung, das\n",
    "aber sollte (!) im Allgemeinen der Fall sein. Falls nicht: fragen.)\n",
    "\n",
    "Mit `turtle.delay(...)` wird eingestellt,\n",
    "welche Zeit (in Millisekunden) 'turtle' zwischen den einzelnen Aktionen wartet.\n",
    "Mit `turtle.speed(...)` wird eingestellt, \n",
    "wie schnell sich die Schildkröte bei den einzelnen Schritten bewegt.\n",
    "\n",
    "Das Modul stellt ihnen verschiedene Funktionen zur Verfügung,\n",
    "mit denen Sie die zeichnen können:\n",
    "\n",
    "    turtle.fd(x)  #'forward'  bewegt turtle um x Einheiten vorwärts\n",
    "    turtle.lt(x)  #'left turn' dreht turtle um x Grad nach links\n",
    "    turtle.rt(x)  #'right turn' dreht turtle um x Grad nach rechts\n",
    "    turtle.pd()   #'pen down'   versetzt turtle in den Schreibmodus\n",
    "    turtle.pu()   #'pen up' beendet den Schreibmodus\n",
    "\n",
    "\n",
    "Eine vollständige Übersicht über die Befehle finden Sie unter\n",
    "https://docs.python.org/2/library/turtle.html\n",
    "\n",
    "Programmieren Sie nacheinander\n",
    "- eine Funktion `quadrat`, die ein Quadrat der Seitenlänge $x$\n",
    "zeichnet,\n",
    "- eine Funktion `polygon`, die ein Polygon mit $n$ Ecken und der\n",
    "Seitenlänge $x$ zeichnet.\n",
    "- eine Funktion `kreis`, die einen (angenäherten) Kreis mit Radius \n",
    "$r$ zeichnet.\n",
    "- eine Funktion `bogen`, die einen Kreisbogen mit Radius $r$ und Winkel $winkel$ zeichnet.\n",
    "\n",
    "Sie haben großenteils schon Programme geschrieben, die das tun. Jetzt aber ist die Aufgabe,\n",
    "dafür zu sorgen, dass Sie möglichst nichts doppelt schreiben.  Welche dieser Funktionen\n",
    "kann welche andere benutzen?   Wenn Sie die Aufgabe in dieser Reihenfolge bearbeiten, \n",
    "werden Sie ihn wohl immer wieder umstrukturieren (man nennt das 'refaktorisieren'), und \n",
    "genau das ist richtig.  \n",
    "\n",
    "Durch \n",
    "\n",
    "    canvas=turtle.Screen()\n",
    "    canvas.exitonclick()\n",
    "\n",
    "wird dafür gesorgt, dass sich das Turtle-Fenster beim Anklicken schließt.\n",
    "\n",
    "Durch \n",
    "\n",
    "    turtle.bye()\n",
    "    \n",
    "wird es explizit geschlossen.\n",
    "\n",
    "**Warnung:**  Mindestens unter Windows ist es ratsam, die Aufgabe nicht im Jupyter-Notebook, sondern mit einem Editor \n",
    "zu bearbeiten, da Jupyter und die turtle-Fenster sich manchmal nicht vertragen."
   ]
  },
  {
   "cell_type": "code",
   "execution_count": null,
   "metadata": {},
   "outputs": [],
   "source": []
  },
  {
   "cell_type": "code",
   "execution_count": null,
   "metadata": {},
   "outputs": [],
   "source": []
  },
  {
   "cell_type": "code",
   "execution_count": null,
   "metadata": {},
   "outputs": [],
   "source": []
  }
 ],
 "metadata": {
  "kernelspec": {
   "display_name": "Python 3",
   "language": "python",
   "name": "python3"
  },
  "language_info": {
   "codemirror_mode": {
    "name": "ipython",
    "version": 3
   },
   "file_extension": ".py",
   "mimetype": "text/x-python",
   "name": "python",
   "nbconvert_exporter": "python",
   "pygments_lexer": "ipython3",
   "version": "3.8.3"
  },
  "latex_envs": {
   "bibliofile": "biblio.bib",
   "cite_by": "apalike",
   "current_citInitial": 1,
   "eqLabelWithNumbers": true,
   "eqNumInitial": 0
  }
 },
 "nbformat": 4,
 "nbformat_minor": 1
}
